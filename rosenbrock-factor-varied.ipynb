{
 "cells": [
  {
   "cell_type": "code",
   "execution_count": 2,
   "id": "e1b23a21-e827-4ba7-aabc-f92790828703",
   "metadata": {},
   "outputs": [],
   "source": [
    "import time\n",
    "import numpy as np\n",
    "import matplotlib.pylab as plt \n",
    "import emcee\n",
    "from getdist import plots, MCSamples\n",
    "import getdist\n",
    "import scipy.stats as ss \n",
    "import pandas as pd\n",
    "\n",
    "import numpyro \n",
    "import jax\n",
    "import jax.numpy as jnp\n",
    "import numpyro.distributions as dist\n",
    "from numpyro.infer import MCMC, HMC, NUTS, init_to_value\n",
    "from numpyro.handlers import seed\n",
    "from numpyro.distributions import constraints\n",
    "from numpyro.diagnostics import summary\n",
    "from jax import grad, jit, vmap, jacfwd, jacrev\n",
    "from utils.helpers import dill_save, dill_load\n",
    "\n",
    "plt.rc('text', usetex=True)\n",
    "plt.rc('font',**{'family':'sans-serif','serif':['Palatino']})\n",
    "figSize  = (12, 8)\n",
    "fontSize = 20"
   ]
  },
  {
   "cell_type": "code",
   "execution_count": 3,
   "id": "34df1f5a-c048-4089-ad21-a60767239783",
   "metadata": {},
   "outputs": [],
   "source": [
    "ndim = 26\n",
    "nchain = 2\n",
    "tree_depth = 8\n",
    "stepsize = 0.01\n",
    "nsamples_nuts = 15000\n",
    "nwarmup = 500\n",
    "\n",
    "thin = 10\n",
    "discard = 100\n",
    "nsamples_emcee = int((nsamples_nuts * thin) / (2 * ndim) + discard)\n",
    "fiducial = np.ones(ndim)\n",
    "normal_prior = ss.norm(0, 1)\n",
    "\n",
    "delta = 2.0\n",
    "uniform_prior = ss.uniform(-delta, 2*delta)"
   ]
  },
  {
   "cell_type": "code",
   "execution_count": 8,
   "id": "d4ad78fa-c5a0-468e-96dd-6e70b0fbfd9a",
   "metadata": {},
   "outputs": [],
   "source": [
    "def rosenbrock(xvalues, factor):\n",
    "    x_i_plus_one = xvalues[1::2]\n",
    "    x_i = xvalues[0::2]\n",
    "    term_1 = factor * (x_i_plus_one - x_i**2)**2\n",
    "    term_2 = (x_i - 1)**2\n",
    "    return sum(term_1 + term_2)\n",
    "    \n",
    "def loglikelihood(xvalues, factor):\n",
    "    return -rosenbrock(xvalues, factor)\n",
    "\n",
    "@jax.jit\n",
    "def jit_loglike(xvalues, factor):\n",
    "    return loglikelihood(xvalues, factor)\n",
    "\n",
    "@jax.jit\n",
    "def jit_grad_loglike(xvalues, factor):\n",
    "    return jax.jacfwd(loglikelihood, factor)(xvalues)\n",
    "    \n",
    "def logposterior(xvalues, factor):\n",
    "    # logprior = sum([uniform_prior.logpdf(xvalues[i]) for i in range(ndim)])\n",
    "    logprior = sum([normal_prior.logpdf(xvalues[i]) for i in range(len(xvalues))])\n",
    "    if np.isfinite(logprior):\n",
    "        return logprior + jit_loglike(xvalues, factor)\n",
    "    return -1E32\n",
    "\n",
    "def calculate_summary(samples_1, samples_2, nlike, ndecimal = 3):\n",
    "    record = []\n",
    "    for i in range(samples_1.shape[1]):\n",
    "        testsamples = np.vstack(([samples_1[:,i], samples_2[:,i]]))\n",
    "        summary_stats = summary(testsamples)\n",
    "        summary_stats[f'p_{i}'] = summary_stats.pop('Param:0')\n",
    "        record.append(summary_stats)\n",
    "\n",
    "    record_df = []\n",
    "    for i in range(len(record)):\n",
    "        record_df.append(pd.DataFrame(record[i]).round(ndecimal).loc[['r_hat', 'n_eff', 'mean', 'std']])\n",
    "\n",
    "    record_df = pd.concat(record_df, axis = 1).T\n",
    "    record_df['n_eff'] /= nlike\n",
    "    return record_df"
   ]
  },
  {
   "cell_type": "code",
   "execution_count": 11,
   "id": "74903b56-e8ba-4fc9-b8a4-3f7040750047",
   "metadata": {},
   "outputs": [],
   "source": [
    "def single_emcee_run(fiducial, thin, ndim, factor):\n",
    "    pos = fiducial + 1e-3 * np.random.randn(2*ndim, ndim)\n",
    "    nwalkers, ndim = pos.shape\n",
    "    sampler = emcee.EnsembleSampler(nwalkers, ndim, logposterior, args = (factor,))\n",
    "    sampler.run_mcmc(pos, nsamples_emcee, progress=True)\n",
    "    return sampler\n",
    "\n",
    "def run_emcee(fiducial, discard = discard, thin = thin, ndim = ndim, nchain = 2, factor = 1E-3):\n",
    "    if nchain > 1:\n",
    "        record_samples = []\n",
    "        total_samples = 0\n",
    "        for chain in range(nchain):\n",
    "            sampler = single_emcee_run(fiducial, thin, ndim, factor)\n",
    "            emcee_samples = sampler.get_chain(discard = discard, thin = thin, flat = True)\n",
    "            # emcee_samples = sampler.flatchain[::thin] \n",
    "            record_samples.append(emcee_samples)\n",
    "            total_samples += sampler.flatchain.shape[0]\n",
    "        return record_samples, total_samples\n",
    "    \n",
    "    sampler = single_emcee_run(fiducial, discard, thin, ndim, factor)\n",
    "    total_samples = sampler.flatchain.shape[0]\n",
    "    emcee_samples = sampler.get_chain(discard = discard, thin = thin, flat = True)\n",
    "    # emcee_samples = sampler.flatchain[::thin]\n",
    "    return emcee_samples, total_samples"
   ]
  },
  {
   "cell_type": "code",
   "execution_count": 12,
   "id": "a7dff972-49a0-499c-acc3-754912292ac2",
   "metadata": {},
   "outputs": [
    {
     "name": "stderr",
     "output_type": "stream",
     "text": [
      "100%|██████████████████████████████████████████████████████████████████████████████████████████████| 2984/2984 [05:21<00:00,  9.28it/s]\n",
      "100%|██████████████████████████████████████████████████████████████████████████████████████████████| 2984/2984 [05:28<00:00,  9.09it/s]\n"
     ]
    }
   ],
   "source": [
    "emcee_samples, nlike_emcee = run_emcee(fiducial, discard, thin, ndim, nchain = nchain, factor = 1E-3)"
   ]
  },
  {
   "cell_type": "code",
   "execution_count": 23,
   "id": "f7909183-35a5-4b35-9f02-e244f0b50e81",
   "metadata": {},
   "outputs": [],
   "source": [
    "stats_emcee = calculate_summary(emcee_samples[0], emcee_samples[1], nlike_emcee)"
   ]
  },
  {
   "cell_type": "code",
   "execution_count": 16,
   "id": "23ef6a62-648a-4582-9fed-942f33adeca7",
   "metadata": {},
   "outputs": [],
   "source": [
    "def model(ndim, factor):\n",
    "    xvalues = jnp.zeros(ndim)\n",
    "    for i in range(ndim):\n",
    "        # y = numpyro.sample(f\"x{i}\", dist.Uniform(-delta, delta))\n",
    "        y = numpyro.sample(f\"x{i}\", dist.Normal(0, 1))\n",
    "        xvalues = xvalues.at[i].set(y)\n",
    "    numpyro.factor(\"log_prob\", jit_loglike(xvalues, factor))"
   ]
  },
  {
   "cell_type": "code",
   "execution_count": 17,
   "id": "be68c3c3-37fa-45c9-9f51-7ce069b8b7e0",
   "metadata": {},
   "outputs": [],
   "source": [
    "%%capture\n",
    "def run_nuts(stepsize, tree_depth, nwarmup, nsamples_nuts, ndim = ndim, nchain = 2, factor = 1E-3):\n",
    "    init_strategy = init_to_value(\n",
    "                values={f\"x{i}\": 1.0 for i in range(ndim)}\n",
    "            )\n",
    "    nuts_kernel = NUTS(model, step_size=stepsize, dense_mass=True, max_tree_depth=tree_depth, init_strategy=init_strategy)\n",
    "    mcmc = MCMC(nuts_kernel, num_chains=nchain, num_warmup = nwarmup, num_samples=nsamples_nuts, chain_method='vectorized') \n",
    "    mcmc.run(jax.random.PRNGKey(0), ndim=ndim, factor = factor, extra_fields=('potential_energy', 'num_steps', 'accept_prob'))\n",
    "    nlike_nuts = mcmc.get_extra_fields()['num_steps'].sum().item()\n",
    "    return mcmc, nlike_nuts"
   ]
  },
  {
   "cell_type": "code",
   "execution_count": 18,
   "id": "8b0c4a87-f0b3-45c3-a077-d57b4954ed1d",
   "metadata": {},
   "outputs": [],
   "source": [
    "def process_nuts_chains(mcmc, ndim = ndim):\n",
    "    chains = mcmc.get_samples(group_by_chain = True)\n",
    "    record = []\n",
    "    for c in range(nchain):\n",
    "        samples = np.vstack([np.asarray(chains[f'x{i}'][c]) for i in range(ndim)]).T\n",
    "        record.append(samples)\n",
    "    return record"
   ]
  },
  {
   "cell_type": "code",
   "execution_count": 19,
   "id": "0a5f790a-3bba-42ea-a3d5-26a641f037ed",
   "metadata": {},
   "outputs": [
    {
     "name": "stderr",
     "output_type": "stream",
     "text": [
      "sample: 100%|███████████████████████████████████████████████████████████████████████████████████| 15500/15500 [01:55<00:00, 134.13it/s]\n"
     ]
    }
   ],
   "source": [
    "mcmc, nlike_nuts = run_nuts(stepsize, tree_depth, nwarmup, nsamples_nuts, ndim)"
   ]
  },
  {
   "cell_type": "code",
   "execution_count": 20,
   "id": "2764e663-5ab9-4833-a406-f3a070cee69f",
   "metadata": {},
   "outputs": [],
   "source": [
    "nuts_grouped = process_nuts_chains(mcmc, ndim)"
   ]
  },
  {
   "cell_type": "code",
   "execution_count": 22,
   "id": "3751d306-3272-49b4-9611-f7bea329cb06",
   "metadata": {},
   "outputs": [],
   "source": [
    "stats_nuts = calculate_summary(nuts_grouped[0], nuts_grouped[1], nlike_nuts)"
   ]
  },
  {
   "cell_type": "markdown",
   "id": "2757c48b-6e3a-4582-814b-45ca5420e30e",
   "metadata": {},
   "source": [
    "# Different Factors"
   ]
  },
  {
   "cell_type": "code",
   "execution_count": 47,
   "id": "78b496a2-05aa-4bb3-895e-d85fc52a4eee",
   "metadata": {},
   "outputs": [],
   "source": [
    "factors = np.geomspace(10, 40, 6, endpoint=True)"
   ]
  },
  {
   "cell_type": "code",
   "execution_count": null,
   "id": "1cee0191-d621-45bd-82ca-c96bba8feb6b",
   "metadata": {},
   "outputs": [],
   "source": [
    "nrepeat = 5"
   ]
  },
  {
   "cell_type": "code",
   "execution_count": 48,
   "id": "8813a891-3c75-479a-9642-9c0ca4b4f82a",
   "metadata": {},
   "outputs": [
    {
     "name": "stdout",
     "output_type": "stream",
     "text": [
      "Running EMCEE and NUTS for factor = 10.0\n"
     ]
    },
    {
     "name": "stderr",
     "output_type": "stream",
     "text": [
      "100%|██████████████████████████████████████████████████████████████████████████████████████████████| 2984/2984 [05:22<00:00,  9.25it/s]\n",
      "100%|██████████████████████████████████████████████████████████████████████████████████████████████| 2984/2984 [05:21<00:00,  9.28it/s]\n",
      "sample: 100%|████████████████████████████████████████████████████████████████████████████████████| 15500/15500 [03:16<00:00, 78.69it/s]\n"
     ]
    },
    {
     "name": "stdout",
     "output_type": "stream",
     "text": [
      "Running EMCEE and NUTS for factor = 13.195079107728942\n"
     ]
    },
    {
     "name": "stderr",
     "output_type": "stream",
     "text": [
      "100%|██████████████████████████████████████████████████████████████████████████████████████████████| 2984/2984 [05:20<00:00,  9.30it/s]\n",
      "100%|██████████████████████████████████████████████████████████████████████████████████████████████| 2984/2984 [05:21<00:00,  9.29it/s]\n",
      "sample: 100%|████████████████████████████████████████████████████████████████████████████████████| 15500/15500 [03:49<00:00, 67.64it/s]\n"
     ]
    },
    {
     "name": "stdout",
     "output_type": "stream",
     "text": [
      "Running EMCEE and NUTS for factor = 17.411011265922482\n"
     ]
    },
    {
     "name": "stderr",
     "output_type": "stream",
     "text": [
      "100%|██████████████████████████████████████████████████████████████████████████████████████████████| 2984/2984 [05:22<00:00,  9.26it/s]\n",
      "100%|██████████████████████████████████████████████████████████████████████████████████████████████| 2984/2984 [05:21<00:00,  9.28it/s]\n",
      "sample: 100%|████████████████████████████████████████████████████████████████████████████████████| 15500/15500 [03:54<00:00, 66.23it/s]\n"
     ]
    },
    {
     "name": "stdout",
     "output_type": "stream",
     "text": [
      "Running EMCEE and NUTS for factor = 22.973967099940708\n"
     ]
    },
    {
     "name": "stderr",
     "output_type": "stream",
     "text": [
      "100%|██████████████████████████████████████████████████████████████████████████████████████████████| 2984/2984 [05:36<00:00,  8.87it/s]\n",
      "100%|██████████████████████████████████████████████████████████████████████████████████████████████| 2984/2984 [05:27<00:00,  9.11it/s]\n",
      "sample: 100%|████████████████████████████████████████████████████████████████████████████████████| 15500/15500 [04:06<00:00, 62.79it/s]\n"
     ]
    },
    {
     "name": "stdout",
     "output_type": "stream",
     "text": [
      "Running EMCEE and NUTS for factor = 30.31433133020797\n"
     ]
    },
    {
     "name": "stderr",
     "output_type": "stream",
     "text": [
      "100%|██████████████████████████████████████████████████████████████████████████████████████████████| 2984/2984 [05:27<00:00,  9.12it/s]\n",
      "100%|██████████████████████████████████████████████████████████████████████████████████████████████| 2984/2984 [05:25<00:00,  9.15it/s]\n",
      "sample: 100%|████████████████████████████████████████████████████████████████████████████████████| 15500/15500 [05:25<00:00, 47.69it/s]\n"
     ]
    },
    {
     "name": "stdout",
     "output_type": "stream",
     "text": [
      "Running EMCEE and NUTS for factor = 40.0\n"
     ]
    },
    {
     "name": "stderr",
     "output_type": "stream",
     "text": [
      "100%|██████████████████████████████████████████████████████████████████████████████████████████████| 2984/2984 [05:24<00:00,  9.18it/s]\n",
      "100%|██████████████████████████████████████████████████████████████████████████████████████████████| 2984/2984 [05:22<00:00,  9.26it/s]\n",
      "sample: 100%|████████████████████████████████████████████████████████████████████████████████████| 15500/15500 [05:42<00:00, 45.25it/s]\n"
     ]
    }
   ],
   "source": [
    "for r in range(nrepeat):\n",
    "    record = np.zeros_like(factors)\n",
    "    \n",
    "    for i, f in enumerate(factors):\n",
    "        print(f'Running EMCEE and NUTS for factor = {f}')\n",
    "        # EMCEE\n",
    "        emcee_samples, nlike_emcee = run_emcee(fiducial, discard, thin, ndim, nchain = nchain, factor = f)\n",
    "        stats_emcee = calculate_summary(emcee_samples[0], emcee_samples[1], nlike_emcee)\n",
    "    \n",
    "        # NUTS\n",
    "        mcmc, nlike_nuts = run_nuts(stepsize, tree_depth, nwarmup, nsamples_nuts, ndim, nchain, factor = f)\n",
    "        nuts_grouped = process_nuts_chains(mcmc, ndim)\n",
    "        stats_nuts = calculate_summary(nuts_grouped[0], nuts_grouped[1], nlike_nuts)\n",
    "    \n",
    "        # calculate quantity \n",
    "        record[i] = stats_nuts['n_eff'].mean() / stats_emcee['n_eff'].mean()\n",
    "    repetition.append(record)"
   ]
  },
  {
   "cell_type": "code",
   "execution_count": null,
   "id": "362cba2a-e251-4838-99cc-8922c6e715ef",
   "metadata": {},
   "outputs": [],
   "source": [
    "dill_save({'gamma': repetition, 'factors': factors}, 'rosenbrock', 'd_26_different_factors')"
   ]
  }
 ],
 "metadata": {
  "kernelspec": {
   "display_name": "Python 3 (ipykernel)",
   "language": "python",
   "name": "python3"
  },
  "language_info": {
   "codemirror_mode": {
    "name": "ipython",
    "version": 3
   },
   "file_extension": ".py",
   "mimetype": "text/x-python",
   "name": "python",
   "nbconvert_exporter": "python",
   "pygments_lexer": "ipython3",
   "version": "3.9.18"
  }
 },
 "nbformat": 4,
 "nbformat_minor": 5
}
