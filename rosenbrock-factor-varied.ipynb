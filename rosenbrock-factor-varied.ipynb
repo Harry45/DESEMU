{
 "cells": [
  {
   "cell_type": "code",
   "execution_count": 1,
   "id": "e1b23a21-e827-4ba7-aabc-f92790828703",
   "metadata": {},
   "outputs": [],
   "source": [
    "import time\n",
    "import numpy as np\n",
    "import matplotlib.pylab as plt \n",
    "import emcee\n",
    "from getdist import plots, MCSamples\n",
    "import getdist\n",
    "import scipy.stats as ss \n",
    "import pandas as pd\n",
    "\n",
    "import numpyro \n",
    "import jax\n",
    "import jax.numpy as jnp\n",
    "import numpyro.distributions as dist\n",
    "from numpyro.infer import MCMC, HMC, NUTS, init_to_value\n",
    "from numpyro.handlers import seed\n",
    "from numpyro.distributions import constraints\n",
    "from numpyro.diagnostics import summary\n",
    "from jax import grad, jit, vmap, jacfwd, jacrev\n",
    "from utils.helpers import dill_save, dill_load\n",
    "\n",
    "plt.rc('text', usetex=True)\n",
    "plt.rc('font',**{'family':'sans-serif','serif':['Palatino']})\n",
    "figSize  = (12, 8)\n",
    "fontSize = 20"
   ]
  },
  {
   "cell_type": "code",
   "execution_count": 3,
   "id": "34df1f5a-c048-4089-ad21-a60767239783",
   "metadata": {},
   "outputs": [],
   "source": [
    "ndim = 26\n",
    "nchain = 2\n",
    "tree_depth = 8\n",
    "stepsize = 0.01\n",
    "nsamples_nuts = 15000\n",
    "nwarmup = 500\n",
    "\n",
    "thin = 10\n",
    "discard = 100\n",
    "nsamples_emcee = int((nsamples_nuts * thin) / (2 * ndim) + discard)\n",
    "fiducial = np.ones(ndim)\n",
    "normal_prior = ss.norm(0, 1)\n",
    "\n",
    "delta = 2.0\n",
    "uniform_prior = ss.uniform(-delta, 2*delta)"
   ]
  },
  {
   "cell_type": "code",
   "execution_count": 8,
   "id": "d4ad78fa-c5a0-468e-96dd-6e70b0fbfd9a",
   "metadata": {},
   "outputs": [],
   "source": [
    "def rosenbrock(xvalues, factor):\n",
    "    x_i_plus_one = xvalues[1::2]\n",
    "    x_i = xvalues[0::2]\n",
    "    term_1 = factor * (x_i_plus_one - x_i**2)**2\n",
    "    term_2 = (x_i - 1)**2\n",
    "    return sum(term_1 + term_2)\n",
    "    \n",
    "def loglikelihood(xvalues, factor):\n",
    "    return -rosenbrock(xvalues, factor)\n",
    "\n",
    "@jax.jit\n",
    "def jit_loglike(xvalues, factor):\n",
    "    return loglikelihood(xvalues, factor)\n",
    "\n",
    "@jax.jit\n",
    "def jit_grad_loglike(xvalues, factor):\n",
    "    return jax.jacfwd(loglikelihood, factor)(xvalues)\n",
    "    \n",
    "def logposterior(xvalues, factor):\n",
    "    # logprior = sum([uniform_prior.logpdf(xvalues[i]) for i in range(ndim)])\n",
    "    logprior = sum([normal_prior.logpdf(xvalues[i]) for i in range(len(xvalues))])\n",
    "    if np.isfinite(logprior):\n",
    "        return logprior + jit_loglike(xvalues, factor)\n",
    "    return -1E32\n",
    "\n",
    "def calculate_summary(samples_1, samples_2, nlike, ndecimal = 3):\n",
    "    record = []\n",
    "    for i in range(samples_1.shape[1]):\n",
    "        testsamples = np.vstack(([samples_1[:,i], samples_2[:,i]]))\n",
    "        summary_stats = summary(testsamples)\n",
    "        summary_stats[f'p_{i}'] = summary_stats.pop('Param:0')\n",
    "        record.append(summary_stats)\n",
    "\n",
    "    record_df = []\n",
    "    for i in range(len(record)):\n",
    "        record_df.append(pd.DataFrame(record[i]).round(ndecimal).loc[['r_hat', 'n_eff', 'mean', 'std']])\n",
    "\n",
    "    record_df = pd.concat(record_df, axis = 1).T\n",
    "    record_df['n_eff'] /= nlike\n",
    "    return record_df"
   ]
  },
  {
   "cell_type": "code",
   "execution_count": 11,
   "id": "74903b56-e8ba-4fc9-b8a4-3f7040750047",
   "metadata": {},
   "outputs": [],
   "source": [
    "def single_emcee_run(fiducial, thin, ndim, factor):\n",
    "    pos = fiducial + 1e-3 * np.random.randn(2*ndim, ndim)\n",
    "    nwalkers, ndim = pos.shape\n",
    "    sampler = emcee.EnsembleSampler(nwalkers, ndim, logposterior, args = (factor,))\n",
    "    sampler.run_mcmc(pos, nsamples_emcee, progress=True)\n",
    "    return sampler\n",
    "\n",
    "def run_emcee(fiducial, discard = discard, thin = thin, ndim = ndim, nchain = 2, factor = 1E-3):\n",
    "    if nchain > 1:\n",
    "        record_samples = []\n",
    "        total_samples = 0\n",
    "        for chain in range(nchain):\n",
    "            sampler = single_emcee_run(fiducial, thin, ndim, factor)\n",
    "            emcee_samples = sampler.get_chain(discard = discard, thin = thin, flat = True)\n",
    "            # emcee_samples = sampler.flatchain[::thin] \n",
    "            record_samples.append(emcee_samples)\n",
    "            total_samples += sampler.flatchain.shape[0]\n",
    "        return record_samples, total_samples\n",
    "    \n",
    "    sampler = single_emcee_run(fiducial, discard, thin, ndim, factor)\n",
    "    total_samples = sampler.flatchain.shape[0]\n",
    "    emcee_samples = sampler.get_chain(discard = discard, thin = thin, flat = True)\n",
    "    # emcee_samples = sampler.flatchain[::thin]\n",
    "    return emcee_samples, total_samples"
   ]
  },
  {
   "cell_type": "code",
   "execution_count": 12,
   "id": "a7dff972-49a0-499c-acc3-754912292ac2",
   "metadata": {},
   "outputs": [
    {
     "name": "stderr",
     "output_type": "stream",
     "text": [
      "100%|██████████████████████████████████████████████████████████████████████████████████████████████| 2984/2984 [05:21<00:00,  9.28it/s]\n",
      "100%|██████████████████████████████████████████████████████████████████████████████████████████████| 2984/2984 [05:28<00:00,  9.09it/s]\n"
     ]
    }
   ],
   "source": [
    "emcee_samples, nlike_emcee = run_emcee(fiducial, discard, thin, ndim, nchain = nchain, factor = 1E-3)"
   ]
  },
  {
   "cell_type": "code",
   "execution_count": 23,
   "id": "f7909183-35a5-4b35-9f02-e244f0b50e81",
   "metadata": {},
   "outputs": [],
   "source": [
    "stats_emcee = calculate_summary(emcee_samples[0], emcee_samples[1], nlike_emcee)"
   ]
  },
  {
   "cell_type": "code",
   "execution_count": 16,
   "id": "23ef6a62-648a-4582-9fed-942f33adeca7",
   "metadata": {},
   "outputs": [],
   "source": [
    "def model(ndim, factor):\n",
    "    xvalues = jnp.zeros(ndim)\n",
    "    for i in range(ndim):\n",
    "        # y = numpyro.sample(f\"x{i}\", dist.Uniform(-delta, delta))\n",
    "        y = numpyro.sample(f\"x{i}\", dist.Normal(0, 1))\n",
    "        xvalues = xvalues.at[i].set(y)\n",
    "    numpyro.factor(\"log_prob\", jit_loglike(xvalues, factor))"
   ]
  },
  {
   "cell_type": "code",
   "execution_count": 17,
   "id": "be68c3c3-37fa-45c9-9f51-7ce069b8b7e0",
   "metadata": {},
   "outputs": [],
   "source": [
    "%%capture\n",
    "def run_nuts(stepsize, tree_depth, nwarmup, nsamples_nuts, ndim = ndim, nchain = 2, factor = 1E-3):\n",
    "    init_strategy = init_to_value(\n",
    "                values={f\"x{i}\": 1.0 for i in range(ndim)}\n",
    "            )\n",
    "    nuts_kernel = NUTS(model, step_size=stepsize, dense_mass=True, max_tree_depth=tree_depth, init_strategy=init_strategy)\n",
    "    mcmc = MCMC(nuts_kernel, num_chains=nchain, num_warmup = nwarmup, num_samples=nsamples_nuts, chain_method='vectorized') \n",
    "    mcmc.run(jax.random.PRNGKey(0), ndim=ndim, factor = factor, extra_fields=('potential_energy', 'num_steps', 'accept_prob'))\n",
    "    nlike_nuts = mcmc.get_extra_fields()['num_steps'].sum().item()\n",
    "    return mcmc, nlike_nuts"
   ]
  },
  {
   "cell_type": "code",
   "execution_count": 18,
   "id": "8b0c4a87-f0b3-45c3-a077-d57b4954ed1d",
   "metadata": {},
   "outputs": [],
   "source": [
    "def process_nuts_chains(mcmc, ndim = ndim):\n",
    "    chains = mcmc.get_samples(group_by_chain = True)\n",
    "    record = []\n",
    "    for c in range(nchain):\n",
    "        samples = np.vstack([np.asarray(chains[f'x{i}'][c]) for i in range(ndim)]).T\n",
    "        record.append(samples)\n",
    "    return record"
   ]
  },
  {
   "cell_type": "code",
   "execution_count": 19,
   "id": "0a5f790a-3bba-42ea-a3d5-26a641f037ed",
   "metadata": {},
   "outputs": [
    {
     "name": "stderr",
     "output_type": "stream",
     "text": [
      "sample: 100%|███████████████████████████████████████████████████████████████████████████████████| 15500/15500 [01:55<00:00, 134.13it/s]\n"
     ]
    }
   ],
   "source": [
    "mcmc, nlike_nuts = run_nuts(stepsize, tree_depth, nwarmup, nsamples_nuts, ndim)"
   ]
  },
  {
   "cell_type": "code",
   "execution_count": 20,
   "id": "2764e663-5ab9-4833-a406-f3a070cee69f",
   "metadata": {},
   "outputs": [],
   "source": [
    "nuts_grouped = process_nuts_chains(mcmc, ndim)"
   ]
  },
  {
   "cell_type": "code",
   "execution_count": 22,
   "id": "3751d306-3272-49b4-9611-f7bea329cb06",
   "metadata": {},
   "outputs": [],
   "source": [
    "stats_nuts = calculate_summary(nuts_grouped[0], nuts_grouped[1], nlike_nuts)"
   ]
  },
  {
   "cell_type": "markdown",
   "id": "2757c48b-6e3a-4582-814b-45ca5420e30e",
   "metadata": {},
   "source": [
    "# Different Factors"
   ]
  },
  {
   "cell_type": "code",
   "execution_count": 52,
   "id": "8813a891-3c75-479a-9642-9c0ca4b4f82a",
   "metadata": {},
   "outputs": [],
   "source": [
    "# factors = np.geomspace(10, 40, 6, endpoint=True)\n",
    "# factors = np.geomspace(1E-3, 1, 6, endpoint=True)\n",
    "# nrepeat = 5\n",
    "# repetition = []\n",
    "\n",
    "# for r in range(nrepeat):\n",
    "#     record = np.zeros_like(factors)\n",
    "#     print(f\"Doing repetition {r+1}\")\n",
    "\n",
    "#     for i, f in enumerate(factors):\n",
    "#         print(f\"Running EMCEE and NUTS for factor = {f}\")\n",
    "\n",
    "#         # EMCEE\n",
    "#         emcee_samples, nlike_emcee = run_emcee(\n",
    "#             fiducial, discard, thin, ndim, nchain=nchain, factor=f\n",
    "#         )\n",
    "#         stats_emcee = calculate_summary(\n",
    "#             emcee_samples[0], emcee_samples[1], nlike_emcee\n",
    "#         )\n",
    "\n",
    "#         # NUTS\n",
    "#         mcmc, nlike_nuts = run_nuts(\n",
    "#             stepsize, tree_depth, nwarmup, nsamples_nuts, ndim, nchain, factor=f\n",
    "#         )\n",
    "#         nuts_grouped = process_nuts_chains(mcmc, ndim)\n",
    "#         stats_nuts = calculate_summary(nuts_grouped[0], nuts_grouped[1], nlike_nuts)\n",
    "\n",
    "#         # calculate quantity\n",
    "#         record[i] = stats_nuts[\"n_eff\"].mean() / stats_emcee[\"n_eff\"].mean()\n",
    "\n",
    "#         # delete quantities\n",
    "#         del mcmc\n",
    "#         gc.collect()\n",
    "\n",
    "#     repetition.append(record)\n",
    "#     dill_save(record, \"rosenbrock\", f\"repetition_{r}\")\n",
    "#     jax.clear_backends()\n",
    "\n",
    "# dill_save(\n",
    "#     {\"gamma\": repetition, \"factors\": factors},\n",
    "#     \"rosenbrock\",\n",
    "#     \"d_26_different_factors\",\n",
    "# )"
   ]
  },
  {
   "cell_type": "code",
   "execution_count": 2,
   "id": "068d87e6-c600-4010-a111-727b2f5b340b",
   "metadata": {},
   "outputs": [],
   "source": [
    "gd_runs = dill_load('rosenbrock', 'd_26_different_factors_3')\n",
    "gammas = np.asarray(gd_runs['gamma'])\n",
    "factors = gd_runs['factors']\n",
    "nfactors = len(factors)\n",
    "df = pd.DataFrame(gammas, columns = [f'f{i}' for i in range(len(factors))])"
   ]
  },
  {
   "cell_type": "code",
   "execution_count": 3,
   "id": "a1754ead-938b-4411-ab7c-0dcee31b6a51",
   "metadata": {},
   "outputs": [
    {
     "data": {
      "text/html": [
       "<div>\n",
       "<style scoped>\n",
       "    .dataframe tbody tr th:only-of-type {\n",
       "        vertical-align: middle;\n",
       "    }\n",
       "\n",
       "    .dataframe tbody tr th {\n",
       "        vertical-align: top;\n",
       "    }\n",
       "\n",
       "    .dataframe thead th {\n",
       "        text-align: right;\n",
       "    }\n",
       "</style>\n",
       "<table border=\"1\" class=\"dataframe\">\n",
       "  <thead>\n",
       "    <tr style=\"text-align: right;\">\n",
       "      <th></th>\n",
       "      <th>f0</th>\n",
       "      <th>f1</th>\n",
       "      <th>f2</th>\n",
       "      <th>f3</th>\n",
       "      <th>f4</th>\n",
       "      <th>f5</th>\n",
       "    </tr>\n",
       "  </thead>\n",
       "  <tbody>\n",
       "    <tr>\n",
       "      <th>0</th>\n",
       "      <td>4.391995</td>\n",
       "      <td>1.844333</td>\n",
       "      <td>10.699267</td>\n",
       "      <td>4.212790</td>\n",
       "      <td>0.954248</td>\n",
       "      <td>1.049671</td>\n",
       "    </tr>\n",
       "    <tr>\n",
       "      <th>1</th>\n",
       "      <td>5.235769</td>\n",
       "      <td>3.620589</td>\n",
       "      <td>10.134927</td>\n",
       "      <td>4.274489</td>\n",
       "      <td>2.935042</td>\n",
       "      <td>2.864815</td>\n",
       "    </tr>\n",
       "    <tr>\n",
       "      <th>2</th>\n",
       "      <td>3.749945</td>\n",
       "      <td>5.193158</td>\n",
       "      <td>3.928314</td>\n",
       "      <td>4.078174</td>\n",
       "      <td>1.681379</td>\n",
       "      <td>1.969844</td>\n",
       "    </tr>\n",
       "    <tr>\n",
       "      <th>3</th>\n",
       "      <td>3.277602</td>\n",
       "      <td>3.318273</td>\n",
       "      <td>4.144843</td>\n",
       "      <td>4.750530</td>\n",
       "      <td>2.236196</td>\n",
       "      <td>0.606168</td>\n",
       "    </tr>\n",
       "    <tr>\n",
       "      <th>4</th>\n",
       "      <td>4.530195</td>\n",
       "      <td>2.545906</td>\n",
       "      <td>3.391740</td>\n",
       "      <td>1.604453</td>\n",
       "      <td>9.822136</td>\n",
       "      <td>2.153131</td>\n",
       "    </tr>\n",
       "  </tbody>\n",
       "</table>\n",
       "</div>"
      ],
      "text/plain": [
       "         f0        f1         f2        f3        f4        f5\n",
       "0  4.391995  1.844333  10.699267  4.212790  0.954248  1.049671\n",
       "1  5.235769  3.620589  10.134927  4.274489  2.935042  2.864815\n",
       "2  3.749945  5.193158   3.928314  4.078174  1.681379  1.969844\n",
       "3  3.277602  3.318273   4.144843  4.750530  2.236196  0.606168\n",
       "4  4.530195  2.545906   3.391740  1.604453  9.822136  2.153131"
      ]
     },
     "execution_count": 3,
     "metadata": {},
     "output_type": "execute_result"
    }
   ],
   "source": [
    "df"
   ]
  },
  {
   "cell_type": "code",
   "execution_count": 4,
   "id": "fbc6df70-9625-430d-891d-9e43c0897a87",
   "metadata": {},
   "outputs": [
    {
     "data": {
      "text/plain": [
       "f0    4.237101\n",
       "f1    3.304452\n",
       "f2    6.459818\n",
       "f3    3.784087\n",
       "f4    3.525800\n",
       "f5    1.728726\n",
       "dtype: float64"
      ]
     },
     "execution_count": 4,
     "metadata": {},
     "output_type": "execute_result"
    }
   ],
   "source": [
    "df.mean(0)"
   ]
  },
  {
   "cell_type": "code",
   "execution_count": 56,
   "id": "c07f60a2-268d-46a4-86bb-c06ee7a8f24e",
   "metadata": {},
   "outputs": [
    {
     "name": "stdout",
     "output_type": "stream",
     "text": [
      "Factor f0 : 2.000\n",
      "Factor f1 : 2.702\n",
      "Factor f2 : 3.650\n",
      "Factor f3 : 4.931\n",
      "Factor f4 : 6.662\n",
      "Factor f5 : 9.000\n"
     ]
    }
   ],
   "source": [
    "for i in range(nfactors):\n",
    "    print(f'Factor f{i} : {factors[i]:.3f}')"
   ]
  },
  {
   "cell_type": "code",
   "execution_count": 57,
   "id": "37712dce-b6ec-4a5b-bfcf-44dd1030c6d1",
   "metadata": {},
   "outputs": [],
   "source": [
    "# set width of bars\n",
    "barWidth = 0.10"
   ]
  },
  {
   "cell_type": "code",
   "execution_count": 58,
   "id": "1de9b5e2-ded6-4c49-a8b6-82fb52a4f96f",
   "metadata": {},
   "outputs": [],
   "source": [
    "bars1 = df.iloc[0].values\n",
    "bars2 = df.iloc[1].values\n",
    "bars3 = df.iloc[2].values \n",
    "bars4 = df.iloc[3].values \n",
    "bars5 = df.iloc[4].values"
   ]
  },
  {
   "cell_type": "code",
   "execution_count": 59,
   "id": "9efb0c13-0352-4f6e-a945-958b5e660733",
   "metadata": {},
   "outputs": [],
   "source": [
    "r1 = np.arange(len(bars1))\n",
    "r2 = [x + barWidth for x in r1]\n",
    "r3 = [x + barWidth for x in r2]\n",
    "r4 = [x + barWidth for x in r3]\n",
    "r5 = [x + barWidth for x in r4]"
   ]
  },
  {
   "cell_type": "code",
   "execution_count": 60,
   "id": "b190d64b-5b93-4f00-94dc-1c65c1a49e87",
   "metadata": {},
   "outputs": [],
   "source": [
    "# textstr = '\\n'.join((r'$f_{0}=10.00$', r'$f_{1}=13.20$', r'$f_{2}=17.41$', r'$f_{3}=22.97$', r'$f_{4}=30.31$', r'$f_{5}=40.00$'))\n",
    "textstr = '\\n'.join([f'$f_{i}={factors[i]:.3f}$' for i in range(6)])\n",
    "props = dict(boxstyle='round', facecolor='paleturquoise', alpha=0.2, edgecolor = 'white')"
   ]
  },
  {
   "cell_type": "code",
   "execution_count": 61,
   "id": "48d389b7-09b4-4d09-9b25-f611ec522e4d",
   "metadata": {},
   "outputs": [
    {
     "data": {
      "image/png": "[encoded data removed]",
      "text/plain": [
       "<Figure size 1200x800 with 1 Axes>"
      ]
     },
     "metadata": {},
     "output_type": "display_data"
    }
   ],
   "source": [
    "plt.figure(figsize = (12,8))\n",
    "plt.bar(r1, bars1, color='#7f6d5f', width=barWidth, edgecolor='white')\n",
    "plt.bar(r2, bars2, color='#557f2d', width=barWidth, edgecolor='white')\n",
    "plt.bar(r3, bars3, color='#2d7f5e', width=barWidth, edgecolor='white')\n",
    "plt.bar(r4, bars4, color='dodgerblue', width=barWidth, edgecolor='white')\n",
    "plt.bar(r5, bars5, color='turquoise', width=barWidth, edgecolor='white')\n",
    "plt.axhline(1, linestyle = '--')\n",
    "plt.xlabel('group', fontweight='bold')\n",
    "plt.xticks([r + 2.*barWidth for r in range(len(bars1))], [f'$f_{i}$' for i in range(len(factors))])\n",
    "plt.ylabel(r'$\\gamma$', fontsize = fontSize)\n",
    "plt.xlabel(r'Factors', fontsize = fontSize)\n",
    "plt.tick_params(axis='x', labelsize=fontSize)\n",
    "plt.tick_params(axis='y', labelsize=fontSize)\n",
    "plt.text(5.0, np.amax(df.values), textstr, fontsize=14, verticalalignment='top', bbox=props)\n",
    "plt.savefig('plots/factors_3.pdf', bbox_inches = 'tight')\n",
    "plt.show()"
   ]
  },
  {
   "cell_type": "code",
   "execution_count": null,
   "id": "46e4f7e8-c4f9-48b9-a3d7-70d3efd36ae6",
   "metadata": {},
   "outputs": [],
   "source": []
  }
 ],
 "metadata": {
  "kernelspec": {
   "display_name": "Python 3 (ipykernel)",
   "language": "python",
   "name": "python3"
  },
  "language_info": {
   "codemirror_mode": {
    "name": "ipython",
    "version": 3
   },
   "file_extension": ".py",
   "mimetype": "text/x-python",
   "name": "python",
   "nbconvert_exporter": "python",
   "pygments_lexer": "ipython3",
   "version": "3.9.18"
  }
 },
 "nbformat": 4,
 "nbformat_minor": 5
}
