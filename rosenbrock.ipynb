{
 "cells": [
  {
   "cell_type": "code",
   "execution_count": 1,
   "id": "1d332792",
   "metadata": {},
   "outputs": [],
   "source": [
    "import time\n",
    "import numpy as np\n",
    "import matplotlib.pylab as plt \n",
    "import emcee\n",
    "from getdist import plots, MCSamples\n",
    "import getdist\n",
    "import scipy.stats as ss \n",
    "import pandas as pd\n",
    "\n",
    "import numpyro \n",
    "import jax\n",
    "import jax.numpy as jnp\n",
    "import numpyro.distributions as dist\n",
    "from numpyro.infer import MCMC, HMC, NUTS, init_to_value\n",
    "from numpyro.handlers import seed\n",
    "from numpyro.distributions import constraints\n",
    "from numpyro.diagnostics import summary\n",
    "from jax import grad, jit, vmap, jacfwd, jacrev\n",
    "from utils.helpers import dill_save, dill_load\n",
    "\n",
    "plt.rc('text', usetex=True)\n",
    "plt.rc('font',**{'family':'sans-serif','serif':['Palatino']})\n",
    "figSize  = (12, 8)\n",
    "fontSize = 20"
   ]
  },
  {
   "cell_type": "code",
   "execution_count": 2,
   "id": "7c0cfe62",
   "metadata": {},
   "outputs": [],
   "source": [
    "ndim = 4\n",
    "nchain = 2\n",
    "tree_depth = 8\n",
    "stepsize = 0.01\n",
    "nsamples_nuts = 15000\n",
    "nwarmup = 500\n",
    "\n",
    "thin = 10\n",
    "discard = 100\n",
    "nsamples_emcee = int((nsamples_nuts * thin) / (2 * ndim) + discard)\n",
    "fiducial = np.ones(ndim)\n",
    "normal_prior = ss.norm(0, 1)\n",
    "\n",
    "delta = 2.0\n",
    "uniform_prior = ss.uniform(-delta, 2*delta)"
   ]
  },
  {
   "cell_type": "code",
   "execution_count": 3,
   "id": "6aafa442",
   "metadata": {},
   "outputs": [],
   "source": [
    "def rosenbrock(xvalues):\n",
    "    x_i_plus_one = xvalues[1::2]\n",
    "    x_i = xvalues[0::2]\n",
    "    term_1 = 9.0 * (x_i_plus_one - x_i**2)**2\n",
    "    term_2 = (x_i - 1)**2\n",
    "    return sum(term_1 + term_2)\n",
    "    \n",
    "def loglikelihood(xvalues):\n",
    "    return -rosenbrock(xvalues)\n",
    "\n",
    "@jax.jit\n",
    "def jit_loglike(xvalues):\n",
    "    return loglikelihood(xvalues)\n",
    "\n",
    "@jax.jit\n",
    "def jit_grad_loglike(xvalues):\n",
    "    return jax.jacfwd(loglikelihood)(xvalues)\n",
    "    \n",
    "def logposterior(xvalues):\n",
    "    # logprior = sum([uniform_prior.logpdf(xvalues[i]) for i in range(ndim)])\n",
    "    logprior = sum([normal_prior.logpdf(xvalues[i]) for i in range(len(xvalues))])\n",
    "    if np.isfinite(logprior):\n",
    "        return logprior + jit_loglike(xvalues)\n",
    "    return -1E32\n",
    "\n",
    "def calculate_summary(samples_1, samples_2, nlike, ndecimal = 3):\n",
    "    record = []\n",
    "    for i in range(samples_1.shape[1]):\n",
    "        testsamples = np.vstack(([samples_1[:,i], samples_2[:,i]]))\n",
    "        summary_stats = summary(testsamples)\n",
    "        summary_stats[f'p_{i}'] = summary_stats.pop('Param:0')\n",
    "        record.append(summary_stats)\n",
    "\n",
    "    record_df = []\n",
    "    for i in range(len(record)):\n",
    "        record_df.append(pd.DataFrame(record[i]).round(ndecimal).loc[['r_hat', 'n_eff', 'mean', 'std']])\n",
    "\n",
    "    record_df = pd.concat(record_df, axis = 1).T\n",
    "    record_df['n_eff'] /= nlike\n",
    "    return record_df"
   ]
  },
  {
   "cell_type": "markdown",
   "id": "d6bd713e-a2df-4f8f-b9c0-249b5c6b01a6",
   "metadata": {},
   "source": [
    "# $\\frac{\\tau[\\nabla \\mathcal{L}]}{\\tau[\\mathcal{L}]}$"
   ]
  },
  {
   "cell_type": "code",
   "execution_count": 39,
   "id": "8e4df3d0-5c77-4a21-bd86-af2e8302ae1d",
   "metadata": {},
   "outputs": [
    {
     "name": "stdout",
     "output_type": "stream",
     "text": [
      "37.8 µs ± 6.76 µs per loop (mean ± std. dev. of 7 runs, 10,000 loops each)\n"
     ]
    }
   ],
   "source": [
    "%%timeit \n",
    "jit_loglike(fiducial)"
   ]
  },
  {
   "cell_type": "code",
   "execution_count": 40,
   "id": "fdd7de40-93c3-4dae-b90c-a69184f26cf2",
   "metadata": {},
   "outputs": [
    {
     "name": "stdout",
     "output_type": "stream",
     "text": [
      "34.7 µs ± 1.91 µs per loop (mean ± std. dev. of 7 runs, 10,000 loops each)\n"
     ]
    }
   ],
   "source": [
    "%%timeit\n",
    "jit_loglike(fiducial)"
   ]
  },
  {
   "cell_type": "code",
   "execution_count": 41,
   "id": "93731a17-eda1-4eb6-9ab2-3cdab8e9349a",
   "metadata": {},
   "outputs": [
    {
     "name": "stdout",
     "output_type": "stream",
     "text": [
      "32.2 µs ± 420 ns per loop (mean ± std. dev. of 7 runs, 10,000 loops each)\n"
     ]
    }
   ],
   "source": [
    "%%timeit\n",
    "jit_grad_loglike(fiducial)"
   ]
  },
  {
   "cell_type": "code",
   "execution_count": 42,
   "id": "f9ac37f7-5b06-44b3-a69d-a672785f594b",
   "metadata": {},
   "outputs": [
    {
     "name": "stdout",
     "output_type": "stream",
     "text": [
      "38.4 µs ± 6.57 µs per loop (mean ± std. dev. of 7 runs, 10,000 loops each)\n"
     ]
    }
   ],
   "source": [
    "%%timeit\n",
    "jit_grad_loglike(fiducial)"
   ]
  },
  {
   "cell_type": "code",
   "execution_count": 43,
   "id": "b415bb91-594a-4421-b72b-bb5d543b7b02",
   "metadata": {},
   "outputs": [],
   "source": [
    "dimensions = np.arange(1, 6, 1, dtype = int) * 20\n",
    "nrepeat = 10\n",
    "\n",
    "tau_like = []\n",
    "tau_gradlike = []\n",
    "\n",
    "for repeat in range(nrepeat):\n",
    "    record_tau_like = []\n",
    "    record_tau_grad_like = []\n",
    "    \n",
    "    for d in dimensions:\n",
    "        testpoint = jnp.ones(d) + 1E-2\n",
    "        \n",
    "        start_time = time.time()\n",
    "        loglike = jit_loglike(testpoint)\n",
    "        time_taken = time.time() - start_time \n",
    "        record_tau_like.append(time_taken)\n",
    "        \n",
    "        start_time = time.time()\n",
    "        grad_loglike = jit_grad_loglike(testpoint)\n",
    "        time_taken = time.time() - start_time \n",
    "        record_tau_grad_like.append(time_taken)\n",
    "    \n",
    "    record_tau_like = np.asarray(record_tau_like)\n",
    "    record_tau_grad_like = np.asarray(record_tau_grad_like)\n",
    "    tau_like.append(record_tau_like)\n",
    "    tau_gradlike.append(record_tau_grad_like)\n",
    "\n",
    "tau_like = np.asarray(tau_like)\n",
    "tau_gradlike = np.asarray(tau_gradlike)"
   ]
  },
  {
   "cell_type": "code",
   "execution_count": 44,
   "id": "bf073c01-db86-4f5a-bb41-191c7ca21445",
   "metadata": {},
   "outputs": [],
   "source": [
    "time_ratio = np.mean(tau_gradlike / tau_like, axis = 0)\n",
    "time_ratio_error = np.std(tau_gradlike / tau_like, axis = 0)"
   ]
  },
  {
   "cell_type": "code",
   "execution_count": 10,
   "id": "a1b2d27f-087b-4b32-b57d-1accde8ee375",
   "metadata": {},
   "outputs": [],
   "source": [
    "# dill_save(time_ratio, 'rosenbrock', 'gL_L_time_ratio')\n",
    "# dill_save(time_ratio_error, 'rosenbrock', 'gL_L_time_ratio_error')"
   ]
  },
  {
   "cell_type": "code",
   "execution_count": 45,
   "id": "a1058143-370a-4f85-a37d-371f6eec6ec3",
   "metadata": {},
   "outputs": [
    {
     "data": {
      "image/png": "[encoded data removed]",
      "text/plain": [
       "<Figure size 640x480 with 1 Axes>"
      ]
     },
     "metadata": {},
     "output_type": "display_data"
    }
   ],
   "source": [
    "plt.plot(dimensions, time_ratio)\n",
    "plt.errorbar(dimensions, time_ratio, yerr = time_ratio_error,fmt = 'bo')\n",
    "plt.ylim(0, 3)\n",
    "plt.show()"
   ]
  },
  {
   "cell_type": "markdown",
   "id": "45839045",
   "metadata": {},
   "source": [
    "## EMCEE"
   ]
  },
  {
   "cell_type": "code",
   "execution_count": 4,
   "id": "1869d5a8",
   "metadata": {},
   "outputs": [],
   "source": [
    "def single_emcee_run(fiducial, thin = thin, ndim = ndim):\n",
    "    pos = fiducial + 1e-3 * np.random.randn(2*ndim, ndim)\n",
    "    nwalkers, ndim = pos.shape\n",
    "    sampler = emcee.EnsembleSampler(nwalkers, ndim, logposterior)\n",
    "    sampler.run_mcmc(pos, nsamples_emcee, progress=True)\n",
    "    return sampler\n",
    "\n",
    "def run_emcee(fiducial, discard = discard, thin = thin, ndim = ndim, nchain = 2):\n",
    "    if nchain > 1:\n",
    "        record_samples = []\n",
    "        total_samples = 0\n",
    "        for chain in range(nchain):\n",
    "            sampler = single_emcee_run(fiducial, thin, ndim)\n",
    "            emcee_samples = sampler.get_chain(discard = discard, thin = thin, flat = True)\n",
    "            # emcee_samples = sampler.flatchain[::thin] \n",
    "            record_samples.append(emcee_samples)\n",
    "            total_samples += sampler.flatchain.shape[0]\n",
    "        return record_samples, total_samples\n",
    "    \n",
    "    sampler = single_emcee_run(fiducial, discard, thin, ndim)\n",
    "    total_samples = sampler.flatchain.shape[0]\n",
    "    emcee_samples = sampler.get_chain(discard = discard, thin = thin, flat = True)\n",
    "    # emcee_samples = sampler.flatchain[::thin]\n",
    "    return emcee_samples, total_samples"
   ]
  },
  {
   "cell_type": "code",
   "execution_count": 5,
   "id": "c54c24ed",
   "metadata": {},
   "outputs": [
    {
     "name": "stderr",
     "output_type": "stream",
     "text": [
      "100%|█████████████████████████████████████████████████████████████████████████████████████████████████████| 18850/18850 [01:23<00:00, 224.51it/s]\n",
      "100%|█████████████████████████████████████████████████████████████████████████████████████████████████████| 18850/18850 [01:24<00:00, 223.18it/s]\n"
     ]
    }
   ],
   "source": [
    "emcee_samples, nlike_emcee = run_emcee(fiducial, discard, thin, ndim, nchain = nchain)"
   ]
  },
  {
   "cell_type": "code",
   "execution_count": 6,
   "id": "82888248-3c56-45aa-bdf7-3dc52cbcf281",
   "metadata": {},
   "outputs": [
    {
     "data": {
      "text/html": [
       "<div>\n",
       "<style scoped>\n",
       "    .dataframe tbody tr th:only-of-type {\n",
       "        vertical-align: middle;\n",
       "    }\n",
       "\n",
       "    .dataframe tbody tr th {\n",
       "        vertical-align: top;\n",
       "    }\n",
       "\n",
       "    .dataframe thead th {\n",
       "        text-align: right;\n",
       "    }\n",
       "</style>\n",
       "<table border=\"1\" class=\"dataframe\">\n",
       "  <thead>\n",
       "    <tr style=\"text-align: right;\">\n",
       "      <th></th>\n",
       "      <th>r_hat</th>\n",
       "      <th>n_eff</th>\n",
       "      <th>mean</th>\n",
       "      <th>std</th>\n",
       "    </tr>\n",
       "  </thead>\n",
       "  <tbody>\n",
       "    <tr>\n",
       "      <th>p_0</th>\n",
       "      <td>1.000</td>\n",
       "      <td>0.098806</td>\n",
       "      <td>0.456</td>\n",
       "      <td>0.455</td>\n",
       "    </tr>\n",
       "    <tr>\n",
       "      <th>p_1</th>\n",
       "      <td>1.000</td>\n",
       "      <td>0.099592</td>\n",
       "      <td>0.395</td>\n",
       "      <td>0.479</td>\n",
       "    </tr>\n",
       "    <tr>\n",
       "      <th>p_2</th>\n",
       "      <td>1.002</td>\n",
       "      <td>0.099199</td>\n",
       "      <td>0.432</td>\n",
       "      <td>0.454</td>\n",
       "    </tr>\n",
       "    <tr>\n",
       "      <th>p_3</th>\n",
       "      <td>1.002</td>\n",
       "      <td>0.096356</td>\n",
       "      <td>0.376</td>\n",
       "      <td>0.471</td>\n",
       "    </tr>\n",
       "  </tbody>\n",
       "</table>\n",
       "</div>"
      ],
      "text/plain": [
       "     r_hat     n_eff   mean    std\n",
       "p_0  1.000  0.098806  0.456  0.455\n",
       "p_1  1.000  0.099592  0.395  0.479\n",
       "p_2  1.002  0.099199  0.432  0.454\n",
       "p_3  1.002  0.096356  0.376  0.471"
      ]
     },
     "execution_count": 6,
     "metadata": {},
     "output_type": "execute_result"
    }
   ],
   "source": [
    "calculate_summary(emcee_samples[0], emcee_samples[1], nlike_emcee)"
   ]
  },
  {
   "cell_type": "markdown",
   "id": "1d4a804d",
   "metadata": {},
   "source": [
    "## NUTS"
   ]
  },
  {
   "cell_type": "code",
   "execution_count": 7,
   "id": "d0e0ae4b",
   "metadata": {},
   "outputs": [],
   "source": [
    "def model(ndim):\n",
    "    xvalues = jnp.zeros(ndim)\n",
    "    for i in range(ndim):\n",
    "        # y = numpyro.sample(f\"x{i}\", dist.Uniform(-delta, delta))\n",
    "        y = numpyro.sample(f\"x{i}\", dist.Normal(0, 1))\n",
    "        xvalues = xvalues.at[i].set(y)\n",
    "    numpyro.factor(\"log_prob\", jit_loglike(xvalues))"
   ]
  },
  {
   "cell_type": "code",
   "execution_count": 8,
   "id": "6f429062-ceb5-4a41-a1c5-d9fecdacb1d1",
   "metadata": {},
   "outputs": [],
   "source": [
    "%%capture\n",
    "def run_nuts(stepsize, tree_depth, nwarmup, nsamples_nuts, ndim = ndim, nchain = 2):\n",
    "    init_strategy = init_to_value(\n",
    "                values={f\"x{i}\": 1.0 for i in range(ndim)}\n",
    "            )\n",
    "    nuts_kernel = NUTS(model, step_size=stepsize, dense_mass=True, max_tree_depth=tree_depth, init_strategy=init_strategy)\n",
    "    mcmc = MCMC(nuts_kernel, num_chains=nchain, num_warmup = nwarmup, num_samples=nsamples_nuts, chain_method='vectorized') \n",
    "    mcmc.run(jax.random.PRNGKey(0), ndim=ndim, extra_fields=('potential_energy', 'num_steps', 'accept_prob'))\n",
    "    nlike_nuts = mcmc.get_extra_fields()['num_steps'].sum().item()\n",
    "    return mcmc, nlike_nuts"
   ]
  },
  {
   "cell_type": "code",
   "execution_count": 9,
   "id": "f374afdc-b29e-4e0f-9d15-8cafb30c6b80",
   "metadata": {},
   "outputs": [],
   "source": [
    "def process_nuts_chains(mcmc, ndim = ndim):\n",
    "    chains = mcmc.get_samples(group_by_chain = True)\n",
    "    record = []\n",
    "    for c in range(nchain):\n",
    "        samples = np.vstack([np.asarray(chains[f'x{i}'][c]) for i in range(ndim)]).T\n",
    "        record.append(samples)\n",
    "    return record"
   ]
  },
  {
   "cell_type": "code",
   "execution_count": 10,
   "id": "6a81f681-35fe-4799-b793-844ef0063ef5",
   "metadata": {},
   "outputs": [
    {
     "name": "stderr",
     "output_type": "stream",
     "text": [
      "sample: 100%|█████████████████████████████████████████████████████████████████████████████████████████████| 15500/15500 [00:53<00:00, 290.31it/s]\n"
     ]
    }
   ],
   "source": [
    "mcmc, nlike_nuts = run_nuts(stepsize, tree_depth, nwarmup, nsamples_nuts, ndim)"
   ]
  },
  {
   "cell_type": "code",
   "execution_count": 11,
   "id": "3826fe7c-8921-4e8e-9ab7-50667bf1be84",
   "metadata": {},
   "outputs": [],
   "source": [
    "nuts_grouped = process_nuts_chains(mcmc, ndim)\n",
    "nuts_samples = np.vstack([mcmc.get_samples()[f'x{i}'] for i in range(ndim)]).T"
   ]
  },
  {
   "cell_type": "code",
   "execution_count": 12,
   "id": "d9a9ba13-a38f-4f4d-ae52-7dc209cb82a4",
   "metadata": {},
   "outputs": [
    {
     "data": {
      "text/html": [
       "<div>\n",
       "<style scoped>\n",
       "    .dataframe tbody tr th:only-of-type {\n",
       "        vertical-align: middle;\n",
       "    }\n",
       "\n",
       "    .dataframe tbody tr th {\n",
       "        vertical-align: top;\n",
       "    }\n",
       "\n",
       "    .dataframe thead th {\n",
       "        text-align: right;\n",
       "    }\n",
       "</style>\n",
       "<table border=\"1\" class=\"dataframe\">\n",
       "  <thead>\n",
       "    <tr style=\"text-align: right;\">\n",
       "      <th></th>\n",
       "      <th>r_hat</th>\n",
       "      <th>n_eff</th>\n",
       "      <th>mean</th>\n",
       "      <th>std</th>\n",
       "    </tr>\n",
       "  </thead>\n",
       "  <tbody>\n",
       "    <tr>\n",
       "      <th>p_0</th>\n",
       "      <td>1.0</td>\n",
       "      <td>0.021986</td>\n",
       "      <td>0.457</td>\n",
       "      <td>0.446</td>\n",
       "    </tr>\n",
       "    <tr>\n",
       "      <th>p_1</th>\n",
       "      <td>1.0</td>\n",
       "      <td>0.029944</td>\n",
       "      <td>0.385</td>\n",
       "      <td>0.476</td>\n",
       "    </tr>\n",
       "    <tr>\n",
       "      <th>p_2</th>\n",
       "      <td>1.0</td>\n",
       "      <td>0.017016</td>\n",
       "      <td>0.454</td>\n",
       "      <td>0.449</td>\n",
       "    </tr>\n",
       "    <tr>\n",
       "      <th>p_3</th>\n",
       "      <td>1.0</td>\n",
       "      <td>0.035816</td>\n",
       "      <td>0.386</td>\n",
       "      <td>0.480</td>\n",
       "    </tr>\n",
       "  </tbody>\n",
       "</table>\n",
       "</div>"
      ],
      "text/plain": [
       "     r_hat     n_eff   mean    std\n",
       "p_0    1.0  0.021986  0.457  0.446\n",
       "p_1    1.0  0.029944  0.385  0.476\n",
       "p_2    1.0  0.017016  0.454  0.449\n",
       "p_3    1.0  0.035816  0.386  0.480"
      ]
     },
     "execution_count": 12,
     "metadata": {},
     "output_type": "execute_result"
    }
   ],
   "source": [
    "calculate_summary(nuts_grouped[0], nuts_grouped[1], nlike_nuts)"
   ]
  },
  {
   "cell_type": "markdown",
   "id": "10501b51",
   "metadata": {},
   "source": [
    "## Plots"
   ]
  },
  {
   "cell_type": "code",
   "execution_count": 13,
   "id": "6e180935-5bc5-4215-9094-11f8a83e92f3",
   "metadata": {},
   "outputs": [],
   "source": [
    "emcee_samples_flat = np.concatenate(emcee_samples)"
   ]
  },
  {
   "cell_type": "code",
   "execution_count": 14,
   "id": "feecaf29",
   "metadata": {},
   "outputs": [
    {
     "name": "stdout",
     "output_type": "stream",
     "text": [
      "Removed no burn in\n",
      "Removed no burn in\n"
     ]
    }
   ],
   "source": [
    "ndimplot = ndim # 10\n",
    "names = [\"x%s\"%i for i in range(ndimplot)]\n",
    "labels =  [f\"$x_{i}$\" for i in range(ndimplot)]\n",
    "samples_emcee = MCSamples(samples=emcee_samples_flat[:,0:ndimplot],names = names, labels = labels)\n",
    "samples_nuts = MCSamples(samples=nuts_samples[:,0:ndimplot],names = names, labels = labels)"
   ]
  },
  {
   "cell_type": "code",
   "execution_count": 15,
   "id": "22f16e31",
   "metadata": {},
   "outputs": [
    {
     "data": {
      "image/png": "[encoded data removed]",
      "text/plain": [
       "<Figure size 800x800 with 10 Axes>"
      ]
     },
     "metadata": {},
     "output_type": "display_data"
    }
   ],
   "source": [
    "g = plots.get_subplot_plotter(width_inch=8)\n",
    "g.settings.line_styles = 'Accent'\n",
    "g.settings.legend_fontsize = 20\n",
    "g.triangle_plot([samples_emcee, samples_nuts], filled=[True, False], contour_lws=1.5, legend_labels=['EMCEE', 'NUTS'])\n",
    "plt.show()"
   ]
  },
  {
   "cell_type": "markdown",
   "id": "8540f330-d283-4b7b-91c2-a4fd82bd1dbe",
   "metadata": {},
   "source": [
    "# Many Dimensions"
   ]
  },
  {
   "cell_type": "code",
   "execution_count": 7,
   "id": "20b6536a-4517-4e66-b7ef-e3a85527b74d",
   "metadata": {},
   "outputs": [],
   "source": [
    "# testdim = np.arange(1, 6, 1) * 2\n",
    "testdim = np.arange(1, 11, 1) * 20"
   ]
  },
  {
   "cell_type": "code",
   "execution_count": 25,
   "id": "dbf9e14a",
   "metadata": {},
   "outputs": [
    {
     "name": "stderr",
     "output_type": "stream",
     "text": [
      "100%|███████████████████████████████████████████████████████████████████████████████████████| 7600/7600 [08:10<00:00, 15.48it/s]\n",
      "100%|███████████████████████████████████████████████████████████████████████████████████████| 7600/7600 [08:07<00:00, 15.58it/s]\n",
      "100%|███████████████████████████████████████████████████████████████████████████████████████| 7600/7600 [29:55<00:00,  4.23it/s]\n",
      "100%|███████████████████████████████████████████████████████████████████████████████████████| 7600/7600 [29:54<00:00,  4.23it/s]\n",
      "100%|█████████████████████████████████████████████████████████████████████████████████████| 7600/7600 [1:05:56<00:00,  1.92it/s]\n",
      "100%|█████████████████████████████████████████████████████████████████████████████████████| 7600/7600 [1:04:32<00:00,  1.96it/s]\n",
      "100%|█████████████████████████████████████████████████████████████████████████████████████| 7600/7600 [1:53:12<00:00,  1.12it/s]\n",
      "100%|█████████████████████████████████████████████████████████████████████████████████████| 7600/7600 [1:53:05<00:00,  1.12it/s]\n",
      "100%|█████████████████████████████████████████████████████████████████████████████████████| 7600/7600 [2:55:56<00:00,  1.39s/it]\n",
      "100%|█████████████████████████████████████████████████████████████████████████████████████| 7600/7600 [2:57:35<00:00,  1.40s/it]\n",
      "100%|█████████████████████████████████████████████████████████████████████████████████████| 7600/7600 [4:09:43<00:00,  1.97s/it]\n",
      "100%|█████████████████████████████████████████████████████████████████████████████████████| 7600/7600 [4:09:48<00:00,  1.97s/it]\n",
      "100%|█████████████████████████████████████████████████████████████████████████████████████| 7600/7600 [5:40:03<00:00,  2.68s/it]\n",
      "100%|█████████████████████████████████████████████████████████████████████████████████████| 7600/7600 [5:36:42<00:00,  2.66s/it]\n",
      "100%|█████████████████████████████████████████████████████████████████████████████████████| 7600/7600 [7:17:15<00:00,  3.45s/it]\n",
      "100%|█████████████████████████████████████████████████████████████████████████████████████| 7600/7600 [7:21:40<00:00,  3.49s/it]\n",
      "100%|█████████████████████████████████████████████████████████████████████████████████████| 7600/7600 [9:17:42<00:00,  4.40s/it]\n",
      "100%|█████████████████████████████████████████████████████████████████████████████████████| 7600/7600 [9:14:10<00:00,  4.38s/it]\n",
      "100%|████████████████████████████████████████████████████████████████████████████████████| 7600/7600 [11:28:23<00:00,  5.43s/it]\n",
      "100%|████████████████████████████████████████████████████████████████████████████████████| 7600/7600 [11:28:13<00:00,  5.43s/it]\n"
     ]
    }
   ],
   "source": [
    "stats_emcee = {}\n",
    "nlike_emcee_record = {}\n",
    "time_emcee = {}\n",
    "\n",
    "for d in testdim:\n",
    "    initial = np.ones(d)\n",
    "    \n",
    "    start_time = time.time()\n",
    "    emcee_samples, nlike_emcee = run_emcee(initial, discard, thin, d, nchain = nchain)\n",
    "    time_emcee[d] = time.time() - start_time \n",
    "\n",
    "    stats_emcee[d] = calculate_summary(emcee_samples[0], emcee_samples[1], nlike_emcee)\n",
    "    nlike_emcee_record[d] = nlike_emcee"
   ]
  },
  {
   "cell_type": "code",
   "execution_count": 27,
   "id": "0006aa26-328a-40c6-8f08-d0a821a4c066",
   "metadata": {},
   "outputs": [],
   "source": [
    "dill_save(stats_emcee, 'rosenbrock', 'stats_emcee')\n",
    "dill_save(nlike_emcee_record, 'rosenbrock', 'nlike_emcee')\n",
    "dill_save(time_emcee, 'rosenbrock', 'time_emcee')"
   ]
  },
  {
   "cell_type": "code",
   "execution_count": null,
   "id": "98a55676-cefd-4e97-bbc1-29da8bbcc7ee",
   "metadata": {},
   "outputs": [],
   "source": [
    "# stats_nuts = {}\n",
    "# nlike_nuts_record = {}\n",
    "# time_nuts = {}\n",
    "\n",
    "# for d in testdim:\n",
    "#     start_time = time.time()\n",
    "#     mcmc, nlike_nuts = run_nuts(stepsize, tree_depth, nwarmup, nsamples_nuts, d)\n",
    "#     time_nuts[d] = time.time() - start_time \n",
    "    \n",
    "#     nuts_grouped = process_nuts_chains(mcmc, d)\n",
    "#     stats_nuts[d] = calculate_summary(nuts_grouped[0], nuts_grouped[1], nlike_nuts)\n",
    "#     nlike_nuts_record[d] = nlike_nuts\n",
    "\n",
    "# dill_save(stats_nuts, 'rosenbrock', 'stats_nuts')\n",
    "# dill_save(nlike_nuts_record, 'rosenbrock', 'nlike_nuts')\n",
    "# dill_save(time_nuts, 'rosenbrock', 'time_nuts')"
   ]
  },
  {
   "cell_type": "markdown",
   "id": "9e47a8c1-8311-4e6f-952e-bed4a265d3fb",
   "metadata": {},
   "source": [
    "## Calculations"
   ]
  },
  {
   "cell_type": "code",
   "execution_count": 4,
   "id": "92c22ee4-f585-4742-887b-6ab7f3db67be",
   "metadata": {},
   "outputs": [],
   "source": [
    "stats_emcee = dill_load('rosenbrock', 'stats_emcee')\n",
    "nlike_emcee = dill_load('rosenbrock', 'nlike_emcee')\n",
    "time_emcee = dill_load('rosenbrock', 'time_emcee')"
   ]
  },
  {
   "cell_type": "code",
   "execution_count": 5,
   "id": "d1be1365-9cae-48a8-a444-586e108237b1",
   "metadata": {},
   "outputs": [],
   "source": [
    "stats_nuts = {}\n",
    "nlike_nuts = {}\n",
    "time_nuts = {}\n",
    "\n",
    "for i in range(10):\n",
    "    d = (i+1) * 20 \n",
    "    stats_nuts[d] = dill_load('rosenbrock', f'stats_nuts_{d}')\n",
    "    nlike_nuts[d] = dill_load('rosenbrock', f'nlike_nuts_{d}')\n",
    "    time_nuts[d] = dill_load('rosenbrock', f'time_nuts_{d}')"
   ]
  },
  {
   "cell_type": "code",
   "execution_count": 6,
   "id": "0f76f955-beb5-4d7e-8481-ea741ed995e2",
   "metadata": {},
   "outputs": [],
   "source": [
    "stats_nuts = stats_nuts[120] | stats_nuts[140] | stats_nuts[200]\n",
    "nlike_nuts = nlike_nuts[120] | nlike_nuts[140] | nlike_nuts[200]\n",
    "time_nuts = time_nuts[120] | time_nuts[140] | time_nuts[200]"
   ]
  },
  {
   "cell_type": "code",
   "execution_count": 7,
   "id": "7638aa2e-3d71-4115-8414-7a06878e03ee",
   "metadata": {},
   "outputs": [],
   "source": [
    "testdim = np.arange(1, 6, 1) * 20\n",
    "t_emcee_array = np.asarray(list(time_emcee.values()))[0: len(testdim)]\n",
    "t_nuts_array = np.asarray(list(time_nuts.values()))[0: len(testdim)]\n",
    "\n",
    "mean_neff_emcee = np.asarray([stats_emcee[d]['n_eff'].mean() for d in testdim]) / t_emcee_array\n",
    "mean_neff_nuts = np.asarray([stats_nuts[d]['n_eff'].mean() for d in testdim]) / t_nuts_array"
   ]
  },
  {
   "cell_type": "code",
   "execution_count": 23,
   "id": "af4f07d0-7e19-4466-8b58-05813d9d2010",
   "metadata": {},
   "outputs": [],
   "source": [
    "ratio_neff = mean_neff_nuts / mean_neff_emcee"
   ]
  },
  {
   "cell_type": "code",
   "execution_count": 53,
   "id": "8fb53c77-559f-4e4e-8df1-d48186ef45b6",
   "metadata": {},
   "outputs": [
    {
     "data": {
      "image/png": "[encoded data removed]",
      "text/plain": [
       "<Figure size 800x600 with 1 Axes>"
      ]
     },
     "metadata": {},
     "output_type": "display_data"
    }
   ],
   "source": [
    "factor = max(ratio_neff)\n",
    "plt.figure(figsize = (8, 6))\n",
    "plt.plot(testdim, ratio_neff / factor, label = r'$f_{eff}$')\n",
    "plt.scatter(testdim, ratio_neff/ factor, s = 20)\n",
    "plt.plot(dimensions, time_ratio / factor, label = r'$\\tau$')\n",
    "plt.scatter(dimensions, time_ratio / factor, s = 20)\n",
    "plt.xlabel(r'$d$', fontsize = fontSize)\n",
    "plt.tick_params(axis='x', labelsize=fontSize)\n",
    "plt.tick_params(axis='y', labelsize=fontSize)\n",
    "plt.legend(loc = 'best',prop={'family':'sans-serif', 'size':15})\n",
    "plt.yscale('log')\n",
    "# plt.savefig('/home/arrykrishna/Desktop/ratio.pdf', bbox_inches = 'tight')\n",
    "plt.show()"
   ]
  },
  {
   "cell_type": "markdown",
   "id": "3eca2fe7-8476-4848-a176-f948c3e5d456",
   "metadata": {},
   "source": [
    "# Vary factor in Rosenbrock"
   ]
  },
  {
   "cell_type": "code",
   "execution_count": null,
   "id": "892d261b-c98c-4086-8843-c1d74b91745c",
   "metadata": {},
   "outputs": [],
   "source": []
  }
 ],
 "metadata": {
  "kernelspec": {
   "display_name": "Python 3 (ipykernel)",
   "language": "python",
   "name": "python3"
  },
  "language_info": {
   "codemirror_mode": {
    "name": "ipython",
    "version": 3
   },
   "file_extension": ".py",
   "mimetype": "text/x-python",
   "name": "python",
   "nbconvert_exporter": "python",
   "pygments_lexer": "ipython3",
   "version": "3.9.18"
  }
 },
 "nbformat": 4,
 "nbformat_minor": 5
}
