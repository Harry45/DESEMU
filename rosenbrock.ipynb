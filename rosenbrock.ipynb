{
 "cells": [
  {
   "cell_type": "code",
   "execution_count": 1,
   "id": "c55ccd89",
   "metadata": {},
   "outputs": [],
   "source": [
    "import time\n",
    "import numpy as np\n",
    "import matplotlib.pylab as plt\n",
    "import emcee\n",
    "from getdist import plots, MCSamples\n",
    "import getdist\n",
    "import scipy.stats as ss\n",
    "import pandas as pd\n",
    "\n",
    "import numpyro\n",
    "import jax\n",
    "import jax.numpy as jnp\n",
    "import numpyro.distributions as dist\n",
    "from numpyro.infer import MCMC, HMC, NUTS, init_to_value\n",
    "from numpyro.handlers import seed\n",
    "from numpyro.distributions import constraints\n",
    "from numpyro.diagnostics import summary\n",
    "from jax import grad, jit, vmap, jacfwd, jacrev\n",
    "from utils.helpers import dill_save, dill_load\n",
    "import random \n",
    "\n",
    "plt.rc(\"text\", usetex=True)\n",
    "plt.rc(\"font\", **{\"family\": \"sans-serif\", \"serif\": [\"Palatino\"]})\n",
    "figSize = (12, 8)\n",
    "fontSize = 15\n",
    "\n",
    "settings = {\n",
    "    \"mult_bias_correction_order\": 0,\n",
    "    \"smooth_scale_2D\": 0.3,\n",
    "    \"smooth_scale_1D\": 0.3,\n",
    "}\n",
    "color1 = \"#50C878\"\n",
    "color2 = \"tomato\"\n",
    "color3 = \"#222E50\"\n",
    "alpha = 0.9\n",
    "palefactor = 0.9\n",
    "linewidth = 2\n",
    "contours = [0.68, 0.95]"
   ]
  },
  {
   "cell_type": "code",
   "execution_count": 5,
   "id": "3f34e41e",
   "metadata": {},
   "outputs": [],
   "source": [
    "# EMCEE \n",
    "DISCARD = 100\n",
    "NSAMPLES = 2000 \n",
    "\n",
    "# NUTS \n",
    "TREE_DEPTH = 8\n",
    "EPS = 0.01\n",
    "NSAMPLES_NUTS = 15000\n",
    "WARMUP = 500\n",
    "\n",
    "# General setup \n",
    "fiducial = np.ones(2)\n",
    "normal_prior = ss.norm(0, 1)"
   ]
  },
  {
   "cell_type": "code",
   "execution_count": 6,
   "id": "7511e3e1",
   "metadata": {},
   "outputs": [],
   "source": [
    "def rosenbrock(xvalues):\n",
    "    x_i_plus_one = xvalues[1::2]\n",
    "    x_i = xvalues[0::2]\n",
    "    term_1 = 9.0 * (x_i_plus_one - x_i**2) ** 2\n",
    "    term_2 = (x_i - 1) ** 2\n",
    "    return sum(term_1 + term_2)\n",
    "\n",
    "\n",
    "def loglikelihood(xvalues):\n",
    "    return -rosenbrock(xvalues)\n",
    "\n",
    "\n",
    "@jax.jit\n",
    "def jit_loglike(xvalues):\n",
    "    return loglikelihood(xvalues)\n",
    "\n",
    "\n",
    "@jax.jit\n",
    "def jit_grad_loglike(xvalues):\n",
    "    return jax.jacfwd(loglikelihood)(xvalues)\n",
    "\n",
    "\n",
    "def logposterior(xvalues):\n",
    "    # logprior = sum([uniform_prior.logpdf(xvalues[i]) for i in range(ndim)])\n",
    "    logprior = sum([normal_prior.logpdf(xvalues[i]) for i in range(len(xvalues))])\n",
    "    if np.isfinite(logprior):\n",
    "        return logprior + jit_loglike(xvalues)\n",
    "    return -1e32\n"
   ]
  },
  {
   "cell_type": "markdown",
   "id": "e71391d9",
   "metadata": {},
   "source": [
    "# $\\frac{\\tau[\\nabla \\mathcal{L}]}{\\tau[\\mathcal{L}]}$"
   ]
  },
  {
   "cell_type": "code",
   "execution_count": 7,
   "id": "5aaa8e8d",
   "metadata": {},
   "outputs": [
    {
     "name": "stdout",
     "output_type": "stream",
     "text": [
      "37.7 µs ± 2.88 µs per loop (mean ± std. dev. of 7 runs, 10,000 loops each)\n"
     ]
    }
   ],
   "source": [
    "%%timeit\n",
    "jit_loglike(fiducial)"
   ]
  },
  {
   "cell_type": "code",
   "execution_count": 8,
   "id": "d4f642ba",
   "metadata": {},
   "outputs": [
    {
     "name": "stdout",
     "output_type": "stream",
     "text": [
      "41.3 µs ± 6.17 µs per loop (mean ± std. dev. of 7 runs, 10,000 loops each)\n"
     ]
    }
   ],
   "source": [
    "%%timeit\n",
    "jit_loglike(fiducial)"
   ]
  },
  {
   "cell_type": "code",
   "execution_count": 9,
   "id": "275871ec",
   "metadata": {},
   "outputs": [
    {
     "name": "stdout",
     "output_type": "stream",
     "text": [
      "35.9 µs ± 1.52 µs per loop (mean ± std. dev. of 7 runs, 10,000 loops each)\n"
     ]
    }
   ],
   "source": [
    "%%timeit\n",
    "jit_grad_loglike(fiducial)"
   ]
  },
  {
   "cell_type": "code",
   "execution_count": 10,
   "id": "193e0443",
   "metadata": {},
   "outputs": [
    {
     "name": "stdout",
     "output_type": "stream",
     "text": [
      "38.2 µs ± 2.92 µs per loop (mean ± std. dev. of 7 runs, 10,000 loops each)\n"
     ]
    }
   ],
   "source": [
    "%%timeit\n",
    "jit_grad_loglike(fiducial)"
   ]
  },
  {
   "cell_type": "code",
   "execution_count": 11,
   "id": "59814c56",
   "metadata": {},
   "outputs": [],
   "source": [
    "dimensions = np.arange(1, 6, 1, dtype=int) * 20\n",
    "nrepeat = 10\n",
    "\n",
    "tau_like = []\n",
    "tau_gradlike = []\n",
    "\n",
    "for repeat in range(nrepeat):\n",
    "    record_tau_like = []\n",
    "    record_tau_grad_like = []\n",
    "\n",
    "    for d in dimensions:\n",
    "        testpoint = jnp.ones(d) + 1e-2\n",
    "\n",
    "        start_time = time.time()\n",
    "        loglike = jit_loglike(testpoint)\n",
    "        time_taken = time.time() - start_time\n",
    "        record_tau_like.append(time_taken)\n",
    "\n",
    "        start_time = time.time()\n",
    "        grad_loglike = jit_grad_loglike(testpoint)\n",
    "        time_taken = time.time() - start_time\n",
    "        record_tau_grad_like.append(time_taken)\n",
    "\n",
    "    record_tau_like = np.asarray(record_tau_like)\n",
    "    record_tau_grad_like = np.asarray(record_tau_grad_like)\n",
    "    tau_like.append(record_tau_like)\n",
    "    tau_gradlike.append(record_tau_grad_like)\n",
    "\n",
    "tau_like = np.asarray(tau_like)\n",
    "tau_gradlike = np.asarray(tau_gradlike)"
   ]
  },
  {
   "cell_type": "code",
   "execution_count": 12,
   "id": "b4781a04",
   "metadata": {},
   "outputs": [],
   "source": [
    "time_ratio = np.mean(tau_gradlike / tau_like, axis=0)\n",
    "time_ratio_error = np.std(tau_gradlike / tau_like, axis=0)"
   ]
  },
  {
   "cell_type": "code",
   "execution_count": 13,
   "id": "93a44454",
   "metadata": {},
   "outputs": [],
   "source": [
    "# dill_save(time_ratio, 'rosenbrock', 'gL_L_time_ratio')\n",
    "# dill_save(time_ratio_error, 'rosenbrock', 'gL_L_time_ratio_error')"
   ]
  },
  {
   "cell_type": "code",
   "execution_count": 14,
   "id": "ed5d0ba7",
   "metadata": {},
   "outputs": [
    {
     "data": {
      "image/png": "[encoded data removed]",
      "text/plain": [
       "<Figure size 640x480 with 1 Axes>"
      ]
     },
     "metadata": {},
     "output_type": "display_data"
    }
   ],
   "source": [
    "plt.plot(dimensions, time_ratio)\n",
    "plt.errorbar(dimensions, time_ratio, yerr=time_ratio_error, fmt=\"bo\")\n",
    "plt.ylim(0, 3)\n",
    "plt.show()"
   ]
  },
  {
   "cell_type": "markdown",
   "id": "6127ba48",
   "metadata": {},
   "source": [
    "## EMCEE"
   ]
  },
  {
   "cell_type": "code",
   "execution_count": 15,
   "id": "e41cfd78",
   "metadata": {},
   "outputs": [],
   "source": [
    "def calculate_summary(samples_1, samples_2, thin=None, ndecimal=3):\n",
    "    record = []\n",
    "    for i in range(samples_1.shape[1]):\n",
    "        if thin is not None:\n",
    "            x1 = samples_1[:,i][0::thin]\n",
    "            x2 = samples_2[:,i][0::thin]\n",
    "        else:\n",
    "            x1 = samples_1[:,i]\n",
    "            x2 = samples_2[:,i]\n",
    "        nsamples = x1.shape[0] + x2.shape[0]\n",
    "        \n",
    "        testsamples = np.vstack(([x1, x2]))\n",
    "        summary_stats = summary(testsamples)\n",
    "        summary_stats[f\"p_{i}\"] = summary_stats.pop(\"Param:0\")\n",
    "        record.append(summary_stats)\n",
    "\n",
    "    record_df = []\n",
    "    for i in range(len(record)):\n",
    "        record_df.append(\n",
    "            pd.DataFrame(record[i])\n",
    "            .round(ndecimal)\n",
    "            .loc[[\"r_hat\", \"n_eff\", \"mean\", \"std\"]]\n",
    "        )\n",
    "    \n",
    "    print(f'Total number of samples after thinning is {nsamples}')\n",
    "    record_df = pd.concat(record_df, axis=1).T\n",
    "    record_df[\"n_eff\"] /= nsamples\n",
    "    return record_df\n",
    "\n",
    "def single_emcee_run(fiducial, ndim):\n",
    "    pos = fiducial + 1e-3 * np.random.randn(2 * ndim, ndim)\n",
    "    nwalkers, ndim = pos.shape\n",
    "    sampler = emcee.EnsembleSampler(nwalkers, ndim, logposterior)\n",
    "    sampler.run_mcmc(pos, NSAMPLES, progress=True)\n",
    "    return sampler\n",
    "\n",
    "\n",
    "def run_emcee(fiducial, ndim):\n",
    "\n",
    "    record_samples = []\n",
    "    for chain in range(2):\n",
    "        sampler = single_emcee_run(fiducial, ndim)\n",
    "        emcee_samples = sampler.get_chain(discard=DISCARD, flat=True)\n",
    "        record_samples.append(emcee_samples)\n",
    "    return record_samples"
   ]
  },
  {
   "cell_type": "markdown",
   "id": "f3d142cc",
   "metadata": {},
   "source": [
    "## NUTS"
   ]
  },
  {
   "cell_type": "code",
   "execution_count": 16,
   "id": "8d16c63f",
   "metadata": {},
   "outputs": [],
   "source": [
    "def model(ndim):\n",
    "    xvalues = jnp.zeros(ndim)\n",
    "    for i in range(ndim):\n",
    "        y = numpyro.sample(f\"x{i}\", dist.Normal(0, 1))\n",
    "        xvalues = xvalues.at[i].set(y)\n",
    "    numpyro.factor(\"log_prob\", jit_loglike(xvalues))"
   ]
  },
  {
   "cell_type": "code",
   "execution_count": 17,
   "id": "54505f52",
   "metadata": {},
   "outputs": [],
   "source": [
    "def run_nuts(initial, ndim):\n",
    "    init_strategy = init_to_value(values={f\"x{i}\": initial[i] for i in range(ndim)})\n",
    "    nuts_kernel = NUTS(\n",
    "        model,\n",
    "        step_size=EPS,\n",
    "        dense_mass=True,\n",
    "        max_tree_depth=TREE_DEPTH,\n",
    "        init_strategy=init_strategy,\n",
    "    )\n",
    "    mcmc = MCMC(\n",
    "        nuts_kernel,\n",
    "        num_chains=2,\n",
    "        num_warmup=WARMUP,\n",
    "        num_samples=NSAMPLES_NUTS,\n",
    "        chain_method=\"vectorized\",\n",
    "    )\n",
    "    random_integer = random.randint(0, 1000)\n",
    "    mcmc.run(\n",
    "        jax.random.PRNGKey(random_integer),\n",
    "        ndim=ndim,\n",
    "        extra_fields=(\"potential_energy\", \"num_steps\", \"accept_prob\"),\n",
    "    )\n",
    "    nsteps = mcmc.get_extra_fields(group_by_chain=False)['num_steps'].sum().item()\n",
    "    return mcmc, nsteps"
   ]
  },
  {
   "cell_type": "code",
   "execution_count": 18,
   "id": "233901ed",
   "metadata": {},
   "outputs": [],
   "source": [
    "def process_nuts_chains(mcmc, ndim):\n",
    "    chains = mcmc.get_samples(group_by_chain=True)\n",
    "    record = []\n",
    "    for c in range(2):\n",
    "        samples = np.vstack([np.asarray(chains[f\"x{i}\"][c]) for i in range(ndim)]).T\n",
    "        record.append(samples)\n",
    "    return record"
   ]
  },
  {
   "cell_type": "code",
   "execution_count": 19,
   "id": "3b58f415",
   "metadata": {},
   "outputs": [],
   "source": [
    "def calculate_metrics(samples_1, samples_2, thin):\n",
    "    \n",
    "    results = calculate_summary(samples_1, samples_2, thin = thin)\n",
    "    mean_neff = results['n_eff'].mean()\n",
    "    \n",
    "    # distance calculations \n",
    "    ndimensions = samples_1.shape[1]\n",
    "    reference = pd.DataFrame([[0.45, 0.45], [0.39, 0.48]] * int(ndimensions / 2), columns=[\"mean\", \"std\"])\n",
    "    reference.index = [f\"p_{i}\" for i in range(ndimensions)]\n",
    "    difference_mean = np.abs(results[\"mean\"] - reference[\"mean\"])\n",
    "    difference_std = np.abs(results[\"std\"] - reference[\"std\"])\n",
    "    \n",
    "    mean_mean = np.mean(difference_mean)\n",
    "    mean_std = np.mean(difference_std)\n",
    "    return {'mean_neff': mean_neff, 'mean_mean': mean_mean, 'mean_std': mean_std}"
   ]
  },
  {
   "cell_type": "code",
   "execution_count": 20,
   "id": "ce94b9cf",
   "metadata": {},
   "outputs": [],
   "source": [
    "def run_experiment(ndim, thin = 10):\n",
    "    initial = [0.45, 0.39] * int(ndim/2)\n",
    "    emcee_samples = run_emcee(initial, ndim)\n",
    "    \n",
    "    mcmc_nuts, nsteps = run_nuts(initial, ndim)\n",
    "    nuts_samples = process_nuts_chains(mcmc_nuts, ndim)\n",
    "    \n",
    "    emcee_metrics = calculate_metrics(emcee_samples[0], emcee_samples[1], thin = thin)\n",
    "    nuts_metrics = calculate_metrics(nuts_samples[0], nuts_samples[1], thin = thin)\n",
    "    \n",
    "    return emcee_samples, emcee_metrics, nuts_samples, nuts_metrics"
   ]
  },
  {
   "cell_type": "markdown",
   "id": "c5decf20",
   "metadata": {},
   "source": [
    "# Single Experiment"
   ]
  },
  {
   "cell_type": "code",
   "execution_count": null,
   "id": "9521475e",
   "metadata": {},
   "outputs": [],
   "source": [
    "emcee_samples, emcee_metrics, nuts_samples, nuts_metrics = run_experiment(ndim = 10, thin = 10)"
   ]
  },
  {
   "cell_type": "code",
   "execution_count": null,
   "id": "2f469d24",
   "metadata": {},
   "outputs": [],
   "source": [
    "emcee_metrics"
   ]
  },
  {
   "cell_type": "code",
   "execution_count": null,
   "id": "067f33a8",
   "metadata": {},
   "outputs": [],
   "source": [
    "nuts_metrics"
   ]
  },
  {
   "cell_type": "markdown",
   "id": "2a60e429",
   "metadata": {},
   "source": [
    "## Plots"
   ]
  },
  {
   "cell_type": "code",
   "execution_count": null,
   "id": "6c543f88",
   "metadata": {},
   "outputs": [],
   "source": [
    "emcee_samples_flat = np.concatenate(emcee_samples)\n",
    "nuts_samples_flat = np.concatenate(nuts_grouped)"
   ]
  },
  {
   "cell_type": "code",
   "execution_count": null,
   "id": "7fef2244",
   "metadata": {},
   "outputs": [],
   "source": [
    "ndimplot = 6\n",
    "names = [\"x%s\" % i for i in range(ndimplot)]\n",
    "labels = [f\"$x_{i}$\" for i in range(ndimplot)]\n",
    "samples_emcee = MCSamples(\n",
    "    samples=emcee_samples_flat[:, 0:ndimplot], names=names, labels=labels\n",
    ")\n",
    "samples_nuts = MCSamples(\n",
    "    samples=nuts_samples_flat[:, 0:ndimplot], names=names, labels=labels\n",
    ")"
   ]
  },
  {
   "cell_type": "code",
   "execution_count": null,
   "id": "3cbc9d21",
   "metadata": {},
   "outputs": [],
   "source": [
    "G = plots.getSubplotPlotter(subplot_size=1)\n",
    "G.settings.solid_contour_palefactor = palefactor\n",
    "G.settings.alpha_filled_add = alpha\n",
    "G.settings.num_plot_contours = 2\n",
    "G.settings.lw_contour = 2\n",
    "G.settings.axes_fontsize = 20\n",
    "G.settings.lab_fontsize = 20\n",
    "G.settings.fontsize = 15  # important for padding in x-axis\n",
    "G.settings.line_styles = \"Accent\"\n",
    "G.settings.legend_fontsize = 20\n",
    "G.triangle_plot(\n",
    "    [samples_emcee, samples_nuts],\n",
    "    filled=[True, False],\n",
    "    contour_colors=[color1, color3],\n",
    "    contour_lws=2,\n",
    "    legend_labels=[\"EMCEE\", \"NUTS\"],\n",
    ")\n",
    "# plt.savefig('plots/rosenbrock.pdf', bbox_inches = 'tight')\n",
    "plt.show()"
   ]
  },
  {
   "cell_type": "markdown",
   "id": "4b251888",
   "metadata": {},
   "source": [
    "# Many Dimensions"
   ]
  },
  {
   "cell_type": "code",
   "execution_count": 21,
   "id": "14b169a6",
   "metadata": {},
   "outputs": [
    {
     "name": "stderr",
     "output_type": "stream",
     "text": [
      "100%|███████████████████████████████████████████████████████████████████████████████████| 2000/2000 [00:44<00:00, 45.38it/s]\n",
      "100%|███████████████████████████████████████████████████████████████████████████████████| 2000/2000 [00:44<00:00, 44.88it/s]\n",
      "sample: 100%|████████████████████████████████████████████████████████████████████████| 15500/15500 [01:56<00:00, 132.83it/s]\n"
     ]
    },
    {
     "name": "stdout",
     "output_type": "stream",
     "text": [
      "Total number of samples after thinning is 7600\n",
      "Total number of samples after thinning is 3000\n"
     ]
    },
    {
     "name": "stderr",
     "output_type": "stream",
     "text": [
      "100%|███████████████████████████████████████████████████████████████████████████████████| 2000/2000 [02:14<00:00, 14.88it/s]\n",
      "100%|███████████████████████████████████████████████████████████████████████████████████| 2000/2000 [02:15<00:00, 14.81it/s]\n",
      "sample: 100%|█████████████████████████████████████████████████████████████████████████| 15500/15500 [03:36<00:00, 71.58it/s]\n"
     ]
    },
    {
     "name": "stdout",
     "output_type": "stream",
     "text": [
      "Total number of samples after thinning is 15200\n",
      "Total number of samples after thinning is 3000\n"
     ]
    },
    {
     "name": "stderr",
     "output_type": "stream",
     "text": [
      "100%|███████████████████████████████████████████████████████████████████████████████████| 2000/2000 [04:52<00:00,  6.83it/s]\n",
      "100%|███████████████████████████████████████████████████████████████████████████████████| 2000/2000 [04:51<00:00,  6.86it/s]\n",
      "sample: 100%|█████████████████████████████████████████████████████████████████████████| 15500/15500 [05:25<00:00, 47.61it/s]\n"
     ]
    },
    {
     "name": "stdout",
     "output_type": "stream",
     "text": [
      "Total number of samples after thinning is 22800\n",
      "Total number of samples after thinning is 3000\n"
     ]
    },
    {
     "name": "stderr",
     "output_type": "stream",
     "text": [
      "100%|███████████████████████████████████████████████████████████████████████████████████| 2000/2000 [08:20<00:00,  4.00it/s]\n",
      "100%|███████████████████████████████████████████████████████████████████████████████████| 2000/2000 [08:17<00:00,  4.02it/s]\n",
      "sample: 100%|█████████████████████████████████████████████████████████████████████████| 15500/15500 [06:05<00:00, 42.44it/s]\n"
     ]
    },
    {
     "name": "stdout",
     "output_type": "stream",
     "text": [
      "Total number of samples after thinning is 30400\n",
      "Total number of samples after thinning is 3000\n"
     ]
    },
    {
     "name": "stderr",
     "output_type": "stream",
     "text": [
      "100%|███████████████████████████████████████████████████████████████████████████████████| 2000/2000 [12:44<00:00,  2.62it/s]\n",
      "100%|███████████████████████████████████████████████████████████████████████████████████| 2000/2000 [13:20<00:00,  2.50it/s]\n",
      "sample: 100%|█████████████████████████████████████████████████████████████████████████| 15500/15500 [06:07<00:00, 42.12it/s]\n"
     ]
    },
    {
     "name": "stdout",
     "output_type": "stream",
     "text": [
      "Total number of samples after thinning is 38000\n",
      "Total number of samples after thinning is 3000\n"
     ]
    },
    {
     "name": "stderr",
     "output_type": "stream",
     "text": [
      "100%|███████████████████████████████████████████████████████████████████████████████████| 2000/2000 [18:01<00:00,  1.85it/s]\n",
      "100%|███████████████████████████████████████████████████████████████████████████████████| 2000/2000 [17:40<00:00,  1.89it/s]\n",
      "sample: 100%|█████████████████████████████████████████████████████████████████████████| 15500/15500 [06:37<00:00, 38.99it/s]\n"
     ]
    },
    {
     "name": "stdout",
     "output_type": "stream",
     "text": [
      "Total number of samples after thinning is 45600\n",
      "Total number of samples after thinning is 3000\n"
     ]
    },
    {
     "name": "stderr",
     "output_type": "stream",
     "text": [
      "100%|███████████████████████████████████████████████████████████████████████████████████| 2000/2000 [23:59<00:00,  1.39it/s]\n",
      "100%|███████████████████████████████████████████████████████████████████████████████████| 2000/2000 [23:54<00:00,  1.39it/s]\n",
      "sample: 100%|█████████████████████████████████████████████████████████████████████████| 15500/15500 [07:28<00:00, 34.57it/s]\n"
     ]
    },
    {
     "name": "stdout",
     "output_type": "stream",
     "text": [
      "Total number of samples after thinning is 53200\n",
      "Total number of samples after thinning is 3000\n"
     ]
    },
    {
     "name": "stderr",
     "output_type": "stream",
     "text": [
      "100%|███████████████████████████████████████████████████████████████████████████████████| 2000/2000 [30:51<00:00,  1.08it/s]\n",
      "100%|███████████████████████████████████████████████████████████████████████████████████| 2000/2000 [30:51<00:00,  1.08it/s]\n",
      "sample: 100%|█████████████████████████████████████████████████████████████████████████| 15500/15500 [09:19<00:00, 27.70it/s]\n"
     ]
    },
    {
     "name": "stdout",
     "output_type": "stream",
     "text": [
      "Total number of samples after thinning is 60800\n",
      "Total number of samples after thinning is 3000\n"
     ]
    },
    {
     "name": "stderr",
     "output_type": "stream",
     "text": [
      "100%|███████████████████████████████████████████████████████████████████████████████████| 2000/2000 [38:48<00:00,  1.16s/it]\n",
      "100%|███████████████████████████████████████████████████████████████████████████████████| 2000/2000 [38:56<00:00,  1.17s/it]\n",
      "sample: 100%|█████████████████████████████████████████████████████████████████████████| 15500/15500 [11:20<00:00, 22.78it/s]\n"
     ]
    },
    {
     "name": "stdout",
     "output_type": "stream",
     "text": [
      "Total number of samples after thinning is 68400\n",
      "Total number of samples after thinning is 3000\n"
     ]
    },
    {
     "name": "stderr",
     "output_type": "stream",
     "text": [
      "100%|███████████████████████████████████████████████████████████████████████████████████| 2000/2000 [47:46<00:00,  1.43s/it]\n",
      "100%|███████████████████████████████████████████████████████████████████████████████████| 2000/2000 [47:37<00:00,  1.43s/it]\n",
      "sample: 100%|█████████████████████████████████████████████████████████████████████████| 15500/15500 [13:03<00:00, 19.79it/s]\n"
     ]
    },
    {
     "name": "stdout",
     "output_type": "stream",
     "text": [
      "Total number of samples after thinning is 76000\n",
      "Total number of samples after thinning is 3000\n"
     ]
    }
   ],
   "source": [
    "dimensions = np.arange(1, 11, 1) * 10\n",
    "record_emcee_metrics = []\n",
    "record_nuts_metrics = [] \n",
    "\n",
    "for ndim in dimensions:\n",
    "    emcee_samples, emcee_metrics, nuts_samples, nuts_metrics = run_experiment(ndim = ndim, thin = 10)\n",
    "    record_emcee_metrics.append(emcee_metrics)\n",
    "    record_nuts_metrics.append(nuts_metrics)"
   ]
  },
  {
   "cell_type": "code",
   "execution_count": 22,
   "id": "7242c6b5",
   "metadata": {},
   "outputs": [],
   "source": [
    "df_emcee_metrics = pd.DataFrame(record_emcee_metrics)\n",
    "df_nuts_metrics = pd.DataFrame(record_nuts_metrics)"
   ]
  },
  {
   "cell_type": "code",
   "execution_count": 23,
   "id": "d0b13b36",
   "metadata": {},
   "outputs": [],
   "source": [
    "df_emcee_metrics.index = dimensions\n",
    "df_nuts_metrics.index = dimensions"
   ]
  },
  {
   "cell_type": "code",
   "execution_count": 24,
   "id": "6ca18c2d",
   "metadata": {},
   "outputs": [],
   "source": [
    "df_emcee_metrics.to_csv('rosenbrock/emcee_metrics.csv')\n",
    "df_nuts_metrics.to_csv('rosenbrock/nuts_metrics.csv')"
   ]
  },
  {
   "cell_type": "code",
   "execution_count": 26,
   "id": "89c982ec",
   "metadata": {},
   "outputs": [
    {
     "data": {
      "image/png": "[encoded data removed]",
      "text/plain": [
       "<Figure size 1600x400 with 3 Axes>"
      ]
     },
     "metadata": {},
     "output_type": "display_data"
    }
   ],
   "source": [
    "plt.figure(figsize = (16, 4))\n",
    "plt.subplot(131)\n",
    "plt.scatter(dimensions, df_emcee_metrics['mean_neff'], c = 'r', label = 'EMCEE')\n",
    "plt.plot(dimensions, df_emcee_metrics['mean_neff'], c = 'r')\n",
    "plt.scatter(dimensions, df_nuts_metrics['mean_neff'], c = 'b', label = 'NUTS')\n",
    "plt.plot(dimensions, df_nuts_metrics['mean_neff'], c = 'b')\n",
    "plt.ylabel(r'$N_{eff}$', fontsize = fontSize)\n",
    "plt.xlabel(r'Dimensions', fontsize = fontSize)\n",
    "plt.tick_params(axis='x', labelsize=fontSize)\n",
    "plt.tick_params(axis='y', labelsize=fontSize)\n",
    "plt.ylim(0.0, 4.0)\n",
    "plt.legend(loc='best',prop={'family':'sans-serif', 'size':12})\n",
    "\n",
    "plt.subplot(132)\n",
    "plt.axhline(0.0, linestyle ='--', c = 'k')\n",
    "plt.scatter(dimensions, df_emcee_metrics['mean_mean'], c = 'r', label = 'EMCEE')\n",
    "plt.plot(dimensions, df_emcee_metrics['mean_mean'], c = 'r')\n",
    "plt.scatter(dimensions, df_nuts_metrics['mean_mean'], c = 'b', label = 'NUTS')\n",
    "plt.plot(dimensions, df_nuts_metrics['mean_mean'], c = 'b')\n",
    "plt.ylabel(r'$\\langle \\mu - \\mu_{*}\\rangle$', fontsize = fontSize)\n",
    "plt.xlabel(r'Dimensions', fontsize = fontSize)\n",
    "plt.tick_params(axis='x', labelsize=fontSize)\n",
    "plt.tick_params(axis='y', labelsize=fontSize)\n",
    "plt.ylim(-0.1, 0.2)\n",
    "plt.legend(loc='best',prop={'family':'sans-serif', 'size':12})\n",
    "\n",
    "plt.subplot(133)\n",
    "plt.axhline(0.0, linestyle ='--', c = 'k')\n",
    "plt.scatter(dimensions, df_emcee_metrics['mean_std'], c = 'r', label = 'EMCEE')\n",
    "plt.plot(dimensions, df_emcee_metrics['mean_std'], c = 'r')\n",
    "plt.scatter(dimensions, df_nuts_metrics['mean_std'], c = 'b', label = 'NUTS')\n",
    "plt.plot(dimensions, df_nuts_metrics['mean_std'], c = 'b')\n",
    "plt.ylabel(r'$\\langle \\sigma - \\sigma_{*}\\rangle$', fontsize = fontSize)\n",
    "plt.xlabel(r'Dimensions', fontsize = fontSize)\n",
    "plt.tick_params(axis='x', labelsize=fontSize)\n",
    "plt.tick_params(axis='y', labelsize=fontSize)\n",
    "plt.ylim(-0.1, 0.2)\n",
    "plt.legend(loc='best',prop={'family':'sans-serif', 'size':12})\n",
    "plt.subplots_adjust(left=None, bottom=None, right=None, top=None, wspace=0.3, hspace=None)\n",
    "plt.show()"
   ]
  },
  {
   "cell_type": "code",
   "execution_count": null,
   "id": "8967ee33",
   "metadata": {},
   "outputs": [],
   "source": []
  },
  {
   "cell_type": "code",
   "execution_count": null,
   "id": "172029f2",
   "metadata": {},
   "outputs": [],
   "source": []
  }
 ],
 "metadata": {
  "kernelspec": {
   "display_name": "Python 3 (ipykernel)",
   "language": "python",
   "name": "python3"
  },
  "language_info": {
   "codemirror_mode": {
    "name": "ipython",
    "version": 3
   },
   "file_extension": ".py",
   "mimetype": "text/x-python",
   "name": "python",
   "nbconvert_exporter": "python",
   "pygments_lexer": "ipython3",
   "version": "3.9.18"
  }
 },
 "nbformat": 4,
 "nbformat_minor": 5
}
