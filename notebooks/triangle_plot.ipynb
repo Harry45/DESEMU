{
 "cells": [
  {
   "cell_type": "code",
   "execution_count": 39,
   "id": "caa8af82",
   "metadata": {},
   "outputs": [],
   "source": [
    "import os \n",
    "import pickle \n",
    "import numpy as np\n",
    "import matplotlib.pylab as plt \n",
    "from getdist import plots, MCSamples\n",
    "\n",
    "plt.rc('text', usetex=True)\n",
    "plt.rc('font',**{'family':'sans-serif','serif':['Palatino']})\n",
    "figSize  = (12, 8)\n",
    "fontSize = 15\n",
    "\n",
    "settings={'mult_bias_correction_order':0,'smooth_scale_2D':0.3, 'smooth_scale_1D':0.3}\n",
    "contours = [0.68,0.95]\n",
    "linewidth = 2 "
   ]
  },
  {
   "cell_type": "code",
   "execution_count": 8,
   "id": "8a172829",
   "metadata": {},
   "outputs": [],
   "source": [
    "def triangle_plot(mcmc_samples, labels, subplot_size = 2, font_size = 18, fname = None):\n",
    "    ndim = len(labels)\n",
    "    colour = 'green'\n",
    "    names = [\"x%s\"%i for i in range(ndim)]\n",
    "    samples = MCSamples(samples=mcmc_samples,names = names, labels = labels, settings = settings)\n",
    "    \n",
    "    G = plots.getSubplotPlotter(subplot_size=subplot_size)\n",
    "    samples.updateSettings({'contours': contours})\n",
    "    G.settings.solid_contour_palefactor = 0.9\n",
    "    G.settings.alpha_filled_add = 0.6\n",
    "    G.settings.num_plot_contours = 2\n",
    "    G.triangle_plot(samples, filled = True, line_args={'lw':linewidth, 'color':colour}, contour_colors=[colour])\n",
    "    \n",
    "    for i in range(0,ndim):\n",
    "        for j in range(0, i+1):\n",
    "            if i != j:\n",
    "                ax = G.subplots[i,j]\n",
    "\n",
    "                a, b = G.get_param_array(samples, ['x'+str(j), 'x'+str(i)])\n",
    "                density = G.sample_analyser.get_density_grid(samples, a, b)\n",
    "                density.contours = density.getContourLevels(contours)\n",
    "                contour_levels = density.contours\n",
    "\n",
    "                ax.contour(density.x, density.y, density.P, sorted(contour_levels), colors = colour, linewidths = linewidth) \n",
    "                ax.tick_params(axis = 'x', labelsize = font_size, rotation=45, pad=5)\n",
    "                ax.tick_params(axis = 'y', labelsize = font_size, pad=5)\n",
    "                ax.yaxis.label.set_size(font_size)\n",
    "                ax.xaxis.label.set_size(font_size)\n",
    "                ax.xaxis.labelpad = 20\n",
    "                ax.yaxis.labelpad = 20\n",
    "            else:\n",
    "                ax = G.subplots[i,j]   \n",
    "\n",
    "                dense = samples.get1DDensity('x'+str(i))\n",
    "                dense.normalize(by='max')\n",
    "                ax.plot(dense.x, dense.P, lw = linewidth+2, c = colour)\n",
    "\n",
    "                ax.tick_params(axis = 'x', labelsize = font_size, rotation=45, pad=5)\n",
    "                ax.tick_params(axis = 'y', labelsize = font_size, pad=5)\n",
    "                ax.yaxis.label.set_size(font_size)\n",
    "                ax.xaxis.label.set_size(font_size)\n",
    "                ax.xaxis.labelpad = 20\n",
    "                ax.yaxis.labelpad = 20\n",
    "    if fname is not None:\n",
    "        os.makedirs('plots', exist_ok=True)\n",
    "        plt.savefig(f'plots/triangle_plot_{fname}.pdf', bbox_inches = 'tight')\n",
    "    plt.close()"
   ]
  },
  {
   "cell_type": "code",
   "execution_count": 11,
   "id": "f692ab6c",
   "metadata": {},
   "outputs": [],
   "source": [
    "from typing import Any"
   ]
  },
  {
   "cell_type": "code",
   "execution_count": 12,
   "id": "1c451cae",
   "metadata": {},
   "outputs": [],
   "source": [
    "def pickle_load(folder: str, fname: str) -> Any:\n",
    "    \"\"\"Reads a list from a folder.\n",
    "    Args:\n",
    "        folder_name (str): The name of the folder.\n",
    "        file_name (str): The name of the file.\n",
    "    Returns:\n",
    "        Any: sampler, list or dataframe\n",
    "    \"\"\"\n",
    "    path = os.path.join(folder, fname)\n",
    "    with open(path + \".pkl\", \"rb\") as dummy:\n",
    "        file = pickle.load(dummy)\n",
    "    return file"
   ]
  },
  {
   "cell_type": "code",
   "execution_count": 13,
   "id": "24664685",
   "metadata": {},
   "outputs": [],
   "source": [
    "labels = [r'$\\sigma_{8}$', r'$\\Omega_{c}$', r'$\\Omega_{b}$', r'$h$', r'$n_{s}$',\n",
    "          r'$m_{1}$', r'$m_{2}$', r'$m_{3}$', r'$m_{4}$', \n",
    "          r'$\\delta z_{1}^{(s)}$', r'$\\delta z_{2}^{(s)}$', r'$\\delta z_{3}^{(s)}$', r'$\\delta z_{4}^{(s)}$',\n",
    "          r'$A_{IA}$', r'$\\eta$', r'$b_{1}$', r'$b_{2}$', r'$b_{3}$', r'$b_{4}$', r'$b_{5}$',\n",
    "         r'$\\delta z_{1}^{(g)}$', r'$\\delta z_{2}^{(g)}$', r'$\\delta z_{3}^{(g)}$', r'$\\delta z_{4}^{(g)}$', r'$\\delta z_{5}^{(g)}$']"
   ]
  },
  {
   "cell_type": "code",
   "execution_count": 14,
   "id": "143f4c63",
   "metadata": {},
   "outputs": [],
   "source": [
    "labels_cosmo = labels[0:5]\n",
    "labels_multiplicative = labels[5:9]\n",
    "labels_shift_shear = labels[9:13]\n",
    "labels_intrinsic = labels[13:15]\n",
    "labels_bias = labels[15:20]\n",
    "labels_shift_galaxy = labels[20:]"
   ]
  },
  {
   "cell_type": "code",
   "execution_count": 16,
   "id": "a3abacfe",
   "metadata": {},
   "outputs": [],
   "source": [
    "def emcee_lnpost(parameters):\n",
    "    pass"
   ]
  },
  {
   "cell_type": "code",
   "execution_count": 33,
   "id": "fb3b35a0",
   "metadata": {},
   "outputs": [],
   "source": [
    "sampler = pickle_load('samples', 'samples_jaxcosmo_50_1000_1')"
   ]
  },
  {
   "cell_type": "code",
   "execution_count": 36,
   "id": "f0758e1c",
   "metadata": {},
   "outputs": [],
   "source": [
    "samples = sampler.flatchain[:,0:5]"
   ]
  },
  {
   "cell_type": "code",
   "execution_count": 37,
   "id": "b8311bed",
   "metadata": {},
   "outputs": [
    {
     "name": "stdout",
     "output_type": "stream",
     "text": [
      "Removed no burn in\n"
     ]
    }
   ],
   "source": [
    "triangle_plot(samples, labels_cosmo, subplot_size = 2, font_size = 18, fname = 'cosmo_jc')"
   ]
  },
  {
   "cell_type": "markdown",
   "id": "3619be1c",
   "metadata": {},
   "source": [
    "# $\\Omega_{m}$ vs $S_{8}$"
   ]
  },
  {
   "cell_type": "code",
   "execution_count": 44,
   "id": "81589a43",
   "metadata": {},
   "outputs": [],
   "source": [
    "omega_matter = samples[:,1] + samples[:,2]\n",
    "s8_parameter = samples[:,0] * np.sqrt(omega_matter/0.3)\n",
    "samples_om_s8 = np.c_[np.atleast_2d(omega_matter).T, np.atleast_2d(s8_parameter).T]"
   ]
  },
  {
   "cell_type": "code",
   "execution_count": 45,
   "id": "7c207290",
   "metadata": {},
   "outputs": [],
   "source": [
    "names    = [\"x%s\"%i for i in range(2)]\n",
    "labels   =  [r'$\\Omega_{m}$', r'$S_{8}=\\sigma_{8}\\sqrt{\\Omega_{m}/0.3}$']"
   ]
  },
  {
   "cell_type": "markdown",
   "id": "0b062a9d",
   "metadata": {},
   "source": [
    "## Planck"
   ]
  },
  {
   "cell_type": "code",
   "execution_count": 57,
   "id": "ff1c2ae8",
   "metadata": {},
   "outputs": [],
   "source": [
    "folder = '/home/harry/Desktop/Planck/base/plikHM_TTTEEE_lowl_lowE/'\n",
    "\n",
    "c1 = np.loadtxt(folder + 'base_plikHM_TTTEEE_lowl_lowE_1.txt')\n",
    "c2 = np.loadtxt(folder + 'base_plikHM_TTTEEE_lowl_lowE_2.txt')\n",
    "c3 = np.loadtxt(folder + 'base_plikHM_TTTEEE_lowl_lowE_3.txt')\n",
    "c4 = np.loadtxt(folder + 'base_plikHM_TTTEEE_lowl_lowE_4.txt')\n",
    "\n",
    "s1 = np.array([c1[:,31], c1[:,36]]).T\n",
    "s2 = np.array([c2[:,31], c2[:,36]]).T\n",
    "s3 = np.array([c3[:,31], c3[:,36]]).T\n",
    "s4 = np.array([c4[:,31], c4[:,36]]).T\n",
    "\n",
    "samples_planck = np.concatenate([s1, s2, s3, s4])"
   ]
  },
  {
   "cell_type": "code",
   "execution_count": 59,
   "id": "0ec37307",
   "metadata": {},
   "outputs": [
    {
     "name": "stdout",
     "output_type": "stream",
     "text": [
      "Removed no burn in\n",
      "Removed no burn in\n"
     ]
    }
   ],
   "source": [
    "samples_1 = MCSamples(samples=samples_om_s8,names = names, labels = labels, settings = settings)\n",
    "samples_2 = MCSamples(samples=samples_planck,names = names, labels = labels, settings = settings)"
   ]
  },
  {
   "cell_type": "code",
   "execution_count": 60,
   "id": "f098ca02",
   "metadata": {},
   "outputs": [],
   "source": [
    "legend_labels_ = [r'DES Y1 ($3\\times2$) JAX Cosmo', 'Planck 2018']"
   ]
  },
  {
   "cell_type": "code",
   "execution_count": 66,
   "id": "cdbc1ad7",
   "metadata": {},
   "outputs": [
    {
     "data": {
      "image/png": "[encoded data removed]",
      "text/plain": [
       "<Figure size 500x500 with 1 Axes>"
      ]
     },
     "metadata": {},
     "output_type": "display_data"
    }
   ],
   "source": [
    "G = plots.getSinglePlotter(width_inch=5, ratio=1.0)\n",
    "G.settings.num_plot_contours = 2\n",
    "G.settings.lw_contour = 1.0\n",
    "G.settings.axes_fontsize = 15\n",
    "G.settings.lab_fontsize = 15\n",
    "G.settings.solid_contour_palefactor = 0.9\n",
    "G.settings.alpha_filled_add = 0.6\n",
    "G.settings.legend_fontsize = 10\n",
    "G.plot_2d([samples_1, samples_2], 'x0', 'x1', filled=[True, False], colors =['green', 'blue'], lims = [0.0, 0.5, 0.5, 1.0])\n",
    "G.add_legend(legend_labels_, legend_loc='lower right');\n",
    "plt.show()"
   ]
  },
  {
   "cell_type": "code",
   "execution_count": null,
   "id": "a8b7b376",
   "metadata": {},
   "outputs": [],
   "source": []
  }
 ],
 "metadata": {
  "kernelspec": {
   "display_name": "Python 3 (ipykernel)",
   "language": "python",
   "name": "python3"
  },
  "language_info": {
   "codemirror_mode": {
    "name": "ipython",
    "version": 3
   },
   "file_extension": ".py",
   "mimetype": "text/x-python",
   "name": "python",
   "nbconvert_exporter": "python",
   "pygments_lexer": "ipython3",
   "version": "3.9.0"
  }
 },
 "nbformat": 4,
 "nbformat_minor": 5
}
