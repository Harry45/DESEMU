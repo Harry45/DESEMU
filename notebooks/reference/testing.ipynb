{
 "cells": [
  {
   "cell_type": "code",
   "execution_count": 1,
   "id": "16d94cca-c7bc-4b75-8111-ce85263bbf54",
   "metadata": {},
   "outputs": [
    {
     "name": "stderr",
     "output_type": "stream",
     "text": [
      "/home/harry/anaconda3/envs/desemu/lib/python3.9/site-packages/tqdm/auto.py:21: TqdmWarning: IProgress not found. Please update jupyter and ipywidgets. See https://ipywidgets.readthedocs.io/en/stable/user_install.html\n",
      "  from .autonotebook import tqdm as notebook_tqdm\n"
     ]
    }
   ],
   "source": [
    "import numpy as np\n",
    "import matplotlib.pyplot as plt\n",
    "\n",
    "import jax\n",
    "import jax.numpy as jnp\n",
    "\n",
    "import numpyro\n",
    "from numpyro import distributions as dist, infer\n",
    "from numpyro.handlers import seed"
   ]
  },
  {
   "cell_type": "markdown",
   "id": "26dfca3e-ce57-4d77-91d7-fb2e27bba049",
   "metadata": {},
   "source": [
    "- https://github.com/pyro-ppl/numpyro/tree/master/examples\n",
    "- https://dfm.io/posts/intro-to-numpyro/\n",
    "- Check imputation method"
   ]
  },
  {
   "cell_type": "code",
   "execution_count": 2,
   "id": "a3a93756-5e44-4548-840a-32f68c97f120",
   "metadata": {},
   "outputs": [
    {
     "data": {
      "text/plain": [
       "'0.4.13'"
      ]
     },
     "execution_count": 2,
     "metadata": {},
     "output_type": "execute_result"
    }
   ],
   "source": [
    "jax.__version__"
   ]
  },
  {
   "cell_type": "code",
   "execution_count": 3,
   "id": "023f4aeb-ae41-47ca-ac44-a2bb8daa2e0a",
   "metadata": {},
   "outputs": [],
   "source": [
    "true_frac = 0.8\n",
    "\n",
    "# The linear model has unit slope and zero intercept:\n",
    "true_params = [1.0, 0.0]\n",
    "\n",
    "# The outliers are drawn from a Gaussian with zero mean and unit variance:\n",
    "true_outliers = [0.0, 1.0]\n",
    "\n",
    "# For reproducibility, let's set the random number seed and generate the data:\n",
    "np.random.seed(12)\n",
    "x = np.sort(np.random.uniform(-2, 2, 15))\n",
    "yerr = 0.2 * np.ones_like(x)\n",
    "y = true_params[0] * x + true_params[1] + yerr * np.random.randn(len(x))\n",
    "\n",
    "# Those points are all drawn from the correct model so let's replace some of\n",
    "# them with outliers.\n",
    "m_bkg = np.random.rand(len(x)) > true_frac\n",
    "y[m_bkg] = true_outliers[0]\n",
    "y[m_bkg] += np.sqrt(true_outliers[1] + yerr[m_bkg] ** 2) * np.random.randn(sum(m_bkg))\n",
    "\n",
    "# Then save the *true* line.\n",
    "x0 = np.linspace(-2.1, 2.1, 200)\n",
    "y0 = np.dot(np.vander(x0, 2), true_params)"
   ]
  },
  {
   "cell_type": "code",
   "execution_count": 41,
   "id": "21f81b13-42d4-4d35-be4a-3b5ab02aeb1c",
   "metadata": {},
   "outputs": [],
   "source": [
    "def linear_model(x, yerr, y=None):\n",
    "    # These are the parameters that we're fitting and we're required to define explicit\n",
    "    # priors using distributions from the numpyro.distributions module.\n",
    "    theta = numpyro.sample(\"theta\", dist.Uniform(-0.5 * jnp.pi, 0.5 * jnp.pi))\n",
    "    b_perp = numpyro.sample(\"b_perp\", dist.Normal(0, 1))\n",
    "\n",
    "    # Transformed parameters (and other things!) can be tracked during sampling using\n",
    "    # \"deterministics\" as follows:\n",
    "    m = numpyro.deterministic(\"m\", jnp.tan(theta))\n",
    "    b = numpyro.deterministic(\"b\", b_perp / jnp.cos(theta))\n",
    "\n",
    "    # filter nan \n",
    "        \n",
    "    isnan = jnp.isnan(y)\n",
    "    nanidx = jnp.nonzero(isnan)[0]\n",
    "    y = jnp.asarray(y).at[isnan].set(1000)\n",
    "    # Then we specify the sampling distribution for the data, or the likelihood function.\n",
    "    # Here we're using a numpyro.plate to indicate that the data are independent. This\n",
    "    # isn't actually necessary here and we could have equivalently omitted the plate since\n",
    "    # the Normal distribution can already handle vector-valued inputs. But, it's good to\n",
    "    # get into the habit of using plates because some inference algorithms or distributions\n",
    "    # can take advantage of knowing this structure.\n",
    "    with numpyro.plate(\"data\", len(x)):\n",
    "        samples = numpyro.sample(\"y\", dist.Normal(m * x + b, yerr), obs=y)\n",
    "    print(samples)\n",
    "    return samples"
   ]
  },
  {
   "cell_type": "code",
   "execution_count": 44,
   "id": "c6abd60f-b1dd-42e4-83b3-cb119fd33ce8",
   "metadata": {},
   "outputs": [],
   "source": [
    "y = jnp.asarray(y).at[-1].set(1.0)"
   ]
  },
  {
   "cell_type": "code",
   "execution_count": 45,
   "id": "02edfdd4-2f36-4259-8d19-61194beebe84",
   "metadata": {},
   "outputs": [
    {
     "name": "stdout",
     "output_type": "stream",
     "text": [
      "[]\n",
      "[-1.26513    -1.7183505  -0.5388688  -1.4683361  -0.03998567 -1.0690173\n",
      " -0.9345808  -0.00612578  0.2192333   1.3656585  -0.3919706   1.7774864\n",
      "  1.8571011   1.9864297   1.        ]\n"
     ]
    }
   ],
   "source": [
    "with seed(rng_seed=15):\n",
    "    testing = linear_model(x, yerr, y)"
   ]
  },
  {
   "cell_type": "code",
   "execution_count": 8,
   "id": "ffa646b4-d863-4473-8f01-978905694f1a",
   "metadata": {},
   "outputs": [],
   "source": [
    "sampler = infer.MCMC(\n",
    "    infer.NUTS(linear_model),\n",
    "    num_warmup=100,\n",
    "    num_samples=100,\n",
    "    num_chains=1,\n",
    "    progress_bar=True,\n",
    ")"
   ]
  },
  {
   "cell_type": "code",
   "execution_count": 9,
   "id": "74e69b49-471f-40b5-bbd2-7b53e5dcb9ca",
   "metadata": {},
   "outputs": [
    {
     "name": "stdout",
     "output_type": "stream",
     "text": [
      "[-1.26513002 -1.71835056 -0.53886879 -1.46833607 -0.03998567 -1.06901729\n",
      " -0.93458078 -0.00612578  0.21923331  1.36565853 -0.39197061  1.77748639\n",
      "  1.85710109  1.98642967  1.58986963]\n",
      "[-1.26513002 -1.71835056 -0.53886879 -1.46833607 -0.03998567 -1.06901729\n",
      " -0.93458078 -0.00612578  0.21923331  1.36565853 -0.39197061  1.77748639\n",
      "  1.85710109  1.98642967  1.58986963]\n"
     ]
    },
    {
     "name": "stderr",
     "output_type": "stream",
     "text": [
      "  0%|                                                                                                                                                       | 0/200 [00:00<?, ?it/s]"
     ]
    },
    {
     "name": "stdout",
     "output_type": "stream",
     "text": [
      "[-1.26513002 -1.71835056 -0.53886879 -1.46833607 -0.03998567 -1.06901729\n",
      " -0.93458078 -0.00612578  0.21923331  1.36565853 -0.39197061  1.77748639\n",
      "  1.85710109  1.98642967  1.58986963]\n"
     ]
    },
    {
     "name": "stderr",
     "output_type": "stream",
     "text": [
      "sample: 100%|██████████████████████████████████████████████████████████████████████████████████████████| 200/200 [00:01<00:00, 156.84it/s, 7 steps of size 8.45e-01. acc. prob=0.92]"
     ]
    },
    {
     "name": "stdout",
     "output_type": "stream",
     "text": [
      "[-1.26513002 -1.71835056 -0.53886879 -1.46833607 -0.03998567 -1.06901729\n",
      " -0.93458078 -0.00612578  0.21923331  1.36565853 -0.39197061  1.77748639\n",
      "  1.85710109  1.98642967  1.58986963]\n",
      "CPU times: user 2.44 s, sys: 34.5 ms, total: 2.48 s\n",
      "Wall time: 2.46 s\n"
     ]
    },
    {
     "name": "stderr",
     "output_type": "stream",
     "text": [
      "\n"
     ]
    }
   ],
   "source": [
    "%time sampler.run(jax.random.PRNGKey(0), x, yerr, y=y)"
   ]
  },
  {
   "cell_type": "code",
   "execution_count": 10,
   "id": "1cf325d9-2abb-461f-bcdd-f60e19fc62dd",
   "metadata": {},
   "outputs": [
    {
     "data": {
      "text/plain": [
       "{'b': Array([0.19321087, 0.11051232, 0.1303351 , 0.09984763, 0.1311001 ,\n",
       "        0.09537995, 0.09537995, 0.09797271, 0.13073991, 0.05498868,\n",
       "        0.18083394, 0.07032708, 0.1678519 , 0.08739278, 0.07167584,\n",
       "        0.13554436, 0.10206417, 0.12331628, 0.08453617, 0.08792339,\n",
       "        0.08380423, 0.15920007, 0.1251351 , 0.15731004, 0.0510047 ,\n",
       "        0.19470648, 0.14997862, 0.12658292, 0.05896591, 0.15566877,\n",
       "        0.08477577, 0.09539074, 0.09618109, 0.14522313, 0.11880869,\n",
       "        0.15404525, 0.18958052, 0.02545352, 0.12718353, 0.16434951,\n",
       "        0.13340482, 0.10969486, 0.10690323, 0.1594108 , 0.17310472,\n",
       "        0.17958575, 0.11810824, 0.11810824, 0.01856358, 0.01076789,\n",
       "        0.15431204, 0.16992623, 0.07489697, 0.07409239, 0.01781133,\n",
       "        0.14722526, 0.11527144, 0.09242926, 0.14661925, 0.2711162 ,\n",
       "        0.06181287, 0.18632114, 0.16489294, 0.02995745, 0.16761327,\n",
       "        0.08059081, 0.04307056, 0.20465752, 0.23279019, 0.16811176,\n",
       "        0.08122335, 0.09703864, 0.133247  , 0.1367595 , 0.1195373 ,\n",
       "        0.0418318 , 0.11763662, 0.10203025, 0.11060279, 0.15714492,\n",
       "        0.09217507, 0.02661826, 0.11665937, 0.1863353 , 0.16497661,\n",
       "        0.04918526, 0.19528414, 0.09983212, 0.10443208, 0.15339717,\n",
       "        0.072714  , 0.17368412, 0.09070066, 0.1811717 , 0.09897829,\n",
       "        0.16269703, 0.14845467, 0.1583918 , 0.1154431 , 0.13576895],      dtype=float32),\n",
       " 'b_perp': Array([0.15198183, 0.08783167, 0.10056323, 0.07788637, 0.10401721,\n",
       "        0.07600718, 0.07600718, 0.0776924 , 0.10249285, 0.04428167,\n",
       "        0.13983178, 0.05744375, 0.13134992, 0.0707451 , 0.05634763,\n",
       "        0.10830951, 0.08250393, 0.09934789, 0.06730715, 0.06871197,\n",
       "        0.06826168, 0.12728125, 0.10195018, 0.12303551, 0.04093697,\n",
       "        0.15462643, 0.11974694, 0.10113462, 0.04645712, 0.12336453,\n",
       "        0.06822718, 0.07569445, 0.07719667, 0.11533736, 0.09119666,\n",
       "        0.11995112, 0.15080796, 0.02052639, 0.10381519, 0.13148497,\n",
       "        0.10542505, 0.0867091 , 0.08474606, 0.12761924, 0.13586578,\n",
       "        0.14266066, 0.09326862, 0.09326862, 0.01515197, 0.00881207,\n",
       "        0.11966218, 0.13494213, 0.0602102 , 0.05950818, 0.01400697,\n",
       "        0.11918779, 0.09083966, 0.07282965, 0.1156408 , 0.21557328,\n",
       "        0.05085807, 0.14307208, 0.13244538, 0.02417879, 0.13301876,\n",
       "        0.06460021, 0.03398846, 0.16313419, 0.18562536, 0.13032945,\n",
       "        0.06619731, 0.07706179, 0.10594482, 0.10943709, 0.09459246,\n",
       "        0.03292714, 0.09525257, 0.08238775, 0.08918454, 0.12314358,\n",
       "        0.07214738, 0.02106836, 0.09354696, 0.15276662, 0.13134374,\n",
       "        0.03871245, 0.1567641 , 0.07746463, 0.08322773, 0.11994695,\n",
       "        0.0597147 , 0.13742816, 0.07258273, 0.14133856, 0.07932901,\n",
       "        0.13232864, 0.11787239, 0.12532352, 0.09145287, 0.11009283],      dtype=float32),\n",
       " 'm': Array([0.78494775, 0.76363546, 0.8244689 , 0.8021442 , 0.7671576 ,\n",
       "        0.75810665, 0.75810665, 0.76824814, 0.7919318 , 0.73624116,\n",
       "        0.82001877, 0.7062967 , 0.79562885, 0.72526807, 0.7861671 ,\n",
       "        0.7524206 , 0.7282673 , 0.7353363 , 0.7599182 , 0.7983479 ,\n",
       "        0.7121969 , 0.7512891 , 0.71172005, 0.7967134 , 0.7432009 ,\n",
       "        0.76524436, 0.75409794, 0.7527101 , 0.7816694 , 0.7696042 ,\n",
       "        0.7375186 , 0.76689243, 0.74318504, 0.7650968 , 0.8349982 ,\n",
       "        0.805764  , 0.7617725 , 0.7332777 , 0.7077139 , 0.74991506,\n",
       "        0.77539426, 0.77488977, 0.76893806, 0.74852014, 0.7894908 ,\n",
       "        0.7646288 , 0.7769009 , 0.7769009 , 0.7078249 , 0.702251  ,\n",
       "        0.8142331 , 0.76532155, 0.7398305 , 0.7417696 , 0.78547984,\n",
       "        0.72512925, 0.78118294, 0.78144413, 0.77944374, 0.76268524,\n",
       "        0.69079393, 0.8342396 , 0.74161696, 0.73151404, 0.7666697 ,\n",
       "        0.74587876, 0.77834743, 0.75753397, 0.75679064, 0.81476265,\n",
       "        0.71098626, 0.7652869 , 0.7627673 , 0.7494386 , 0.7726314 ,\n",
       "        0.783585  , 0.7247185 , 0.7305289 , 0.7334769 , 0.7927549 ,\n",
       "        0.79513973, 0.7721647 , 0.74510217, 0.69839925, 0.76006967,\n",
       "        0.78373605, 0.74284446, 0.8129344 , 0.75793153, 0.79719627,\n",
       "        0.6948159 , 0.77280957, 0.7493625 , 0.8019244 , 0.7461496 ,\n",
       "        0.7152979 , 0.76565033, 0.77288467, 0.7703639 , 0.72169065],      dtype=float32),\n",
       " 'theta': Array([0.6654951 , 0.65217084, 0.68948394, 0.676047  , 0.6543919 ,\n",
       "        0.64866924, 0.64866924, 0.655078  , 0.6698019 , 0.6346372 ,\n",
       "        0.68682885, 0.61493945, 0.6720699 , 0.6274839 , 0.66624916,\n",
       "        0.6450485 , 0.6294465 , 0.63405013, 0.6498186 , 0.67373276,\n",
       "        0.618865  , 0.6443257 , 0.6185486 , 0.6727337 , 0.6391354 ,\n",
       "        0.6531863 , 0.64611864, 0.64523333, 0.66346335, 0.65593016,\n",
       "        0.635465  , 0.6542249 , 0.6391253 , 0.6530933 , 0.69572   ,\n",
       "        0.6782457 , 0.65099305, 0.6327126 , 0.6158843 , 0.64344674,\n",
       "        0.6595563 , 0.6592412 , 0.6555117 , 0.6425533 , 0.6683    ,\n",
       "        0.652798  , 0.66049653, 0.66049653, 0.6159583 , 0.6122351 ,\n",
       "        0.6833596 , 0.653235  , 0.6369608 , 0.6382128 , 0.6658243 ,\n",
       "        0.6273929 , 0.66316134, 0.6633235 , 0.66208035, 0.6515703 ,\n",
       "        0.6045206 , 0.69527286, 0.63811433, 0.63156474, 0.6540846 ,\n",
       "        0.6408583 , 0.661398  , 0.6483054 , 0.64783293, 0.683678  ,\n",
       "        0.6180613 , 0.65321314, 0.65162224, 0.6431417 , 0.65782857,\n",
       "        0.66465133, 0.62712365, 0.6309227 , 0.6328422 , 0.6703075 ,\n",
       "        0.67177033, 0.65753627, 0.6403591 , 0.60965085, 0.6499146 ,\n",
       "        0.6647449 , 0.6389058 , 0.6825782 , 0.648558  , 0.673029  ,\n",
       "        0.60723823, 0.65794015, 0.643093  , 0.6759133 , 0.6410323 ,\n",
       "        0.62091935, 0.6534423 , 0.6579871 , 0.6564071 , 0.6251356 ],      dtype=float32)}"
      ]
     },
     "execution_count": 10,
     "metadata": {},
     "output_type": "execute_result"
    }
   ],
   "source": [
    "sampler.get_samples()"
   ]
  },
  {
   "cell_type": "code",
   "execution_count": 16,
   "id": "e2de3355-179a-45a9-bc58-20a33ae2a4c0",
   "metadata": {},
   "outputs": [],
   "source": [
    "cov = np.random.randn(4, 4)"
   ]
  },
  {
   "cell_type": "code",
   "execution_count": 17,
   "id": "0a93d597-f7de-4d03-8993-fdb6d9e278b5",
   "metadata": {},
   "outputs": [],
   "source": [
    "cov = cov @ cov.T"
   ]
  },
  {
   "cell_type": "code",
   "execution_count": 18,
   "id": "814f3185-a988-4d15-a2e4-9748530b445e",
   "metadata": {},
   "outputs": [],
   "source": [
    "cov = jnp.asarray(cov)"
   ]
  },
  {
   "cell_type": "code",
   "execution_count": 23,
   "id": "b7045d02-5945-49e6-bf4f-88f180e527a1",
   "metadata": {},
   "outputs": [],
   "source": [
    "chol = jnp.linalg.cholesky(cov)"
   ]
  },
  {
   "cell_type": "code",
   "execution_count": 27,
   "id": "217677aa-18ac-467a-91e5-1ecc1ea7972d",
   "metadata": {},
   "outputs": [],
   "source": [
    "mvn = dist.MultivariateNormal(loc = jnp.ones(4), scale_tril=chol)"
   ]
  },
  {
   "cell_type": "code",
   "execution_count": 28,
   "id": "79e6d03b-e46e-4e3f-8aca-1c400befd0de",
   "metadata": {},
   "outputs": [
    {
     "data": {
      "text/plain": [
       "Array([[ 1.052786  , -1.7269607 ,  4.177167  ,  4.322926  ],\n",
       "       [ 1.2105322 ,  2.2195706 , -2.5608053 ,  0.15977508],\n",
       "       [ 1.4913502 , -1.1971645 , -1.199831  , -1.7133994 ],\n",
       "       [ 0.9804101 ,  3.5195224 ,  0.90743124,  4.1972857 ],\n",
       "       [ 0.7316028 , -0.25510836, -2.6458333 ,  0.10257113],\n",
       "       [ 1.12325   ,  1.5281603 , -0.13747454,  0.43736088],\n",
       "       [ 0.22649306,  0.1536848 , -2.1526842 ,  0.61269164],\n",
       "       [ 0.748422  ,  1.4179997 ,  4.3404984 ,  4.62397   ],\n",
       "       [ 2.6816187 ,  4.3796167 ,  7.195057  ,  0.9375721 ],\n",
       "       [-0.33204806, -0.04597795,  1.4204223 ,  1.6626201 ]],      dtype=float32)"
      ]
     },
     "execution_count": 28,
     "metadata": {},
     "output_type": "execute_result"
    }
   ],
   "source": [
    "mvn.sample(jax.random.PRNGKey(0), sample_shape=(10,))"
   ]
  },
  {
   "cell_type": "code",
   "execution_count": 60,
   "id": "c8095f9c-51a2-40b9-a707-1a98d28092c0",
   "metadata": {},
   "outputs": [],
   "source": [
    "@jax.jit\n",
    "def func(x):\n",
    "    isnan = jnp.isnan(x)\n",
    "    return jnp.where(~isnan, x, 1000.0)"
   ]
  },
  {
   "cell_type": "code",
   "execution_count": 61,
   "id": "736e31e8-773b-40d9-9fa1-af09081cc6fd",
   "metadata": {},
   "outputs": [],
   "source": [
    "testpoint = jnp.array([0.0, 1.0, jnp.nan])"
   ]
  },
  {
   "cell_type": "code",
   "execution_count": 70,
   "id": "f2e17956-8f5a-4ce2-8443-b2b27d458374",
   "metadata": {},
   "outputs": [
    {
     "data": {
      "text/plain": [
       "Array([ True,  True, False], dtype=bool)"
      ]
     },
     "execution_count": 70,
     "metadata": {},
     "output_type": "execute_result"
    }
   ],
   "source": [
    "~jnp.isnan(testpoint)"
   ]
  },
  {
   "cell_type": "code",
   "execution_count": 69,
   "id": "c8cd07b2-ff29-4ade-8ea6-2ffb3cee603f",
   "metadata": {},
   "outputs": [
    {
     "data": {
      "text/plain": [
       "Array([  0.,   1., 100.], dtype=float32)"
      ]
     },
     "execution_count": 69,
     "metadata": {},
     "output_type": "execute_result"
    }
   ],
   "source": [
    "jnp.where(~jnp.isnan(testpoint), x=testpoint, y=100.0)"
   ]
  },
  {
   "cell_type": "code",
   "execution_count": 63,
   "id": "df6dd05d-25a5-4c3f-94d6-119541cca4fb",
   "metadata": {},
   "outputs": [
    {
     "data": {
      "text/plain": [
       "Array([   0.,    1., 1000.], dtype=float32)"
      ]
     },
     "execution_count": 63,
     "metadata": {},
     "output_type": "execute_result"
    }
   ],
   "source": [
    "func(testpoint)"
   ]
  },
  {
   "cell_type": "code",
   "execution_count": 74,
   "id": "ae0b4252-a9d7-427b-8e46-fa090162f0cc",
   "metadata": {},
   "outputs": [],
   "source": [
    "cond = ~jnp.isnan(testpoint)"
   ]
  },
  {
   "cell_type": "code",
   "execution_count": 75,
   "id": "db63beaa-6560-47c7-b5fd-47e22454964d",
   "metadata": {},
   "outputs": [
    {
     "data": {
      "text/plain": [
       "Array([ True,  True, False], dtype=bool)"
      ]
     },
     "execution_count": 75,
     "metadata": {},
     "output_type": "execute_result"
    }
   ],
   "source": [
    "cond"
   ]
  },
  {
   "cell_type": "code",
   "execution_count": 78,
   "id": "eebc56d2-81ee-4b3b-bd24-f38d4d96edb7",
   "metadata": {},
   "outputs": [],
   "source": [
    "x = np.hstack([np.array([np.nan]*4), np.random.randn(6)*2+5])"
   ]
  },
  {
   "cell_type": "code",
   "execution_count": 79,
   "id": "42912286-e679-4cbc-b356-aee3e2adae44",
   "metadata": {},
   "outputs": [
    {
     "data": {
      "text/plain": [
       "array([       nan,        nan,        nan,        nan, 7.00188552,\n",
       "       4.89717001, 5.3195754 , 3.56747283, 5.10104565, 4.71332517])"
      ]
     },
     "execution_count": 79,
     "metadata": {},
     "output_type": "execute_result"
    }
   ],
   "source": [
    "x"
   ]
  },
  {
   "cell_type": "code",
   "execution_count": 85,
   "id": "90e91ee6-3102-400a-945a-76e18d99dcf4",
   "metadata": {},
   "outputs": [],
   "source": [
    "def model2b(x):\n",
    "    x_impute = numpyro.sample(\"x_impute\", dist.Normal(0, 1).expand([4]).mask(False))\n",
    "    print(x_impute)\n",
    "    x_imputed = jnp.concatenate([x_impute, x[4:]])\n",
    "    x_sample = numpyro.sample(\"x\", dist.Normal(0, 1), obs=x_imputed)\n",
    "    print(x_sample)"
   ]
  },
  {
   "cell_type": "code",
   "execution_count": 87,
   "id": "b7d1f5a0-6bb8-4114-9754-6da31ae38194",
   "metadata": {},
   "outputs": [
    {
     "name": "stdout",
     "output_type": "stream",
     "text": [
      "[ 0.47754705 -0.52989805  2.4254878   0.7563164 ]\n",
      "[ 0.47754705 -0.52989805  2.4254878   0.7563164   7.0018854   4.89717\n",
      "  5.3195753   3.567473    5.1010456   4.713325  ]\n"
     ]
    }
   ],
   "source": [
    "with seed(rng_seed=10):\n",
    "    testing = model2b(x)"
   ]
  },
  {
   "cell_type": "code",
   "execution_count": 113,
   "id": "d85377ac-c3fa-4b37-85a1-8d6ed93560fc",
   "metadata": {},
   "outputs": [],
   "source": [
    "s = jnp.array([1.5, jnp.nan, 2.0])\n",
    "u = np.random.randn(3,3)\n",
    "u = u @ u.T"
   ]
  },
  {
   "cell_type": "code",
   "execution_count": 114,
   "id": "7eafd8da-bb5a-4f4b-848a-89f7e8a1f842",
   "metadata": {},
   "outputs": [
    {
     "data": {
      "text/plain": [
       "Array([5.1863756 +0.j, 0.09253304+0.j, 1.321759  +0.j], dtype=complex64)"
      ]
     },
     "execution_count": 114,
     "metadata": {},
     "output_type": "execute_result"
    }
   ],
   "source": [
    "jnp.linalg.eigvals(u)"
   ]
  },
  {
   "cell_type": "code",
   "execution_count": 115,
   "id": "4f3479cc-b7b6-4b49-ad22-f14997a2827d",
   "metadata": {},
   "outputs": [],
   "source": [
    "discard = jnp.isnan(s)"
   ]
  },
  {
   "cell_type": "code",
   "execution_count": 116,
   "id": "73caf5a4-b53a-4fb5-bfdf-25f7d8e469c2",
   "metadata": {},
   "outputs": [],
   "source": [
    "u = jnp.where(discard, 0, u)"
   ]
  },
  {
   "cell_type": "code",
   "execution_count": 117,
   "id": "dc978aeb-3aed-4cd2-b303-96fc431ea573",
   "metadata": {},
   "outputs": [],
   "source": [
    "u = jnp.where(discard[:,None], 0, u)"
   ]
  },
  {
   "cell_type": "code",
   "execution_count": 118,
   "id": "cd69ae02-eff8-4736-b0ae-75c5c0140f74",
   "metadata": {},
   "outputs": [
    {
     "data": {
      "text/plain": [
       "Array([1.5, 0. , 2. ], dtype=float32)"
      ]
     },
     "execution_count": 118,
     "metadata": {},
     "output_type": "execute_result"
    }
   ],
   "source": [
    "jnp.where(discard, 0, s)"
   ]
  },
  {
   "cell_type": "code",
   "execution_count": 119,
   "id": "a69dce1b-7ba7-4f23-8251-b5dc9b22d9f5",
   "metadata": {},
   "outputs": [
    {
     "data": {
      "text/plain": [
       "Array([[ 1.0252076 ,  0.        , -0.97729826],\n",
       "       [ 0.        ,  0.        ,  0.        ],\n",
       "       [-0.97729826,  0.        ,  4.7572317 ]], dtype=float32)"
      ]
     },
     "execution_count": 119,
     "metadata": {},
     "output_type": "execute_result"
    }
   ],
   "source": [
    "u"
   ]
  },
  {
   "cell_type": "code",
   "execution_count": 120,
   "id": "db9f0649-06bf-436e-933f-f2238b65f864",
   "metadata": {},
   "outputs": [
    {
     "data": {
      "text/plain": [
       "Array([0.78477407+0.j, 4.9976654 +0.j, 0.        +0.j], dtype=complex64)"
      ]
     },
     "execution_count": 120,
     "metadata": {},
     "output_type": "execute_result"
    }
   ],
   "source": [
    "jnp.linalg.eigvals(u)"
   ]
  },
  {
   "cell_type": "code",
   "execution_count": null,
   "id": "c46d2821-45b2-4b16-a28f-d0f65b0d1caa",
   "metadata": {},
   "outputs": [],
   "source": []
  }
 ],
 "metadata": {
  "kernelspec": {
   "display_name": "Python 3 (ipykernel)",
   "language": "python",
   "name": "python3"
  },
  "language_info": {
   "codemirror_mode": {
    "name": "ipython",
    "version": 3
   },
   "file_extension": ".py",
   "mimetype": "text/x-python",
   "name": "python",
   "nbconvert_exporter": "python",
   "pygments_lexer": "ipython3",
   "version": "3.9.0"
  }
 },
 "nbformat": 4,
 "nbformat_minor": 5
}
