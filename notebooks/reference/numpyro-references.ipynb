{
 "cells": [
  {
   "cell_type": "code",
   "execution_count": 1,
   "id": "16d94cca-c7bc-4b75-8111-ce85263bbf54",
   "metadata": {},
   "outputs": [],
   "source": [
    "import numpy as np\n",
    "import matplotlib.pyplot as plt\n",
    "\n",
    "import jax\n",
    "import jax.numpy as jnp\n",
    "\n",
    "import numpyro\n",
    "from numpyro import distributions as dist, infer\n",
    "from numpyro.handlers import seed"
   ]
  },
  {
   "cell_type": "markdown",
   "id": "26dfca3e-ce57-4d77-91d7-fb2e27bba049",
   "metadata": {},
   "source": [
    "- https://github.com/pyro-ppl/numpyro/tree/master/examples\n",
    "- https://dfm.io/posts/intro-to-numpyro/\n",
    "- Check imputation method\n",
    "- https://jrnold.github.io/bayesian_notes/mcmc-diagnostics.html\n",
    "- https://mc-stan.org/docs/2_19/reference-manual/effective-sample-size-section.html"
   ]
  },
  {
   "cell_type": "code",
   "execution_count": 2,
   "id": "023f4aeb-ae41-47ca-ac44-a2bb8daa2e0a",
   "metadata": {},
   "outputs": [],
   "source": [
    "# We'll choose the parameters of our synthetic data.\n",
    "# The outlier probability will be 80%:\n",
    "true_frac = 0.8\n",
    "\n",
    "# The linear model has unit slope and zero intercept:\n",
    "true_params = [1.0, 0.0]\n",
    "\n",
    "# The outliers are drawn from a Gaussian with zero mean and unit variance:\n",
    "true_outliers = [0.0, 1.0]\n",
    "\n",
    "# For reproducibility, let's set the random number seed and generate the data:\n",
    "np.random.seed(12)\n",
    "x = np.sort(np.random.uniform(-2, 2, 15))\n",
    "yerr = 0.2 * np.ones_like(x)\n",
    "y = true_params[0] * x + true_params[1] + yerr * np.random.randn(len(x))\n",
    "\n",
    "# Those points are all drawn from the correct model so let's replace some of\n",
    "# them with outliers.\n",
    "m_bkg = np.random.rand(len(x)) > true_frac\n",
    "y[m_bkg] = true_outliers[0]\n",
    "y[m_bkg] += np.sqrt(true_outliers[1] + yerr[m_bkg] ** 2) * np.random.randn(sum(m_bkg))\n",
    "\n",
    "# Then save the *true* line.\n",
    "x0 = np.linspace(-2.1, 2.1, 200)\n",
    "y0 = np.dot(np.vander(x0, 2), true_params)\n"
   ]
  },
  {
   "cell_type": "code",
   "execution_count": 3,
   "id": "21f81b13-42d4-4d35-be4a-3b5ab02aeb1c",
   "metadata": {},
   "outputs": [],
   "source": [
    "def linear_model(x, yerr, y=None):\n",
    "    # These are the parameters that we're fitting and we're required to define explicit\n",
    "    # priors using distributions from the numpyro.distributions module.\n",
    "    theta = numpyro.sample(\"theta\", dist.Uniform(-0.5 * jnp.pi, 0.5 * jnp.pi))\n",
    "    b_perp = numpyro.sample(\"b_perp\", dist.Normal(0, 1))\n",
    "\n",
    "    # Transformed parameters (and other things!) can be tracked during sampling using\n",
    "    # \"deterministics\" as follows:\n",
    "    m = numpyro.deterministic(\"m\", jnp.tan(theta))\n",
    "    b = numpyro.deterministic(\"b\", b_perp / jnp.cos(theta))\n",
    "\n",
    "    # Then we specify the sampling distribution for the data, or the likelihood function.\n",
    "    # Here we're using a numpyro.plate to indicate that the data are independent. This\n",
    "    # isn't actually necessary here and we could have equivalently omitted the plate since\n",
    "    # the Normal distribution can already handle vector-valued inputs. But, it's good to\n",
    "    # get into the habit of using plates because some inference algorithms or distributions\n",
    "    # can take advantage of knowing this structure.\n",
    "    with numpyro.plate(\"data\", len(x)):\n",
    "        numpyro.sample(\"y\", dist.Normal(m * x + b, yerr), obs=y)"
   ]
  },
  {
   "cell_type": "code",
   "execution_count": 4,
   "id": "c46d2821-45b2-4b16-a28f-d0f65b0d1caa",
   "metadata": {},
   "outputs": [
    {
     "name": "stderr",
     "output_type": "stream",
     "text": [
      "No GPU/TPU found, falling back to CPU. (Set TF_CPP_MIN_LOG_LEVEL=0 and rerun for more info.)\n",
      "/tmp/ipykernel_3005706/301000432.py:1: UserWarning: There are not enough devices to run parallel chains: expected 2 but got 1. Chains will be drawn sequentially. If you are running MCMC in CPU, consider using `numpyro.set_host_device_count(2)` at the beginning of your program. You can double-check how many devices are available in your system using `jax.local_device_count()`.\n",
      "  sampler = infer.MCMC(\n"
     ]
    }
   ],
   "source": [
    "sampler = infer.MCMC(\n",
    "    infer.NUTS(linear_model),\n",
    "    num_warmup=2000,\n",
    "    num_samples=2000,\n",
    "    num_chains=2,\n",
    "    progress_bar=True,\n",
    ")"
   ]
  },
  {
   "cell_type": "code",
   "execution_count": 5,
   "id": "5be070e7-1884-483c-a56d-621c77c6f59c",
   "metadata": {},
   "outputs": [
    {
     "name": "stderr",
     "output_type": "stream",
     "text": [
      "sample: 100%|███████████████████████████████████████████████████████████████████████████| 4000/4000 [00:01<00:00, 2001.05it/s, 3 steps of size 9.33e-01. acc. prob=0.91]\n",
      "sample: 100%|███████████████████████████████████████████████████████████████████████████| 4000/4000 [00:00<00:00, 5516.80it/s, 3 steps of size 8.96e-01. acc. prob=0.92]\n"
     ]
    },
    {
     "name": "stdout",
     "output_type": "stream",
     "text": [
      "CPU times: user 4.2 s, sys: 49.9 ms, total: 4.25 s\n",
      "Wall time: 4.23 s\n"
     ]
    }
   ],
   "source": [
    "%time sampler.run(jax.random.PRNGKey(0), x, yerr, y=y, extra_fields=('potential_energy', 'num_steps'))"
   ]
  },
  {
   "cell_type": "code",
   "execution_count": 6,
   "id": "be655265-7dc7-4e82-8921-26e0cfb016e6",
   "metadata": {},
   "outputs": [
    {
     "name": "stdout",
     "output_type": "stream",
     "text": [
      "\n",
      "                mean       std    median      5.0%     95.0%     n_eff     r_hat\n",
      "    b_perp      0.10      0.04      0.10      0.03      0.17   3946.07      1.00\n",
      "     theta      0.65      0.02      0.65      0.61      0.69   3224.38      1.00\n",
      "\n",
      "Number of divergences: 0\n"
     ]
    }
   ],
   "source": [
    "sampler.print_summary()"
   ]
  },
  {
   "cell_type": "code",
   "execution_count": 7,
   "id": "04739f08-6b43-41ca-bfae-395a75d683e9",
   "metadata": {},
   "outputs": [
    {
     "data": {
      "text/plain": [
       "{'b': Array([0.06753219, 0.15629883, 0.14952852, ..., 0.09567709, 0.11458827,\n",
       "        0.15024549], dtype=float32),\n",
       " 'b_perp': Array([0.05319173, 0.12351318, 0.11815203, ..., 0.07576108, 0.08877319,\n",
       "        0.11912037], dtype=float32),\n",
       " 'm': Array([0.78222936, 0.7754641 , 0.77565634, ..., 0.771274  , 0.81618613,\n",
       "        0.76867133], dtype=float32),\n",
       " 'theta': Array([0.6638109 , 0.65959996, 0.65972   , ..., 0.656978  , 0.68453294,\n",
       "        0.65534407], dtype=float32)}"
      ]
     },
     "execution_count": 7,
     "metadata": {},
     "output_type": "execute_result"
    }
   ],
   "source": [
    "sampler.get_samples()"
   ]
  },
  {
   "cell_type": "code",
   "execution_count": 14,
   "id": "8ebbe0fa-422a-4e45-8c5a-e71b31a8be9f",
   "metadata": {},
   "outputs": [
    {
     "data": {
      "text/plain": [
       "Array(14512, dtype=int32)"
      ]
     },
     "execution_count": 14,
     "metadata": {},
     "output_type": "execute_result"
    }
   ],
   "source": [
    "sum(sampler.get_extra_fields(group_by_chain=True)['num_steps'][1]) + sum(sampler.get_extra_fields(group_by_chain=True)['num_steps'][0])"
   ]
  },
  {
   "cell_type": "code",
   "execution_count": 16,
   "id": "53ee0820-dcc1-477d-8c25-4f4223b79a13",
   "metadata": {},
   "outputs": [
    {
     "name": "stdout",
     "output_type": "stream",
     "text": [
      "\n",
      "                mean       std    median      5.0%     95.0%     n_eff     r_hat\n",
      "    b_perp      0.10      0.04      0.10      0.03      0.17   3946.07      1.00\n",
      "     theta      0.65      0.02      0.65      0.61      0.69   3224.38      1.00\n",
      "\n",
      "Number of divergences: 0\n"
     ]
    }
   ],
   "source": [
    "summary = sampler.print_summary()"
   ]
  },
  {
   "cell_type": "code",
   "execution_count": 23,
   "id": "ddba70bc-2016-4b40-8064-296929fbe15b",
   "metadata": {},
   "outputs": [
    {
     "data": {
      "text/plain": [
       "0.22218741145820028"
      ]
     },
     "execution_count": 23,
     "metadata": {},
     "output_type": "execute_result"
    }
   ],
   "source": [
    " 3224.3837150814024 / 14512"
   ]
  },
  {
   "cell_type": "code",
   "execution_count": 24,
   "id": "0d7d744f-ff50-4f1c-bcb4-3e00de9c12b3",
   "metadata": {},
   "outputs": [
    {
     "data": {
      "text/plain": [
       "0.27191772326350605"
      ]
     },
     "execution_count": 24,
     "metadata": {},
     "output_type": "execute_result"
    }
   ],
   "source": [
    "3946.07 / 14512"
   ]
  },
  {
   "cell_type": "code",
   "execution_count": null,
   "id": "6b17c793-b133-434a-a100-a00d1184481c",
   "metadata": {},
   "outputs": [],
   "source": []
  }
 ],
 "metadata": {
  "kernelspec": {
   "display_name": "Python 3 (ipykernel)",
   "language": "python",
   "name": "python3"
  },
  "language_info": {
   "codemirror_mode": {
    "name": "ipython",
    "version": 3
   },
   "file_extension": ".py",
   "mimetype": "text/x-python",
   "name": "python",
   "nbconvert_exporter": "python",
   "pygments_lexer": "ipython3",
   "version": "3.9.0"
  }
 },
 "nbformat": 4,
 "nbformat_minor": 5
}
