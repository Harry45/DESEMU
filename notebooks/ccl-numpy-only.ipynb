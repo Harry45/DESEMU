{
 "cells": [
  {
   "cell_type": "code",
   "execution_count": 19,
   "id": "a5431b30",
   "metadata": {},
   "outputs": [],
   "source": [
    "import sacc\n",
    "import emcee\n",
    "import matplotlib.pylab as plt \n",
    "import numpy as np\n",
    "import pyccl as ccl\n",
    "import jax.numpy as jnp"
   ]
  },
  {
   "cell_type": "code",
   "execution_count": 3,
   "id": "0997e966",
   "metadata": {},
   "outputs": [
    {
     "name": "stderr",
     "output_type": "stream",
     "text": [
      "No GPU/TPU found, falling back to CPU. (Set TF_CPP_MIN_LOG_LEVEL=0 and rerun for more info.)\n"
     ]
    }
   ],
   "source": [
    "import jax_cosmo as jc "
   ]
  },
  {
   "cell_type": "code",
   "execution_count": 2,
   "id": "5069ae44",
   "metadata": {},
   "outputs": [],
   "source": [
    "def ccl_get_nz(sfile, tracertype=\"wl\"):\n",
    "    tracers_names = list(sfile.tracers.keys())\n",
    "\n",
    "    if tracertype == \"wl\":\n",
    "        tname = \"DESwl__\"\n",
    "    else:\n",
    "        tname = \"DESgc__\"\n",
    "    nbin = sum([tname in tracers_names[i] for i in range(len(tracers_names))])\n",
    "\n",
    "    nz_distributions = list()\n",
    "    for i in range(nbin):\n",
    "        name = tname + str(i)\n",
    "        distribution = sfile.tracers[name]\n",
    "        \n",
    "        z_dist = (distribution.z, distribution.nz)\n",
    "        nz_distributions.append(jaxred)\n",
    "\n",
    "    return nz_distributions\n",
    "\n",
    "\n",
    "def calculate_lmax_gc(sfile, kmax):\n",
    "    tracers_names = list(sfile.tracers.keys())\n",
    "    nbin_gc = sum([\"DESgc__\" in tracers_names[i] for i in range(len(tracers_names))])\n",
    "    vanillacosmo = jc.Planck15()\n",
    "    lmaxs = list()\n",
    "    for i in range(nbin_gc):\n",
    "        tracer = sfile.tracers[f\"DESgc__{i}\"]\n",
    "        zmid = jnp.average(jnp.asarray(tracer.z), weights=jnp.asarray(tracer.nz))\n",
    "        chi = jc.background.radial_comoving_distance(vanillacosmo, 1.0 / (1.0 + zmid))\n",
    "        minmax = jnp.concatenate([10.0 * jnp.ones(1), kmax * chi - 0.5], dtype=int)\n",
    "        lmax = jnp.max(minmax)\n",
    "        lmaxs.append(lmax)\n",
    "    return lmaxs\n",
    "\n",
    "def scale_cuts(sfile, kmax=0.15, lmin_wl=30, lmax_wl=2000):\n",
    "    # First we remove all B-modes\n",
    "    sfile.remove_selection(data_type=\"cl_bb\")\n",
    "    sfile.remove_selection(data_type=\"cl_be\")\n",
    "    sfile.remove_selection(data_type=\"cl_eb\")\n",
    "    sfile.remove_selection(data_type=\"cl_0b\")\n",
    "\n",
    "    tracers_names = list(sfile.tracers.keys())\n",
    "    nbin_gc = sum([\"DESgc__\" in tracers_names[i] for i in range(len(tracers_names))])\n",
    "    nbin_wl = sum([\"DESwl__\" in tracers_names[i] for i in range(len(tracers_names))])\n",
    "    lmaxs_gc = calculate_lmax_gc(sfile, kmax)\n",
    "\n",
    "    for i, lmax in enumerate(lmaxs_gc):\n",
    "        print(f\"Maximum ell is {lmax}\")\n",
    "        tname_1 = f\"DESgc__{i}\"\n",
    "\n",
    "        # Remove from galaxy clustering\n",
    "        sfile.remove_selection(\n",
    "            data_type=\"cl_00\", tracers=(tname_1, tname_1), ell__gt=lmax\n",
    "        )\n",
    "\n",
    "        # Remove from galaxy-galaxy lensing\n",
    "        for j in range(nbin_wl):\n",
    "            tname_2 = f\"DESwl__{j}\"\n",
    "            sfile.remove_selection(\n",
    "                data_type=\"cl_0e\", tracers=(tname_1, tname_2), ell__gt=lmax\n",
    "            )\n",
    "\n",
    "    # apply scale cut for weak lensing\n",
    "    for i in range(nbin_wl):\n",
    "        for j in range(i, nbin_wl):\n",
    "            tname_1 = f\"DESwl__{i}\"\n",
    "            tname_2 = f\"DESwl__{j}\"\n",
    "            sfile.remove_selection(\n",
    "                data_type=\"cl_ee\", tracers=(tname_1, tname_2), ell__gt=lmax_wl\n",
    "            )\n",
    "            sfile.remove_selection(\n",
    "                data_type=\"cl_ee\", tracers=(tname_1, tname_2), ell__lt=lmin_wl\n",
    "            )\n",
    "\n",
    "    return sfile"
   ]
  },
  {
   "cell_type": "code",
   "execution_count": null,
   "id": "98593f31",
   "metadata": {},
   "outputs": [],
   "source": [
    "def ccl_load_data(fname=\"cls_DESY1\", kmax=0.15, lmin_wl=30, lmax_wl=2000):\n",
    "    saccfile = sacc.Sacc.load_fits(f\"data/{fname}.fits\")\n",
    "    jax_nz_wl = ccl_get_nz(saccfile, tracertype=\"wl\")\n",
    "    jax_nz_gc = ccl_get_nz(saccfile, tracertype=\"gc\")\n",
    "    saccfile_cut = ccl_scale_cuts(saccfile, kmax=kmax, lmin_wl=lmin_wl, lmax_wl=lmax_wl)\n",
    "    bw_gc, bw_gc_wl, bw_wl = ccl_extract_bandwindow(saccfile_cut)\n",
    "    data, covariance = ccl_extract_data_covariance(saccfile_cut)\n",
    "    newcov = covariance + jnp.eye(data.shape[0]) * 1e-18\n",
    "    precision = np.linalg.inv(newcov)\n",
    "    return data, precision, jax_nz_gc, jax_nz_wl, bw_gc, bw_gc_wl, bw_wl"
   ]
  }
 ],
 "metadata": {
  "kernelspec": {
   "display_name": "Python 3 (ipykernel)",
   "language": "python",
   "name": "python3"
  },
  "language_info": {
   "codemirror_mode": {
    "name": "ipython",
    "version": 3
   },
   "file_extension": ".py",
   "mimetype": "text/x-python",
   "name": "python",
   "nbconvert_exporter": "python",
   "pygments_lexer": "ipython3",
   "version": "3.9.16"
  }
 },
 "nbformat": 4,
 "nbformat_minor": 5
}
