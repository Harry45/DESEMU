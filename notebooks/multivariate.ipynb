{
 "cells": [
  {
   "cell_type": "code",
   "execution_count": 59,
   "id": "dd5d9f1c-97c4-4d89-94db-f9c1d2eadfc4",
   "metadata": {},
   "outputs": [],
   "source": [
    "import os \n",
    "import numpy as np \n",
    "import emcee \n",
    "import time\n",
    "import pandas as pd\n",
    "import matplotlib.pylab as plt \n",
    "\n",
    "# NUTS\n",
    "from numpyro.diagnostics import summary\n",
    "import jax\n",
    "import jax.numpy as jnp \n",
    "import numpyro\n",
    "import numpyro.distributions as dist\n",
    "from numpyro.infer import MCMC, HMC, NUTS, init_to_median\n",
    "from numpyro.handlers import seed\n",
    "\n",
    "os.makedirs('mvn', exist_ok=True)\n",
    "plt.rc('text', usetex=True)\n",
    "plt.rc('font',**{'family':'sans-serif','serif':['Palatino']})\n",
    "figSize  = (8,6)\n",
    "fontSize = 20"
   ]
  },
  {
   "cell_type": "code",
   "execution_count": 2,
   "id": "61c4055c-aaba-47b8-9a7d-f87641ee3c63",
   "metadata": {},
   "outputs": [],
   "source": [
    "dimensions = np.arange(1, 11, 1, dtype = int) * 20"
   ]
  },
  {
   "cell_type": "markdown",
   "id": "a3f6440f-fb77-42df-92c5-8d32080700f5",
   "metadata": {},
   "source": [
    "# Sample Multivariate Normal with EMCEE"
   ]
  },
  {
   "cell_type": "code",
   "execution_count": 3,
   "id": "aeef7d4a-baf7-4beb-9dd8-0b48a1cf226f",
   "metadata": {},
   "outputs": [],
   "source": [
    "def emcee_log_prob(position, mean, covariance):\n",
    "    diff = position - mean\n",
    "    return -0.5 * np.dot(diff, np.linalg.solve(covariance, diff))\n",
    "    \n",
    "def emcee_sampler(ndim, nsamples = 10000):\n",
    "    mean = np.zeros(ndim)\n",
    "    cov = np.eye(ndim)\n",
    "    nwalkers = 2 * ndim \n",
    "    initial_1 = np.random.rand(nwalkers, ndim)\n",
    "    initial_2 = np.random.rand(nwalkers, ndim)\n",
    "\n",
    "    # we use two samplers (to compute the Gelman-Rubin statistics)\n",
    "    sampler_1 = emcee.EnsembleSampler(nwalkers, ndim, emcee_log_prob, args=[mean, cov])\n",
    "    runsampler_1 = sampler_1.run_mcmc(initial_1, nsamples, progress = True)\n",
    "    samples_1 = sampler_1.flatchain\n",
    "    ap_1 = np.mean(sampler_1.acceptance_fraction)\n",
    "\n",
    "    sampler_2 = emcee.EnsembleSampler(nwalkers, ndim, emcee_log_prob, args=[mean, cov])\n",
    "    runsampler_2 = sampler_2.run_mcmc(initial_2, nsamples, progress = True)\n",
    "    samples_2 = sampler_2.flatchain\n",
    "    ap_2 = np.mean(sampler_2.acceptance_fraction)\n",
    "\n",
    "    return samples_1[::nwalkers], samples_2[::nwalkers], mean, cov, ap_1, ap_2\n",
    "\n",
    "def calculate_mean_cov(samples):\n",
    "    \"\"\"\n",
    "    The input is of shape N x p, where N is the number of samples and p is the number of dimensions. \n",
    "    \"\"\"\n",
    "    sample_mean = np.mean(samples, axis = 0)\n",
    "    sample_cov = np.cov(samples.T)\n",
    "    return sample_mean, sample_cov\n",
    "\n",
    "def calculate_summary(samples_1, samples_2, nlike, ndecimal = 3):\n",
    "    record = []\n",
    "    for i in range(samples_1.shape[1]):\n",
    "        testsamples = np.vstack(([samples_1[:,i], samples_2[:,i]]))\n",
    "        summary_stats = summary(testsamples)\n",
    "        summary_stats[f'p_{i}'] = summary_stats.pop('Param:0')\n",
    "        record.append(summary_stats)\n",
    "\n",
    "    record_df = []\n",
    "    for i in range(len(record)):\n",
    "        record_df.append(pd.DataFrame(record[i]).round(ndecimal).loc[['r_hat', 'n_eff', 'mean', 'std']])\n",
    "\n",
    "    record_df = pd.concat(record_df, axis = 1).T\n",
    "    record_df['n_eff'] /= nlike\n",
    "    return record_df\n",
    "    \n",
    "def compute_kl(mean0, mean1, cov0, cov1):\n",
    "    cov1_inv = np.linalg.inv(cov1)\n",
    "    ndim = cov1.shape[0]\n",
    "    term1 = np.trace(cov1_inv @ cov0) - ndim \n",
    "    term2 = (mean1 - mean0) @ cov1_inv @ (mean1 - mean0)\n",
    "    sign0, logdet0 = np.linalg.slogdet(cov0)\n",
    "    sign1, logdet1 = np.linalg.slogdet(cov1)\n",
    "    term3 = sign1 * logdet1 - sign0 * logdet0 \n",
    "    return 0.5*(term1 + term2 + term3)"
   ]
  },
  {
   "cell_type": "code",
   "execution_count": 4,
   "id": "a7bd9d39-5f7c-4f63-bbc9-f9af2fef2583",
   "metadata": {},
   "outputs": [
    {
     "name": "stderr",
     "output_type": "stream",
     "text": [
      "100%|████████████████████████████████████████████████████████████████████████████████████████████| 15000/15000 [00:14<00:00, 1037.94it/s]\n",
      "100%|█████████████████████████████████████████████████████████████████████████████████████████████| 15000/15000 [00:17<00:00, 878.20it/s]\n"
     ]
    },
    {
     "name": "stdout",
     "output_type": "stream",
     "text": [
      "KL-divergence is 0.7098\n"
     ]
    },
    {
     "name": "stderr",
     "output_type": "stream",
     "text": [
      "100%|█████████████████████████████████████████████████████████████████████████████████████████████| 15000/15000 [00:43<00:00, 343.25it/s]\n",
      "100%|█████████████████████████████████████████████████████████████████████████████████████████████| 15000/15000 [00:49<00:00, 301.07it/s]\n"
     ]
    },
    {
     "name": "stdout",
     "output_type": "stream",
     "text": [
      "KL-divergence is 6.2830\n"
     ]
    },
    {
     "name": "stderr",
     "output_type": "stream",
     "text": [
      "100%|█████████████████████████████████████████████████████████████████████████████████████████████| 15000/15000 [01:44<00:00, 143.97it/s]\n",
      "100%|█████████████████████████████████████████████████████████████████████████████████████████████| 15000/15000 [01:30<00:00, 165.80it/s]\n"
     ]
    },
    {
     "name": "stdout",
     "output_type": "stream",
     "text": [
      "KL-divergence is 23.0145\n"
     ]
    },
    {
     "name": "stderr",
     "output_type": "stream",
     "text": [
      "100%|██████████████████████████████████████████████████████████████████████████████████████████████| 15000/15000 [02:41<00:00, 93.00it/s]\n",
      "100%|██████████████████████████████████████████████████████████████████████████████████████████████| 15000/15000 [03:25<00:00, 73.03it/s]\n"
     ]
    },
    {
     "name": "stdout",
     "output_type": "stream",
     "text": [
      "KL-divergence is 50.8893\n"
     ]
    },
    {
     "name": "stderr",
     "output_type": "stream",
     "text": [
      "100%|██████████████████████████████████████████████████████████████████████████████████████████████| 15000/15000 [04:44<00:00, 52.80it/s]\n",
      "100%|██████████████████████████████████████████████████████████████████████████████████████████████| 15000/15000 [04:51<00:00, 51.45it/s]\n"
     ]
    },
    {
     "name": "stdout",
     "output_type": "stream",
     "text": [
      "KL-divergence is 84.9227\n"
     ]
    },
    {
     "name": "stderr",
     "output_type": "stream",
     "text": [
      "100%|██████████████████████████████████████████████████████████████████████████████████████████████| 15000/15000 [07:38<00:00, 32.69it/s]\n",
      "100%|██████████████████████████████████████████████████████████████████████████████████████████████| 15000/15000 [07:38<00:00, 32.73it/s]\n"
     ]
    },
    {
     "name": "stdout",
     "output_type": "stream",
     "text": [
      "KL-divergence is 131.1186\n"
     ]
    },
    {
     "name": "stderr",
     "output_type": "stream",
     "text": [
      "100%|██████████████████████████████████████████████████████████████████████████████████████████████| 15000/15000 [10:59<00:00, 22.76it/s]\n",
      "100%|██████████████████████████████████████████████████████████████████████████████████████████████| 15000/15000 [10:24<00:00, 24.00it/s]\n"
     ]
    },
    {
     "name": "stdout",
     "output_type": "stream",
     "text": [
      "KL-divergence is 174.1163\n"
     ]
    },
    {
     "name": "stderr",
     "output_type": "stream",
     "text": [
      "100%|██████████████████████████████████████████████████████████████████████████████████████████████| 15000/15000 [14:58<00:00, 16.69it/s]\n",
      "100%|██████████████████████████████████████████████████████████████████████████████████████████████| 15000/15000 [15:07<00:00, 16.53it/s]\n"
     ]
    },
    {
     "name": "stdout",
     "output_type": "stream",
     "text": [
      "KL-divergence is 230.7555\n"
     ]
    },
    {
     "name": "stderr",
     "output_type": "stream",
     "text": [
      "100%|██████████████████████████████████████████████████████████████████████████████████████████████| 15000/15000 [19:38<00:00, 12.73it/s]\n",
      "100%|██████████████████████████████████████████████████████████████████████████████████████████████| 15000/15000 [21:04<00:00, 11.86it/s]\n"
     ]
    },
    {
     "name": "stdout",
     "output_type": "stream",
     "text": [
      "KL-divergence is 279.5594\n"
     ]
    },
    {
     "name": "stderr",
     "output_type": "stream",
     "text": [
      "100%|██████████████████████████████████████████████████████████████████████████████████████████████| 15000/15000 [30:55<00:00,  8.08it/s]\n",
      "100%|██████████████████████████████████████████████████████████████████████████████████████████████| 15000/15000 [29:46<00:00,  8.40it/s]\n"
     ]
    },
    {
     "name": "stdout",
     "output_type": "stream",
     "text": [
      "KL-divergence is 338.7993\n"
     ]
    }
   ],
   "source": [
    "NSAMPLES = 15000\n",
    "emcee_record_stats = list()\n",
    "emcee_record_kl = list()\n",
    "emcee_record_time = list()\n",
    "emcee_record_ap = list()\n",
    "\n",
    "for d in dimensions:\n",
    "\n",
    "    # generate the samples \n",
    "    start_time = time.time()\n",
    "    samples_1, samples_2, true_mean, true_cov, ap_1, ap_2 = emcee_sampler(d, nsamples = NSAMPLES)\n",
    "    time_taken = time.time() - start_time\n",
    "\n",
    "    # calculate sample mean and covariance\n",
    "    sample_mean, sample_cov = calculate_mean_cov(np.vstack([samples_1, samples_2]))\n",
    "\n",
    "    # calculate KL divergence\n",
    "    emcee_kl = compute_kl(sample_mean, true_mean, sample_cov, true_cov)\n",
    "\n",
    "    # record quantities \n",
    "    emcee_record_stats.append(calculate_summary(samples_1, samples_2, 2 * d * NSAMPLES))\n",
    "    emcee_record_kl.append(emcee_kl)\n",
    "    emcee_record_time.append(time_taken)\n",
    "    emcee_record_ap.append([ap_1.item(), ap_2.item()])\n",
    "\n",
    "    # print value of KL \n",
    "    print(f'KL-divergence is {emcee_kl:.4f}')"
   ]
  },
  {
   "cell_type": "markdown",
   "id": "51f6a38c-d3f7-4707-80c0-e010df9b62fe",
   "metadata": {},
   "source": [
    "# NUTS"
   ]
  },
  {
   "cell_type": "code",
   "execution_count": 6,
   "id": "c514bb66-6a4a-4a06-9168-54edceac1ab8",
   "metadata": {},
   "outputs": [],
   "source": [
    "def nuts_model(ndim = 5):\n",
    "    locs = jnp.zeros(ndim)\n",
    "    covs = jnp.eye(ndim)\n",
    "    mvn = dist.MultivariateNormal(loc = locs, covariance_matrix = covs)\n",
    "    numpyro.sample('y', mvn)\n",
    "    return locs, covs"
   ]
  },
  {
   "cell_type": "code",
   "execution_count": 7,
   "id": "cbe5b208-40cf-4f9d-bc8b-529667e21861",
   "metadata": {},
   "outputs": [],
   "source": [
    "%%capture\n",
    "nuts_kernel = NUTS(nuts_model, step_size=0.1, init_strategy=init_to_median, dense_mass=True, max_tree_depth=5)\n",
    "mcmc = MCMC(nuts_kernel, num_chains=2, num_warmup = 100, num_samples=15000)"
   ]
  },
  {
   "cell_type": "code",
   "execution_count": 8,
   "id": "a2c895cd-6d03-4c16-99ae-18aff8a7328c",
   "metadata": {},
   "outputs": [
    {
     "name": "stderr",
     "output_type": "stream",
     "text": [
      "sample: 100%|██████████████████████████████████████████| 15100/15100 [01:12<00:00, 207.71it/s, 15 steps of size 3.61e-01. acc. prob=0.95]\n",
      "sample: 100%|███████████████████████████████████████████| 15100/15100 [00:55<00:00, 271.87it/s, 7 steps of size 5.81e-01. acc. prob=0.87]\n"
     ]
    },
    {
     "name": "stdout",
     "output_type": "stream",
     "text": [
      "KL-divergence is 0.0055\n"
     ]
    },
    {
     "name": "stderr",
     "output_type": "stream",
     "text": [
      "sample: 100%|██████████████████████████████████████████| 15100/15100 [02:08<00:00, 117.19it/s, 31 steps of size 2.40e-01. acc. prob=0.96]\n",
      "sample: 100%|██████████████████████████████████████████| 15100/15100 [02:02<00:00, 123.52it/s, 31 steps of size 4.33e-01. acc. prob=0.87]\n"
     ]
    },
    {
     "name": "stdout",
     "output_type": "stream",
     "text": [
      "KL-divergence is 0.0191\n"
     ]
    },
    {
     "name": "stderr",
     "output_type": "stream",
     "text": [
      "sample: 100%|██████████████████████████████████████████| 15100/15100 [02:16<00:00, 110.35it/s, 31 steps of size 3.23e-01. acc. prob=0.90]\n",
      "sample: 100%|██████████████████████████████████████████| 15100/15100 [02:11<00:00, 115.02it/s, 31 steps of size 4.03e-01. acc. prob=0.84]\n"
     ]
    },
    {
     "name": "stdout",
     "output_type": "stream",
     "text": [
      "KL-divergence is 0.0483\n"
     ]
    },
    {
     "name": "stderr",
     "output_type": "stream",
     "text": [
      "sample: 100%|██████████████████████████████████████████| 15100/15100 [02:17<00:00, 109.70it/s, 31 steps of size 3.08e-01. acc. prob=0.90]\n",
      "sample: 100%|██████████████████████████████████████████| 15100/15100 [02:20<00:00, 107.47it/s, 31 steps of size 2.75e-01. acc. prob=0.91]\n"
     ]
    },
    {
     "name": "stdout",
     "output_type": "stream",
     "text": [
      "KL-divergence is 1.4640\n"
     ]
    },
    {
     "name": "stderr",
     "output_type": "stream",
     "text": [
      "sample: 100%|███████████████████████████████████████████| 15100/15100 [02:32<00:00, 99.26it/s, 31 steps of size 3.13e-01. acc. prob=0.86]\n",
      "sample: 100%|███████████████████████████████████████████| 15100/15100 [02:32<00:00, 99.31it/s, 31 steps of size 2.49e-01. acc. prob=0.91]\n"
     ]
    },
    {
     "name": "stdout",
     "output_type": "stream",
     "text": [
      "KL-divergence is 6.8224\n"
     ]
    },
    {
     "name": "stderr",
     "output_type": "stream",
     "text": [
      "sample: 100%|███████████████████████████████████████████| 15100/15100 [02:37<00:00, 95.58it/s, 31 steps of size 2.50e-01. acc. prob=0.90]\n",
      "sample: 100%|███████████████████████████████████████████| 15100/15100 [02:37<00:00, 95.63it/s, 31 steps of size 2.59e-01. acc. prob=0.88]\n"
     ]
    },
    {
     "name": "stdout",
     "output_type": "stream",
     "text": [
      "KL-divergence is 16.8162\n"
     ]
    },
    {
     "name": "stderr",
     "output_type": "stream",
     "text": [
      "sample: 100%|███████████████████████████████████████████| 15100/15100 [02:46<00:00, 90.48it/s, 31 steps of size 2.79e-01. acc. prob=0.85]\n",
      "sample: 100%|███████████████████████████████████████████| 15100/15100 [02:46<00:00, 90.64it/s, 31 steps of size 1.81e-01. acc. prob=0.94]\n"
     ]
    },
    {
     "name": "stdout",
     "output_type": "stream",
     "text": [
      "KL-divergence is 30.4032\n"
     ]
    },
    {
     "name": "stderr",
     "output_type": "stream",
     "text": [
      "sample: 100%|███████████████████████████████████████████| 15100/15100 [02:56<00:00, 85.49it/s, 31 steps of size 2.29e-01. acc. prob=0.87]\n",
      "sample: 100%|███████████████████████████████████████████| 15100/15100 [02:56<00:00, 85.73it/s, 31 steps of size 2.37e-01. acc. prob=0.87]\n"
     ]
    },
    {
     "name": "stdout",
     "output_type": "stream",
     "text": [
      "KL-divergence is 47.6099\n"
     ]
    },
    {
     "name": "stderr",
     "output_type": "stream",
     "text": [
      "sample: 100%|███████████████████████████████████████████| 15100/15100 [03:08<00:00, 80.14it/s, 31 steps of size 2.09e-01. acc. prob=0.89]\n",
      "sample: 100%|███████████████████████████████████████████| 15100/15100 [03:06<00:00, 80.85it/s, 31 steps of size 1.66e-01. acc. prob=0.93]\n"
     ]
    },
    {
     "name": "stdout",
     "output_type": "stream",
     "text": [
      "KL-divergence is 74.6423\n"
     ]
    },
    {
     "name": "stderr",
     "output_type": "stream",
     "text": [
      "sample: 100%|███████████████████████████████████████████| 15100/15100 [03:14<00:00, 77.53it/s, 31 steps of size 2.82e-01. acc. prob=0.79]\n",
      "sample: 100%|███████████████████████████████████████████| 15100/15100 [03:13<00:00, 77.97it/s, 31 steps of size 1.95e-01. acc. prob=0.89]\n"
     ]
    },
    {
     "name": "stdout",
     "output_type": "stream",
     "text": [
      "KL-divergence is 87.8621\n"
     ]
    }
   ],
   "source": [
    "record_nsteps = list()\n",
    "nuts_record_kl = list()\n",
    "nuts_record_stats = list()\n",
    "nuts_record_time = list()\n",
    "nuts_record_ap = list()\n",
    "\n",
    "for d in dimensions:\n",
    "    start_time = time.time()\n",
    "    mcmc.run(jax.random.PRNGKey(0), ndim=d, extra_fields=('potential_energy', 'num_steps'))\n",
    "    time_taken = time.time() - start_time \n",
    "    samples = np.asarray(mcmc.get_samples()['y'])\n",
    "    samples_grouped = np.asarray(mcmc.get_samples(group_by_chain=True)['y'])\n",
    "    nsteps = mcmc.get_extra_fields(group_by_chain=True)['num_steps']\n",
    "    nevaluations = jnp.sum(nsteps).item()\n",
    "    \n",
    "    # calculate sample mean and covariance \n",
    "    nuts_mean, nuts_cov = calculate_mean_cov(samples)\n",
    "\n",
    "    # calculate the KL divergence \n",
    "    nuts_kl = compute_kl(nuts_mean, np.zeros(d), nuts_cov, np.eye(d))\n",
    "\n",
    "    # record quantities \n",
    "    nuts_record_stats.append(calculate_summary(samples_grouped[0], samples_grouped[1], nevaluations))\n",
    "    record_nsteps.append(nsteps)\n",
    "    nuts_record_kl.append(nuts_kl)\n",
    "    nuts_record_time.append(time_taken)\n",
    "    nuts_record_ap.append(mcmc.last_state.mean_accept_prob)\n",
    "\n",
    "    # print KL divergence \n",
    "    print(f'KL-divergence is {nuts_kl:.4f}')"
   ]
  },
  {
   "cell_type": "markdown",
   "id": "13266196-52ea-4327-b577-fed2290df62b",
   "metadata": {},
   "source": [
    "# Compare Results"
   ]
  },
  {
   "cell_type": "code",
   "execution_count": 9,
   "id": "677883dd-60b3-455a-9731-9882fa0ad9a1",
   "metadata": {},
   "outputs": [],
   "source": [
    "def compare_stats(emcee_df, nuts_df):\n",
    "    nexperiments = len(emcee_df)\n",
    "    record_rhat = {'emcee': list(), 'nuts': list()}\n",
    "    record_neff = {'emcee': list(), 'nuts': list()}\n",
    "    for i in range(nexperiments):\n",
    "        emcee_mean_stats = emcee_df[i].mean(0)\n",
    "        nuts_mean_stats = nuts_df[i].mean(0)\n",
    "        record_rhat['emcee'].append(emcee_mean_stats['r_hat'].item())\n",
    "        record_neff['emcee'].append(emcee_mean_stats['n_eff'].item())\n",
    "        record_rhat['nuts'].append(nuts_mean_stats['r_hat'].item())\n",
    "        record_neff['nuts'].append(nuts_mean_stats['n_eff'].item())\n",
    "    return pd.DataFrame(record_rhat, index = dimensions), pd.DataFrame(record_neff, index = dimensions)"
   ]
  },
  {
   "cell_type": "code",
   "execution_count": 14,
   "id": "f9fec85c-ae05-41c3-8648-717b685d72b0",
   "metadata": {},
   "outputs": [],
   "source": [
    "df_rhat, df_neff = compare_stats(emcee_record_stats, nuts_record_stats)\n",
    "df_kl = pd.DataFrame(np.vstack([emcee_record_kl, nuts_record_kl]).T, columns = ['emcee', 'nuts'], index=dimensions)\n",
    "df_ap = pd.DataFrame(np.vstack([np.mean(emcee_record_ap, 1), np.mean(nuts_record_ap, 1)]).T, columns = ['emcee', 'nuts'], index=dimensions)"
   ]
  },
  {
   "cell_type": "markdown",
   "id": "5d1e4b01-67e0-4939-850c-9c74515ad04a",
   "metadata": {},
   "source": [
    "## Plots"
   ]
  },
  {
   "cell_type": "code",
   "execution_count": 66,
   "id": "a250d845-af91-4ad1-b965-1c0ab20de8df",
   "metadata": {},
   "outputs": [
    {
     "data": {
      "image/png": "[encoded data removed]",
      "text/plain": [
       "<Figure size 800x600 with 1 Axes>"
      ]
     },
     "metadata": {},
     "output_type": "display_data"
    }
   ],
   "source": [
    "index = np.arange(len(dimensions))\n",
    "bar_width = 0.20\n",
    "\n",
    "fig, ax = plt.subplots(figsize=figSize)\n",
    "emcee_column = ax.bar(index, df_kl['emcee'], bar_width, label=\"EMCEE\", color = 'darkcyan')\n",
    "nuts_column = ax.bar(index+bar_width, df_kl['nuts'], bar_width, label=\"NUTS\", color = 'darkorange')\n",
    "ax.set_xlabel('Dimensions', fontsize = fontSize)\n",
    "ax.set_ylabel(r'$D_{KL}$', fontsize = fontSize)\n",
    "# ax.set_title('KL Divergence', fontsize = fontSize)\n",
    "ax.set_xticks(index + bar_width / 2)\n",
    "ax.set_xticklabels(dimensions)\n",
    "ax.set_yscale('log')\n",
    "ax.legend(loc = 'upper left',prop={'family':'sans-serif', 'size':15})\n",
    "plt.tick_params(axis='x', labelsize=fontSize)\n",
    "plt.tick_params(axis='y', labelsize=fontSize)\n",
    "plt.savefig('mvn/kl.pdf', bbox_inches = 'tight')\n",
    "plt.show()"
   ]
  },
  {
   "cell_type": "code",
   "execution_count": 67,
   "id": "a9f6db97-c2b9-4191-97de-7acedc0bf36e",
   "metadata": {},
   "outputs": [
    {
     "data": {
      "image/png": "[encoded data removed]",
      "text/plain": [
       "<Figure size 800x600 with 1 Axes>"
      ]
     },
     "metadata": {},
     "output_type": "display_data"
    }
   ],
   "source": [
    "fig, ax = plt.subplots(figsize=figSize)\n",
    "emcee_column = ax.bar(index, df_rhat['emcee'], bar_width, label=\"EMCEE\", color = 'darkcyan')\n",
    "nuts_column = ax.bar(index+bar_width, df_rhat['nuts'], bar_width, label=\"NUTS\", color = 'darkorange')\n",
    "ax.set_xlabel('Dimensions', fontsize = fontSize)\n",
    "ax.set_ylabel(r'$\\langle \\hat{R} \\rangle$', fontsize = fontSize)\n",
    "# ax.set_title('Gelman-Rubin Statistics', fontsize = fontSize)\n",
    "ax.set_xticks(index + bar_width / 2)\n",
    "ax.set_xticklabels(dimensions)\n",
    "# ax.set_yscale('log')\n",
    "ax.legend(loc = 'upper left',prop={'family':'sans-serif', 'size':15})\n",
    "plt.tick_params(axis='x', labelsize=fontSize)\n",
    "plt.tick_params(axis='y', labelsize=fontSize)\n",
    "plt.savefig('mvn/gr.pdf', bbox_inches = 'tight')\n",
    "plt.show()"
   ]
  },
  {
   "cell_type": "code",
   "execution_count": 72,
   "id": "e8502d96-2e55-4322-8720-b13ee645de78",
   "metadata": {},
   "outputs": [
    {
     "data": {
      "image/png": "[encoded data removed]",
      "text/plain": [
       "<Figure size 800x600 with 1 Axes>"
      ]
     },
     "metadata": {},
     "output_type": "display_data"
    }
   ],
   "source": [
    "fig, ax = plt.subplots(figsize=figSize)\n",
    "emcee_column = ax.bar(index, df_neff['emcee'], bar_width, label=\"EMCEE\", color = 'darkcyan')\n",
    "nuts_column = ax.bar(index+bar_width, df_neff['nuts'], bar_width, label=\"NUTS\", color = 'darkorange')\n",
    "ax.set_xlabel('Dimensions', fontsize = fontSize)\n",
    "ax.set_ylabel(r'$N_{\\textrm{eff}}$', fontsize = fontSize)\n",
    "# ax.set_title('Scaled Effective Sample Size', fontsize = fontSize)\n",
    "ax.set_xticks(index + bar_width / 2)\n",
    "ax.set_xticklabels(dimensions)\n",
    "ax.set_yscale('log')\n",
    "ax.legend(loc = 'upper right',prop={'family':'sans-serif', 'size':15})\n",
    "plt.tick_params(axis='x', labelsize=fontSize)\n",
    "plt.tick_params(axis='y', labelsize=fontSize)\n",
    "plt.savefig('mvn/neff.pdf', bbox_inches = 'tight')\n",
    "plt.show()"
   ]
  },
  {
   "cell_type": "code",
   "execution_count": 69,
   "id": "ac90617a-ebe5-4496-8eff-16fbb5e84804",
   "metadata": {},
   "outputs": [
    {
     "data": {
      "image/png": "[encoded data removed]",
      "text/plain": [
       "<Figure size 800x600 with 1 Axes>"
      ]
     },
     "metadata": {},
     "output_type": "display_data"
    }
   ],
   "source": [
    "fig, ax = plt.subplots(figsize=figSize)\n",
    "emcee_column = ax.bar(index, df_ap['emcee'], bar_width, label=\"EMCEE\", color = 'darkcyan')\n",
    "nuts_column = ax.bar(index+bar_width, df_ap['nuts'], bar_width, label=\"NUTS\", color = 'darkorange')\n",
    "ax.set_xlabel('Dimensions', fontsize = fontSize)\n",
    "ax.set_ylabel(r'$r$', fontsize = fontSize)\n",
    "# ax.set_title('Acceptance Probability', fontsize = fontSize)\n",
    "ax.set_xticks(index + bar_width / 2)\n",
    "ax.set_xticklabels(dimensions)\n",
    "# ax.set_yscale('log')\n",
    "ax.legend(loc = 'upper right',prop={'family':'sans-serif', 'size':15})\n",
    "plt.tick_params(axis='x', labelsize=fontSize)\n",
    "plt.tick_params(axis='y', labelsize=fontSize)\n",
    "plt.savefig('mvn/ap.pdf', bbox_inches = 'tight')\n",
    "plt.show()"
   ]
  },
  {
   "cell_type": "code",
   "execution_count": 70,
   "id": "013a4062-74ad-43eb-8029-b95244f5a826",
   "metadata": {},
   "outputs": [
    {
     "data": {
      "image/png": "[encoded data removed]",
      "text/plain": [
       "<Figure size 800x600 with 1 Axes>"
      ]
     },
     "metadata": {},
     "output_type": "display_data"
    }
   ],
   "source": [
    "fig, ax = plt.subplots(figsize=figSize)\n",
    "# conversion from seconds to minutes, hence factor of 60\n",
    "emcee_column = ax.bar(index, np.asarray(emcee_record_time) / 60, bar_width, label=\"EMCEE\", color = 'darkcyan')\n",
    "nuts_column = ax.bar(index+bar_width, np.asarray(nuts_record_time) / 60, bar_width, label=\"NUTS\", color = 'darkorange')\n",
    "ax.set_xlabel('Dimensions', fontsize = fontSize)\n",
    "ax.set_ylabel(r'$T (\\textrm{min})$', fontsize = fontSize)\n",
    "# ax.set_title('Time taken (2 chains)', fontsize = fontSize)\n",
    "ax.set_xticks(index + bar_width / 2)\n",
    "ax.set_xticklabels(dimensions)\n",
    "# ax.set_yscale('log')\n",
    "ax.legend(loc = 'upper left',prop={'family':'sans-serif', 'size':15})\n",
    "plt.tick_params(axis='x', labelsize=fontSize)\n",
    "plt.tick_params(axis='y', labelsize=fontSize)\n",
    "plt.savefig('mvn/time.pdf', bbox_inches = 'tight')\n",
    "plt.show()"
   ]
  },
  {
   "cell_type": "code",
   "execution_count": 51,
   "id": "d4d81fed-4736-43f2-bf66-fd63e5478fe1",
   "metadata": {},
   "outputs": [],
   "source": [
    "nuts_nlike = np.sum(record_nsteps, 2).sum(1)\n",
    "emcee_nlike = np.vstack([dimensions * 2 * 15000] * 2).T.sum(1)"
   ]
  },
  {
   "cell_type": "code",
   "execution_count": 71,
   "id": "7067b1d7-990b-4250-b031-e61839410856",
   "metadata": {},
   "outputs": [
    {
     "data": {
      "image/png": "[encoded data removed]",
      "text/plain": [
       "<Figure size 800x600 with 1 Axes>"
      ]
     },
     "metadata": {},
     "output_type": "display_data"
    }
   ],
   "source": [
    "fig, ax = plt.subplots(figsize=figSize)\n",
    "emcee_column = ax.bar(index, emcee_nlike, bar_width, label=\"EMCEE\", color = 'darkcyan')\n",
    "nuts_column = ax.bar(index+bar_width, nuts_nlike, bar_width, label=\"NUTS\", color = 'darkorange')\n",
    "ax.set_xlabel('Dimensions', fontsize = fontSize)\n",
    "ax.set_ylabel(r'$N_{\\mathcal{L}}$', fontsize = fontSize)\n",
    "# ax.set_title('Number of likelihood evaluations (2 chains)', fontsize = fontSize)\n",
    "ax.set_xticks(index + bar_width / 2)\n",
    "ax.set_xticklabels(dimensions)\n",
    "ax.set_yscale('log')\n",
    "ax.legend(loc = 'upper left',prop={'family':'sans-serif', 'size':15})\n",
    "plt.tick_params(axis='x', labelsize=fontSize)\n",
    "plt.tick_params(axis='y', labelsize=fontSize)\n",
    "plt.savefig('mvn/nlike.pdf', bbox_inches = 'tight')\n",
    "plt.show()"
   ]
  },
  {
   "cell_type": "code",
   "execution_count": null,
   "id": "fa3071be-aaae-409a-ba7e-a07b3aa96c68",
   "metadata": {},
   "outputs": [],
   "source": []
  }
 ],
 "metadata": {
  "kernelspec": {
   "display_name": "Python 3 (ipykernel)",
   "language": "python",
   "name": "python3"
  },
  "language_info": {
   "codemirror_mode": {
    "name": "ipython",
    "version": 3
   },
   "file_extension": ".py",
   "mimetype": "text/x-python",
   "name": "python",
   "nbconvert_exporter": "python",
   "pygments_lexer": "ipython3",
   "version": "3.9.18"
  }
 },
 "nbformat": 4,
 "nbformat_minor": 5
}
