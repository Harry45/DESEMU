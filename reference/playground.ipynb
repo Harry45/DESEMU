{
 "cells": [
  {
   "cell_type": "code",
   "execution_count": 2,
   "id": "eaa148ae",
   "metadata": {},
   "outputs": [],
   "source": [
    "import sys\n",
    "sys.path.append('../reference/jax-cosmo/jax_cosmo-master/')"
   ]
  },
  {
   "cell_type": "code",
   "execution_count": 3,
   "id": "5505cc41",
   "metadata": {},
   "outputs": [
    {
     "name": "stderr",
     "output_type": "stream",
     "text": [
      "No GPU/TPU found, falling back to CPU. (Set TF_CPP_MIN_LOG_LEVEL=0 and rerun for more info.)\n"
     ]
    }
   ],
   "source": [
    "import jax\n",
    "import jax.numpy as jnp \n",
    "from jax.config import config\n",
    "import jax_cosmo as jc\n",
    "from jax_cosmo.power import linear_matter_power, nonlinear_matter_power\n",
    "import jax_cosmo.power as jcp \n",
    "\n",
    "# the emulator part \n",
    "from jax_cosmo.power import linear_matter_power_emu\n",
    "from jax_cosmo.power import KGRID, ZGRID\n",
    "config.update(\"jax_enable_x64\", True)\n",
    "\n",
    "import matplotlib.pylab as plt \n",
    "plt.rc('text', usetex=True)\n",
    "plt.rc('font',**{'family':'sans-serif','serif':['Palatino']})\n",
    "figSize  = (12, 8)\n",
    "fontSize = 20"
   ]
  },
  {
   "cell_type": "code",
   "execution_count": 4,
   "id": "2d3efd98",
   "metadata": {},
   "outputs": [
    {
     "data": {
      "text/plain": [
       "'cpu'"
      ]
     },
     "execution_count": 4,
     "metadata": {},
     "output_type": "execute_result"
    }
   ],
   "source": [
    "jax.default_backend()"
   ]
  },
  {
   "cell_type": "code",
   "execution_count": 5,
   "id": "fee8bda8",
   "metadata": {},
   "outputs": [
    {
     "data": {
      "text/plain": [
       "[CpuDevice(id=0)]"
      ]
     },
     "execution_count": 5,
     "metadata": {},
     "output_type": "execute_result"
    }
   ],
   "source": [
    "jax.devices()"
   ]
  },
  {
   "cell_type": "code",
   "execution_count": 6,
   "id": "7841e159",
   "metadata": {},
   "outputs": [],
   "source": [
    "scalefactor = 0.65\n",
    "redshift = 1.0 / scalefactor - 1.0"
   ]
  },
  {
   "cell_type": "code",
   "execution_count": 7,
   "id": "8924778d",
   "metadata": {},
   "outputs": [
    {
     "name": "stdout",
     "output_type": "stream",
     "text": [
      "The redshift is 0.538.\n"
     ]
    }
   ],
   "source": [
    "print(f'The redshift is {redshift:.3f}.')"
   ]
  },
  {
   "cell_type": "code",
   "execution_count": 8,
   "id": "e72ccc11",
   "metadata": {},
   "outputs": [],
   "source": [
    "cosmo = jc.Cosmology(sigma8=0.933523, Omega_c=0.096535, Omega_b=0.035931, h=0.816626, n_s=0.902618, \n",
    "                      w0=-1., Omega_k=0., wa=0.)"
   ]
  },
  {
   "cell_type": "code",
   "execution_count": 9,
   "id": "ae76e315",
   "metadata": {},
   "outputs": [],
   "source": [
    "new_k = jnp.geomspace(1E-4, 50, 500)"
   ]
  },
  {
   "cell_type": "markdown",
   "id": "ff21ad1f",
   "metadata": {},
   "source": [
    "# Emulator "
   ]
  },
  {
   "cell_type": "code",
   "execution_count": 10,
   "id": "d4f6e109",
   "metadata": {},
   "outputs": [
    {
     "name": "stdout",
     "output_type": "stream",
     "text": [
      "CPU times: user 959 ms, sys: 465 ms, total: 1.42 s\n",
      "Wall time: 811 ms\n"
     ]
    }
   ],
   "source": [
    "%%time\n",
    "prediction = linear_matter_power_emu(cosmo, new_k, scalefactor)"
   ]
  },
  {
   "cell_type": "markdown",
   "id": "b21ce9aa",
   "metadata": {},
   "source": [
    "### Using JIT"
   ]
  },
  {
   "cell_type": "code",
   "execution_count": 11,
   "id": "b92b2fa2",
   "metadata": {},
   "outputs": [],
   "source": [
    "emu_jit = jax.jit(linear_matter_power_emu)"
   ]
  },
  {
   "cell_type": "code",
   "execution_count": 12,
   "id": "bda13326",
   "metadata": {},
   "outputs": [
    {
     "name": "stdout",
     "output_type": "stream",
     "text": [
      "CPU times: user 1.78 s, sys: 257 ms, total: 2.04 s\n",
      "Wall time: 1.47 s\n"
     ]
    }
   ],
   "source": [
    "%%time\n",
    "prediction_jit = emu_jit(cosmo, new_k, scalefactor)"
   ]
  },
  {
   "cell_type": "code",
   "execution_count": 13,
   "id": "cab8f26c",
   "metadata": {},
   "outputs": [
    {
     "name": "stdout",
     "output_type": "stream",
     "text": [
      "CPU times: user 1.28 ms, sys: 407 µs, total: 1.68 ms\n",
      "Wall time: 1.02 ms\n"
     ]
    }
   ],
   "source": [
    "%%time\n",
    "prediction_jit = emu_jit(cosmo, new_k, scalefactor)"
   ]
  },
  {
   "cell_type": "markdown",
   "id": "009edeb7",
   "metadata": {},
   "source": [
    "# Jax Cosmo"
   ]
  },
  {
   "cell_type": "code",
   "execution_count": 14,
   "id": "f3a9ae41",
   "metadata": {},
   "outputs": [
    {
     "name": "stdout",
     "output_type": "stream",
     "text": [
      "CPU times: user 2.3 s, sys: 15.1 ms, total: 2.32 s\n",
      "Wall time: 2.3 s\n"
     ]
    }
   ],
   "source": [
    "%%time\n",
    "pklin_jax = linear_matter_power(cosmo, new_k, scalefactor)"
   ]
  },
  {
   "cell_type": "markdown",
   "id": "854652a6",
   "metadata": {},
   "source": [
    "### Using JIT"
   ]
  },
  {
   "cell_type": "code",
   "execution_count": 15,
   "id": "d8f0aed3",
   "metadata": {},
   "outputs": [],
   "source": [
    "jc_jit = jax.jit(linear_matter_power)"
   ]
  },
  {
   "cell_type": "code",
   "execution_count": 16,
   "id": "abc4ba7d",
   "metadata": {},
   "outputs": [
    {
     "name": "stdout",
     "output_type": "stream",
     "text": [
      "CPU times: user 2.21 s, sys: 13.3 ms, total: 2.22 s\n",
      "Wall time: 2.18 s\n"
     ]
    }
   ],
   "source": [
    "%%time \n",
    "pklin_jit = jc_jit(cosmo, new_k, scalefactor)"
   ]
  },
  {
   "cell_type": "code",
   "execution_count": 17,
   "id": "c60ed5bc",
   "metadata": {},
   "outputs": [
    {
     "name": "stdout",
     "output_type": "stream",
     "text": [
      "CPU times: user 698 µs, sys: 108 µs, total: 806 µs\n",
      "Wall time: 694 µs\n"
     ]
    }
   ],
   "source": [
    "%%time \n",
    "pklin_jit = jc_jit(cosmo, new_k, scalefactor)"
   ]
  },
  {
   "cell_type": "markdown",
   "id": "85fd876e",
   "metadata": {},
   "source": [
    "# Calculates the Non-Linear Matter Power Spectrum"
   ]
  },
  {
   "cell_type": "markdown",
   "id": "d5c38f0a",
   "metadata": {},
   "source": [
    "### With the Emulator"
   ]
  },
  {
   "cell_type": "code",
   "execution_count": 18,
   "id": "71846ff9",
   "metadata": {},
   "outputs": [],
   "source": [
    "jcp.USE_EMU = True"
   ]
  },
  {
   "cell_type": "code",
   "execution_count": 19,
   "id": "4ba434ea",
   "metadata": {},
   "outputs": [
    {
     "name": "stdout",
     "output_type": "stream",
     "text": [
      "Using the emulator\n",
      "CPU times: user 1.39 s, sys: 17.3 ms, total: 1.4 s\n",
      "Wall time: 1.4 s\n"
     ]
    }
   ],
   "source": [
    "%%time\n",
    "pk_non_linear_fine_emu = nonlinear_matter_power(cosmo, new_k, scalefactor)"
   ]
  },
  {
   "cell_type": "code",
   "execution_count": 20,
   "id": "84977155",
   "metadata": {},
   "outputs": [],
   "source": [
    "emu_nl_jit = jax.jit(nonlinear_matter_power)"
   ]
  },
  {
   "cell_type": "code",
   "execution_count": 21,
   "id": "f307fe18",
   "metadata": {},
   "outputs": [
    {
     "name": "stdout",
     "output_type": "stream",
     "text": [
      "Using the emulator\n"
     ]
    },
    {
     "ename": "KeyboardInterrupt",
     "evalue": "",
     "output_type": "error",
     "traceback": [
      "\u001b[0;31m---------------------------------------------------------------------------\u001b[0m",
      "\u001b[0;31mKeyboardInterrupt\u001b[0m                         Traceback (most recent call last)",
      "File \u001b[0;32m<timed exec>:1\u001b[0m\n",
      "    \u001b[0;31m[... skipping hidden 1 frame]\u001b[0m\n",
      "File \u001b[0;32m~/anaconda3/envs/desemu/lib/python3.9/site-packages/jax/_src/pjit.py:250\u001b[0m, in \u001b[0;36m_cpp_pjit.<locals>.cache_miss\u001b[0;34m(*args, **kwargs)\u001b[0m\n\u001b[1;32m    248\u001b[0m \u001b[38;5;129m@api_boundary\u001b[39m\n\u001b[1;32m    249\u001b[0m \u001b[38;5;28;01mdef\u001b[39;00m \u001b[38;5;21mcache_miss\u001b[39m(\u001b[38;5;241m*\u001b[39margs, \u001b[38;5;241m*\u001b[39m\u001b[38;5;241m*\u001b[39mkwargs):\n\u001b[0;32m--> 250\u001b[0m   outs, out_flat, out_tree, args_flat, jaxpr \u001b[38;5;241m=\u001b[39m \u001b[43m_python_pjit_helper\u001b[49m\u001b[43m(\u001b[49m\n\u001b[1;32m    251\u001b[0m \u001b[43m      \u001b[49m\u001b[43mfun\u001b[49m\u001b[43m,\u001b[49m\u001b[43m \u001b[49m\u001b[43minfer_params_fn\u001b[49m\u001b[43m,\u001b[49m\u001b[43m \u001b[49m\u001b[38;5;241;43m*\u001b[39;49m\u001b[43margs\u001b[49m\u001b[43m,\u001b[49m\u001b[43m \u001b[49m\u001b[38;5;241;43m*\u001b[39;49m\u001b[38;5;241;43m*\u001b[39;49m\u001b[43mkwargs\u001b[49m\u001b[43m)\u001b[49m\n\u001b[1;32m    252\u001b[0m   executable \u001b[38;5;241m=\u001b[39m _read_most_recent_pjit_call_executable(jaxpr)\n\u001b[1;32m    253\u001b[0m   fastpath_data \u001b[38;5;241m=\u001b[39m _get_fastpath_data(executable, out_tree, args_flat, out_flat)\n",
      "File \u001b[0;32m~/anaconda3/envs/desemu/lib/python3.9/site-packages/jax/_src/pjit.py:163\u001b[0m, in \u001b[0;36m_python_pjit_helper\u001b[0;34m(fun, infer_params_fn, *args, **kwargs)\u001b[0m\n\u001b[1;32m    161\u001b[0m   dispatch\u001b[38;5;241m.\u001b[39mcheck_arg(arg)\n\u001b[1;32m    162\u001b[0m \u001b[38;5;28;01mtry\u001b[39;00m:\n\u001b[0;32m--> 163\u001b[0m   out_flat \u001b[38;5;241m=\u001b[39m \u001b[43mpjit_p\u001b[49m\u001b[38;5;241;43m.\u001b[39;49m\u001b[43mbind\u001b[49m\u001b[43m(\u001b[49m\u001b[38;5;241;43m*\u001b[39;49m\u001b[43margs_flat\u001b[49m\u001b[43m,\u001b[49m\u001b[43m \u001b[49m\u001b[38;5;241;43m*\u001b[39;49m\u001b[38;5;241;43m*\u001b[39;49m\u001b[43mparams\u001b[49m\u001b[43m)\u001b[49m\n\u001b[1;32m    164\u001b[0m \u001b[38;5;28;01mexcept\u001b[39;00m pxla\u001b[38;5;241m.\u001b[39mDeviceAssignmentMismatchError \u001b[38;5;28;01mas\u001b[39;00m e:\n\u001b[1;32m    165\u001b[0m   fails, \u001b[38;5;241m=\u001b[39m e\u001b[38;5;241m.\u001b[39margs\n",
      "File \u001b[0;32m~/anaconda3/envs/desemu/lib/python3.9/site-packages/jax/_src/core.py:2677\u001b[0m, in \u001b[0;36mAxisPrimitive.bind\u001b[0;34m(self, *args, **params)\u001b[0m\n\u001b[1;32m   2673\u001b[0m axis_main \u001b[38;5;241m=\u001b[39m \u001b[38;5;28mmax\u001b[39m((axis_frame(a)\u001b[38;5;241m.\u001b[39mmain_trace \u001b[38;5;28;01mfor\u001b[39;00m a \u001b[38;5;129;01min\u001b[39;00m used_axis_names(\u001b[38;5;28mself\u001b[39m, params)),\n\u001b[1;32m   2674\u001b[0m                 default\u001b[38;5;241m=\u001b[39m\u001b[38;5;28;01mNone\u001b[39;00m, key\u001b[38;5;241m=\u001b[39m\u001b[38;5;28;01mlambda\u001b[39;00m t: \u001b[38;5;28mgetattr\u001b[39m(t, \u001b[38;5;124m'\u001b[39m\u001b[38;5;124mlevel\u001b[39m\u001b[38;5;124m'\u001b[39m, \u001b[38;5;241m-\u001b[39m\u001b[38;5;241m1\u001b[39m))\n\u001b[1;32m   2675\u001b[0m top_trace \u001b[38;5;241m=\u001b[39m (top_trace \u001b[38;5;28;01mif\u001b[39;00m \u001b[38;5;129;01mnot\u001b[39;00m axis_main \u001b[38;5;129;01mor\u001b[39;00m axis_main\u001b[38;5;241m.\u001b[39mlevel \u001b[38;5;241m<\u001b[39m top_trace\u001b[38;5;241m.\u001b[39mlevel\n\u001b[1;32m   2676\u001b[0m              \u001b[38;5;28;01melse\u001b[39;00m axis_main\u001b[38;5;241m.\u001b[39mwith_cur_sublevel())\n\u001b[0;32m-> 2677\u001b[0m \u001b[38;5;28;01mreturn\u001b[39;00m \u001b[38;5;28;43mself\u001b[39;49m\u001b[38;5;241;43m.\u001b[39;49m\u001b[43mbind_with_trace\u001b[49m\u001b[43m(\u001b[49m\u001b[43mtop_trace\u001b[49m\u001b[43m,\u001b[49m\u001b[43m \u001b[49m\u001b[43margs\u001b[49m\u001b[43m,\u001b[49m\u001b[43m \u001b[49m\u001b[43mparams\u001b[49m\u001b[43m)\u001b[49m\n",
      "File \u001b[0;32m~/anaconda3/envs/desemu/lib/python3.9/site-packages/jax/_src/core.py:383\u001b[0m, in \u001b[0;36mPrimitive.bind_with_trace\u001b[0;34m(self, trace, args, params)\u001b[0m\n\u001b[1;32m    382\u001b[0m \u001b[38;5;28;01mdef\u001b[39;00m \u001b[38;5;21mbind_with_trace\u001b[39m(\u001b[38;5;28mself\u001b[39m, trace, args, params):\n\u001b[0;32m--> 383\u001b[0m   out \u001b[38;5;241m=\u001b[39m \u001b[43mtrace\u001b[49m\u001b[38;5;241;43m.\u001b[39;49m\u001b[43mprocess_primitive\u001b[49m\u001b[43m(\u001b[49m\u001b[38;5;28;43mself\u001b[39;49m\u001b[43m,\u001b[49m\u001b[43m \u001b[49m\u001b[38;5;28;43mmap\u001b[39;49m\u001b[43m(\u001b[49m\u001b[43mtrace\u001b[49m\u001b[38;5;241;43m.\u001b[39;49m\u001b[43mfull_raise\u001b[49m\u001b[43m,\u001b[49m\u001b[43m \u001b[49m\u001b[43margs\u001b[49m\u001b[43m)\u001b[49m\u001b[43m,\u001b[49m\u001b[43m \u001b[49m\u001b[43mparams\u001b[49m\u001b[43m)\u001b[49m\n\u001b[1;32m    384\u001b[0m   \u001b[38;5;28;01mreturn\u001b[39;00m \u001b[38;5;28mmap\u001b[39m(full_lower, out) \u001b[38;5;28;01mif\u001b[39;00m \u001b[38;5;28mself\u001b[39m\u001b[38;5;241m.\u001b[39mmultiple_results \u001b[38;5;28;01melse\u001b[39;00m full_lower(out)\n",
      "File \u001b[0;32m~/anaconda3/envs/desemu/lib/python3.9/site-packages/jax/_src/core.py:815\u001b[0m, in \u001b[0;36mEvalTrace.process_primitive\u001b[0;34m(self, primitive, tracers, params)\u001b[0m\n\u001b[1;32m    814\u001b[0m \u001b[38;5;28;01mdef\u001b[39;00m \u001b[38;5;21mprocess_primitive\u001b[39m(\u001b[38;5;28mself\u001b[39m, primitive, tracers, params):\n\u001b[0;32m--> 815\u001b[0m   \u001b[38;5;28;01mreturn\u001b[39;00m \u001b[43mprimitive\u001b[49m\u001b[38;5;241;43m.\u001b[39;49m\u001b[43mimpl\u001b[49m\u001b[43m(\u001b[49m\u001b[38;5;241;43m*\u001b[39;49m\u001b[43mtracers\u001b[49m\u001b[43m,\u001b[49m\u001b[43m \u001b[49m\u001b[38;5;241;43m*\u001b[39;49m\u001b[38;5;241;43m*\u001b[39;49m\u001b[43mparams\u001b[49m\u001b[43m)\u001b[49m\n",
      "File \u001b[0;32m~/anaconda3/envs/desemu/lib/python3.9/site-packages/jax/_src/pjit.py:1203\u001b[0m, in \u001b[0;36m_pjit_call_impl\u001b[0;34m(jaxpr, in_shardings, out_shardings, resource_env, donated_invars, name, keep_unused, inline, *args)\u001b[0m\n\u001b[1;32m   1200\u001b[0m donated_argnums \u001b[38;5;241m=\u001b[39m [i \u001b[38;5;28;01mfor\u001b[39;00m i, d \u001b[38;5;129;01min\u001b[39;00m \u001b[38;5;28menumerate\u001b[39m(donated_invars) \u001b[38;5;28;01mif\u001b[39;00m d]\n\u001b[1;32m   1201\u001b[0m has_explicit_sharding \u001b[38;5;241m=\u001b[39m _pjit_explicit_sharding(\n\u001b[1;32m   1202\u001b[0m     in_shardings, out_shardings, \u001b[38;5;28;01mNone\u001b[39;00m, \u001b[38;5;28;01mNone\u001b[39;00m)\n\u001b[0;32m-> 1203\u001b[0m \u001b[38;5;28;01mreturn\u001b[39;00m \u001b[43mxc\u001b[49m\u001b[38;5;241;43m.\u001b[39;49m\u001b[43m_xla\u001b[49m\u001b[38;5;241;43m.\u001b[39;49m\u001b[43mpjit\u001b[49m\u001b[43m(\u001b[49m\u001b[43mname\u001b[49m\u001b[43m,\u001b[49m\u001b[43m \u001b[49m\u001b[43mf\u001b[49m\u001b[43m,\u001b[49m\u001b[43m \u001b[49m\u001b[43mcall_impl_cache_miss\u001b[49m\u001b[43m,\u001b[49m\u001b[43m \u001b[49m\u001b[43m[\u001b[49m\u001b[43m]\u001b[49m\u001b[43m,\u001b[49m\u001b[43m \u001b[49m\u001b[43m[\u001b[49m\u001b[43m]\u001b[49m\u001b[43m,\u001b[49m\u001b[43m \u001b[49m\u001b[43mdonated_argnums\u001b[49m\u001b[43m,\u001b[49m\n\u001b[1;32m   1204\u001b[0m \u001b[43m                    \u001b[49m\u001b[43m_get_cpp_global_cache\u001b[49m\u001b[43m(\u001b[49m\u001b[43mhas_explicit_sharding\u001b[49m\u001b[43m)\u001b[49m\u001b[43m)\u001b[49m\u001b[43m(\u001b[49m\u001b[38;5;241;43m*\u001b[39;49m\u001b[43margs\u001b[49m\u001b[43m)\u001b[49m\n",
      "File \u001b[0;32m~/anaconda3/envs/desemu/lib/python3.9/site-packages/jax/_src/pjit.py:1187\u001b[0m, in \u001b[0;36m_pjit_call_impl.<locals>.call_impl_cache_miss\u001b[0;34m(*args_, **kwargs_)\u001b[0m\n\u001b[1;32m   1186\u001b[0m \u001b[38;5;28;01mdef\u001b[39;00m \u001b[38;5;21mcall_impl_cache_miss\u001b[39m(\u001b[38;5;241m*\u001b[39margs_, \u001b[38;5;241m*\u001b[39m\u001b[38;5;241m*\u001b[39mkwargs_):\n\u001b[0;32m-> 1187\u001b[0m   out_flat, compiled \u001b[38;5;241m=\u001b[39m \u001b[43m_pjit_call_impl_python\u001b[49m\u001b[43m(\u001b[49m\n\u001b[1;32m   1188\u001b[0m \u001b[43m      \u001b[49m\u001b[38;5;241;43m*\u001b[39;49m\u001b[43margs\u001b[49m\u001b[43m,\u001b[49m\u001b[43m \u001b[49m\u001b[43mjaxpr\u001b[49m\u001b[38;5;241;43m=\u001b[39;49m\u001b[43mjaxpr\u001b[49m\u001b[43m,\u001b[49m\u001b[43m \u001b[49m\u001b[43min_shardings\u001b[49m\u001b[38;5;241;43m=\u001b[39;49m\u001b[43min_shardings\u001b[49m\u001b[43m,\u001b[49m\n\u001b[1;32m   1189\u001b[0m \u001b[43m      \u001b[49m\u001b[43mout_shardings\u001b[49m\u001b[38;5;241;43m=\u001b[39;49m\u001b[43mout_shardings\u001b[49m\u001b[43m,\u001b[49m\u001b[43m \u001b[49m\u001b[43mresource_env\u001b[49m\u001b[38;5;241;43m=\u001b[39;49m\u001b[43mresource_env\u001b[49m\u001b[43m,\u001b[49m\n\u001b[1;32m   1190\u001b[0m \u001b[43m      \u001b[49m\u001b[43mdonated_invars\u001b[49m\u001b[38;5;241;43m=\u001b[39;49m\u001b[43mdonated_invars\u001b[49m\u001b[43m,\u001b[49m\u001b[43m \u001b[49m\u001b[43mname\u001b[49m\u001b[38;5;241;43m=\u001b[39;49m\u001b[43mname\u001b[49m\u001b[43m,\u001b[49m\u001b[43m \u001b[49m\u001b[43mkeep_unused\u001b[49m\u001b[38;5;241;43m=\u001b[39;49m\u001b[43mkeep_unused\u001b[49m\u001b[43m,\u001b[49m\n\u001b[1;32m   1191\u001b[0m \u001b[43m      \u001b[49m\u001b[43minline\u001b[49m\u001b[38;5;241;43m=\u001b[39;49m\u001b[43minline\u001b[49m\u001b[43m)\u001b[49m\n\u001b[1;32m   1192\u001b[0m   fastpath_data \u001b[38;5;241m=\u001b[39m _get_fastpath_data(\n\u001b[1;32m   1193\u001b[0m       compiled, tree_structure(out_flat), args, out_flat)\n\u001b[1;32m   1194\u001b[0m   \u001b[38;5;28;01mreturn\u001b[39;00m out_flat, fastpath_data\n",
      "File \u001b[0;32m~/anaconda3/envs/desemu/lib/python3.9/site-packages/jax/_src/pjit.py:1120\u001b[0m, in \u001b[0;36m_pjit_call_impl_python\u001b[0;34m(jaxpr, in_shardings, out_shardings, resource_env, donated_invars, name, keep_unused, inline, *args)\u001b[0m\n\u001b[1;32m   1114\u001b[0m \u001b[38;5;28;01mglobal\u001b[39;00m _most_recent_pjit_call_executable\n\u001b[1;32m   1116\u001b[0m in_shardings \u001b[38;5;241m=\u001b[39m _resolve_in_shardings(\n\u001b[1;32m   1117\u001b[0m     args, in_shardings, out_shardings,\n\u001b[1;32m   1118\u001b[0m     resource_env\u001b[38;5;241m.\u001b[39mphysical_mesh \u001b[38;5;28;01mif\u001b[39;00m resource_env \u001b[38;5;129;01mis\u001b[39;00m \u001b[38;5;129;01mnot\u001b[39;00m \u001b[38;5;28;01mNone\u001b[39;00m \u001b[38;5;28;01melse\u001b[39;00m \u001b[38;5;28;01mNone\u001b[39;00m)\n\u001b[0;32m-> 1120\u001b[0m compiled \u001b[38;5;241m=\u001b[39m \u001b[43m_pjit_lower\u001b[49m\u001b[43m(\u001b[49m\n\u001b[1;32m   1121\u001b[0m \u001b[43m    \u001b[49m\u001b[43mjaxpr\u001b[49m\u001b[43m,\u001b[49m\u001b[43m \u001b[49m\u001b[43min_shardings\u001b[49m\u001b[43m,\u001b[49m\u001b[43m \u001b[49m\u001b[43mout_shardings\u001b[49m\u001b[43m,\u001b[49m\u001b[43m \u001b[49m\u001b[43mresource_env\u001b[49m\u001b[43m,\u001b[49m\n\u001b[1;32m   1122\u001b[0m \u001b[43m    \u001b[49m\u001b[43mdonated_invars\u001b[49m\u001b[43m,\u001b[49m\u001b[43m \u001b[49m\u001b[43mname\u001b[49m\u001b[43m,\u001b[49m\u001b[43m \u001b[49m\u001b[43mkeep_unused\u001b[49m\u001b[43m,\u001b[49m\u001b[43m \u001b[49m\u001b[43minline\u001b[49m\u001b[43m,\u001b[49m\n\u001b[1;32m   1123\u001b[0m \u001b[43m    \u001b[49m\u001b[43malways_lower\u001b[49m\u001b[38;5;241;43m=\u001b[39;49m\u001b[38;5;28;43;01mFalse\u001b[39;49;00m\u001b[43m,\u001b[49m\u001b[43m \u001b[49m\u001b[43mlowering_platform\u001b[49m\u001b[38;5;241;43m=\u001b[39;49m\u001b[38;5;28;43;01mNone\u001b[39;49;00m\u001b[43m)\u001b[49m\u001b[38;5;241m.\u001b[39mcompile()\n\u001b[1;32m   1124\u001b[0m _most_recent_pjit_call_executable\u001b[38;5;241m.\u001b[39mweak_key_dict[jaxpr] \u001b[38;5;241m=\u001b[39m compiled\n\u001b[1;32m   1125\u001b[0m \u001b[38;5;66;03m# This check is expensive so only do it if enable_checks is on.\u001b[39;00m\n",
      "File \u001b[0;32m~/anaconda3/envs/desemu/lib/python3.9/site-packages/jax/_src/pjit.py:1249\u001b[0m, in \u001b[0;36m_pjit_lower\u001b[0;34m(jaxpr, in_shardings, out_shardings, *args, **kwargs)\u001b[0m\n\u001b[1;32m   1247\u001b[0m in_shardings \u001b[38;5;241m=\u001b[39m SameDeviceAssignmentTuple(\u001b[38;5;28mtuple\u001b[39m(in_shardings), da)\n\u001b[1;32m   1248\u001b[0m out_shardings \u001b[38;5;241m=\u001b[39m SameDeviceAssignmentTuple(\u001b[38;5;28mtuple\u001b[39m(out_shardings), da)\n\u001b[0;32m-> 1249\u001b[0m \u001b[38;5;28;01mreturn\u001b[39;00m \u001b[43m_pjit_lower_cached\u001b[49m\u001b[43m(\u001b[49m\u001b[43mjaxpr\u001b[49m\u001b[43m,\u001b[49m\u001b[43m \u001b[49m\u001b[43min_shardings\u001b[49m\u001b[43m,\u001b[49m\u001b[43m \u001b[49m\u001b[43mout_shardings\u001b[49m\u001b[43m,\u001b[49m\u001b[43m \u001b[49m\u001b[38;5;241;43m*\u001b[39;49m\u001b[43margs\u001b[49m\u001b[43m,\u001b[49m\u001b[43m \u001b[49m\u001b[38;5;241;43m*\u001b[39;49m\u001b[38;5;241;43m*\u001b[39;49m\u001b[43mkwargs\u001b[49m\u001b[43m)\u001b[49m\n",
      "File \u001b[0;32m~/anaconda3/envs/desemu/lib/python3.9/site-packages/jax/_src/pjit.py:1289\u001b[0m, in \u001b[0;36m_pjit_lower_cached\u001b[0;34m(jaxpr, sdat_in_shardings, sdat_out_shardings, resource_env, donated_invars, name, keep_unused, inline, always_lower, lowering_platform)\u001b[0m\n\u001b[1;32m   1283\u001b[0m   \u001b[38;5;28;01mreturn\u001b[39;00m pxla\u001b[38;5;241m.\u001b[39mlower_mesh_computation(\n\u001b[1;32m   1284\u001b[0m     jaxpr, api_name, name, mesh,\n\u001b[1;32m   1285\u001b[0m     in_shardings, out_shardings, donated_invars,\n\u001b[1;32m   1286\u001b[0m     \u001b[38;5;28;01mTrue\u001b[39;00m, jaxpr\u001b[38;5;241m.\u001b[39min_avals, tiling_method\u001b[38;5;241m=\u001b[39m\u001b[38;5;28;01mNone\u001b[39;00m,\n\u001b[1;32m   1287\u001b[0m     lowering_platform\u001b[38;5;241m=\u001b[39mlowering_platform)\n\u001b[1;32m   1288\u001b[0m \u001b[38;5;28;01melse\u001b[39;00m:\n\u001b[0;32m-> 1289\u001b[0m   \u001b[38;5;28;01mreturn\u001b[39;00m \u001b[43mpxla\u001b[49m\u001b[38;5;241;43m.\u001b[39;49m\u001b[43mlower_sharding_computation\u001b[49m\u001b[43m(\u001b[49m\n\u001b[1;32m   1290\u001b[0m \u001b[43m      \u001b[49m\u001b[43mjaxpr\u001b[49m\u001b[43m,\u001b[49m\u001b[43m \u001b[49m\u001b[43mapi_name\u001b[49m\u001b[43m,\u001b[49m\u001b[43m \u001b[49m\u001b[43mname\u001b[49m\u001b[43m,\u001b[49m\u001b[43m \u001b[49m\u001b[43min_shardings\u001b[49m\u001b[43m,\u001b[49m\u001b[43m \u001b[49m\u001b[43mout_shardings\u001b[49m\u001b[43m,\u001b[49m\n\u001b[1;32m   1291\u001b[0m \u001b[43m      \u001b[49m\u001b[38;5;28;43mtuple\u001b[39;49m\u001b[43m(\u001b[49m\u001b[43mdonated_invars\u001b[49m\u001b[43m)\u001b[49m\u001b[43m,\u001b[49m\u001b[43m \u001b[49m\u001b[38;5;28;43mtuple\u001b[39;49m\u001b[43m(\u001b[49m\u001b[43mjaxpr\u001b[49m\u001b[38;5;241;43m.\u001b[39;49m\u001b[43min_avals\u001b[49m\u001b[43m)\u001b[49m\u001b[43m,\u001b[49m\n\u001b[1;32m   1292\u001b[0m \u001b[43m      \u001b[49m\u001b[43mkeep_unused\u001b[49m\u001b[38;5;241;43m=\u001b[39;49m\u001b[43mkeep_unused\u001b[49m\u001b[43m,\u001b[49m\u001b[43m \u001b[49m\u001b[43minline\u001b[49m\u001b[38;5;241;43m=\u001b[39;49m\u001b[43minline\u001b[49m\u001b[43m,\u001b[49m\u001b[43m \u001b[49m\u001b[43malways_lower\u001b[49m\u001b[38;5;241;43m=\u001b[39;49m\u001b[43malways_lower\u001b[49m\u001b[43m,\u001b[49m\n\u001b[1;32m   1293\u001b[0m \u001b[43m      \u001b[49m\u001b[43mdevices_from_context\u001b[49m\u001b[38;5;241;43m=\u001b[39;49m\u001b[43m(\u001b[49m\n\u001b[1;32m   1294\u001b[0m \u001b[43m          \u001b[49m\u001b[38;5;28;43;01mNone\u001b[39;49;00m\u001b[43m \u001b[49m\u001b[38;5;28;43;01mif\u001b[39;49;00m\u001b[43m \u001b[49m\u001b[43mmesh\u001b[49m\u001b[43m \u001b[49m\u001b[38;5;129;43;01mis\u001b[39;49;00m\u001b[43m \u001b[49m\u001b[38;5;28;43;01mNone\u001b[39;49;00m\u001b[43m \u001b[49m\u001b[38;5;129;43;01mor\u001b[39;49;00m\u001b[43m \u001b[49m\u001b[43mmesh\u001b[49m\u001b[38;5;241;43m.\u001b[39;49m\u001b[43mempty\u001b[49m\u001b[43m \u001b[49m\u001b[38;5;28;43;01melse\u001b[39;49;00m\u001b[43m \u001b[49m\u001b[38;5;28;43mlist\u001b[39;49m\u001b[43m(\u001b[49m\u001b[43mmesh\u001b[49m\u001b[38;5;241;43m.\u001b[39;49m\u001b[43mdevices\u001b[49m\u001b[38;5;241;43m.\u001b[39;49m\u001b[43mflat\u001b[49m\u001b[43m)\u001b[49m\u001b[43m)\u001b[49m\u001b[43m,\u001b[49m\n\u001b[1;32m   1295\u001b[0m \u001b[43m      \u001b[49m\u001b[43mlowering_platform\u001b[49m\u001b[38;5;241;43m=\u001b[39;49m\u001b[43mlowering_platform\u001b[49m\u001b[43m)\u001b[49m\n",
      "File \u001b[0;32m~/anaconda3/envs/desemu/lib/python3.9/site-packages/jax/_src/profiler.py:314\u001b[0m, in \u001b[0;36mannotate_function.<locals>.wrapper\u001b[0;34m(*args, **kwargs)\u001b[0m\n\u001b[1;32m    311\u001b[0m \u001b[38;5;129m@wraps\u001b[39m(func)\n\u001b[1;32m    312\u001b[0m \u001b[38;5;28;01mdef\u001b[39;00m \u001b[38;5;21mwrapper\u001b[39m(\u001b[38;5;241m*\u001b[39margs, \u001b[38;5;241m*\u001b[39m\u001b[38;5;241m*\u001b[39mkwargs):\n\u001b[1;32m    313\u001b[0m   \u001b[38;5;28;01mwith\u001b[39;00m TraceAnnotation(name, \u001b[38;5;241m*\u001b[39m\u001b[38;5;241m*\u001b[39mdecorator_kwargs):\n\u001b[0;32m--> 314\u001b[0m     \u001b[38;5;28;01mreturn\u001b[39;00m \u001b[43mfunc\u001b[49m\u001b[43m(\u001b[49m\u001b[38;5;241;43m*\u001b[39;49m\u001b[43margs\u001b[49m\u001b[43m,\u001b[49m\u001b[43m \u001b[49m\u001b[38;5;241;43m*\u001b[39;49m\u001b[38;5;241;43m*\u001b[39;49m\u001b[43mkwargs\u001b[49m\u001b[43m)\u001b[49m\n\u001b[1;32m    315\u001b[0m   \u001b[38;5;28;01mreturn\u001b[39;00m wrapper\n",
      "File \u001b[0;32m~/anaconda3/envs/desemu/lib/python3.9/site-packages/jax/_src/interpreters/pxla.py:2085\u001b[0m, in \u001b[0;36mlower_sharding_computation\u001b[0;34m(fun_or_jaxpr, api_name, fun_name, in_shardings, out_shardings, donated_invars, global_in_avals, keep_unused, inline, always_lower, devices_from_context, lowering_platform)\u001b[0m\n\u001b[1;32m   2082\u001b[0m semantic_in_shardings \u001b[38;5;241m=\u001b[39m SemanticallyEqualShardings(in_shardings)  \u001b[38;5;66;03m# type: ignore\u001b[39;00m\n\u001b[1;32m   2083\u001b[0m semantic_out_shardings \u001b[38;5;241m=\u001b[39m SemanticallyEqualShardings(out_shardings)\n\u001b[1;32m   2084\u001b[0m (module, keepalive, host_callbacks, unordered_effects, ordered_effects,\n\u001b[0;32m-> 2085\u001b[0m  nreps, tuple_args, shape_poly_state) \u001b[38;5;241m=\u001b[39m \u001b[43m_cached_lowering_to_hlo\u001b[49m\u001b[43m(\u001b[49m\n\u001b[1;32m   2086\u001b[0m \u001b[43m     \u001b[49m\u001b[43mclosed_jaxpr\u001b[49m\u001b[43m,\u001b[49m\u001b[43m \u001b[49m\u001b[43mapi_name\u001b[49m\u001b[43m,\u001b[49m\u001b[43m \u001b[49m\u001b[43mfun_name\u001b[49m\u001b[43m,\u001b[49m\u001b[43m \u001b[49m\u001b[43mbackend\u001b[49m\u001b[43m,\u001b[49m\u001b[43m \u001b[49m\u001b[43msemantic_in_shardings\u001b[49m\u001b[43m,\u001b[49m\n\u001b[1;32m   2087\u001b[0m \u001b[43m     \u001b[49m\u001b[43msemantic_out_shardings\u001b[49m\u001b[43m,\u001b[49m\u001b[43m \u001b[49m\u001b[43mda_object\u001b[49m\u001b[43m,\u001b[49m\u001b[43m \u001b[49m\u001b[43mlowering_platform\u001b[49m\u001b[43m,\u001b[49m\n\u001b[1;32m   2088\u001b[0m \u001b[43m     \u001b[49m\u001b[43mdonated_invars\u001b[49m\u001b[43m,\u001b[49m\u001b[43m \u001b[49m\u001b[43mname_stack\u001b[49m\u001b[43m)\u001b[49m\n\u001b[1;32m   2090\u001b[0m \u001b[38;5;66;03m# backend and device_assignment is passed through to MeshExecutable because\u001b[39;00m\n\u001b[1;32m   2091\u001b[0m \u001b[38;5;66;03m# if keep_unused=False and all in_shardings are pruned, then there is no way\u001b[39;00m\n\u001b[1;32m   2092\u001b[0m \u001b[38;5;66;03m# to get the device_assignment and backend. So pass it to MeshExecutable\u001b[39;00m\n\u001b[1;32m   2093\u001b[0m \u001b[38;5;66;03m# because we calculate the device_assignment and backend before in_shardings,\u001b[39;00m\n\u001b[1;32m   2094\u001b[0m \u001b[38;5;66;03m# etc are pruned.\u001b[39;00m\n\u001b[1;32m   2095\u001b[0m \u001b[38;5;28;01mreturn\u001b[39;00m MeshComputation(\n\u001b[1;32m   2096\u001b[0m     \u001b[38;5;28mstr\u001b[39m(name_stack),\n\u001b[1;32m   2097\u001b[0m     module,\n\u001b[0;32m   (...)\u001b[0m\n\u001b[1;32m   2116\u001b[0m     jaxpr_debug_info\u001b[38;5;241m=\u001b[39mclosed_jaxpr\u001b[38;5;241m.\u001b[39mjaxpr\u001b[38;5;241m.\u001b[39mdebug_info,\n\u001b[1;32m   2117\u001b[0m     shape_poly_state\u001b[38;5;241m=\u001b[39mshape_poly_state)\n",
      "File \u001b[0;32m~/anaconda3/envs/desemu/lib/python3.9/site-packages/jax/_src/interpreters/pxla.py:1928\u001b[0m, in \u001b[0;36m_cached_lowering_to_hlo\u001b[0;34m(closed_jaxpr, api_name, fun_name, backend, semantic_in_shardings, semantic_out_shardings, da_object, lowering_platform, donated_invars, name_stack)\u001b[0m\n\u001b[1;32m   1923\u001b[0m ordered_effects \u001b[38;5;241m=\u001b[39m \u001b[38;5;28mlist\u001b[39m(effects\u001b[38;5;241m.\u001b[39mordered_effects\u001b[38;5;241m.\u001b[39mfilter_in(closed_jaxpr\u001b[38;5;241m.\u001b[39meffects))\n\u001b[1;32m   1925\u001b[0m \u001b[38;5;28;01mwith\u001b[39;00m dispatch\u001b[38;5;241m.\u001b[39mlog_elapsed_time(\n\u001b[1;32m   1926\u001b[0m       \u001b[38;5;124m\"\u001b[39m\u001b[38;5;124mFinished jaxpr to MLIR module conversion \u001b[39m\u001b[38;5;132;01m{fun_name}\u001b[39;00m\u001b[38;5;124m in \u001b[39m\u001b[38;5;132;01m{elapsed_time}\u001b[39;00m\u001b[38;5;124m sec\u001b[39m\u001b[38;5;124m\"\u001b[39m,\n\u001b[1;32m   1927\u001b[0m       fun_name\u001b[38;5;241m=\u001b[39m\u001b[38;5;28mstr\u001b[39m(name_stack), event\u001b[38;5;241m=\u001b[39mdispatch\u001b[38;5;241m.\u001b[39mJAXPR_TO_MLIR_MODULE_EVENT):\n\u001b[0;32m-> 1928\u001b[0m   lowering_result \u001b[38;5;241m=\u001b[39m \u001b[43mmlir\u001b[49m\u001b[38;5;241;43m.\u001b[39;49m\u001b[43mlower_jaxpr_to_module\u001b[49m\u001b[43m(\u001b[49m\n\u001b[1;32m   1929\u001b[0m \u001b[43m      \u001b[49m\u001b[43mmodule_name\u001b[49m\u001b[43m,\u001b[49m\n\u001b[1;32m   1930\u001b[0m \u001b[43m      \u001b[49m\u001b[43mclosed_jaxpr\u001b[49m\u001b[43m,\u001b[49m\n\u001b[1;32m   1931\u001b[0m \u001b[43m      \u001b[49m\u001b[43mordered_effects\u001b[49m\u001b[43m,\u001b[49m\n\u001b[1;32m   1932\u001b[0m \u001b[43m      \u001b[49m\u001b[43mbackend\u001b[49m\u001b[43m,\u001b[49m\n\u001b[1;32m   1933\u001b[0m \u001b[43m      \u001b[49m\u001b[38;5;66;43;03m# Optionally, override the lowering platform\u001b[39;49;00m\n\u001b[1;32m   1934\u001b[0m \u001b[43m      \u001b[49m\u001b[43mlowering_platform\u001b[49m\u001b[43m \u001b[49m\u001b[38;5;129;43;01mor\u001b[39;49;00m\u001b[43m \u001b[49m\u001b[43mbackend\u001b[49m\u001b[38;5;241;43m.\u001b[39;49m\u001b[43mplatform\u001b[49m\u001b[43m,\u001b[49m\n\u001b[1;32m   1935\u001b[0m \u001b[43m      \u001b[49m\u001b[43maxis_ctx\u001b[49m\u001b[43m,\u001b[49m\n\u001b[1;32m   1936\u001b[0m \u001b[43m      \u001b[49m\u001b[43mname_stack\u001b[49m\u001b[43m,\u001b[49m\n\u001b[1;32m   1937\u001b[0m \u001b[43m      \u001b[49m\u001b[43mdonated_invars\u001b[49m\u001b[43m,\u001b[49m\n\u001b[1;32m   1938\u001b[0m \u001b[43m      \u001b[49m\u001b[43mreplicated_args\u001b[49m\u001b[38;5;241;43m=\u001b[39;49m\u001b[43mreplicated_args\u001b[49m\u001b[43m,\u001b[49m\n\u001b[1;32m   1939\u001b[0m \u001b[43m      \u001b[49m\u001b[43marg_shardings\u001b[49m\u001b[38;5;241;43m=\u001b[39;49m\u001b[43min_mlir_shardings\u001b[49m\u001b[43m,\u001b[49m\n\u001b[1;32m   1940\u001b[0m \u001b[43m      \u001b[49m\u001b[43mresult_shardings\u001b[49m\u001b[38;5;241;43m=\u001b[39;49m\u001b[43mout_mlir_shardings\u001b[49m\u001b[43m,\u001b[49m\n\u001b[1;32m   1941\u001b[0m \u001b[43m      \u001b[49m\u001b[43marg_names\u001b[49m\u001b[38;5;241;43m=\u001b[39;49m\u001b[43mjaxpr\u001b[49m\u001b[38;5;241;43m.\u001b[39;49m\u001b[43mdebug_info\u001b[49m\u001b[43m \u001b[49m\u001b[38;5;129;43;01mand\u001b[39;49;00m\u001b[43m \u001b[49m\u001b[43mjaxpr\u001b[49m\u001b[38;5;241;43m.\u001b[39;49m\u001b[43mdebug_info\u001b[49m\u001b[38;5;241;43m.\u001b[39;49m\u001b[43marg_names\u001b[49m\u001b[43m,\u001b[49m\n\u001b[1;32m   1942\u001b[0m \u001b[43m      \u001b[49m\u001b[43mresult_names\u001b[49m\u001b[38;5;241;43m=\u001b[39;49m\u001b[43mjaxpr\u001b[49m\u001b[38;5;241;43m.\u001b[39;49m\u001b[43mdebug_info\u001b[49m\u001b[43m \u001b[49m\u001b[38;5;129;43;01mand\u001b[39;49;00m\u001b[43m \u001b[49m\u001b[43mjaxpr\u001b[49m\u001b[38;5;241;43m.\u001b[39;49m\u001b[43mdebug_info\u001b[49m\u001b[38;5;241;43m.\u001b[39;49m\u001b[43mresult_paths\u001b[49m\u001b[43m,\u001b[49m\n\u001b[1;32m   1943\u001b[0m \u001b[43m      \u001b[49m\u001b[43mnum_replicas\u001b[49m\u001b[38;5;241;43m=\u001b[39;49m\u001b[43mnreps\u001b[49m\u001b[43m,\u001b[49m\n\u001b[1;32m   1944\u001b[0m \u001b[43m      \u001b[49m\u001b[43mnum_partitions\u001b[49m\u001b[38;5;241;43m=\u001b[39;49m\u001b[43mnum_partitions\u001b[49m\u001b[43m)\u001b[49m\n\u001b[1;32m   1945\u001b[0m tuple_args \u001b[38;5;241m=\u001b[39m dispatch\u001b[38;5;241m.\u001b[39mshould_tuple_args(\u001b[38;5;28mlen\u001b[39m(global_in_avals), backend\u001b[38;5;241m.\u001b[39mplatform)\n\u001b[1;32m   1946\u001b[0m unordered_effects \u001b[38;5;241m=\u001b[39m \u001b[38;5;28mlist\u001b[39m(\n\u001b[1;32m   1947\u001b[0m     effects\u001b[38;5;241m.\u001b[39mordered_effects\u001b[38;5;241m.\u001b[39mfilter_not_in(closed_jaxpr\u001b[38;5;241m.\u001b[39meffects))\n",
      "File \u001b[0;32m~/anaconda3/envs/desemu/lib/python3.9/site-packages/jax/_src/interpreters/mlir.py:699\u001b[0m, in \u001b[0;36mlower_jaxpr_to_module\u001b[0;34m(module_name, jaxpr, ordered_effects, backend_or_name, platform, axis_context, name_stack, donated_args, replicated_args, arg_shardings, result_shardings, arg_names, result_names, num_replicas, num_partitions)\u001b[0m\n\u001b[1;32m    697\u001b[0m   attrs[\u001b[38;5;124m\"\u001b[39m\u001b[38;5;124mmhlo.num_replicas\u001b[39m\u001b[38;5;124m\"\u001b[39m] \u001b[38;5;241m=\u001b[39m i32_attr(num_replicas)\n\u001b[1;32m    698\u001b[0m   attrs[\u001b[38;5;124m\"\u001b[39m\u001b[38;5;124mmhlo.num_partitions\u001b[39m\u001b[38;5;124m\"\u001b[39m] \u001b[38;5;241m=\u001b[39m i32_attr(num_partitions)\n\u001b[0;32m--> 699\u001b[0m   \u001b[43mlower_jaxpr_to_fun\u001b[49m\u001b[43m(\u001b[49m\n\u001b[1;32m    700\u001b[0m \u001b[43m      \u001b[49m\u001b[43mctx\u001b[49m\u001b[43m,\u001b[49m\u001b[43m \u001b[49m\u001b[38;5;124;43m\"\u001b[39;49m\u001b[38;5;124;43mmain\u001b[39;49m\u001b[38;5;124;43m\"\u001b[39;49m\u001b[43m,\u001b[49m\u001b[43m \u001b[49m\u001b[43mjaxpr\u001b[49m\u001b[43m,\u001b[49m\u001b[43m \u001b[49m\u001b[43mordered_effects\u001b[49m\u001b[43m,\u001b[49m\u001b[43m \u001b[49m\u001b[43mpublic\u001b[49m\u001b[38;5;241;43m=\u001b[39;49m\u001b[38;5;28;43;01mTrue\u001b[39;49;00m\u001b[43m,\u001b[49m\u001b[43m \u001b[49m\u001b[43mcreate_tokens\u001b[49m\u001b[38;5;241;43m=\u001b[39;49m\u001b[38;5;28;43;01mTrue\u001b[39;49;00m\u001b[43m,\u001b[49m\n\u001b[1;32m    701\u001b[0m \u001b[43m      \u001b[49m\u001b[43mreplace_tokens_with_dummy\u001b[49m\u001b[38;5;241;43m=\u001b[39;49m\u001b[38;5;28;43;01mTrue\u001b[39;49;00m\u001b[43m,\u001b[49m\n\u001b[1;32m    702\u001b[0m \u001b[43m      \u001b[49m\u001b[43mnum_output_tokens\u001b[49m\u001b[38;5;241;43m=\u001b[39;49m\u001b[38;5;241;43m0\u001b[39;49m\u001b[43m,\u001b[49m\n\u001b[1;32m    703\u001b[0m \u001b[43m      \u001b[49m\u001b[43mreplicated_args\u001b[49m\u001b[38;5;241;43m=\u001b[39;49m\u001b[43mreplicated_args\u001b[49m\u001b[43m,\u001b[49m\n\u001b[1;32m    704\u001b[0m \u001b[43m      \u001b[49m\u001b[43marg_shardings\u001b[49m\u001b[38;5;241;43m=\u001b[39;49m\u001b[43marg_op_shardings\u001b[49m\u001b[43m,\u001b[49m\n\u001b[1;32m    705\u001b[0m \u001b[43m      \u001b[49m\u001b[43mresult_shardings\u001b[49m\u001b[38;5;241;43m=\u001b[39;49m\u001b[43mresult_op_shardings\u001b[49m\u001b[43m,\u001b[49m\n\u001b[1;32m    706\u001b[0m \u001b[43m      \u001b[49m\u001b[43minput_output_aliases\u001b[49m\u001b[38;5;241;43m=\u001b[39;49m\u001b[43minput_output_aliases\u001b[49m\u001b[43m,\u001b[49m\n\u001b[1;32m    707\u001b[0m \u001b[43m      \u001b[49m\u001b[43marg_names\u001b[49m\u001b[38;5;241;43m=\u001b[39;49m\u001b[43marg_names\u001b[49m\u001b[43m,\u001b[49m\n\u001b[1;32m    708\u001b[0m \u001b[43m      \u001b[49m\u001b[43mresult_names\u001b[49m\u001b[38;5;241;43m=\u001b[39;49m\u001b[43mresult_names\u001b[49m\u001b[43m)\u001b[49m\n\u001b[1;32m    710\u001b[0m \u001b[38;5;28;01mtry\u001b[39;00m:\n\u001b[1;32m    711\u001b[0m   \u001b[38;5;28;01mif\u001b[39;00m \u001b[38;5;129;01mnot\u001b[39;00m ctx\u001b[38;5;241m.\u001b[39mmodule\u001b[38;5;241m.\u001b[39moperation\u001b[38;5;241m.\u001b[39mverify():\n",
      "File \u001b[0;32m~/anaconda3/envs/desemu/lib/python3.9/site-packages/jax/_src/interpreters/mlir.py:1030\u001b[0m, in \u001b[0;36mlower_jaxpr_to_fun\u001b[0;34m(ctx, name, jaxpr, effects, create_tokens, public, replace_tokens_with_dummy, replicated_args, arg_shardings, result_shardings, use_sharding_annotations, input_output_aliases, num_output_tokens, api_name, arg_names, result_names)\u001b[0m\n\u001b[1;32m   1028\u001b[0m     args\u001b[38;5;241m.\u001b[39mappend(arg)\n\u001b[1;32m   1029\u001b[0m callee_name_stack \u001b[38;5;241m=\u001b[39m ctx\u001b[38;5;241m.\u001b[39mname_stack\u001b[38;5;241m.\u001b[39mextend(util\u001b[38;5;241m.\u001b[39mwrap_name(name, api_name))\n\u001b[0;32m-> 1030\u001b[0m out_vals, tokens_out \u001b[38;5;241m=\u001b[39m \u001b[43mjaxpr_subcomp\u001b[49m\u001b[43m(\u001b[49m\u001b[43mctx\u001b[49m\u001b[38;5;241;43m.\u001b[39;49m\u001b[43mreplace\u001b[49m\u001b[43m(\u001b[49m\u001b[43mname_stack\u001b[49m\u001b[38;5;241;43m=\u001b[39;49m\u001b[43mcallee_name_stack\u001b[49m\u001b[43m)\u001b[49m\u001b[43m,\u001b[49m\n\u001b[1;32m   1031\u001b[0m \u001b[43m                                     \u001b[49m\u001b[43mjaxpr\u001b[49m\u001b[38;5;241;43m.\u001b[39;49m\u001b[43mjaxpr\u001b[49m\u001b[43m,\u001b[49m\u001b[43m \u001b[49m\u001b[43mtokens_in\u001b[49m\u001b[43m,\u001b[49m\u001b[43m \u001b[49m\u001b[38;5;28;43mmap\u001b[39;49m\u001b[43m(\u001b[49m\u001b[43mir_constants\u001b[49m\u001b[43m,\u001b[49m\u001b[43m \u001b[49m\u001b[43mjaxpr\u001b[49m\u001b[38;5;241;43m.\u001b[39;49m\u001b[43mconsts\u001b[49m\u001b[43m)\u001b[49m\u001b[43m,\u001b[49m\n\u001b[1;32m   1032\u001b[0m \u001b[43m                                     \u001b[49m\u001b[38;5;241;43m*\u001b[39;49m\u001b[43margs\u001b[49m\u001b[43m,\u001b[49m\u001b[43m \u001b[49m\u001b[43mdim_var_values\u001b[49m\u001b[38;5;241;43m=\u001b[39;49m\u001b[43mdim_var_values\u001b[49m\u001b[43m)\u001b[49m\n\u001b[1;32m   1033\u001b[0m outs \u001b[38;5;241m=\u001b[39m []\n\u001b[1;32m   1034\u001b[0m \u001b[38;5;28;01mif\u001b[39;00m create_tokens:\n",
      "File \u001b[0;32m~/anaconda3/envs/desemu/lib/python3.9/site-packages/jax/_src/interpreters/mlir.py:1177\u001b[0m, in \u001b[0;36mjaxpr_subcomp\u001b[0;34m(ctx, jaxpr, tokens, consts, dim_var_values, *args)\u001b[0m\n\u001b[1;32m   1173\u001b[0m   axis_size_env \u001b[38;5;241m=\u001b[39m {d: read(d)[\u001b[38;5;241m0\u001b[39m]\n\u001b[1;32m   1174\u001b[0m                    \u001b[38;5;28;01mfor\u001b[39;00m a \u001b[38;5;129;01min\u001b[39;00m avals_in \u001b[38;5;28;01mif\u001b[39;00m \u001b[38;5;28mtype\u001b[39m(a) \u001b[38;5;129;01mis\u001b[39;00m core\u001b[38;5;241m.\u001b[39mDShapedArray\n\u001b[1;32m   1175\u001b[0m                    \u001b[38;5;28;01mfor\u001b[39;00m d \u001b[38;5;129;01min\u001b[39;00m a\u001b[38;5;241m.\u001b[39mshape \u001b[38;5;28;01mif\u001b[39;00m \u001b[38;5;28mtype\u001b[39m(d) \u001b[38;5;129;01mis\u001b[39;00m core\u001b[38;5;241m.\u001b[39mVar}\n\u001b[1;32m   1176\u001b[0m   rule_ctx \u001b[38;5;241m=\u001b[39m rule_ctx\u001b[38;5;241m.\u001b[39mreplace(axis_size_env\u001b[38;5;241m=\u001b[39maxis_size_env)\n\u001b[0;32m-> 1177\u001b[0m ans \u001b[38;5;241m=\u001b[39m \u001b[43mrule\u001b[49m\u001b[43m(\u001b[49m\u001b[43mrule_ctx\u001b[49m\u001b[43m,\u001b[49m\u001b[43m \u001b[49m\u001b[38;5;241;43m*\u001b[39;49m\u001b[38;5;28;43mmap\u001b[39;49m\u001b[43m(\u001b[49m\u001b[43m_unwrap_singleton_ir_values\u001b[49m\u001b[43m,\u001b[49m\u001b[43m \u001b[49m\u001b[43min_nodes\u001b[49m\u001b[43m)\u001b[49m\u001b[43m,\u001b[49m\n\u001b[1;32m   1178\u001b[0m \u001b[43m           \u001b[49m\u001b[38;5;241;43m*\u001b[39;49m\u001b[38;5;241;43m*\u001b[39;49m\u001b[43meqn\u001b[49m\u001b[38;5;241;43m.\u001b[39;49m\u001b[43mparams\u001b[49m\u001b[43m)\u001b[49m\n\u001b[1;32m   1179\u001b[0m \u001b[38;5;28;01mif\u001b[39;00m effects:\n\u001b[1;32m   1180\u001b[0m   \u001b[38;5;66;03m# If there were ordered effects in the primitive, there should be output\u001b[39;00m\n\u001b[1;32m   1181\u001b[0m   \u001b[38;5;66;03m# tokens we need for subsequent ordered effects.\u001b[39;00m\n\u001b[1;32m   1182\u001b[0m   tokens_out \u001b[38;5;241m=\u001b[39m rule_ctx\u001b[38;5;241m.\u001b[39mtokens_out\n",
      "File \u001b[0;32m~/anaconda3/envs/desemu/lib/python3.9/site-packages/jax/_src/lax/lax.py:3247\u001b[0m, in \u001b[0;36m_squeeze_lower\u001b[0;34m(***failed resolving arguments***)\u001b[0m\n\u001b[1;32m   3245\u001b[0m \u001b[38;5;28;01mdef\u001b[39;00m \u001b[38;5;21m_squeeze_lower\u001b[39m(ctx, operand, \u001b[38;5;241m*\u001b[39m, dimensions):\n\u001b[1;32m   3246\u001b[0m   \u001b[38;5;28;01mdel\u001b[39;00m dimensions  \u001b[38;5;66;03m# Implied by the output aval.\u001b[39;00m\n\u001b[0;32m-> 3247\u001b[0m   \u001b[38;5;28;01mreturn\u001b[39;00m [\u001b[43mmlir\u001b[49m\u001b[38;5;241;43m.\u001b[39;49m\u001b[43mreshape\u001b[49m\u001b[43m(\u001b[49m\u001b[43mctx\u001b[49m\u001b[43m,\u001b[49m\u001b[43m \u001b[49m\u001b[43moperand\u001b[49m\u001b[43m,\u001b[49m\u001b[43m \u001b[49m\u001b[43mctx\u001b[49m\u001b[38;5;241;43m.\u001b[39;49m\u001b[43mavals_out\u001b[49m\u001b[43m[\u001b[49m\u001b[38;5;241;43m0\u001b[39;49m\u001b[43m]\u001b[49m\u001b[43m)\u001b[49m]\n",
      "File \u001b[0;32m~/anaconda3/envs/desemu/lib/python3.9/site-packages/jax/_src/interpreters/mlir.py:1361\u001b[0m, in \u001b[0;36mreshape\u001b[0;34m(ctx, op, aval_out)\u001b[0m\n\u001b[1;32m   1356\u001b[0m   \u001b[38;5;28;01mreturn\u001b[39;00m hlo\u001b[38;5;241m.\u001b[39mDynamicReshapeOp(\n\u001b[1;32m   1357\u001b[0m       aval_to_ir_type(aval_out), op,\n\u001b[1;32m   1358\u001b[0m       shape_tensor(shape),\n\u001b[1;32m   1359\u001b[0m   )\u001b[38;5;241m.\u001b[39mresult\n\u001b[1;32m   1360\u001b[0m \u001b[38;5;28;01melse\u001b[39;00m:\n\u001b[0;32m-> 1361\u001b[0m   \u001b[38;5;28;01mreturn\u001b[39;00m \u001b[43mhlo\u001b[49m\u001b[38;5;241;43m.\u001b[39;49m\u001b[43mReshapeOp\u001b[49m\u001b[43m(\u001b[49m\u001b[43maval_to_ir_type\u001b[49m\u001b[43m(\u001b[49m\u001b[43maval_out\u001b[49m\u001b[43m)\u001b[49m\u001b[43m,\u001b[49m\u001b[43m \u001b[49m\u001b[43mop\u001b[49m\u001b[43m)\u001b[49m\u001b[38;5;241m.\u001b[39mresult\n",
      "File \u001b[0;32m~/anaconda3/envs/desemu/lib/python3.9/site-packages/jaxlib/mlir/dialects/_stablehlo_ops_gen.py:3941\u001b[0m, in \u001b[0;36mReshapeOp.__init__\u001b[0;34m(self, result, operand, loc, ip)\u001b[0m\n\u001b[1;32m   3939\u001b[0m results\u001b[38;5;241m.\u001b[39mappend(result)\n\u001b[1;32m   3940\u001b[0m _ods_successors \u001b[38;5;241m=\u001b[39m \u001b[38;5;28;01mNone\u001b[39;00m\n\u001b[0;32m-> 3941\u001b[0m \u001b[38;5;28;43msuper\u001b[39;49m\u001b[43m(\u001b[49m\u001b[43m)\u001b[49m\u001b[38;5;241;43m.\u001b[39;49m\u001b[38;5;21;43m__init__\u001b[39;49m\u001b[43m(\u001b[49m\u001b[38;5;28;43mself\u001b[39;49m\u001b[38;5;241;43m.\u001b[39;49m\u001b[43mbuild_generic\u001b[49m\u001b[43m(\u001b[49m\n\u001b[1;32m   3942\u001b[0m \u001b[43m  \u001b[49m\u001b[43mattributes\u001b[49m\u001b[38;5;241;43m=\u001b[39;49m\u001b[43mattributes\u001b[49m\u001b[43m,\u001b[49m\u001b[43m \u001b[49m\u001b[43mresults\u001b[49m\u001b[38;5;241;43m=\u001b[39;49m\u001b[43mresults\u001b[49m\u001b[43m,\u001b[49m\u001b[43m \u001b[49m\u001b[43moperands\u001b[49m\u001b[38;5;241;43m=\u001b[39;49m\u001b[43moperands\u001b[49m\u001b[43m,\u001b[49m\n\u001b[1;32m   3943\u001b[0m \u001b[43m  \u001b[49m\u001b[43msuccessors\u001b[49m\u001b[38;5;241;43m=\u001b[39;49m\u001b[43m_ods_successors\u001b[49m\u001b[43m,\u001b[49m\u001b[43m \u001b[49m\u001b[43mregions\u001b[49m\u001b[38;5;241;43m=\u001b[39;49m\u001b[43mregions\u001b[49m\u001b[43m,\u001b[49m\u001b[43m \u001b[49m\u001b[43mloc\u001b[49m\u001b[38;5;241;43m=\u001b[39;49m\u001b[43mloc\u001b[49m\u001b[43m,\u001b[49m\u001b[43m \u001b[49m\u001b[43mip\u001b[49m\u001b[38;5;241;43m=\u001b[39;49m\u001b[43mip\u001b[49m\u001b[43m)\u001b[49m\u001b[43m)\u001b[49m\n",
      "\u001b[0;31mKeyboardInterrupt\u001b[0m: "
     ]
    }
   ],
   "source": [
    "%%time\n",
    "pk_non_linear_fine_emu = emu_nl_jit(cosmo, new_k, scalefactor) "
   ]
  },
  {
   "cell_type": "code",
   "execution_count": 22,
   "id": "37c7bc73",
   "metadata": {},
   "outputs": [
    {
     "name": "stdout",
     "output_type": "stream",
     "text": [
      "CPU times: user 4.13 s, sys: 828 ms, total: 4.96 s\n",
      "Wall time: 3.23 s\n"
     ]
    }
   ],
   "source": [
    "%%time\n",
    "pk_non_linear_fine_emu = emu_nl_jit(cosmo, new_k, scalefactor) "
   ]
  },
  {
   "cell_type": "markdown",
   "id": "4dbb5962",
   "metadata": {},
   "source": [
    "### Without the Emulator"
   ]
  },
  {
   "cell_type": "code",
   "execution_count": 23,
   "id": "0e48255a",
   "metadata": {},
   "outputs": [],
   "source": [
    "jcp.USE_EMU = False"
   ]
  },
  {
   "cell_type": "code",
   "execution_count": null,
   "id": "6b7f0ea1",
   "metadata": {},
   "outputs": [
    {
     "name": "stdout",
     "output_type": "stream",
     "text": [
      "Not using the emulator\n"
     ]
    }
   ],
   "source": [
    "%%time\n",
    "pk_non_linear_fine_jax = nonlinear_matter_power(cosmo, new_k, scalefactor)"
   ]
  },
  {
   "cell_type": "code",
   "execution_count": null,
   "id": "664f344d",
   "metadata": {},
   "outputs": [],
   "source": [
    "jc_nl_jit = jax.jit(nonlinear_matter_power)"
   ]
  },
  {
   "cell_type": "code",
   "execution_count": null,
   "id": "d1f25f49",
   "metadata": {},
   "outputs": [],
   "source": [
    "%%time\n",
    "pk_non_linear_fine_jax = emu_nl_jit(cosmo, new_k, scalefactor) "
   ]
  },
  {
   "cell_type": "code",
   "execution_count": null,
   "id": "db445653",
   "metadata": {},
   "outputs": [],
   "source": [
    "%%time\n",
    "pk_non_linear_fine_jax = emu_nl_jit(cosmo, new_k, scalefactor) "
   ]
  },
  {
   "cell_type": "code",
   "execution_count": null,
   "id": "5a852206",
   "metadata": {},
   "outputs": [],
   "source": [
    "plt.figure(figsize = (8,6))\n",
    "plt.title(f'Redshift, $z={redshift:.3f}$', fontsize=fontSize)\n",
    "plt.loglog(new_k, prediction, label = 'Emulator, $P_{l}$', lw = 3)\n",
    "plt.loglog(new_k, pklin_jax, lw = 3, linestyle = '--', label = 'JAX Cosmo, $P_{l}$')\n",
    "plt.loglog(new_k, pk_non_linear_fine_emu, label = 'Emulator, $P_{nl}$', lw = 3)\n",
    "plt.loglog(new_k, pk_non_linear_fine_jax, lw = 3, linestyle = '--', label = 'JAX Cosmo, $P_{nl}$')\n",
    "plt.xlim(min(KGRID), max(KGRID))\n",
    "plt.legend(loc = 'best',prop={'family':'sans-serif', 'size':15})\n",
    "plt.ylabel(r'$P(k)$', fontsize = fontSize)\n",
    "plt.xlabel(r'$k\\;[\\textrm{Mpc}^{-1}]$', fontsize = fontSize)\n",
    "plt.tick_params(axis='x', labelsize=fontSize)\n",
    "plt.tick_params(axis='y', labelsize=fontSize)\n",
    "plt.show()"
   ]
  },
  {
   "cell_type": "markdown",
   "id": "71fb4edc",
   "metadata": {},
   "source": [
    "# Blackjax"
   ]
  },
  {
   "cell_type": "code",
   "execution_count": null,
   "id": "3ed425be",
   "metadata": {},
   "outputs": [],
   "source": [
    "import jax\n",
    "import jax.numpy as jnp\n",
    "import jax.scipy.stats as stats\n",
    "import numpy as np\n",
    "import blackjax\n",
    "import pandas as pd "
   ]
  },
  {
   "cell_type": "code",
   "execution_count": null,
   "id": "f4f3e04c",
   "metadata": {},
   "outputs": [],
   "source": [
    "observed = np.random.normal(10, 20, size=1_000)"
   ]
  },
  {
   "cell_type": "code",
   "execution_count": null,
   "id": "422bb987",
   "metadata": {},
   "outputs": [],
   "source": [
    "def logdensity_fn(x):\n",
    "    logpdf = stats.norm.logpdf(observed, x[\"loc\"], x[\"scale\"])\n",
    "    return jnp.sum(logpdf)"
   ]
  },
  {
   "cell_type": "code",
   "execution_count": null,
   "id": "596005ae",
   "metadata": {},
   "outputs": [],
   "source": [
    "# Build the kernel\n",
    "step_size = 1e-3\n",
    "nsamples = 20_000\n",
    "burnin = int(0.1 * nsamples)\n",
    "inverse_mass_matrix = jnp.array([1., 1.])\n",
    "nuts = blackjax.nuts(logdensity_fn, step_size, inverse_mass_matrix)"
   ]
  },
  {
   "cell_type": "code",
   "execution_count": null,
   "id": "888cf6d3",
   "metadata": {},
   "outputs": [],
   "source": [
    "# Initialize the state\n",
    "initial_position = {\"loc\": 1., \"scale\": 2.}\n",
    "state = nuts.init(initial_position)\n",
    "\n",
    "# Iterate\n",
    "rng_key = jax.random.PRNGKey(0)\n",
    "step = jax.jit(nuts.step)\n",
    "record = []\n",
    "for i in range(nsamples):\n",
    "    rng_key, nuts_key = jax.random.split(rng_key)\n",
    "    state, _ = step(nuts_key, state)\n",
    "    position = state.position\n",
    "    record.append({k: position[k].item() for k in position.keys()})"
   ]
  },
  {
   "cell_type": "code",
   "execution_count": null,
   "id": "60a4ef7a",
   "metadata": {},
   "outputs": [],
   "source": [
    "df = pd.DataFrame(record)"
   ]
  },
  {
   "cell_type": "code",
   "execution_count": null,
   "id": "bec07aaf",
   "metadata": {},
   "outputs": [],
   "source": [
    "plt.figure(figsize=(16, 6))\n",
    "plt.subplot(121)\n",
    "plt.hist(df['loc'].values[burnin:], density = True, bins=20, ec='blue')\n",
    "plt.ylabel(r'$p(\\mu)$', fontsize = fontSize)\n",
    "plt.xlabel(r'$\\mu$', fontsize = fontSize)\n",
    "plt.tick_params(axis='x', labelsize=fontSize)\n",
    "plt.tick_params(axis='y', labelsize=fontSize)\n",
    "plt.subplot(122)\n",
    "plt.hist(df['scale'].values[burnin:], density = True, bins=20, ec='blue')\n",
    "plt.ylabel(r'$p(\\sigma)$', fontsize = fontSize)\n",
    "plt.xlabel(r'$\\sigma$', fontsize = fontSize)\n",
    "plt.tick_params(axis='x', labelsize=fontSize)\n",
    "plt.tick_params(axis='y', labelsize=fontSize)\n",
    "plt.show()"
   ]
  },
  {
   "cell_type": "markdown",
   "id": "70716547",
   "metadata": {},
   "source": [
    "### Pathfinder"
   ]
  },
  {
   "cell_type": "code",
   "execution_count": null,
   "id": "14fd8adf",
   "metadata": {},
   "outputs": [],
   "source": [
    "def logdensity_fn_arr(x):\n",
    "    logpdf = stats.norm.logpdf(observed, x[0], x[1])\n",
    "    return jnp.sum(logpdf)"
   ]
  },
  {
   "cell_type": "code",
   "execution_count": null,
   "id": "4a17124f",
   "metadata": {},
   "outputs": [],
   "source": [
    "rng_key = jax.random.PRNGKey(314)\n",
    "w0 = jnp.array([5.0, 15.0])\n",
    "_, info = blackjax.vi.pathfinder.approximate(rng_key, logdensity_fn_arr, w0, ftol=1e-4)\n",
    "path = info.path"
   ]
  },
  {
   "cell_type": "code",
   "execution_count": null,
   "id": "868e1e7e",
   "metadata": {},
   "outputs": [],
   "source": [
    "steps = (jnp.isfinite(path.elbo)).sum()"
   ]
  },
  {
   "cell_type": "code",
   "execution_count": null,
   "id": "380f1144",
   "metadata": {},
   "outputs": [],
   "source": [
    "for i in range(steps):\n",
    "    state = jax.tree_map(lambda x: x[i], path)\n",
    "    sample_state, _ = blackjax.vi.pathfinder.sample(rng_key, state, 10_000)\n",
    "    mu_i, cov_i = sample_state.mean(0), jnp.cov(sample_state, rowvar=False)\n",
    "    print(mu_i)\n",
    "    print(cov_i)\n",
    "    print('-'*50)"
   ]
  },
  {
   "cell_type": "markdown",
   "id": "44539c64",
   "metadata": {},
   "source": [
    "### Periodic Orbital MCMC"
   ]
  },
  {
   "cell_type": "code",
   "execution_count": null,
   "id": "dd8c17bf",
   "metadata": {},
   "outputs": [],
   "source": [
    "import blackjax.mcmc.integrators as integrators\n",
    "from blackjax import orbital_hmc as orbital"
   ]
  },
  {
   "cell_type": "code",
   "execution_count": null,
   "id": "a0234b57",
   "metadata": {},
   "outputs": [],
   "source": [
    "def inference_loop(rng_key, kernel, initial_state, num_samples):\n",
    "    \"\"\"Sequantially draws samples given the kernel of choice.\"\"\"\n",
    "\n",
    "    def one_step(state, rng_key):\n",
    "        state, _ = kernel(rng_key, state)\n",
    "        return state, state\n",
    "\n",
    "    keys = jax.random.split(rng_key, num_samples)\n",
    "    _, states = jax.lax.scan(one_step, initial_state, keys)\n",
    "\n",
    "    return states"
   ]
  },
  {
   "cell_type": "code",
   "execution_count": null,
   "id": "d1722757",
   "metadata": {},
   "outputs": [],
   "source": [
    "def plot_contour(logdensity, orbits=None, weights=None):\n",
    "    \"\"\"Contour plots for density w/ or w/o samples.\"\"\"\n",
    "    a, b, c, d = 8.0, 13.0, 18.0, 23.0\n",
    "    x1 = jnp.linspace(a, b, 1000)\n",
    "    x2 = jnp.linspace(c, d, 1000)\n",
    "    ref = logdensity({\"x1\": 10, \"x2\": 20})\n",
    "    y = jax.vmap(\n",
    "        jax.vmap(lambda x1, x2: jnp.exp(logdensity({\"x1\": x1, \"x2\": x2})-ref), (0, None)),\n",
    "        (None, 0),\n",
    "    )(x1, x2)\n",
    "    fig, ax = plt.subplots(1, 2, figsize=(17, 6))\n",
    "    CS0 = ax[0].contour(x1, x2, y, levels=10, colors=\"k\")\n",
    "    plt.clabel(CS0, inline=1, fontsize=10)\n",
    "    CS1 = ax[1].contour(x1, x2, y, levels=10, colors=\"k\")\n",
    "    plt.clabel(CS1, inline=1, fontsize=10)\n",
    "    if orbits is not None:\n",
    "        ax[0].set_title(\"Unweighted samples\")\n",
    "        ax[0].scatter(orbits[\"x1\"], orbits[\"x2\"], marker=\".\")\n",
    "        ax[1].set_title(\"Weighted samples\")\n",
    "        ax[1].scatter(orbits[\"x1\"], orbits[\"x2\"], marker=\".\", alpha=weights)"
   ]
  },
  {
   "cell_type": "code",
   "execution_count": null,
   "id": "c8d5d330",
   "metadata": {},
   "outputs": [],
   "source": [
    "def logdensity_fn_x1x2(x1, x2):\n",
    "    logpdf = stats.norm.logpdf(observed, x1, x2)\n",
    "    return jnp.sum(logpdf)"
   ]
  },
  {
   "cell_type": "code",
   "execution_count": null,
   "id": "dd301eef",
   "metadata": {},
   "outputs": [],
   "source": [
    "logdensity = lambda x: logdensity_fn_x1x2(**x)"
   ]
  },
  {
   "cell_type": "code",
   "execution_count": null,
   "id": "27ab44bf",
   "metadata": {},
   "outputs": [],
   "source": [
    "inv_mass_matrix = jnp.ones(2)\n",
    "period = 2\n",
    "step_size = 0.5\n",
    "initial_position = {\"x1\": 10.0, \"x2\": 20.0}"
   ]
  },
  {
   "cell_type": "code",
   "execution_count": null,
   "id": "2d895f0f",
   "metadata": {},
   "outputs": [],
   "source": [
    "init_fn, vv_kernel = orbital(\n",
    "    logdensity, step_size, inv_mass_matrix, period, bijection=integrators.mclachlan\n",
    ")\n",
    "initial_state = init_fn(initial_position)\n",
    "vv_kernel = jax.jit(vv_kernel)"
   ]
  },
  {
   "cell_type": "code",
   "execution_count": null,
   "id": "b531beb1",
   "metadata": {},
   "outputs": [],
   "source": [
    "rng_key = jax.random.PRNGKey(0)\n",
    "states = inference_loop(rng_key, vv_kernel, initial_state, 10_000)\n",
    "\n",
    "samples = states.positions\n",
    "weights = states.weights"
   ]
  },
  {
   "cell_type": "code",
   "execution_count": null,
   "id": "2a74c361",
   "metadata": {},
   "outputs": [],
   "source": [
    "weights"
   ]
  },
  {
   "cell_type": "code",
   "execution_count": null,
   "id": "ac299f63",
   "metadata": {},
   "outputs": [],
   "source": [
    "plot_contour(logdensity)"
   ]
  },
  {
   "cell_type": "code",
   "execution_count": null,
   "id": "296b6f77",
   "metadata": {},
   "outputs": [],
   "source": [
    "plot_contour(logdensity, orbits=samples, weights=None)"
   ]
  },
  {
   "cell_type": "markdown",
   "id": "1bc2ebd9",
   "metadata": {},
   "source": [
    "# Numpyro"
   ]
  },
  {
   "cell_type": "code",
   "execution_count": null,
   "id": "0fdad029",
   "metadata": {},
   "outputs": [],
   "source": [
    "import jax\n",
    "# from jax.experimental import mesh_utils\n",
    "# from jax.sharding import PositionalSharding\n",
    "import numpy as np\n",
    "import numpyro\n",
    "import numpyro.distributions as dist\n",
    "from numpyro.infer import MCMC, NUTS, init_to_value"
   ]
  },
  {
   "cell_type": "code",
   "execution_count": null,
   "id": "5e55c1d6",
   "metadata": {},
   "outputs": [],
   "source": [
    "ref_params = {'m1': 0.0, 'm2': 0.0, 'm3': 0.0}"
   ]
  },
  {
   "cell_type": "code",
   "execution_count": null,
   "id": "43611ffc",
   "metadata": {},
   "outputs": [],
   "source": [
    "X = np.random.randn(128, 3)\n",
    "y = np.random.randn(128)\n",
    "\n",
    "def model(X, y):\n",
    "    # beta = numpyro.sample(\"beta\", dist.Normal(0, 1).expand([3]))\n",
    "    # beta = numpyro.sample(\"beta\", dist.Normal(0.012, 0.023).expand([3]))\n",
    "    m1 = numpyro.sample(\"m1\", dist.Normal(0.012, 0.023))\n",
    "    m2 = numpyro.sample(\"m2\", dist.Normal(0.012, 0.023))\n",
    "    m3 = numpyro.sample(\"m3\", dist.Normal(0.012, 0.023))\n",
    "    beta = jnp.array([m1, m2, m3])\n",
    "    print(beta)\n",
    "    numpyro.sample(\"obs\", dist.Normal(X @ beta, 1), obs=y)\n",
    "\n",
    "mcmc = MCMC(NUTS(model, init_strategy=init_to_value(values=ref_params)), num_warmup=10, num_samples=1000)\n",
    "\n",
    "# # See https://jax.readthedocs.io/en/latest/notebooks/Distributed_arrays_and_automatic_parallelization.html\n",
    "# sharding = PositionalSharding(mesh_utils.create_device_mesh((8,)))\n",
    "# X_shard = jax.device_put(X, sharding.reshape(8, 1))\n",
    "# y_shard = jax.device_put(y, sharding.reshape(8))\n",
    "# mcmc.run(jax.random.PRNGKey(0), X_shard, y_shard)"
   ]
  },
  {
   "cell_type": "code",
   "execution_count": null,
   "id": "7e82ed18",
   "metadata": {},
   "outputs": [],
   "source": [
    "# [ 1.39441888 -0.38114053  0.38801493]"
   ]
  },
  {
   "cell_type": "code",
   "execution_count": null,
   "id": "2f3593d7",
   "metadata": {},
   "outputs": [],
   "source": [
    "%%time\n",
    "mcmc.run(jax.random.PRNGKey(124545), X, y)"
   ]
  },
  {
   "cell_type": "code",
   "execution_count": null,
   "id": "c4757d1b",
   "metadata": {},
   "outputs": [],
   "source": [
    "beta_samples = mcmc.get_samples()"
   ]
  },
  {
   "cell_type": "code",
   "execution_count": null,
   "id": "f1bd0878",
   "metadata": {},
   "outputs": [],
   "source": [
    "beta_samples"
   ]
  },
  {
   "cell_type": "code",
   "execution_count": null,
   "id": "d5025b34",
   "metadata": {},
   "outputs": [],
   "source": [
    "def normal_distribution(mean, std):\n",
    "    import scipy.stats as ss \n",
    "    xrange = np.linspace(mean - 5* std, mean + 5 * std, 1000)\n",
    "    distribution = ss.norm(mean, std)\n",
    "    pdf = distribution.pdf(xrange)\n",
    "    return xrange, pdf"
   ]
  },
  {
   "cell_type": "code",
   "execution_count": null,
   "id": "9b2c43a6",
   "metadata": {},
   "outputs": [],
   "source": [
    "plt.figure()\n",
    "plt.hist(beta_samples['m1'], density=True)\n",
    "x, p = normal_distribution(0.012, 0.023)\n",
    "plt.plot(x, p)\n",
    "plt.show()"
   ]
  },
  {
   "cell_type": "code",
   "execution_count": null,
   "id": "4537e04a",
   "metadata": {},
   "outputs": [],
   "source": [
    "import scipy.stats as ss "
   ]
  },
  {
   "cell_type": "code",
   "execution_count": null,
   "id": "768338e5",
   "metadata": {},
   "outputs": [],
   "source": [
    "distribution = ss.multivariate_normal(np.ones(2), np.eye(2))"
   ]
  },
  {
   "cell_type": "code",
   "execution_count": null,
   "id": "1663c6fe",
   "metadata": {},
   "outputs": [],
   "source": [
    "vec = np.random.randn(2)"
   ]
  },
  {
   "cell_type": "code",
   "execution_count": null,
   "id": "a2406d56",
   "metadata": {},
   "outputs": [],
   "source": [
    "distribution.logpdf(vec)"
   ]
  },
  {
   "cell_type": "code",
   "execution_count": null,
   "id": "d233d68e",
   "metadata": {},
   "outputs": [],
   "source": [
    "factor = 5"
   ]
  },
  {
   "cell_type": "code",
   "execution_count": null,
   "id": "028fe17b",
   "metadata": {},
   "outputs": [],
   "source": [
    "distribution2 = ss.multivariate_normal(factor*np.ones(2), np.eye(2)*factor**2)"
   ]
  },
  {
   "cell_type": "code",
   "execution_count": null,
   "id": "40eaf087",
   "metadata": {},
   "outputs": [],
   "source": [
    "distribution2.logpdf(vec*factor)"
   ]
  },
  {
   "cell_type": "code",
   "execution_count": null,
   "id": "94af576a",
   "metadata": {},
   "outputs": [],
   "source": [
    "def pdf(x, mean, cov):\n",
    "    return np.exp(logpdf(x, mean, cov))\n",
    "\n",
    "\n",
    "def logpdf(x, mean, cov):\n",
    "    # `eigh` assumes the matrix is Hermitian.\n",
    "    vals, vecs = np.linalg.eigh(cov)\n",
    "    logdet     = np.sum(np.log(vals))\n",
    "    valsinv    = np.array([1./v for v in vals])\n",
    "    # `vecs` is R times D while `vals` is a R-vector where R is the matrix \n",
    "    # rank. The asterisk performs element-wise multiplication.\n",
    "    U          = vecs * np.sqrt(valsinv)\n",
    "    rank       = len(vals)\n",
    "    dev        = x - mean\n",
    "    # \"maha\" for \"Mahalanobis distance\".\n",
    "    maha       = np.square(np.dot(dev, U)).sum()\n",
    "    log2pi     = np.log(2 * np.pi)\n",
    "    return -0.5 * (rank * log2pi + maha + logdet)"
   ]
  },
  {
   "cell_type": "code",
   "execution_count": null,
   "id": "2fb075ce",
   "metadata": {},
   "outputs": [],
   "source": [
    "cov = np.random.randn(2,2)\n",
    "cov = cov @ cov.T"
   ]
  },
  {
   "cell_type": "code",
   "execution_count": null,
   "id": "39a69d77",
   "metadata": {},
   "outputs": [],
   "source": [
    "vals, vecs = np.linalg.eigh(cov)\n",
    "logdet     = np.sum(np.log(vals))\n",
    "valsinv    = np.array([1./v for v in vals])\n",
    "# `vecs` is R times D while `vals` is a R-vector where R is the matrix \n",
    "# rank. The asterisk performs element-wise multiplication.\n",
    "U          = vecs * np.sqrt(valsinv)\n",
    "rank       = len(vals)"
   ]
  },
  {
   "cell_type": "code",
   "execution_count": null,
   "id": "d86459c1",
   "metadata": {},
   "outputs": [],
   "source": [
    "x = np.random.randn(2)\n",
    "mean = np.zeros(2)\n",
    "dev = x - mean"
   ]
  },
  {
   "cell_type": "code",
   "execution_count": null,
   "id": "71d4e6aa",
   "metadata": {},
   "outputs": [],
   "source": [
    "dev"
   ]
  },
  {
   "cell_type": "code",
   "execution_count": null,
   "id": "6d7f3a15",
   "metadata": {},
   "outputs": [],
   "source": [
    "np.dot(dev, U)"
   ]
  },
  {
   "cell_type": "code",
   "execution_count": null,
   "id": "92b100e3",
   "metadata": {},
   "outputs": [],
   "source": [
    "jax.scipy.stats.uniform.logpdf(jnp.ones(1), 0, 2)"
   ]
  },
  {
   "cell_type": "code",
   "execution_count": null,
   "id": "355ba9f9",
   "metadata": {},
   "outputs": [],
   "source": [
    "jax.scipy.stats.norm.logpdf(jnp.zeros(1), 0, 1)"
   ]
  },
  {
   "cell_type": "code",
   "execution_count": null,
   "id": "4b11ad31",
   "metadata": {},
   "outputs": [],
   "source": [
    "import scipy.stats as ss "
   ]
  },
  {
   "cell_type": "code",
   "execution_count": null,
   "id": "ead5c0ee",
   "metadata": {},
   "outputs": [],
   "source": [
    "ss.norm(0, 1).logpdf(0)"
   ]
  },
  {
   "cell_type": "code",
   "execution_count": null,
   "id": "b9c53463-94cd-4a28-a576-f231b0962633",
   "metadata": {},
   "outputs": [],
   "source": []
  }
 ],
 "metadata": {
  "kernelspec": {
   "display_name": "Python 3 (ipykernel)",
   "language": "python",
   "name": "python3"
  },
  "language_info": {
   "codemirror_mode": {
    "name": "ipython",
    "version": 3
   },
   "file_extension": ".py",
   "mimetype": "text/x-python",
   "name": "python",
   "nbconvert_exporter": "python",
   "pygments_lexer": "ipython3",
   "version": "3.9.18"
  }
 },
 "nbformat": 4,
 "nbformat_minor": 5
}
