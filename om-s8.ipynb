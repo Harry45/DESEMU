{
 "cells": [
  {
   "cell_type": "code",
   "execution_count": 2,
   "id": "3533babd",
   "metadata": {},
   "outputs": [],
   "source": [
    "import numpy as np\n",
    "import matplotlib.pylab as plt \n",
    "from getdist import plots, MCSamples\n",
    "from utils.helpers import pickle_load \n",
    "\n",
    "plt.rc('text', usetex=True)\n",
    "plt.rc('font',**{'family':'sans-serif','serif':['Palatino']})\n",
    "figSize  = (12, 8)\n",
    "fontSize = 15\n",
    "\n",
    "settings={'mult_bias_correction_order':0,'smooth_scale_2D':0.3, 'smooth_scale_1D':0.3}\n",
    "color1 = '#50C878' #'#B5CA8D'\n",
    "color3 = '#222E50'\n",
    "alpha = 0.9\n",
    "palefactor = 0.9\n",
    "linewidth = 2 \n",
    "contours = [0.68,0.95]"
   ]
  },
  {
   "cell_type": "code",
   "execution_count": 3,
   "id": "6c2b18bb",
   "metadata": {},
   "outputs": [],
   "source": [
    "KEYS = ['sigma8', 'Omegac', 'Omegab', 'hubble', 'ns',\n",
    "        'm1', 'm2', 'm3', 'm4',\n",
    "        'dz_wl_1', 'dz_wl_2', 'dz_wl_3', 'dz_wl_4',\n",
    "        'a_ia', 'eta',\n",
    "        'b1', 'b2', 'b3', 'b4', 'b5', \n",
    "        'dz_gc_1', 'dz_gc_2', 'dz_gc_3', 'dz_gc_4', 'dz_gc_5']"
   ]
  },
  {
   "cell_type": "markdown",
   "id": "40fdf706",
   "metadata": {},
   "source": [
    "## Emulator and JAX-COSMO"
   ]
  },
  {
   "cell_type": "code",
   "execution_count": 17,
   "id": "e71465d2",
   "metadata": {},
   "outputs": [],
   "source": [
    "# if we use Cobaya\n",
    "\n",
    "def cobaya_chains(engine = 'jaxcosmo'):\n",
    "    \n",
    "    record_samples = []\n",
    "\n",
    "    for i in range(2):\n",
    "        file = np.loadtxt(f'outputcobaya/testing/{engine}_{i+1}/output_prefix.1.txt')\n",
    "        samples = file[:,2:-4][:,0:5]\n",
    "        record_samples.append(samples)\n",
    "    record_samples = np.concatenate(record_samples)\n",
    "    \n",
    "    omega_matter = record_samples[:,1] + record_samples[:,2]\n",
    "    s8_parameter = record_samples[:,0] * np.sqrt(omega_matter/0.3)\n",
    "    om_s8 = np.c_[np.atleast_2d(omega_matter).T, np.atleast_2d(s8_parameter).T]\n",
    "\n",
    "    return om_s8"
   ]
  },
  {
   "cell_type": "code",
   "execution_count": 18,
   "id": "784d0816",
   "metadata": {},
   "outputs": [],
   "source": [
    "cb_jc = cobaya_chains('jaxcosmo')\n",
    "cb_emu = cobaya_chains('emulator')"
   ]
  },
  {
   "cell_type": "code",
   "execution_count": 11,
   "id": "fef2a2df",
   "metadata": {},
   "outputs": [],
   "source": [
    "# if we use NUTS instead \n",
    "\n",
    "emulator_nuts = pickle_load('samples', 'emulator_nuts_small_ss_high_td')\n",
    "emulator_samples = np.asarray([np.asarray(emulator_nuts.get_samples()[key]) for key in KEYS]).T\n",
    "\n",
    "jaxcosmo_nuts = pickle_load('samples', 'jaxcosmo_nuts_small_ss_high_td')\n",
    "jaxcosmo_samples = np.asarray([np.asarray(jaxcosmo_nuts.get_samples()[key]) for key in KEYS]).T"
   ]
  },
  {
   "cell_type": "markdown",
   "id": "784f9bd1",
   "metadata": {},
   "source": [
    "## Planck Samples"
   ]
  },
  {
   "cell_type": "code",
   "execution_count": 12,
   "id": "577bbff5",
   "metadata": {},
   "outputs": [],
   "source": [
    "folder = '/home/arrykrishna/Desktop/Planck/base/plikHM_TTTEEE_lowl_lowE/'\n",
    "\n",
    "c1 = np.loadtxt(folder + 'base_plikHM_TTTEEE_lowl_lowE_1.txt')\n",
    "c2 = np.loadtxt(folder + 'base_plikHM_TTTEEE_lowl_lowE_2.txt')\n",
    "c3 = np.loadtxt(folder + 'base_plikHM_TTTEEE_lowl_lowE_3.txt')\n",
    "c4 = np.loadtxt(folder + 'base_plikHM_TTTEEE_lowl_lowE_4.txt')\n",
    "\n",
    "s1 = np.array([c1[:,31], c1[:,36]]).T\n",
    "s2 = np.array([c2[:,31], c2[:,36]]).T\n",
    "s3 = np.array([c3[:,31], c3[:,36]]).T\n",
    "s4 = np.array([c4[:,31], c4[:,36]]).T\n",
    "\n",
    "samples_planck = np.concatenate([s1, s2, s3, s4])"
   ]
  },
  {
   "cell_type": "markdown",
   "id": "423fa922",
   "metadata": {},
   "source": [
    "## Plot"
   ]
  },
  {
   "cell_type": "code",
   "execution_count": 19,
   "id": "c6c58212",
   "metadata": {},
   "outputs": [],
   "source": [
    "emu_omega_matter = emulator_samples[:,1] + emulator_samples[:,2]\n",
    "emu_s8_parameter = emulator_samples[:,0] * np.sqrt(emu_omega_matter/0.3)\n",
    "emu_om_s8 = np.c_[np.atleast_2d(emu_omega_matter).T, np.atleast_2d(emu_s8_parameter).T]\n",
    "\n",
    "jc_omega_matter = jaxcosmo_samples[:,1] + jaxcosmo_samples[:,2]\n",
    "jc_s8_parameter = jaxcosmo_samples[:,0] * np.sqrt(jc_omega_matter/0.3)\n",
    "jc_om_s8 = np.c_[np.atleast_2d(jc_omega_matter).T, np.atleast_2d(jc_s8_parameter).T]"
   ]
  },
  {
   "cell_type": "code",
   "execution_count": 20,
   "id": "822a2b0d",
   "metadata": {},
   "outputs": [
    {
     "name": "stdout",
     "output_type": "stream",
     "text": [
      "Removed no burn in\n",
      "Removed no burn in\n",
      "Removed no burn in\n"
     ]
    }
   ],
   "source": [
    "names    = [\"x%s\"%i for i in range(2)]\n",
    "labels   =  [r'$\\Omega_{m}$', r'$S_{8}=\\sigma_{8}\\sqrt{\\Omega_{m}/0.3}$']\n",
    "\n",
    "samples_getdist_1 = MCSamples(samples=emu_om_s8,names = names, labels = labels, settings = settings)\n",
    "samples_getdist_2 = MCSamples(samples=cb_emu,names = names, labels = labels, settings = settings)\n",
    "samples_getdist_p = MCSamples(samples=samples_planck,names = names, labels = labels, settings = settings)"
   ]
  },
  {
   "cell_type": "code",
   "execution_count": 27,
   "id": "38790759",
   "metadata": {},
   "outputs": [],
   "source": [
    "legend_labels_ = ['Emulator (NUTS)', 'Emulator (Cobaya)', 'Planck 2018']"
   ]
  },
  {
   "cell_type": "code",
   "execution_count": 34,
   "id": "7c7617b4",
   "metadata": {},
   "outputs": [
    {
     "data": {
      "image/png": "[encoded data removed]",
      "text/plain": [
       "<Figure size 400x400 with 1 Axes>"
      ]
     },
     "metadata": {},
     "output_type": "display_data"
    }
   ],
   "source": [
    "G = plots.getSinglePlotter(width_inch=4, ratio=1)\n",
    "# G.add_text('Testing', x=0.5, y=1.06, fontsize = 15)\n",
    "G.settings.num_plot_contours = 2\n",
    "G.settings.lw_contour = 0.2\n",
    "G.settings.axes_fontsize = 12\n",
    "G.settings.lab_fontsize = 12\n",
    "G.settings.solid_contour_palefactor = 0.9\n",
    "G.settings.alpha_filled_add = alpha\n",
    "G.settings.legend_fontsize = 8\n",
    "G.plot_2d([samples_getdist_1, samples_getdist_2, samples_getdist_p], 'x0', 'x1', filled=[False, True, True], colors =[color3,color1,'orange'], lims = [0.15, 0.4, 0.6, 1.0])\n",
    "G.add_legend(legend_labels_, legend_loc='upper left');\n",
    "# plt.savefig(f'plots/S8_OM_comparison_NUTS_Cobaya.pdf', bbox_inches = 'tight')\n",
    "plt.show()"
   ]
  },
  {
   "cell_type": "markdown",
   "id": "2c04bfcb",
   "metadata": {},
   "source": [
    "## Summary Statistics"
   ]
  },
  {
   "cell_type": "code",
   "execution_count": 35,
   "id": "49ef4704",
   "metadata": {},
   "outputs": [],
   "source": [
    "np.set_printoptions(precision=3, suppress=True)"
   ]
  },
  {
   "cell_type": "code",
   "execution_count": 36,
   "id": "8f82a781",
   "metadata": {},
   "outputs": [
    {
     "data": {
      "text/plain": [
       "array([0.273, 0.797])"
      ]
     },
     "execution_count": 36,
     "metadata": {},
     "output_type": "execute_result"
    }
   ],
   "source": [
    "np.mean(emu_om_s8, axis = 0)"
   ]
  },
  {
   "cell_type": "code",
   "execution_count": 37,
   "id": "75854416",
   "metadata": {},
   "outputs": [
    {
     "data": {
      "text/plain": [
       "array([0.025, 0.036])"
      ]
     },
     "execution_count": 37,
     "metadata": {},
     "output_type": "execute_result"
    }
   ],
   "source": [
    "np.std(emu_om_s8, axis = 0)"
   ]
  },
  {
   "cell_type": "code",
   "execution_count": 45,
   "id": "ef5c3250",
   "metadata": {},
   "outputs": [
    {
     "data": {
      "text/plain": [
       "array([0.274, 0.788])"
      ]
     },
     "execution_count": 45,
     "metadata": {},
     "output_type": "execute_result"
    }
   ],
   "source": [
    "np.mean(jc_om_s8, axis = 0)"
   ]
  },
  {
   "cell_type": "code",
   "execution_count": 46,
   "id": "5a15f455",
   "metadata": {},
   "outputs": [
    {
     "data": {
      "text/plain": [
       "array([0.028, 0.034])"
      ]
     },
     "execution_count": 46,
     "metadata": {},
     "output_type": "execute_result"
    }
   ],
   "source": [
    "np.std(jc_om_s8, axis = 0)"
   ]
  },
  {
   "cell_type": "code",
   "execution_count": 38,
   "id": "d509c8b1",
   "metadata": {},
   "outputs": [
    {
     "data": {
      "text/plain": [
       "array([0.271, 0.803])"
      ]
     },
     "execution_count": 38,
     "metadata": {},
     "output_type": "execute_result"
    }
   ],
   "source": [
    "np.mean(cb_emu, axis = 0)  "
   ]
  },
  {
   "cell_type": "code",
   "execution_count": 39,
   "id": "eabb04da",
   "metadata": {},
   "outputs": [
    {
     "data": {
      "text/plain": [
       "array([0.024, 0.034])"
      ]
     },
     "execution_count": 39,
     "metadata": {},
     "output_type": "execute_result"
    }
   ],
   "source": [
    "np.std(cb_emu, axis = 0)"
   ]
  },
  {
   "cell_type": "code",
   "execution_count": 26,
   "id": "6fc904c7",
   "metadata": {},
   "outputs": [
    {
     "data": {
      "text/plain": [
       "array([0.316, 0.834])"
      ]
     },
     "execution_count": 26,
     "metadata": {},
     "output_type": "execute_result"
    }
   ],
   "source": [
    "np.mean(samples_planck, axis = 0)"
   ]
  },
  {
   "cell_type": "code",
   "execution_count": 27,
   "id": "0aa1348e",
   "metadata": {},
   "outputs": [
    {
     "data": {
      "text/plain": [
       "array([0.009, 0.016])"
      ]
     },
     "execution_count": 27,
     "metadata": {},
     "output_type": "execute_result"
    }
   ],
   "source": [
    "np.std(samples_planck, axis = 0)"
   ]
  },
  {
   "cell_type": "code",
   "execution_count": 43,
   "id": "524c6e89",
   "metadata": {},
   "outputs": [
    {
     "data": {
      "text/plain": [
       "array([0.271, 0.794])"
      ]
     },
     "execution_count": 43,
     "metadata": {},
     "output_type": "execute_result"
    }
   ],
   "source": [
    "np.mean(cb_jc, axis = 0)"
   ]
  },
  {
   "cell_type": "code",
   "execution_count": 44,
   "id": "911713cf",
   "metadata": {},
   "outputs": [
    {
     "data": {
      "text/plain": [
       "array([0.026, 0.034])"
      ]
     },
     "execution_count": 44,
     "metadata": {},
     "output_type": "execute_result"
    }
   ],
   "source": [
    "np.std(cb_jc, axis = 0)"
   ]
  },
  {
   "cell_type": "markdown",
   "id": "62829317",
   "metadata": {},
   "source": [
    "## Distance \n",
    "Calculated with respect to Planck."
   ]
  },
  {
   "cell_type": "code",
   "execution_count": 13,
   "id": "bf7d8913",
   "metadata": {},
   "outputs": [],
   "source": [
    "def distance_planck(new_samples, planck_samples, sigma_planck = False):\n",
    "\n",
    "    diff = np.abs(np.mean(new_samples) - np.mean(planck_samples))\n",
    "    if sigma_planck:\n",
    "        return diff / np.std(planck_samples)\n",
    "    return diff / np.sqrt(np.var(new_samples) + np.var(planck_samples))"
   ]
  },
  {
   "cell_type": "code",
   "execution_count": 14,
   "id": "76033952",
   "metadata": {},
   "outputs": [
    {
     "data": {
      "text/plain": [
       "0.8805825643144466"
      ]
     },
     "execution_count": 14,
     "metadata": {},
     "output_type": "execute_result"
    }
   ],
   "source": [
    "distance_planck(emu_om_s8[:,1], samples_planck[:,1], sigma_planck = False)"
   ]
  },
  {
   "cell_type": "code",
   "execution_count": 15,
   "id": "32e6f265",
   "metadata": {},
   "outputs": [
    {
     "data": {
      "text/plain": [
       "1.1891880982592087"
      ]
     },
     "execution_count": 15,
     "metadata": {},
     "output_type": "execute_result"
    }
   ],
   "source": [
    "distance_planck(jc_om_s8[:,1], samples_planck[:,1], sigma_planck = False)"
   ]
  },
  {
   "cell_type": "code",
   "execution_count": 16,
   "id": "856f5659",
   "metadata": {},
   "outputs": [
    {
     "data": {
      "text/plain": [
       "2.135671578855333"
      ]
     },
     "execution_count": 16,
     "metadata": {},
     "output_type": "execute_result"
    }
   ],
   "source": [
    "distance_planck(emu_om_s8[:,1], samples_planck[:,1], sigma_planck = True)"
   ]
  },
  {
   "cell_type": "code",
   "execution_count": 17,
   "id": "e273a306",
   "metadata": {},
   "outputs": [
    {
     "data": {
      "text/plain": [
       "2.7791150703677907"
      ]
     },
     "execution_count": 17,
     "metadata": {},
     "output_type": "execute_result"
    }
   ],
   "source": [
    "distance_planck(jc_om_s8[:,1], samples_planck[:,1], sigma_planck = True)"
   ]
  },
  {
   "cell_type": "code",
   "execution_count": null,
   "id": "75fbc9c3",
   "metadata": {},
   "outputs": [],
   "source": []
  }
 ],
 "metadata": {
  "kernelspec": {
   "display_name": "Python 3 (ipykernel)",
   "language": "python",
   "name": "python3"
  },
  "language_info": {
   "codemirror_mode": {
    "name": "ipython",
    "version": 3
   },
   "file_extension": ".py",
   "mimetype": "text/x-python",
   "name": "python",
   "nbconvert_exporter": "python",
   "pygments_lexer": "ipython3",
   "version": "3.9.18"
  }
 },
 "nbformat": 4,
 "nbformat_minor": 5
}
