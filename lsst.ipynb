{
 "cells": [
  {
   "cell_type": "code",
   "execution_count": 34,
   "id": "deff598a",
   "metadata": {},
   "outputs": [
    {
     "name": "stdout",
     "output_type": "stream",
     "text": [
      "env: XLA_PYTHON_CLIENT_PREALLOCATE=false\n"
     ]
    }
   ],
   "source": [
    "import os \n",
    "import shutil\n",
    "import pickle\n",
    "import jax \n",
    "from jax import grad, jit, vmap, jacfwd, jacrev\n",
    "import emcee\n",
    "import sacc\n",
    "import jax_cosmo as jc\n",
    "import jax.numpy as jnp\n",
    "import numpy as np\n",
    "import matplotlib.pylab as plt\n",
    "from jax import config\n",
    "from numpyro.handlers import seed\n",
    "import numpyro\n",
    "import numpyro.distributions as dist\n",
    "from numpyro.infer import MCMC, HMC, NUTS, BarkerMH, init_to_median\n",
    "from cobaya.run import run \n",
    "\n",
    "%env XLA_PYTHON_CLIENT_PREALLOCATE=false"
   ]
  },
  {
   "cell_type": "code",
   "execution_count": 17,
   "id": "51f91131",
   "metadata": {},
   "outputs": [],
   "source": [
    "jc.power.USE_EMU = False"
   ]
  },
  {
   "cell_type": "code",
   "execution_count": 18,
   "id": "01e48c54",
   "metadata": {},
   "outputs": [],
   "source": [
    "ZMAX = 3.5\n",
    "TNAME_WL = \"LSSTwl__\"\n",
    "TNAME_GC = \"LSSTgc__\"\n",
    "ELLMAX_GC = 300 \n",
    "ELLMAX_WL = 3000\n",
    "ELLMIN = 2\n",
    "NELL = 30"
   ]
  },
  {
   "cell_type": "code",
   "execution_count": 19,
   "id": "5d594e38",
   "metadata": {},
   "outputs": [],
   "source": [
    "def get_nz(sfile, tracertype=\"wl\"):\n",
    "    tracers_names = list(sfile.tracers.keys())\n",
    "\n",
    "    if tracertype == \"wl\":\n",
    "        tname = TNAME_WL\n",
    "    else:\n",
    "        tname = TNAME_GC \n",
    "    nbin = sum([tname in tracers_names[i] for i in range(len(tracers_names))])\n",
    "    \n",
    "    nz_distributions = list()\n",
    "    for i in range(nbin):\n",
    "        name = tname + str(i)\n",
    "        distribution = sfile.tracers[name]\n",
    "        jaxred = jc.redshift.custom_nz(\n",
    "            distribution.z.astype(\"float64\"),\n",
    "            distribution.nz.astype(\"float64\"),\n",
    "            zmax=ZMAX,\n",
    "        )\n",
    "        nz_distributions.append(jaxred)\n",
    "\n",
    "    return nz_distributions\n",
    "\n",
    "\n",
    "def calculate_lmax_gc(sfile, kmax):\n",
    "    tracers_names = list(sfile.tracers.keys())\n",
    "    nbin_gc = sum([TNAME_GC in tracers_names[i] for i in range(len(tracers_names))])\n",
    "    vanillacosmo = jc.Planck15()\n",
    "    lmaxs = list()\n",
    "    for i in range(nbin_gc):\n",
    "        tracer = sfile.tracers[f\"{TNAME_GC}{i}\"]\n",
    "        zmid = jnp.average(jnp.asarray(tracer.z), weights=jnp.asarray(tracer.nz))\n",
    "        chi = jc.background.radial_comoving_distance(vanillacosmo, 1.0 / (1.0 + zmid))\n",
    "        minmax = jnp.concatenate([10.0 * jnp.ones(1), kmax * chi - 0.5], dtype=int)\n",
    "        lmax = jnp.max(minmax)\n",
    "        lmaxs.append(lmax)\n",
    "    return lmaxs\n",
    "\n",
    "\n",
    "def scale_cuts(sfile, kmax=0.15, lmin_wl=30, lmax_wl=2000):\n",
    "    # First we remove all B-modes\n",
    "    sfile.remove_selection(data_type=\"cl_bb\")\n",
    "    sfile.remove_selection(data_type=\"cl_be\")\n",
    "    sfile.remove_selection(data_type=\"cl_eb\")\n",
    "    sfile.remove_selection(data_type=\"cl_0b\")\n",
    "\n",
    "    tracers_names = list(sfile.tracers.keys())\n",
    "    nbin_gc = sum([TNAME_GC in tracers_names[i] for i in range(len(tracers_names))])\n",
    "    nbin_wl = sum([TNAME_WL in tracers_names[i] for i in range(len(tracers_names))])\n",
    "    lmaxs_gc = calculate_lmax_gc(sfile, kmax)\n",
    "\n",
    "    for i, lmax in enumerate(lmaxs_gc):\n",
    "        print(f\"Maximum ell is {lmax}\")\n",
    "        tname_1 = f\"{TNAME_GC}{i}\"\n",
    "\n",
    "        # Remove from galaxy clustering\n",
    "        sfile.remove_selection(\n",
    "            data_type=\"cl_00\", tracers=(tname_1, tname_1), ell__gt=lmax\n",
    "        )\n",
    "\n",
    "        # Remove from galaxy-galaxy lensing\n",
    "        for j in range(nbin_wl):\n",
    "            tname_2 = f\"{TNAME_WL}{j}\"\n",
    "            sfile.remove_selection(\n",
    "                data_type=\"cl_0e\", tracers=(tname_1, tname_2), ell__gt=lmax\n",
    "            )\n",
    "\n",
    "    # apply scale cut for weak lensing\n",
    "    for i in range(nbin_wl):\n",
    "        for j in range(i, nbin_wl):\n",
    "            tname_1 = f\"{TNAME_WL}{i}\"\n",
    "            tname_2 = f\"{TNAME_WL}{j}\"\n",
    "            sfile.remove_selection(\n",
    "                data_type=\"cl_ee\", tracers=(tname_1, tname_2), ell__gt=lmax_wl\n",
    "            )\n",
    "            sfile.remove_selection(\n",
    "                data_type=\"cl_ee\", tracers=(tname_1, tname_2), ell__lt=lmin_wl\n",
    "            )\n",
    "\n",
    "    return sfile\n",
    "\n",
    "def get_data_type(tracer_combination):\n",
    "    if \"gc\" in tracer_combination[0] and \"gc\" in tracer_combination[1]:\n",
    "        dtype = \"cl_00\"\n",
    "    elif \"gc\" in tracer_combination[0] and \"wl\" in tracer_combination[1]:\n",
    "        dtype = \"cl_0e\"\n",
    "    elif \"wl\" in tracer_combination[0] and \"wl\" in tracer_combination[1]:\n",
    "        dtype = \"cl_ee\"\n",
    "    return dtype\n",
    "\n",
    "\n",
    "def get_ells_bandwindow(sfile, tracer_name_1, tracer_name_2, ellmax):\n",
    "    dtype = get_data_type((tracer_name_1, tracer_name_2))\n",
    "    idx = sfile.indices(data_type=dtype, tracers=(tracer_name_1, tracer_name_2))\n",
    "    window = sfile.get_bandpower_windows(idx)\n",
    "    fine_ells = window.values\n",
    "    indices = (fine_ells >= 2) & (fine_ells <= ellmax)\n",
    "    fine_ells = jnp.asarray(fine_ells[indices], dtype=jnp.float32)\n",
    "    bandwindow = jnp.asarray(window.weight[indices])\n",
    "    return fine_ells, bandwindow\n",
    "\n",
    "\n",
    "def extract_bandwindow(sfile):\n",
    "    tracers_names = list(sfile.tracers.keys())\n",
    "    nbin_gc = sum([TNAME_GC in tracers_names[i] for i in range(len(tracers_names))])\n",
    "    nbin_wl = sum([TNAME_WL in tracers_names[i] for i in range(len(tracers_names))])\n",
    "    \n",
    "\n",
    "    # galaxy-galaxy\n",
    "    record_gc = []\n",
    "    for i in range(nbin_gc):\n",
    "        tracer_name = f\"{TNAME_GC}{i}\"\n",
    "        ells_gc, bandwindow = get_ells_bandwindow(\n",
    "            sfile, tracer_name, tracer_name, ELLMAX_GC\n",
    "        )\n",
    "        record_gc.append(bandwindow)\n",
    "\n",
    "    # galaxy-shear\n",
    "    record_gc_wl = []\n",
    "    for i in range(nbin_gc):\n",
    "        for j in range(nbin_wl):\n",
    "            tracer_name_1 = f\"{TNAME_GC}{i}\"\n",
    "            tracer_name_2 = f\"{TNAME_WL}{j}\"\n",
    "            ells_gc_wl, bandwindow = get_ells_bandwindow(\n",
    "                sfile, tracer_name_1, tracer_name_2, ELLMAX_GC\n",
    "            )\n",
    "            record_gc_wl.append(bandwindow)\n",
    "\n",
    "    # shear-shear\n",
    "    record_wl = []\n",
    "    for i in range(nbin_wl):\n",
    "        for j in range(i, nbin_wl):\n",
    "            tracer_name_1 = f\"{TNAME_WL}{i}\"\n",
    "            tracer_name_2 = f\"{TNAME_WL}{j}\"\n",
    "            ells_wl, bandwindow = get_ells_bandwindow(\n",
    "                sfile, tracer_name_1, tracer_name_2, ELLMAX_WL\n",
    "            )\n",
    "            record_wl.append(bandwindow)\n",
    "\n",
    "    return (ells_gc, record_gc), (ells_gc_wl, record_gc_wl), (ells_wl, record_wl)\n",
    "\n",
    "def extract_data_covariance(saccfile):\n",
    "    tracers_names = list(saccfile.tracers.keys())\n",
    "    nbin_gc = sum([TNAME_GC in tracers_names[i] for i in range(len(tracers_names))])\n",
    "    nbin_wl = sum([TNAME_WL in tracers_names[i] for i in range(len(tracers_names))])\n",
    "\n",
    "    indices = []\n",
    "    # galaxy-galaxy\n",
    "    for i in range(nbin_gc):\n",
    "        tracer_name = f\"{TNAME_GC}{i}\"\n",
    "        _, _, ind = saccfile.get_ell_cl(\n",
    "            \"cl_00\", tracer_name, tracer_name, return_cov=False, return_ind=True\n",
    "        )\n",
    "        indices += list(ind)\n",
    "\n",
    "    # galaxy-shear\n",
    "    for i in range(nbin_gc):\n",
    "        for j in range(nbin_wl):\n",
    "            tracer_name_1 = f\"{TNAME_GC}{i}\"\n",
    "            tracer_name_2 = f\"{TNAME_WL}{j}\"\n",
    "            _, _, ind = saccfile.get_ell_cl(\n",
    "                \"cl_0e\", tracer_name_1, tracer_name_2, return_cov=False, return_ind=True\n",
    "            )\n",
    "            indices += list(ind)\n",
    "\n",
    "    # shear-shear\n",
    "    for i in range(nbin_wl):\n",
    "        for j in range(i, nbin_wl):\n",
    "            tracer_name_1 = f\"{TNAME_WL}{i}\"\n",
    "            tracer_name_2 = f\"{TNAME_WL}{j}\"\n",
    "            _, _, ind = saccfile.get_ell_cl(\n",
    "                \"cl_ee\", tracer_name_1, tracer_name_2, return_cov=False, return_ind=True\n",
    "            )\n",
    "            indices += list(ind)\n",
    "\n",
    "    indices = np.array(indices)\n",
    "    covariance = saccfile.covariance.covmat[indices][:, indices]\n",
    "    data = saccfile.mean[indices]\n",
    "    return jnp.array(data), jnp.array(covariance)\n",
    "\n",
    "\n",
    "def get_index_pairs(nbin1, nbin2=None, auto=False):\n",
    "    cl_index = list()\n",
    "    if nbin2 is not None:\n",
    "        for i in range(nbin1):\n",
    "            for j in range(nbin2):\n",
    "                cl_index.append([i, j + nbin1])\n",
    "    elif auto:\n",
    "        for i in range(nbin1):\n",
    "            cl_index.append([i, i])\n",
    "    else:\n",
    "        for i in range(nbin1):\n",
    "            for j in range(i, nbin1):\n",
    "                cl_index.append([i, j])\n",
    "    return cl_index\n",
    "\n",
    "\n",
    "def get_params_vec(cosmo, multiplicative, deltaz, ia_params, bias, deltaz_gc):\n",
    "    mparam_1, mparam_2, mparam_3, mparam_4, mparam_5 = multiplicative\n",
    "    dz1, dz2, dz3, dz4, dz5 = deltaz\n",
    "    a_ia_param, eta_param = ia_params\n",
    "    b1, b2, b3, b4, b5, b6, b7, b8, b9, b10 = bias\n",
    "    dz_gc_1, dz_gc_2, dz_gc_3, dz_gc_4, dz_gc_5, dz_gc_6, dz_gc_7, dz_gc_8, dz_gc_9, dz_gc_10 = deltaz_gc\n",
    "    return jnp.array(\n",
    "        [\n",
    "            cosmo.sigma8,\n",
    "            cosmo.Omega_c,\n",
    "            cosmo.Omega_b,\n",
    "            cosmo.h,\n",
    "            cosmo.n_s,\n",
    "            mparam_1,\n",
    "            mparam_2,\n",
    "            mparam_3,\n",
    "            mparam_4,\n",
    "            mparam_5,\n",
    "            dz1,\n",
    "            dz2,\n",
    "            dz3,\n",
    "            dz4,\n",
    "            dz5,\n",
    "            a_ia_param,\n",
    "            eta_param,\n",
    "            b1,\n",
    "            b2,\n",
    "            b3,\n",
    "            b4,\n",
    "            b5,\n",
    "            b6,\n",
    "            b7,\n",
    "            b8,\n",
    "            b9,\n",
    "            b10,\n",
    "            dz_gc_1,\n",
    "            dz_gc_2,\n",
    "            dz_gc_3,\n",
    "            dz_gc_4,\n",
    "            dz_gc_5,\n",
    "            dz_gc_6,\n",
    "            dz_gc_7,\n",
    "            dz_gc_8,\n",
    "            dz_gc_9,\n",
    "            dz_gc_10,\n",
    "        ]\n",
    "    )\n",
    "\n",
    "\n",
    "def unpack_params_vec(params):\n",
    "    cosmo = jc.Cosmology(\n",
    "        sigma8=params[0],\n",
    "        Omega_c=params[1],\n",
    "        Omega_b=params[2],\n",
    "        h=params[3],\n",
    "        n_s=params[4],\n",
    "        w0=-1.0,\n",
    "        Omega_k=0.0,\n",
    "        wa=0.0,\n",
    "    )\n",
    "    mparam_1, mparam_2, mparam_3, mparam_4, mparam_5 = params[5:10]\n",
    "    dz1, dz2, dz3, dz4, dz5 = params[10:15]\n",
    "    a_ia_param, eta_param = params[15], params[16]\n",
    "    b1, b2, b3, b4, b5, b6, b7, b8, b9, b10 = params[17], params[18], params[19], params[20], params[21], params[22], params[23], params[24], params[25], params[26]\n",
    "    dz_gc_1, dz_gc_2, dz_gc_3, dz_gc_4, dz_gc_5, dz_gc_6, dz_gc_7, dz_gc_8, dz_gc_9, dz_gc_10 = (\n",
    "        params[27],\n",
    "        params[28],\n",
    "        params[29],\n",
    "        params[30],\n",
    "        params[31],\n",
    "        params[32],\n",
    "        params[33],\n",
    "        params[34],\n",
    "        params[35],\n",
    "        params[36]\n",
    "    )\n",
    "    return (\n",
    "        cosmo,\n",
    "        [mparam_1, mparam_2, mparam_3, mparam_4, mparam_5],\n",
    "        [dz1, dz2, dz3, dz4, dz5],\n",
    "        [a_ia_param, eta_param],\n",
    "        [b1, b2, b3, b4, b5, b6, b7, b8, b9, b10],\n",
    "        [dz_gc_1, dz_gc_2, dz_gc_3, dz_gc_4, dz_gc_5, dz_gc_6, dz_gc_7, dz_gc_8, dz_gc_9, dz_gc_10],\n",
    "    )\n",
    "\n",
    "\n",
    "def interpolator(ellnew, ellcoarse, powerspectrum):\n",
    "    ellnew_log = jnp.log(ellnew)\n",
    "    ellcoarse_log = jnp.log(ellcoarse)\n",
    "    powerspectrum_log = jnp.log(powerspectrum)\n",
    "    ps_interp = jnp.interp(ellnew_log, ellcoarse_log, powerspectrum_log)\n",
    "    return jnp.exp(ps_interp)\n",
    "\n",
    "\n",
    "def get_bandpowers_gc(\n",
    "    bandwindow_ells, bandwindow_matrix, ells_coarse, powerspectra, nbin_gc\n",
    "):\n",
    "    recordbandpowers = []\n",
    "    counter = 0\n",
    "    for i in range(nbin_gc):\n",
    "        cls_wl_interp = interpolator(\n",
    "            bandwindow_ells, ells_coarse, powerspectra[counter]\n",
    "        )\n",
    "        bandpowers = bandwindow_matrix[counter].T @ cls_wl_interp\n",
    "        recordbandpowers.append(bandpowers)\n",
    "        counter += 1\n",
    "    return recordbandpowers\n",
    "\n",
    "\n",
    "def get_bandpowers_gc_wl(\n",
    "    bandwindow_ells, bandwindow_matrix, ells_coarse, powerspectra, nbin_gc, nbin_wl\n",
    "):\n",
    "    recordbandpowers = []\n",
    "    counter = 0\n",
    "    for i in range(nbin_gc):\n",
    "        for j in range(nbin_wl):\n",
    "            cls_wl_interp = interpolator(\n",
    "                bandwindow_ells, ells_coarse, powerspectra[counter]\n",
    "            )\n",
    "            bandpowers = bandwindow_matrix[counter].T @ cls_wl_interp\n",
    "            recordbandpowers.append(bandpowers)\n",
    "            counter += 1\n",
    "    return recordbandpowers\n",
    "\n",
    "\n",
    "def get_bandpowers_wl(\n",
    "    bandwindow_ells, bandwindow_matrix, ells_coarse, powerspectra, nbin_wl\n",
    "):\n",
    "    recordbandpowers = []\n",
    "    counter = 0\n",
    "    for i in range(nbin_wl):\n",
    "        for j in range(i, nbin_wl):\n",
    "            cls_wl_interp = interpolator(\n",
    "                bandwindow_ells, ells_coarse, powerspectra[counter]\n",
    "            )\n",
    "            bandpowers = bandwindow_matrix[counter].T @ cls_wl_interp\n",
    "            recordbandpowers.append(bandpowers)\n",
    "            counter += 1\n",
    "    return recordbandpowers\n",
    "\n",
    "\n",
    "def get_gc_powerspectra(parameters, jax_nz_gc):\n",
    "    (\n",
    "        cosmo,\n",
    "        multiplicative,\n",
    "        deltaz_wl,\n",
    "        (a_ia_param, eta_param),\n",
    "        bias,\n",
    "        deltaz_gc,\n",
    "    ) = unpack_params_vec(parameters)\n",
    "    nbin_gc = len(deltaz_gc)\n",
    "    gc_biases = [jc.bias.constant_linear_bias(bi) for bi in bias]\n",
    "    nz_gc_sys = [\n",
    "        jc.redshift.systematic_shift(nzi, dzi, zmax=ZMAX)\n",
    "        for nzi, dzi in zip(jax_nz_gc, deltaz_gc)\n",
    "    ]\n",
    "    probes_gc = [jc.probes.NumberCounts(nz_gc_sys, gc_biases)]\n",
    "    ells_coarse = jnp.geomspace(ELLMIN, ELLMAX_GC, NELL, dtype=jnp.float32)\n",
    "    idx_pairs_gc = get_index_pairs(nbin_gc, auto=True)\n",
    "    ps_gc = jc.angular_cl.angular_cl(\n",
    "        cosmo, ells_coarse, probes_gc, index_pairs=idx_pairs_gc\n",
    "    )\n",
    "    return ps_gc, ells_coarse, nbin_gc\n",
    "\n",
    "\n",
    "def get_gc_wl_powerspectra(parameters, jax_nz_gc, jax_nz_wl):\n",
    "    (\n",
    "        cosmo,\n",
    "        multiplicative,\n",
    "        deltaz_wl,\n",
    "        (a_ia_param, eta_param),\n",
    "        bias,\n",
    "        deltaz_gc,\n",
    "    ) = unpack_params_vec(parameters)\n",
    "    nbin_gc = len(deltaz_gc)\n",
    "    nbin_wl = len(deltaz_wl)\n",
    "\n",
    "    # apply all the systematics here (shifts, multiplicative bias, intrinsic alignment)\n",
    "    nz_wl_sys = [\n",
    "        jc.redshift.systematic_shift(nzi, dzi) for nzi, dzi in zip(jax_nz_wl, deltaz_wl)\n",
    "    ]\n",
    "    nz_gc_sys = [\n",
    "        jc.redshift.systematic_shift(nzi, dzi) for nzi, dzi in zip(jax_nz_gc, deltaz_gc)\n",
    "    ]\n",
    "    gc_biases = [jc.bias.constant_linear_bias(bi) for bi in bias]\n",
    "    b_ia = jc.bias.des_y1_ia_bias(a_ia_param, eta_param, 0.62)\n",
    "\n",
    "    probes_gc = [jc.probes.NumberCounts(nz_gc_sys, gc_biases)]\n",
    "    probes_wl = [\n",
    "        jc.probes.WeakLensing(\n",
    "            nz_wl_sys, ia_bias=b_ia, multiplicative_bias=multiplicative\n",
    "        )\n",
    "    ]\n",
    "    probes_gc_wl = probes_gc + probes_wl\n",
    "\n",
    "    ells_coarse = jnp.geomspace(ELLMIN, ELLMAX_GC, NELL, dtype=jnp.float32)\n",
    "    idx_pairs_gc_wl = get_index_pairs(nbin_gc, nbin_wl, auto=False)\n",
    "    ps_gc_wl = jc.angular_cl.angular_cl(\n",
    "        cosmo, ells_coarse, probes_gc_wl, index_pairs=idx_pairs_gc_wl\n",
    "    )\n",
    "    return ps_gc_wl, ells_coarse, nbin_gc, nbin_wl\n",
    "\n",
    "\n",
    "def get_wl_powerspectra(parameters, jax_nz_wl):\n",
    "    cosmo, multiplicative, deltaz_wl, (a_ia_param, eta_param) = unpack_params_vec(\n",
    "        parameters\n",
    "    )[0:4]\n",
    "    nbin_wl = len(deltaz_wl)\n",
    "\n",
    "    nz_wl_sys = [\n",
    "        jc.redshift.systematic_shift(nzi, dzi, zmax=ZMAX)\n",
    "        for nzi, dzi in zip(jax_nz_wl, deltaz_wl)\n",
    "    ]\n",
    "    b_ia = jc.bias.des_y1_ia_bias(a_ia_param, eta_param, 0.62)\n",
    "    probes_wl = [\n",
    "        jc.probes.WeakLensing(\n",
    "            nz_wl_sys, ia_bias=b_ia, multiplicative_bias=multiplicative\n",
    "        )\n",
    "    ]\n",
    "\n",
    "    ells_coarse = jnp.geomspace(ELLMIN, ELLMAX_WL, NELL, dtype=jnp.float32)\n",
    "    idx_pairs_wl = get_index_pairs(nbin_wl, auto=False)\n",
    "    ps_wl = jc.angular_cl.angular_cl(\n",
    "        cosmo, ells_coarse, probes_wl, index_pairs=idx_pairs_wl\n",
    "    )\n",
    "    return ps_wl, ells_coarse, nbin_wl\n",
    "\n",
    "\n",
    "def gc_bandpower_calculation(parameters, jax_nz_gc, bandwindow_ells, bandwindow_matrix):\n",
    "    ps_gc, ells_coarse, nbin_gc = get_gc_powerspectra(parameters, jax_nz_gc)\n",
    "    gc_bandpowers = get_bandpowers_gc(\n",
    "        bandwindow_ells, bandwindow_matrix, ells_coarse, ps_gc, nbin_gc\n",
    "    )\n",
    "    return gc_bandpowers\n",
    "\n",
    "\n",
    "def gc_wl_bandpower_calculation(\n",
    "    parameters, jax_nz_gc, jax_nz_wl, bandwindow_ells, bandwindow_matrix\n",
    "):\n",
    "    ps_gc_wl, ells_coarse, nbin_gc, nbin_wl = get_gc_wl_powerspectra(\n",
    "        parameters, jax_nz_gc, jax_nz_wl\n",
    "    )\n",
    "    gc_wl_bandpowers = get_bandpowers_gc_wl(\n",
    "        bandwindow_ells, bandwindow_matrix, ells_coarse, ps_gc_wl, nbin_gc, nbin_wl\n",
    "    )\n",
    "    return gc_wl_bandpowers\n",
    "\n",
    "\n",
    "def wl_bandpower_calculation(parameters, jax_nz_wl, bandwindow_ells, bandwindow_matrix):\n",
    "    ps_wl, ells_coarse, nbin_wl = get_wl_powerspectra(parameters, jax_nz_wl)\n",
    "    wl_bandpowers = get_bandpowers_wl(\n",
    "        bandwindow_ells, bandwindow_matrix, ells_coarse, ps_wl, nbin_wl\n",
    "    )\n",
    "    return wl_bandpowers\n",
    "\n",
    "\n",
    "def get_bandpowers_probes(parameters, jax_nz_gc, jax_nz_wl, bw_gc, bw_gc_wl, bw_wl):\n",
    "    theory_gc = gc_bandpower_calculation(parameters, jax_nz_gc, bw_gc[0], bw_gc[1])\n",
    "    theory_gc_wl = gc_wl_bandpower_calculation(\n",
    "        parameters, jax_nz_gc, jax_nz_wl, bw_gc_wl[0], bw_gc_wl[1]\n",
    "    )\n",
    "    theory_wl = wl_bandpower_calculation(parameters, jax_nz_wl, bw_wl[0], bw_wl[1])\n",
    "    return theory_gc, theory_gc_wl, theory_wl\n",
    "\n",
    "\n",
    "def get_bandpowers_theory(parameters, jax_nz_gc, jax_nz_wl, bw_gc, bw_gc_wl, bw_wl):\n",
    "    theory_gc, theory_gc_wl, theory_wl = get_bandpowers_probes(\n",
    "        parameters, jax_nz_gc, jax_nz_wl, bw_gc, bw_gc_wl, bw_wl\n",
    "    )\n",
    "    concat_theory_gc = jnp.concatenate(theory_gc)\n",
    "    concat_theory_gc_wl = jnp.concatenate(theory_gc_wl)\n",
    "    concat_theory_wl = jnp.concatenate(theory_wl)\n",
    "    return jnp.concatenate([concat_theory_gc, concat_theory_gc_wl, concat_theory_wl])\n",
    "\n",
    "def numpyro_model(data, precision, jax_nz_gc, jax_nz_wl, bw_gc, bw_gc_wl, bw_wl):\n",
    "    #  Cosmological params\n",
    "    sigma8 = numpyro.sample(\"sigma8\", dist.Uniform(0.6, 1.0))\n",
    "    Omegac = numpyro.sample(\"Omegac\", dist.Uniform(0.14, 0.35))\n",
    "    Omegab = numpyro.sample(\"Omegab\", dist.Uniform(0.03, 0.055))\n",
    "    hubble = numpyro.sample(\"hubble\", dist.Uniform(0.64, 0.82))\n",
    "    ns = numpyro.sample(\"ns\", dist.Uniform(0.87, 1.07))\n",
    "    cosmo = jc.Cosmology(\n",
    "        Omega_c=Omegac,\n",
    "        sigma8=sigma8,\n",
    "        Omega_b=Omegab,\n",
    "        h=hubble,\n",
    "        n_s=ns,\n",
    "        w0=-1.0,\n",
    "        Omega_k=0.0,\n",
    "        wa=0.0,\n",
    "    )\n",
    "\n",
    "    # multiplicative factor (weak lensing)\n",
    "    m1 = numpyro.sample(\"m1\", dist.Normal(0.012, 0.023))\n",
    "    m2 = numpyro.sample(\"m2\", dist.Normal(0.012, 0.023))\n",
    "    m3 = numpyro.sample(\"m3\", dist.Normal(0.012, 0.023))\n",
    "    m4 = numpyro.sample(\"m4\", dist.Normal(0.012, 0.023))\n",
    "    m5 = numpyro.sample(\"m5\", dist.Normal(0.012, 0.023))\n",
    "    multiplicative = [m1, m2, m3, m4, m5]\n",
    "\n",
    "    # shifts (weak lensing)\n",
    "    dz_wl_1 = numpyro.sample(\"dz_wl_1\", dist.Normal(0.0, 0.02))\n",
    "    dz_wl_2 = numpyro.sample(\"dz_wl_2\", dist.Normal(0.0, 0.02))\n",
    "    dz_wl_3 = numpyro.sample(\"dz_wl_3\", dist.Normal(0.0, 0.02))\n",
    "    dz_wl_4 = numpyro.sample(\"dz_wl_4\", dist.Normal(0.0, 0.02))\n",
    "    dz_wl_5 = numpyro.sample(\"dz_wl_5\", dist.Normal(0.0, 0.02))\n",
    "    dz_wl = [dz_wl_1, dz_wl_2, dz_wl_3, dz_wl_4, dz_wl_5]\n",
    "    nbin_wl = len(dz_wl)\n",
    "\n",
    "    # intrinsic alignment\n",
    "    a_ia = numpyro.sample(\"a_ia\", dist.Uniform(-1, 1))\n",
    "    eta = numpyro.sample(\"eta\", dist.Uniform(-5.0, 5.0))\n",
    "    ia_params = [a_ia, eta]\n",
    "\n",
    "    # multiplicative bias (galaxy clustering)\n",
    "    b1 = numpyro.sample(\"b1\", dist.Uniform(0.8, 3.0))\n",
    "    b2 = numpyro.sample(\"b2\", dist.Uniform(0.8, 3.0))\n",
    "    b3 = numpyro.sample(\"b3\", dist.Uniform(0.8, 3.0))\n",
    "    b4 = numpyro.sample(\"b4\", dist.Uniform(0.8, 3.0))\n",
    "    b5 = numpyro.sample(\"b5\", dist.Uniform(0.8, 3.0))\n",
    "    b6 = numpyro.sample(\"b6\", dist.Uniform(0.8, 3.0))\n",
    "    b7 = numpyro.sample(\"b7\", dist.Uniform(0.8, 3.0))\n",
    "    b8 = numpyro.sample(\"b8\", dist.Uniform(0.8, 3.0))\n",
    "    b9 = numpyro.sample(\"b9\", dist.Uniform(0.8, 3.0))\n",
    "    b10 = numpyro.sample(\"b10\", dist.Uniform(0.8, 3.0))\n",
    "    bias = [b1, b2, b3, b4, b5, b6, b7, b8, b9, b10]\n",
    "\n",
    "    # shifts (galaxy clustering)\n",
    "    dz_gc_1 = numpyro.sample(\"dz_gc_1\", dist.Normal(0.0, 0.01))\n",
    "    dz_gc_2 = numpyro.sample(\"dz_gc_2\", dist.Normal(0.0, 0.01))\n",
    "    dz_gc_3 = numpyro.sample(\"dz_gc_3\", dist.Normal(0.0, 0.01))\n",
    "    dz_gc_4 = numpyro.sample(\"dz_gc_4\", dist.Normal(0.0, 0.01))\n",
    "    dz_gc_5 = numpyro.sample(\"dz_gc_5\", dist.Normal(0.0, 0.01))\n",
    "    dz_gc_6 = numpyro.sample(\"dz_gc_6\", dist.Normal(0.0, 0.01))\n",
    "    dz_gc_7 = numpyro.sample(\"dz_gc_7\", dist.Normal(0.0, 0.01))\n",
    "    dz_gc_8 = numpyro.sample(\"dz_gc_8\", dist.Normal(0.0, 0.01))\n",
    "    dz_gc_9 = numpyro.sample(\"dz_gc_9\", dist.Normal(0.0, 0.01))\n",
    "    dz_gc_10 = numpyro.sample(\"dz_gc_10\", dist.Normal(0.0, 0.01))\n",
    "    dz_gc = [dz_gc_1, dz_gc_2, dz_gc_3, dz_gc_4, dz_gc_5, dz_gc_6, dz_gc_7, dz_gc_8, dz_gc_9, dz_gc_10]\n",
    "\n",
    "    parameters = get_params_vec(cosmo, multiplicative, dz_wl, ia_params, bias, dz_gc)\n",
    "    theory = get_bandpowers_theory(\n",
    "        parameters, jax_nz_gc, jax_nz_wl, bw_gc, bw_gc_wl, bw_wl\n",
    "    )\n",
    "    sampling_distribution = dist.MultivariateNormal(theory, precision_matrix=precision)\n",
    "    theory_sample = numpyro.sample(\"y\", sampling_distribution, obs=data)\n",
    "    log_prob = sampling_distribution.log_prob(theory_sample)\n",
    "    return theory_sample, log_prob\n",
    "\n",
    "def emcee_logprior(parameters):\n",
    "\n",
    "    # cosmological parameters \n",
    "    logp_sigma8 = jax.scipy.stats.uniform.logpdf(parameters[0], 0.60, 0.40)\n",
    "    logp_omegac = jax.scipy.stats.uniform.logpdf(parameters[1], 0.14, 0.21)\n",
    "    logp_omegab = jax.scipy.stats.uniform.logpdf(parameters[2], 0.03, 0.025)\n",
    "    logp_hubble = jax.scipy.stats.uniform.logpdf(parameters[3], 0.64, 0.18)\n",
    "    logp_ns = jax.scipy.stats.uniform.logpdf(parameters[4], 0.87, 0.20)\n",
    "\n",
    "    # multiplicative factor (weak lensing)\n",
    "    logp_m1 = jax.scipy.stats.norm.logpdf(parameters[5], 0.012, 0.023)\n",
    "    logp_m2 = jax.scipy.stats.norm.logpdf(parameters[6], 0.012, 0.023)\n",
    "    logp_m3 = jax.scipy.stats.norm.logpdf(parameters[7], 0.012, 0.023)\n",
    "    logp_m4 = jax.scipy.stats.norm.logpdf(parameters[8], 0.012, 0.023)\n",
    "    logp_m5 = jax.scipy.stats.norm.logpdf(parameters[9], 0.012, 0.023)\n",
    "\n",
    "    # shifts (weak lensing)\n",
    "    logp_dz_wl_1 = jax.scipy.stats.norm.logpdf(parameters[10], -0.001, 0.016) \n",
    "    logp_dz_wl_2 = jax.scipy.stats.norm.logpdf(parameters[11], -0.019, 0.013)\n",
    "    logp_dz_wl_3 = jax.scipy.stats.norm.logpdf(parameters[12], 0.009, 0.011)\n",
    "    logp_dz_wl_4 = jax.scipy.stats.norm.logpdf(parameters[13], -0.018, 0.022)\n",
    "    logp_dz_wl_5 = jax.scipy.stats.norm.logpdf(parameters[14], 0.0, 0.022)\n",
    "\n",
    "    # intrinsic alignment\n",
    "    logp_a_ia = jax.scipy.stats.uniform.logpdf(parameters[15], -1, 2)\n",
    "    logp_eta = jax.scipy.stats.uniform.logpdf(parameters[16], -5, 10)  \n",
    "\n",
    "    # multiplicative bias (galaxy clustering)\n",
    "    logp_b1 = jax.scipy.stats.uniform.logpdf(parameters[17], 0.8, 2.2)\n",
    "    logp_b2 = jax.scipy.stats.uniform.logpdf(parameters[18], 0.8, 2.2)\n",
    "    logp_b3 = jax.scipy.stats.uniform.logpdf(parameters[19], 0.8, 2.2)\n",
    "    logp_b4 = jax.scipy.stats.uniform.logpdf(parameters[20], 0.8, 2.2)\n",
    "    logp_b5 = jax.scipy.stats.uniform.logpdf(parameters[21], 0.8, 2.2)\n",
    "    logp_b6 = jax.scipy.stats.uniform.logpdf(parameters[22], 0.8, 2.2)\n",
    "    logp_b7 = jax.scipy.stats.uniform.logpdf(parameters[23], 0.8, 2.2)\n",
    "    logp_b8 = jax.scipy.stats.uniform.logpdf(parameters[24], 0.8, 2.2)\n",
    "    logp_b9 = jax.scipy.stats.uniform.logpdf(parameters[25], 0.8, 2.2)\n",
    "    logp_b10 = jax.scipy.stats.uniform.logpdf(parameters[26], 0.8, 2.2)\n",
    "\n",
    "    # shifts (galaxy clustering)\n",
    "    logp_dz_gc_1 = jax.scipy.stats.norm.logpdf(parameters[27], 0.0, 0.01)\n",
    "    logp_dz_gc_2 = jax.scipy.stats.norm.logpdf(parameters[28], 0.0, 0.01)\n",
    "    logp_dz_gc_3 = jax.scipy.stats.norm.logpdf(parameters[29], 0.0, 0.01)\n",
    "    logp_dz_gc_4 = jax.scipy.stats.norm.logpdf(parameters[30], 0.0, 0.01)\n",
    "    logp_dz_gc_5 = jax.scipy.stats.norm.logpdf(parameters[31], 0.0, 0.01)\n",
    "    logp_dz_gc_6 = jax.scipy.stats.norm.logpdf(parameters[32], 0.0, 0.01)\n",
    "    logp_dz_gc_7 = jax.scipy.stats.norm.logpdf(parameters[33], 0.0, 0.01)\n",
    "    logp_dz_gc_8 = jax.scipy.stats.norm.logpdf(parameters[34], 0.0, 0.01)\n",
    "    logp_dz_gc_9 = jax.scipy.stats.norm.logpdf(parameters[35], 0.0, 0.01)\n",
    "    logp_dz_gc_10 = jax.scipy.stats.norm.logpdf(parameters[36], 0.0, 0.01)\n",
    "    \n",
    "    logp_cosmology = logp_sigma8 + logp_omegac + logp_omegab + logp_hubble + logp_ns \n",
    "    logp_multiplicative = logp_m1 + logp_m2 + logp_m3 + logp_m4 + logp_m5\n",
    "    logp_shifts_wl = logp_dz_wl_1 + logp_dz_wl_2 + logp_dz_wl_3 + logp_dz_wl_4 + logp_dz_wl_5\n",
    "    logp_intrinsic = logp_a_ia + logp_eta \n",
    "    logp_bias = logp_b1 + logp_b2 + logp_b3 + logp_b4 + logp_b5 + logp_b6 + logp_b7 + logp_b8 + logp_b9 + logp_b10\n",
    "    logp_shifts_gc = logp_dz_gc_1 + logp_dz_gc_2 + logp_dz_gc_3 + logp_dz_gc_4 + logp_dz_gc_5 + logp_dz_gc_6 + logp_dz_gc_7 + logp_dz_gc_8 + logp_dz_gc_9 + logp_dz_gc_10\n",
    "    logp = logp_cosmology + logp_multiplicative + logp_shifts_wl + logp_intrinsic + logp_bias + logp_shifts_gc\n",
    "    if not jnp.isfinite(logp):\n",
    "        logp = -1E32\n",
    "    return logp\n"
   ]
  },
  {
   "cell_type": "markdown",
   "id": "f33f2bab",
   "metadata": {},
   "source": [
    "## EMCEE"
   ]
  },
  {
   "cell_type": "code",
   "execution_count": 20,
   "id": "7cd3fd59",
   "metadata": {},
   "outputs": [],
   "source": [
    "@jax.jit\n",
    "def jit_theory(parameters, jax_nz_gc, jax_nz_wl, bw_gc, bw_gc_wl, bw_wl):\n",
    "    return get_bandpowers_theory(parameters, jax_nz_gc, jax_nz_wl, bw_gc, bw_gc_wl, bw_wl)\n",
    "\n",
    "def emcee_loglike(parameters, data, precision, jax_nz_gc, jax_nz_wl, bw_gc, bw_gc_wl, bw_wl):\n",
    "    theory = jit_theory(parameters, jax_nz_gc, jax_nz_wl, bw_gc, bw_gc_wl, bw_wl)\n",
    "    diff = data - theory \n",
    "    chi2 = diff @ precision @ diff\n",
    "    return -0.5*jnp.min(jnp.array([chi2, 1E32]))\n",
    "\n",
    "@jax.jit\n",
    "def jit_emcee_loglike(parameters, data, precision, jax_nz_gc, jax_nz_wl, bw_gc, bw_gc_wl, bw_wl):\n",
    "    return emcee_loglike(parameters, data, precision, jax_nz_gc, jax_nz_wl, bw_gc, bw_gc_wl, bw_wl)\n",
    "\n",
    "def emcee_logpost(parameters, data, precision, jax_nz_gc, jax_nz_wl, bw_gc, bw_gc_wl, bw_wl):\n",
    "    loglike = emcee_loglike(parameters, data, precision, jax_nz_gc, jax_nz_wl, bw_gc, bw_gc_wl, bw_wl)\n",
    "    logprior = emcee_logprior(parameters)\n",
    "    return loglike + logprior    "
   ]
  },
  {
   "cell_type": "code",
   "execution_count": 21,
   "id": "66b3d9e8",
   "metadata": {},
   "outputs": [
    {
     "name": "stdout",
     "output_type": "stream",
     "text": [
      "Maximum ell is 107\n",
      "Maximum ell is 144\n",
      "Maximum ell is 180\n",
      "Maximum ell is 215\n",
      "Maximum ell is 246\n",
      "Maximum ell is 277\n",
      "Maximum ell is 305\n",
      "Maximum ell is 332\n",
      "Maximum ell is 357\n",
      "Maximum ell is 381\n"
     ]
    }
   ],
   "source": [
    "saccfile = sacc.Sacc.load_fits(\"data/lsst_mock_data.fits\")\n",
    "jax_nz_wl = get_nz(saccfile, tracertype=\"wl\")\n",
    "jax_nz_gc = get_nz(saccfile, tracertype=\"gc\")\n",
    "saccfile_cut = scale_cuts(saccfile, kmax=0.15, lmin_wl=30, lmax_wl=ELLMAX_WL)\n",
    "bw_gc, bw_gc_wl, bw_wl = extract_bandwindow(saccfile_cut)\n",
    "data, covariance = extract_data_covariance(saccfile_cut)\n",
    "precision = jnp.linalg.inv(covariance)"
   ]
  },
  {
   "cell_type": "code",
   "execution_count": 22,
   "id": "c93a338d",
   "metadata": {},
   "outputs": [],
   "source": [
    "cosmo = jc.Cosmology(sigma8=0.82, Omega_c = 0.265, Omega_b=0.045, h = 0.7, n_s=0.965, w0=-1., Omega_k=0., wa=0.)\n",
    "\n",
    "parameters = get_params_vec(cosmo, \n",
    "                       [1e-3]*5, # multiplicative\n",
    "                       [1e-3]*5, # delta shear \n",
    "                       [0.0, 0.0], # ia \n",
    "                       [1.376695, 1.451179, 1.528404, 1.607983, 1.689579, 1.772899, 1.857700, 1.943754, 2.030887, 2.118943], # bias\n",
    "                       [1e-3]*10) # delta galaxy"
   ]
  },
  {
   "cell_type": "code",
   "execution_count": 23,
   "id": "2d37e5b7",
   "metadata": {},
   "outputs": [],
   "source": [
    "# theory = get_bandpowers_theory(parameters, jax_nz_gc, jax_nz_wl, bw_gc, bw_gc_wl, bw_wl)\n",
    "\n",
    "# with seed(rng_seed=40):\n",
    "#     theory, logp = numpyro_model(data, precision, jax_nz_gc, jax_nz_wl, bw_gc, bw_gc_wl, bw_wl)\n",
    "\n",
    "# diff = data - theory \n",
    "\n",
    "# diff @ precision @ diff\n",
    "\n",
    "# theory[0:10]\n",
    "\n",
    "# data[0:10]"
   ]
  },
  {
   "cell_type": "code",
   "execution_count": 24,
   "id": "b09631ef",
   "metadata": {},
   "outputs": [
    {
     "name": "stdout",
     "output_type": "stream",
     "text": [
      "Not using the emulator\n",
      "Not using the emulator\n",
      "Not using the emulator\n"
     ]
    },
    {
     "data": {
      "text/plain": [
       "DeviceArray(-11677.41556847, dtype=float64)"
      ]
     },
     "execution_count": 24,
     "metadata": {},
     "output_type": "execute_result"
    }
   ],
   "source": [
    "emcee_logpost(parameters, data, precision, jax_nz_gc, jax_nz_wl, bw_gc, bw_gc_wl, bw_wl)"
   ]
  },
  {
   "cell_type": "markdown",
   "id": "cc2bbd45",
   "metadata": {},
   "source": [
    "## NUTS"
   ]
  },
  {
   "cell_type": "code",
   "execution_count": 99,
   "id": "d8bf7d97",
   "metadata": {},
   "outputs": [],
   "source": [
    "NWARMUP = 10\n",
    "NSAMPLES = 10"
   ]
  },
  {
   "cell_type": "code",
   "execution_count": 108,
   "id": "81ecaf25",
   "metadata": {},
   "outputs": [],
   "source": [
    "nuts_kernel = NUTS(numpyro_model, step_size=0.01, init_strategy=init_to_median, dense_mass=True, max_tree_depth=8)"
   ]
  },
  {
   "cell_type": "code",
   "execution_count": 109,
   "id": "d8cc7c2b",
   "metadata": {},
   "outputs": [],
   "source": [
    "mcmc_nuts = MCMC(nuts_kernel, num_warmup=NWARMUP, num_samples=NSAMPLES, num_chains=1, \n",
    "            # chain_method=\"vectorized\",\n",
    "            progress_bar=True)"
   ]
  },
  {
   "cell_type": "code",
   "execution_count": 110,
   "id": "93d05146",
   "metadata": {},
   "outputs": [
    {
     "name": "stdout",
     "output_type": "stream",
     "text": [
      "Using the emulator\n",
      "Using the emulator\n",
      "Using the emulator\n",
      "Using the emulator\n",
      "Using the emulator\n",
      "Using the emulator\n",
      "Using the emulator\n",
      "Using the emulator\n",
      "Using the emulator\n"
     ]
    },
    {
     "name": "stderr",
     "output_type": "stream",
     "text": [
      "\r",
      "  0%|                                                                                                | 0/20 [00:00<?, ?it/s]"
     ]
    },
    {
     "name": "stdout",
     "output_type": "stream",
     "text": [
      "Using the emulator\n",
      "Using the emulator\n",
      "Using the emulator\n"
     ]
    },
    {
     "name": "stderr",
     "output_type": "stream",
     "text": [
      "2024-04-09 11:13:29.277346: E external/org_tensorflow/tensorflow/compiler/xla/service/slow_operation_alarm.cc:65] \n",
      "********************************\n",
      "[Compiling module jit__body_fn] Very slow compile?  If you want to file a bug, run with envvar XLA_FLAGS=--xla_dump_to=/tmp/foo and attach the results.\n",
      "********************************\n",
      "2024-04-09 11:29:12.686812: E external/org_tensorflow/tensorflow/compiler/xla/service/slow_operation_alarm.cc:133] The operation took 17m43.40955605s\n",
      "\n",
      "********************************\n",
      "[Compiling module jit__body_fn] Very slow compile?  If you want to file a bug, run with envvar XLA_FLAGS=--xla_dump_to=/tmp/foo and attach the results.\n",
      "********************************\n",
      "sample: 100%|████████████████████████████████████| 20/20 [28:11<00:00, 84.60s/it, 31 steps of size 9.78e-04. acc. prob=0.42]\n"
     ]
    }
   ],
   "source": [
    "mcmc_nuts.run(jax.random.PRNGKey(253), data, precision, jax_nz_gc, jax_nz_wl, bw_gc, bw_gc_wl, bw_wl)"
   ]
  },
  {
   "cell_type": "code",
   "execution_count": null,
   "id": "aa777c27",
   "metadata": {},
   "outputs": [],
   "source": [
    "mcmc_nuts.get_samples()"
   ]
  },
  {
   "cell_type": "markdown",
   "id": "543e3efd",
   "metadata": {},
   "source": [
    "# Cobaya"
   ]
  },
  {
   "cell_type": "code",
   "execution_count": null,
   "id": "d61261bc",
   "metadata": {},
   "outputs": [],
   "source": [
    "PROPOSAL = 1e-3"
   ]
  },
  {
   "cell_type": "code",
   "execution_count": 55,
   "id": "b4cd2a2e",
   "metadata": {},
   "outputs": [],
   "source": [
    "def get_output_folder(iteration, mainfolder = 'CobayaLSST/'):\n",
    "    if jc.power.USE_EMU:\n",
    "        folder = mainfolder + f\"emulator_{iteration}/\"\n",
    "    else:\n",
    "        folder = mainfolder + f\"jaxcosmo_{iteration}/\"\n",
    "    return folder"
   ]
  },
  {
   "cell_type": "code",
   "execution_count": 26,
   "id": "117d89c7",
   "metadata": {},
   "outputs": [],
   "source": [
    "params={\n",
    "\n",
    "    # cosmological parameters\n",
    "    \"sigma8\": {\n",
    "        \"prior\": {\"min\": 0.60, \"max\": 1.0},\n",
    "        \"ref\": {\"dist\": \"norm\", \"loc\": 0.85, \"scale\": 0.01},\n",
    "        \"proposal\": PROPOSAL,\n",
    "    },\n",
    "    \"omegac\": {\n",
    "        \"prior\": {\"min\": 0.14, \"max\": 0.35},\n",
    "        \"ref\": {\"dist\": \"norm\", \"loc\": 0.25, \"scale\": 0.01},\n",
    "        \"proposal\": PROPOSAL,\n",
    "    },\n",
    "    \"omegab\": {\n",
    "        \"prior\": {\"min\": 0.03, \"max\": 0.055},\n",
    "        \"ref\": {\"dist\": \"norm\", \"loc\": 0.04, \"scale\": 0.001},\n",
    "        \"proposal\": PROPOSAL,\n",
    "    },\n",
    "    \"hubble\": {\n",
    "        \"prior\": {\"min\": 0.64, \"max\": 0.82},\n",
    "        \"ref\": {\"dist\": \"norm\", \"loc\": 0.70, \"scale\": 0.01},\n",
    "        \"proposal\": PROPOSAL,\n",
    "    },\n",
    "    \"ns\": {\n",
    "        \"prior\": {\"min\": 0.87, \"max\": 1.07},\n",
    "        \"ref\": {\"dist\": \"norm\", \"loc\": 1.0, \"scale\": 0.01},\n",
    "        \"proposal\": PROPOSAL,\n",
    "    },\n",
    "    # multiplicative bias parameters\n",
    "    \"m1\": {\n",
    "        \"prior\": {\"dist\": \"norm\", \"loc\": 0.012, \"scale\": 0.023},\n",
    "        \"ref\": {\"dist\": \"norm\", \"loc\": 0.012, \"scale\": 0.001},\n",
    "        \"proposal\": PROPOSAL,\n",
    "    },\n",
    "    \"m2\": {\n",
    "        \"prior\": {\"dist\": \"norm\", \"loc\": 0.012, \"scale\": 0.023},\n",
    "        \"ref\": {\"dist\": \"norm\", \"loc\": 0.012, \"scale\": 0.001},\n",
    "        \"proposal\": PROPOSAL,\n",
    "    },\n",
    "    \"m3\": {\n",
    "        \"prior\": {\"dist\": \"norm\", \"loc\": 0.012, \"scale\": 0.023},\n",
    "        \"ref\": {\"dist\": \"norm\", \"loc\": 0.012, \"scale\": 0.001},\n",
    "        \"proposal\": PROPOSAL,\n",
    "    },\n",
    "    \"m4\": {\n",
    "        \"prior\": {\"dist\": \"norm\", \"loc\": 0.012, \"scale\": 0.023},\n",
    "        \"ref\": {\"dist\": \"norm\", \"loc\": 0.012, \"scale\": 0.001},\n",
    "        \"proposal\": PROPOSAL,\n",
    "    },\n",
    "    \"m5\": {\n",
    "        \"prior\": {\"dist\": \"norm\", \"loc\": 0.012, \"scale\": 0.023},\n",
    "        \"ref\": {\"dist\": \"norm\", \"loc\": 0.012, \"scale\": 0.001},\n",
    "        \"proposal\": PROPOSAL,\n",
    "    },\n",
    "    # shifts weak lensing bins\n",
    "    \"dz_wl_1\": {\n",
    "        \"prior\": {\"dist\": \"norm\", \"loc\": 0.0, \"scale\": 0.02},\n",
    "        \"ref\": {\"dist\": \"norm\", \"loc\": 0.0, \"scale\": 0.02},\n",
    "        \"proposal\": PROPOSAL,\n",
    "    },\n",
    "    \"dz_wl_2\": {\n",
    "        \"prior\": {\"dist\": \"norm\", \"loc\": 0.0, \"scale\": 0.02},\n",
    "        \"ref\": {\"dist\": \"norm\", \"loc\": 0.0, \"scale\": 0.02},\n",
    "        \"proposal\": PROPOSAL,\n",
    "    },\n",
    "    \"dz_wl_3\": {\n",
    "        \"prior\": {\"dist\": \"norm\", \"loc\": 0.0, \"scale\": 0.02},\n",
    "        \"ref\": {\"dist\": \"norm\", \"loc\": 0.0, \"scale\": 0.02},\n",
    "        \"proposal\": PROPOSAL,\n",
    "    },\n",
    "    \"dz_wl_4\": {\n",
    "        \"prior\": {\"dist\": \"norm\", \"loc\": 0.0, \"scale\": 0.02},\n",
    "        \"ref\": {\"dist\": \"norm\", \"loc\": 0.0, \"scale\": 0.02},\n",
    "        \"proposal\": PROPOSAL,\n",
    "    },\n",
    "    \"dz_wl_5\": {\n",
    "        \"prior\": {\"dist\": \"norm\", \"loc\": 0.0, \"scale\": 0.02},\n",
    "        \"ref\": {\"dist\": \"norm\", \"loc\": 0.0, \"scale\": 0.02},\n",
    "        \"proposal\": PROPOSAL,\n",
    "    },\n",
    "    # intrinsic alignment\n",
    "    \"a_ia\": {\n",
    "        \"prior\": {\"min\": -1.0, \"max\": 1.0},\n",
    "        \"ref\": 0.0,  # {\"dist\": \"norm\", \"loc\": 0.0, \"scale\": 0.001},\n",
    "        \"proposal\": PROPOSAL,\n",
    "    },\n",
    "    \"eta\": {\n",
    "        \"prior\": {\"min\": -5.0, \"max\": 5.0},\n",
    "        \"ref\": 0.0,  # {\"dist\": \"norm\", \"loc\": 0.0, \"scale\": 0.0001},\n",
    "        \"proposal\": PROPOSAL,\n",
    "    },\n",
    "    # multiplicative bias (galaxy clustering) \n",
    "    \"b1\": {\n",
    "        \"prior\": {\"min\": 0.8, \"max\": 3.0},\n",
    "        \"ref\": {\"dist\": \"norm\", \"loc\": 1.376695, \"scale\": 0.01},\n",
    "        \"proposal\": PROPOSAL,\n",
    "    },\n",
    "    \"b2\": {\n",
    "        \"prior\": {\"min\": 0.8, \"max\": 3.0},\n",
    "        \"ref\": {\"dist\": \"norm\", \"loc\": 1.451179, \"scale\": 0.01},\n",
    "        \"proposal\": PROPOSAL,\n",
    "    },\n",
    "    \"b3\": {\n",
    "        \"prior\": {\"min\": 0.8, \"max\": 3.0},\n",
    "        \"ref\": {\"dist\": \"norm\", \"loc\": 1.528404, \"scale\": 0.01},\n",
    "        \"proposal\": PROPOSAL,\n",
    "    },\n",
    "    \"b4\": {\n",
    "        \"prior\": {\"min\": 0.8, \"max\": 3.0},\n",
    "        \"ref\": {\"dist\": \"norm\", \"loc\": 1.607983, \"scale\": 0.01},\n",
    "        \"proposal\": PROPOSAL,\n",
    "    },\n",
    "    \"b5\": {\n",
    "        \"prior\": {\"min\": 0.8, \"max\": 3.0},\n",
    "        \"ref\": {\"dist\": \"norm\", \"loc\": 1.689579, \"scale\": 0.01},\n",
    "        \"proposal\": PROPOSAL,\n",
    "    },\n",
    "    \"b6\": {\n",
    "        \"prior\": {\"min\": 0.8, \"max\": 3.0},\n",
    "        \"ref\": {\"dist\": \"norm\", \"loc\": 1.772899, \"scale\": 0.01},\n",
    "        \"proposal\": PROPOSAL,\n",
    "    },\n",
    "    \"b7\": {\n",
    "        \"prior\": {\"min\": 0.8, \"max\": 3.0},\n",
    "        \"ref\": {\"dist\": \"norm\", \"loc\": 1.857700, \"scale\": 0.01},\n",
    "        \"proposal\": PROPOSAL,\n",
    "    },\n",
    "    \"b8\": {\n",
    "        \"prior\": {\"min\": 0.8, \"max\": 3.0},\n",
    "        \"ref\": {\"dist\": \"norm\", \"loc\": 1.943754, \"scale\": 0.01},\n",
    "        \"proposal\": PROPOSAL,\n",
    "    },\n",
    "    \"b9\": {\n",
    "        \"prior\": {\"min\": 0.8, \"max\": 3.0},\n",
    "        \"ref\": {\"dist\": \"norm\", \"loc\": 2.030887, \"scale\": 0.01},\n",
    "        \"proposal\": PROPOSAL,\n",
    "    },\n",
    "    \"b10\": {\n",
    "        \"prior\": {\"min\": 0.8, \"max\": 3.0},\n",
    "        \"ref\": {\"dist\": \"norm\", \"loc\": 2.118943, \"scale\": 0.01},\n",
    "        \"proposal\": PROPOSAL,\n",
    "    },\n",
    "    # shifts (galaxy clustering)\n",
    "    \"dz_gc_1\": {\n",
    "        \"prior\": {\"dist\": \"norm\", \"loc\": 0.0, \"scale\": 0.01},\n",
    "        \"ref\": {\"dist\": \"norm\", \"loc\": 0.0, \"scale\": 0.01},\n",
    "        \"proposal\": PROPOSAL,\n",
    "    },\n",
    "    \"dz_gc_2\": {\n",
    "        \"prior\": {\"dist\": \"norm\", \"loc\": 0.0, \"scale\": 0.01},\n",
    "        \"ref\": {\"dist\": \"norm\", \"loc\": 0.0, \"scale\": 0.01},\n",
    "        \"proposal\": PROPOSAL,\n",
    "    },\n",
    "    \"dz_gc_3\": {\n",
    "        \"prior\": {\"dist\": \"norm\", \"loc\": 0.0, \"scale\": 0.01},\n",
    "        \"ref\": {\"dist\": \"norm\", \"loc\": 0.0, \"scale\": 0.01},\n",
    "        \"proposal\": PROPOSAL,\n",
    "    },\n",
    "    \"dz_gc_4\": {\n",
    "        \"prior\": {\"dist\": \"norm\", \"loc\": 0.0, \"scale\": 0.01},\n",
    "        \"ref\": {\"dist\": \"norm\", \"loc\": 0.0, \"scale\": 0.01},\n",
    "        \"proposal\": PROPOSAL,\n",
    "    },\n",
    "    \"dz_gc_5\": {\n",
    "        \"prior\": {\"dist\": \"norm\", \"loc\": 0.0, \"scale\": 0.01},\n",
    "        \"ref\": {\"dist\": \"norm\", \"loc\": 0.0, \"scale\": 0.01},\n",
    "        \"proposal\": PROPOSAL,\n",
    "    },\n",
    "    \"dz_gc_6\": {\n",
    "        \"prior\": {\"dist\": \"norm\", \"loc\": 0.0, \"scale\": 0.01},\n",
    "        \"ref\": {\"dist\": \"norm\", \"loc\": 0.0, \"scale\": 0.01},\n",
    "        \"proposal\": PROPOSAL,\n",
    "    },\n",
    "    \"dz_gc_7\": {\n",
    "        \"prior\": {\"dist\": \"norm\", \"loc\": 0.0, \"scale\": 0.01},\n",
    "        \"ref\": {\"dist\": \"norm\", \"loc\": 0.0, \"scale\": 0.01},\n",
    "        \"proposal\": PROPOSAL,\n",
    "    },\n",
    "    \"dz_gc_8\": {\n",
    "        \"prior\": {\"dist\": \"norm\", \"loc\": 0.0, \"scale\": 0.01},\n",
    "        \"ref\": {\"dist\": \"norm\", \"loc\": 0.0, \"scale\": 0.01},\n",
    "        \"proposal\": PROPOSAL,\n",
    "    },\n",
    "    \"dz_gc_9\": {\n",
    "        \"prior\": {\"dist\": \"norm\", \"loc\": 0.0, \"scale\": 0.01},\n",
    "        \"ref\": {\"dist\": \"norm\", \"loc\": 0.0, \"scale\": 0.01},\n",
    "        \"proposal\": PROPOSAL,\n",
    "    },\n",
    "    \"dz_gc_10\": {\n",
    "        \"prior\": {\"dist\": \"norm\", \"loc\": 0.0, \"scale\": 0.01},\n",
    "        \"ref\": {\"dist\": \"norm\", \"loc\": 0.0, \"scale\": 0.01},\n",
    "        \"proposal\": PROPOSAL,\n",
    "    },\n",
    "}"
   ]
  },
  {
   "cell_type": "code",
   "execution_count": 61,
   "id": "80ddda72",
   "metadata": {},
   "outputs": [],
   "source": [
    "class CobayaLSST:\n",
    "    \n",
    "    def __init__(self, data, precision, params, jax_nz_gc, jax_nz_wl, bw_gc, bw_gc_wl, bw_wl):\n",
    "        self.data = data \n",
    "        self.precision = precision\n",
    "        self.params = params\n",
    "        self.pnames = list(params.keys())\n",
    "        self._postinit(jax_nz_gc, jax_nz_wl, bw_gc, bw_gc_wl, bw_wl)\n",
    "        \n",
    "    def _postinit(self, jax_nz_gc, jax_nz_wl, bw_gc, bw_gc_wl, bw_wl):\n",
    "        self.jax_nz_gc = jax_nz_gc\n",
    "        self.jax_nz_wl = jax_nz_wl \n",
    "        self.bw_gc = bw_gc\n",
    "        self.bw_gc_wl = bw_gc_wl \n",
    "        self.bw_wl = bw_wl \n",
    "        \n",
    "    def loglike(self, **kwargs):\n",
    "        params = jnp.array([kwargs[p] for p in self.pnames])\n",
    "        theory = jit_theory(parameters, self.jax_nz_gc, self.jax_nz_wl, self.bw_gc, self.bw_gc_wl, self.bw_wl)\n",
    "        diff = self.data - theory\n",
    "        chi2 = diff @ self.precision @ diff\n",
    "        logl = -0.5 * jnp.nan_to_num(chi2, nan=np.inf, posinf=np.inf, neginf=np.inf)\n",
    "        return logl.item()\n",
    "\n",
    "    def run_sampler(self, nsamples, iteration, criterion = 1E-2):\n",
    "        info = {\"likelihood\": {\"LSSTlike\": {\n",
    "                \"external\": self.loglike,\n",
    "                \"input_params\": self.pnames}}}\n",
    "        \n",
    "        info[\"params\"] = self.params\n",
    "        info[\"sampler\"] = {\"mcmc\": {\"max_samples\": nsamples, \"Rminus1_stop\": criterion}}\n",
    "        \n",
    "        path = get_output_folder(iteration)\n",
    "        if os.path.exists(path) and os.path.isdir(path):\n",
    "            shutil.rmtree(path)\n",
    "        info[\"output\"] = path + \"lsst\"\n",
    "        updated_info, sampler = run(info, debug=False)\n",
    "        return sampler"
   ]
  },
  {
   "cell_type": "code",
   "execution_count": 62,
   "id": "1b92c072",
   "metadata": {},
   "outputs": [],
   "source": [
    "testing = CobayaLSST(data, precision, params, jax_nz_gc, jax_nz_wl, bw_gc, bw_gc_wl, bw_wl)"
   ]
  },
  {
   "cell_type": "code",
   "execution_count": 72,
   "id": "042f66dc",
   "metadata": {},
   "outputs": [
    {
     "name": "stderr",
     "output_type": "stream",
     "text": [
      "INFO:output:Output to be read-from/written-into folder 'CobayaLSST/jaxcosmo_1', with prefix 'lsst'\n"
     ]
    },
    {
     "name": "stdout",
     "output_type": "stream",
     "text": [
      "[output] Output to be read-from/written-into folder 'CobayaLSST/jaxcosmo_1', with prefix 'lsst'\n"
     ]
    },
    {
     "name": "stderr",
     "output_type": "stream",
     "text": [
      "INFO:lsstlike:Initialized external likelihood.\n"
     ]
    },
    {
     "name": "stdout",
     "output_type": "stream",
     "text": [
      "[lsstlike] Initialized external likelihood.\n"
     ]
    },
    {
     "name": "stderr",
     "output_type": "stream",
     "text": [
      "INFO:mcmc:Getting initial point... (this may take a few seconds)\n"
     ]
    },
    {
     "name": "stdout",
     "output_type": "stream",
     "text": [
      "[mcmc] Getting initial point... (this may take a few seconds)\n"
     ]
    },
    {
     "name": "stderr",
     "output_type": "stream",
     "text": [
      "INFO:mcmc:Initial point: sigma8:0.8422387, omegac:0.258681, omegab:0.03936297, hubble:0.7002445, ns:1.010412, m1:0.01216315, m2:0.01355467, m3:0.01143811, m4:0.01287501, m5:0.01146035, dz_wl_1:0.02076592, dz_wl_2:-0.00561638, dz_wl_3:-0.01473849, dz_wl_4:0.02218091, dz_wl_5:0.01900005, a_ia:0, eta:0, b1:1.380655, b2:1.450668, b3:1.520811, b4:1.60423, b5:1.684858, b6:1.743165, b7:1.859186, b8:1.933868, b9:2.027971, b10:2.124726, dz_gc_1:0.009952352, dz_gc_2:0.006253444, dz_gc_3:0.02167437, dz_gc_4:0.00258497, dz_gc_5:0.0009115332, dz_gc_6:0.01698998, dz_gc_7:-0.00724775, dz_gc_8:-0.01881842, dz_gc_9:0.01281018, dz_gc_10:-0.002304852\n"
     ]
    },
    {
     "name": "stdout",
     "output_type": "stream",
     "text": [
      "[mcmc] Initial point: sigma8:0.8422387, omegac:0.258681, omegab:0.03936297, hubble:0.7002445, ns:1.010412, m1:0.01216315, m2:0.01355467, m3:0.01143811, m4:0.01287501, m5:0.01146035, dz_wl_1:0.02076592, dz_wl_2:-0.00561638, dz_wl_3:-0.01473849, dz_wl_4:0.02218091, dz_wl_5:0.01900005, a_ia:0, eta:0, b1:1.380655, b2:1.450668, b3:1.520811, b4:1.60423, b5:1.684858, b6:1.743165, b7:1.859186, b8:1.933868, b9:2.027971, b10:2.124726, dz_gc_1:0.009952352, dz_gc_2:0.006253444, dz_gc_3:0.02167437, dz_gc_4:0.00258497, dz_gc_5:0.0009115332, dz_gc_6:0.01698998, dz_gc_7:-0.00724775, dz_gc_8:-0.01881842, dz_gc_9:0.01281018, dz_gc_10:-0.002304852\n"
     ]
    },
    {
     "name": "stderr",
     "output_type": "stream",
     "text": [
      "INFO:model:Measuring speeds... (this may take a few seconds)\n"
     ]
    },
    {
     "name": "stdout",
     "output_type": "stream",
     "text": [
      "[model] Measuring speeds... (this may take a few seconds)\n"
     ]
    },
    {
     "name": "stderr",
     "output_type": "stream",
     "text": [
      "INFO:model:Setting measured speeds (per sec): {LSSTlike: 16.8}\n"
     ]
    },
    {
     "name": "stdout",
     "output_type": "stream",
     "text": [
      "[model] Setting measured speeds (per sec): {LSSTlike: 16.8}\n"
     ]
    },
    {
     "name": "stderr",
     "output_type": "stream",
     "text": [
      "INFO:mcmc:Covariance matrix not present. We will start learning the covariance of the proposal earlier: R-1 = 30 (would be 2 if all params loaded).\n"
     ]
    },
    {
     "name": "stdout",
     "output_type": "stream",
     "text": [
      "[mcmc] Covariance matrix not present. We will start learning the covariance of the proposal earlier: R-1 = 30 (would be 2 if all params loaded).\n"
     ]
    },
    {
     "name": "stderr",
     "output_type": "stream",
     "text": [
      "INFO:mcmc:Sampling!\n"
     ]
    },
    {
     "name": "stdout",
     "output_type": "stream",
     "text": [
      "[mcmc] Sampling!\n"
     ]
    },
    {
     "name": "stderr",
     "output_type": "stream",
     "text": [
      "INFO:mcmc:Progress @ 2024-04-15 09:27:34 : 1 steps taken, and 0 accepted.\n"
     ]
    },
    {
     "name": "stdout",
     "output_type": "stream",
     "text": [
      "[mcmc] Progress @ 2024-04-15 09:27:34 : 1 steps taken, and 0 accepted.\n"
     ]
    },
    {
     "name": "stderr",
     "output_type": "stream",
     "text": [
      "INFO:mcmc:Progress @ 2024-04-15 09:28:34 : 1095 steps taken, and 1010 accepted.\n"
     ]
    },
    {
     "name": "stdout",
     "output_type": "stream",
     "text": [
      "[mcmc] Progress @ 2024-04-15 09:28:34 : 1095 steps taken, and 1010 accepted.\n"
     ]
    },
    {
     "name": "stderr",
     "output_type": "stream",
     "text": [
      "INFO:mcmc:Learn + convergence test @ 1480 samples accepted.\n"
     ]
    },
    {
     "name": "stdout",
     "output_type": "stream",
     "text": [
      "[mcmc] Learn + convergence test @ 1480 samples accepted.\n"
     ]
    },
    {
     "name": "stderr",
     "output_type": "stream",
     "text": [
      "INFO:mcmc: - Acceptance rate: 0.937\n"
     ]
    },
    {
     "name": "stdout",
     "output_type": "stream",
     "text": [
      "[mcmc]  - Acceptance rate: 0.937\n"
     ]
    },
    {
     "name": "stderr",
     "output_type": "stream",
     "text": [
      "INFO:mcmc: - Convergence of means: R-1 = 106.755497 after 1184 accepted steps\n"
     ]
    },
    {
     "name": "stdout",
     "output_type": "stream",
     "text": [
      "[mcmc]  - Convergence of means: R-1 = 106.755497 after 1184 accepted steps\n"
     ]
    },
    {
     "name": "stderr",
     "output_type": "stream",
     "text": [
      "INFO:mcmc:Convergence less than requested for updates: waiting until the next convergence check.\n"
     ]
    },
    {
     "name": "stdout",
     "output_type": "stream",
     "text": [
      "[mcmc] Convergence less than requested for updates: waiting until the next convergence check.\n"
     ]
    },
    {
     "name": "stderr",
     "output_type": "stream",
     "text": [
      "INFO:mcmc:Progress @ 2024-04-15 09:29:34 : 2218 steps taken, and 2075 accepted.\n"
     ]
    },
    {
     "name": "stdout",
     "output_type": "stream",
     "text": [
      "[mcmc] Progress @ 2024-04-15 09:29:34 : 2218 steps taken, and 2075 accepted.\n"
     ]
    },
    {
     "name": "stderr",
     "output_type": "stream",
     "text": [
      "INFO:mcmc:Learn + convergence test @ 2960 samples accepted.\n"
     ]
    },
    {
     "name": "stdout",
     "output_type": "stream",
     "text": [
      "[mcmc] Learn + convergence test @ 2960 samples accepted.\n"
     ]
    },
    {
     "name": "stderr",
     "output_type": "stream",
     "text": [
      "INFO:mcmc: - Acceptance rate: 0.936\n"
     ]
    },
    {
     "name": "stdout",
     "output_type": "stream",
     "text": [
      "[mcmc]  - Acceptance rate: 0.936\n"
     ]
    },
    {
     "name": "stderr",
     "output_type": "stream",
     "text": [
      "INFO:mcmc: - Convergence of means: R-1 = 71.769136 after 2368 accepted steps\n"
     ]
    },
    {
     "name": "stdout",
     "output_type": "stream",
     "text": [
      "[mcmc]  - Convergence of means: R-1 = 71.769136 after 2368 accepted steps\n"
     ]
    },
    {
     "name": "stderr",
     "output_type": "stream",
     "text": [
      "INFO:mcmc:Convergence less than requested for updates: waiting until the next convergence check.\n"
     ]
    },
    {
     "name": "stdout",
     "output_type": "stream",
     "text": [
      "[mcmc] Convergence less than requested for updates: waiting until the next convergence check.\n"
     ]
    },
    {
     "name": "stderr",
     "output_type": "stream",
     "text": [
      "INFO:mcmc:Progress @ 2024-04-15 09:30:34 : 3368 steps taken, and 3129 accepted.\n"
     ]
    },
    {
     "name": "stdout",
     "output_type": "stream",
     "text": [
      "[mcmc] Progress @ 2024-04-15 09:30:34 : 3368 steps taken, and 3129 accepted.\n"
     ]
    },
    {
     "name": "stderr",
     "output_type": "stream",
     "text": [
      "INFO:mcmc:Progress @ 2024-04-15 09:31:34 : 4520 steps taken, and 4173 accepted.\n"
     ]
    },
    {
     "name": "stdout",
     "output_type": "stream",
     "text": [
      "[mcmc] Progress @ 2024-04-15 09:31:34 : 4520 steps taken, and 4173 accepted.\n"
     ]
    },
    {
     "name": "stderr",
     "output_type": "stream",
     "text": [
      "INFO:mcmc:Learn + convergence test @ 4440 samples accepted.\n"
     ]
    },
    {
     "name": "stdout",
     "output_type": "stream",
     "text": [
      "[mcmc] Learn + convergence test @ 4440 samples accepted.\n"
     ]
    },
    {
     "name": "stderr",
     "output_type": "stream",
     "text": [
      "INFO:mcmc: - Acceptance rate: 0.921\n"
     ]
    },
    {
     "name": "stdout",
     "output_type": "stream",
     "text": [
      "[mcmc]  - Acceptance rate: 0.921\n"
     ]
    },
    {
     "name": "stderr",
     "output_type": "stream",
     "text": [
      "INFO:mcmc: - Convergence of means: R-1 = 68.296193 after 3552 accepted steps\n"
     ]
    },
    {
     "name": "stdout",
     "output_type": "stream",
     "text": [
      "[mcmc]  - Convergence of means: R-1 = 68.296193 after 3552 accepted steps\n"
     ]
    },
    {
     "name": "stderr",
     "output_type": "stream",
     "text": [
      "INFO:mcmc:Convergence less than requested for updates: waiting until the next convergence check.\n"
     ]
    },
    {
     "name": "stdout",
     "output_type": "stream",
     "text": [
      "[mcmc] Convergence less than requested for updates: waiting until the next convergence check.\n"
     ]
    },
    {
     "name": "stderr",
     "output_type": "stream",
     "text": [
      "INFO:mcmc:Reached maximum number of accepted steps allowed (5000). Stopping.\n"
     ]
    },
    {
     "name": "stdout",
     "output_type": "stream",
     "text": [
      "[mcmc] Reached maximum number of accepted steps allowed (5000). Stopping.\n"
     ]
    },
    {
     "name": "stderr",
     "output_type": "stream",
     "text": [
      "INFO:mcmc:Sampling complete after 5000 accepted steps.\n"
     ]
    },
    {
     "name": "stdout",
     "output_type": "stream",
     "text": [
      "[mcmc] Sampling complete after 5000 accepted steps.\n"
     ]
    }
   ],
   "source": [
    "sampler = testing.run_sampler(nsamples=5000, iteration=1)"
   ]
  },
  {
   "cell_type": "code",
   "execution_count": 76,
   "id": "30c7a20a",
   "metadata": {},
   "outputs": [
    {
     "data": {
      "image/png": "[encoded data removed]",
      "text/plain": [
       "<Figure size 640x480 with 1 Axes>"
      ]
     },
     "metadata": {},
     "output_type": "display_data"
    }
   ],
   "source": [
    "plt.plot(samples.sigma8)\n",
    "plt.show()"
   ]
  },
  {
   "cell_type": "code",
   "execution_count": 74,
   "id": "d4b830d5",
   "metadata": {},
   "outputs": [
    {
     "data": {
      "image/png": "[encoded data removed]",
      "text/plain": [
       "<Figure size 640x480 with 1 Axes>"
      ]
     },
     "metadata": {},
     "output_type": "display_data"
    }
   ],
   "source": [
    "plt.hist(samples.sigma8, density = True)\n",
    "plt.show()"
   ]
  },
  {
   "cell_type": "code",
   "execution_count": 75,
   "id": "8598d549",
   "metadata": {},
   "outputs": [
    {
     "data": {
      "image/png": "[encoded data removed]",
      "text/plain": [
       "<Figure size 640x480 with 1 Axes>"
      ]
     },
     "metadata": {},
     "output_type": "display_data"
    }
   ],
   "source": [
    "plt.hist(samples.omegac, density = True)\n",
    "plt.show()"
   ]
  },
  {
   "cell_type": "code",
   "execution_count": null,
   "id": "397b2a04",
   "metadata": {},
   "outputs": [],
   "source": []
  }
 ],
 "metadata": {
  "kernelspec": {
   "display_name": "Python 3 (ipykernel)",
   "language": "python",
   "name": "python3"
  },
  "language_info": {
   "codemirror_mode": {
    "name": "ipython",
    "version": 3
   },
   "file_extension": ".py",
   "mimetype": "text/x-python",
   "name": "python",
   "nbconvert_exporter": "python",
   "pygments_lexer": "ipython3",
   "version": "3.9.18"
  }
 },
 "nbformat": 4,
 "nbformat_minor": 5
}
