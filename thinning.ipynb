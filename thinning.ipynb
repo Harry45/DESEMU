{
 "cells": [
  {
   "cell_type": "code",
   "execution_count": 1,
   "id": "7f89c9d1",
   "metadata": {},
   "outputs": [],
   "source": [
    "import numpy as np \n",
    "import pandas as pd\n",
    "from numpyro.diagnostics import summary\n",
    "from utils.helpers import pickle_load\n",
    "import matplotlib.pylab as plt \n",
    "\n",
    "plt.rc('text', usetex=True)\n",
    "plt.rc('font',**{'family':'sans-serif','serif':['Palatino']})\n",
    "figSize  = (12, 8)\n",
    "fontSize = 15"
   ]
  },
  {
   "cell_type": "code",
   "execution_count": 2,
   "id": "a75018dc",
   "metadata": {},
   "outputs": [],
   "source": [
    "KEYS = ['sigma8', 'Omegac', 'Omegab', 'hubble', 'ns',\n",
    "        'm1', 'm2', 'm3', 'm4',\n",
    "        'dz_wl_1', 'dz_wl_2', 'dz_wl_3', 'dz_wl_4',\n",
    "        'a_ia', 'eta',\n",
    "        'b1', 'b2', 'b3', 'b4', 'b5', \n",
    "        'dz_gc_1', 'dz_gc_2', 'dz_gc_3', 'dz_gc_4', 'dz_gc_5']\n",
    "\n",
    "# weight    \n",
    "# minuslogpost          \n",
    "# sigma8          \n",
    "# omegac          \n",
    "# omegab          \n",
    "# hubble              \n",
    "# ns              \n",
    "# m1              \n",
    "# m2              \n",
    "# m3              \n",
    "# m4         \n",
    "# dz_wl_1         \n",
    "# dz_wl_2         \n",
    "# dz_wl_3         \n",
    "# dz_wl_4            \n",
    "# a_ia             \n",
    "# eta              \n",
    "# b1              \n",
    "# b2              \n",
    "# b3              \n",
    "# b4              \n",
    "# b5         \n",
    "# dz_gc_1         \n",
    "# dz_gc_2         \n",
    "# dz_gc_3         \n",
    "# dz_gc_4         \n",
    "# dz_gc_5   \n",
    "# minuslogprior \n",
    "# minuslogprior__0            \n",
    "# chi2 \n",
    "# chi2__my_likelihood"
   ]
  },
  {
   "cell_type": "code",
   "execution_count": 3,
   "id": "bf18b9e6",
   "metadata": {},
   "outputs": [],
   "source": [
    "def summary_calculation(samples1: np.ndarray, samples2: np.ndarray, neval: int) -> pd.DataFrame:\n",
    "    record = []\n",
    "    for i, key in enumerate(KEYS):\n",
    "        testsamples = np.vstack(([samples1[:,i], samples2[:,i]]))\n",
    "        summary_stats = summary(testsamples)\n",
    "        summary_stats[key] = summary_stats.pop('Param:0')\n",
    "        record.append(summary_stats)\n",
    "\n",
    "    record_df = []\n",
    "    for i in range(len(record)):\n",
    "        record_df.append(pd.DataFrame(record[i]).round(3).loc[['r_hat', 'n_eff', 'mean', 'std']])\n",
    "\n",
    "    record_df = pd.concat(record_df, axis = 1).T\n",
    "    record_df['scaled_n_eff'] = record_df['n_eff'] / neval\n",
    "    return record_df"
   ]
  },
  {
   "cell_type": "markdown",
   "id": "c9724c0f",
   "metadata": {},
   "source": [
    "## Cobaya"
   ]
  },
  {
   "cell_type": "code",
   "execution_count": 4,
   "id": "602d31c5",
   "metadata": {},
   "outputs": [],
   "source": [
    "def cobaya_statistics(engine = 'jaxcosmo', thin: int = 2, nchain = 2, method = 'nsamples'):\n",
    "    record_samples = []\n",
    "    nsamples_per_chain = []\n",
    "    total_samples = 0\n",
    "    for i in range(nchain):\n",
    "        samples = np.loadtxt(f'outputcobaya/testing/{engine}_{i+1}/output_prefix.1.txt')\n",
    "        total_samples += sum(samples[:,0])\n",
    "        samples_thinned = samples[0::thin]\n",
    "        record_samples.append(samples_thinned[:,2:-4])\n",
    "        nsamples_per_chain.append(samples_thinned.shape[0])\n",
    "    \n",
    "    minsamples = min(nsamples_per_chain)\n",
    "    \n",
    "    if method == 'nsamples':\n",
    "        stats = summary_calculation(record_samples[0][-minsamples:], record_samples[1][-minsamples:], 2*minsamples)\n",
    "    else:\n",
    "        stats = summary_calculation(record_samples[0][-minsamples:], record_samples[1][-minsamples:], total_samples)\n",
    "    return stats"
   ]
  },
  {
   "cell_type": "markdown",
   "id": "dee7dc89",
   "metadata": {},
   "source": [
    "## EMCEE"
   ]
  },
  {
   "cell_type": "code",
   "execution_count": 5,
   "id": "022d83a5",
   "metadata": {},
   "outputs": [],
   "source": [
    "def emcee_stats(engine = 'jaxcosmo', thin: int = 2, discard: int = 1000, method = 'nsamples'):\n",
    "\n",
    "    test_1 = pickle_load('samples', f'{engine}_emcee_1')\n",
    "    test_2 = pickle_load('samples', f'{engine}_emcee_2')\n",
    "\n",
    "    nevals = test_1.flatchain.shape[0] + test_2.flatchain.shape[0]\n",
    "\n",
    "    samples_1 = test_1.get_chain(discard = discard, thin = thin, flat = True) \n",
    "    samples_2 = test_2.get_chain(discard = discard, thin = thin, flat = True)\n",
    "    \n",
    "    if method == 'nsamples':\n",
    "        stats = summary_calculation(samples_1, samples_2, samples_1.shape[0] + samples_2.shape[0])\n",
    "    else:\n",
    "        stats = summary_calculation(samples_1, samples_2, nevals) \n",
    "    return stats"
   ]
  },
  {
   "cell_type": "markdown",
   "id": "091d4ff0",
   "metadata": {},
   "source": [
    "## NUTS"
   ]
  },
  {
   "cell_type": "code",
   "execution_count": 6,
   "id": "9bd94cd4",
   "metadata": {},
   "outputs": [],
   "source": [
    "def nuts_stats(engine = 'jaxcosmo', method = 'nsamples'):\n",
    "\n",
    "    sampler = pickle_load('samples', f'{engine}_nuts_small_ss_high_td')\n",
    "    nsamples = sampler.num_chains * sampler.num_samples\n",
    "    num_steps = sampler.get_extra_fields(group_by_chain=True)['num_steps'].sum(1).sum(0).item()\n",
    "\n",
    "    samples = sampler.get_samples(group_by_chain=True)\n",
    "    \n",
    "    record = []\n",
    "    for key in KEYS:\n",
    "        summary_stats = summary(samples[key])\n",
    "        summary_stats[key] = summary_stats.pop('Param:0')\n",
    "        record.append(summary_stats)\n",
    "\n",
    "    record_df = []\n",
    "    for i in range(len(record)):\n",
    "        record_df.append(pd.DataFrame(record[i]).round(3).loc[['r_hat', 'n_eff', 'mean', 'std']])\n",
    "\n",
    "    record_df = pd.concat(record_df, axis = 1).T\n",
    "    if method == 'nsamples':\n",
    "        record_df['scaled_n_eff'] = record_df['n_eff'] / nsamples\n",
    "    else:\n",
    "        record_df['scaled_n_eff'] = record_df['n_eff'] / num_steps\n",
    "    return record_df\n"
   ]
  },
  {
   "cell_type": "code",
   "execution_count": 14,
   "id": "6402c494",
   "metadata": {},
   "outputs": [],
   "source": [
    "METHOD = 'nsamples' # 'nlike' #"
   ]
  },
  {
   "cell_type": "code",
   "execution_count": 15,
   "id": "b719aa97",
   "metadata": {},
   "outputs": [
    {
     "data": {
      "text/plain": [
       "0.6630003813333333"
      ]
     },
     "execution_count": 15,
     "metadata": {},
     "output_type": "execute_result"
    }
   ],
   "source": [
    "nuts_stats(engine = 'jaxcosmo', method = METHOD)['scaled_n_eff'].mean()"
   ]
  },
  {
   "cell_type": "code",
   "execution_count": 16,
   "id": "c90a21f7",
   "metadata": {},
   "outputs": [
    {
     "data": {
      "text/plain": [
       "0.6857410013333333"
      ]
     },
     "execution_count": 16,
     "metadata": {},
     "output_type": "execute_result"
    }
   ],
   "source": [
    "nuts_stats(engine = 'emulator', method = METHOD)['scaled_n_eff'].mean()"
   ]
  },
  {
   "cell_type": "code",
   "execution_count": 17,
   "id": "06acbc7a",
   "metadata": {},
   "outputs": [],
   "source": [
    "factors = np.arange(2, 32, 2)\n",
    "record_cobaya_jc = []\n",
    "record_emcee_jc = []\n",
    "\n",
    "record_cobaya_emu = []\n",
    "record_emcee_emu = []\n",
    "\n",
    "for t in factors:\n",
    "    sneff_cobaya_jc = cobaya_statistics(engine='jaxcosmo', thin = t, method = METHOD)['scaled_n_eff'].mean()\n",
    "    sneff_emcee_jc = emcee_stats(engine='jaxcosmo', thin = t, method = METHOD)['scaled_n_eff'].mean()\n",
    "    \n",
    "    sneff_cobaya_emu = cobaya_statistics(engine='emulator', thin = t, method = METHOD)['scaled_n_eff'].mean()\n",
    "    sneff_emcee_emu = emcee_stats(engine='emulator', thin = t, method = METHOD)['scaled_n_eff'].mean()\n",
    "    \n",
    "    record_cobaya_jc.append(sneff_cobaya_jc)\n",
    "    record_emcee_jc.append(sneff_emcee_jc)\n",
    "    \n",
    "    record_cobaya_emu.append(sneff_cobaya_emu)\n",
    "    record_emcee_emu.append(sneff_emcee_emu)\n",
    "    \n",
    "    \n",
    "record_cobaya_jc = np.asarray(record_cobaya_jc)\n",
    "record_emcee_jc = np.asarray(record_emcee_jc)\n",
    "\n",
    "record_cobaya_emu = np.asarray(record_cobaya_emu)\n",
    "record_emcee_emu = np.asarray(record_emcee_emu)"
   ]
  },
  {
   "cell_type": "code",
   "execution_count": 18,
   "id": "f23e1925",
   "metadata": {},
   "outputs": [
    {
     "data": {
      "image/png": "[encoded data removed]",
      "text/plain": [
       "<Figure size 800x600 with 1 Axes>"
      ]
     },
     "metadata": {},
     "output_type": "display_data"
    }
   ],
   "source": [
    "plt.figure(figsize = (8,6))\n",
    "\n",
    "if METHOD == 'nsamples':\n",
    "    \n",
    "    plt.axhline(0.6630003813333333, linestyle = '--', lw = 2, c = 'red', label = 'NUTS (EH)')\n",
    "    plt.axhline(0.6857410013333333, linestyle = ':', lw = 2, c = 'lightcoral', label = 'NUTS (Emulator)')\n",
    "    plt.ylim(0.0, 1.0)\n",
    "else:\n",
    "    plt.axhline(0.04482185394258569, linestyle = '--', lw = 2, c = 'red', label = 'NUTS (EH)')\n",
    "    plt.axhline(0.03415634511934331, linestyle = ':', lw = 2, c = 'lightcoral', label = 'NUTS (Emulator)')\n",
    "    plt.yscale('log')\n",
    "    \n",
    "plt.scatter(factors, record_cobaya_jc, color = 'darkcyan', label = 'Cobaya (EH)')\n",
    "plt.plot(factors, record_cobaya_jc, color = 'darkcyan')\n",
    "\n",
    "plt.scatter(factors, record_cobaya_emu, color = 'cyan', label = 'Cobaya (Emulator)')\n",
    "plt.plot(factors, record_cobaya_emu, color = 'cyan')\n",
    "\n",
    "plt.scatter(factors, record_emcee_jc, color = 'darkviolet', label = 'EMCEE (EH)')\n",
    "plt.plot(factors, record_emcee_jc, color = 'darkviolet')\n",
    "\n",
    "plt.scatter(factors, record_emcee_emu, color = 'violet', label = 'EMCEE (Emulator)')\n",
    "plt.plot(factors, record_emcee_emu, color = 'violet')\n",
    "\n",
    "plt.xlim(2, 30)\n",
    "plt.ylabel(r'$N_{eff}$', fontsize = fontSize)\n",
    "plt.xlabel(r'Thinning Factor', fontsize = fontSize)\n",
    "plt.tick_params(axis='x', labelsize=fontSize)\n",
    "plt.tick_params(axis='y', labelsize=fontSize)\n",
    "plt.legend(loc='best',prop={'family':'sans-serif', 'size':12})\n",
    "# plt.savefig(f'/home/arrykrishna/Desktop/{ENGINE}_nsamples.pdf', bbox_inches = 'tight')\n",
    "plt.show()"
   ]
  },
  {
   "cell_type": "code",
   "execution_count": null,
   "id": "38f83a78",
   "metadata": {},
   "outputs": [],
   "source": []
  }
 ],
 "metadata": {
  "kernelspec": {
   "display_name": "Python 3 (ipykernel)",
   "language": "python",
   "name": "python3"
  },
  "language_info": {
   "codemirror_mode": {
    "name": "ipython",
    "version": 3
   },
   "file_extension": ".py",
   "mimetype": "text/x-python",
   "name": "python",
   "nbconvert_exporter": "python",
   "pygments_lexer": "ipython3",
   "version": "3.9.18"
  }
 },
 "nbformat": 4,
 "nbformat_minor": 5
}
