{
 "cells": [
  {
   "cell_type": "code",
   "execution_count": 83,
   "id": "7bbd82da",
   "metadata": {},
   "outputs": [],
   "source": [
    "import numpy as np \n",
    "import pandas as pd\n",
    "from numpyro.diagnostics import summary\n",
    "from utils.helpers import pickle_load\n",
    "import matplotlib.pylab as plt \n",
    "\n",
    "plt.rc('text', usetex=True)\n",
    "plt.rc('font',**{'family':'sans-serif','serif':['Palatino']})\n",
    "figSize  = (12, 8)\n",
    "fontSize = 15"
   ]
  },
  {
   "cell_type": "code",
   "execution_count": 84,
   "id": "59163ea9",
   "metadata": {},
   "outputs": [],
   "source": [
    "KEYS = ['sigma8', 'Omegac', 'Omegab', 'hubble', 'ns',\n",
    "        'm1', 'm2', 'm3', 'm4',\n",
    "        'dz_wl_1', 'dz_wl_2', 'dz_wl_3', 'dz_wl_4',\n",
    "        'a_ia', 'eta',\n",
    "        'b1', 'b2', 'b3', 'b4', 'b5', \n",
    "        'dz_gc_1', 'dz_gc_2', 'dz_gc_3', 'dz_gc_4', 'dz_gc_5']\n",
    "\n",
    "# weight    \n",
    "# minuslogpost          \n",
    "# sigma8          \n",
    "# omegac          \n",
    "# omegab          \n",
    "# hubble              \n",
    "# ns              \n",
    "# m1              \n",
    "# m2              \n",
    "# m3              \n",
    "# m4         \n",
    "# dz_wl_1         \n",
    "# dz_wl_2         \n",
    "# dz_wl_3         \n",
    "# dz_wl_4            \n",
    "# a_ia             \n",
    "# eta              \n",
    "# b1              \n",
    "# b2              \n",
    "# b3              \n",
    "# b4              \n",
    "# b5         \n",
    "# dz_gc_1         \n",
    "# dz_gc_2         \n",
    "# dz_gc_3         \n",
    "# dz_gc_4         \n",
    "# dz_gc_5   \n",
    "# minuslogprior \n",
    "# minuslogprior__0            \n",
    "# chi2 \n",
    "# chi2__my_likelihood"
   ]
  },
  {
   "cell_type": "code",
   "execution_count": 85,
   "id": "11ae2b9c",
   "metadata": {},
   "outputs": [],
   "source": [
    "def summary_calculation(samples1: np.ndarray, samples2: np.ndarray, neval: int) -> pd.DataFrame:\n",
    "    record = []\n",
    "    for i, key in enumerate(KEYS):\n",
    "        testsamples = np.vstack(([samples1[:,i], samples2[:,i]]))\n",
    "        summary_stats = summary(testsamples)\n",
    "        summary_stats[key] = summary_stats.pop('Param:0')\n",
    "        record.append(summary_stats)\n",
    "\n",
    "    record_df = []\n",
    "    for i in range(len(record)):\n",
    "        record_df.append(pd.DataFrame(record[i]).round(3).loc[['r_hat', 'n_eff', 'mean', 'std']])\n",
    "\n",
    "    record_df = pd.concat(record_df, axis = 1).T\n",
    "    record_df['scaled_n_eff'] = record_df['n_eff'] / neval\n",
    "    return record_df"
   ]
  },
  {
   "cell_type": "markdown",
   "id": "a438f040",
   "metadata": {},
   "source": [
    "## Cobaya"
   ]
  },
  {
   "cell_type": "code",
   "execution_count": 86,
   "id": "8d668cfc",
   "metadata": {},
   "outputs": [],
   "source": [
    "def cobaya_statistics(engine = 'jaxcosmo', thin: int = 2, nchain = 2, method = 'nsamples'):\n",
    "    record_samples = []\n",
    "    nsamples_per_chain = []\n",
    "    total_samples = 0\n",
    "    for i in range(nchain):\n",
    "        samples = np.loadtxt(f'outputcobaya/testing/{engine}_{i+1}/output_prefix.1.txt')\n",
    "        total_samples += sum(samples[:,0])\n",
    "        samples_thinned = samples[0::thin]\n",
    "        record_samples.append(samples_thinned[:,2:-4])\n",
    "        nsamples_per_chain.append(samples_thinned.shape[0])\n",
    "    \n",
    "    minsamples = min(nsamples_per_chain)\n",
    "    \n",
    "    if method == 'nsamples':\n",
    "        stats = summary_calculation(record_samples[0][-minsamples:], record_samples[1][-minsamples:], 2*minsamples)\n",
    "    else:\n",
    "        stats = summary_calculation(record_samples[0][-minsamples:], record_samples[1][-minsamples:], total_samples)\n",
    "    return stats"
   ]
  },
  {
   "cell_type": "markdown",
   "id": "8d72c10a",
   "metadata": {},
   "source": [
    "## EMCEE"
   ]
  },
  {
   "cell_type": "code",
   "execution_count": 87,
   "id": "4dbbb8d9",
   "metadata": {},
   "outputs": [],
   "source": [
    "def emcee_stats(engine = 'jaxcosmo', thin: int = 2, discard: int = 1000, method = 'nsamples'):\n",
    "\n",
    "    test_1 = pickle_load('samples', f'{engine}_emcee_1')\n",
    "    test_2 = pickle_load('samples', f'{engine}_emcee_2')\n",
    "\n",
    "    nevals = test_1.flatchain.shape[0] + test_2.flatchain.shape[0]\n",
    "\n",
    "    samples_1 = test_1.get_chain(discard = discard, thin = thin, flat = True) \n",
    "    samples_2 = test_2.get_chain(discard = discard, thin = thin, flat = True)\n",
    "    \n",
    "    if method == 'nsamples':\n",
    "        stats = summary_calculation(samples_1, samples_2, samples_1.shape[0] + samples_2.shape[0])\n",
    "    else:\n",
    "        stats = summary_calculation(samples_1, samples_2, nevals) \n",
    "    return stats"
   ]
  },
  {
   "cell_type": "markdown",
   "id": "e6cab723",
   "metadata": {},
   "source": [
    "## NUTS"
   ]
  },
  {
   "cell_type": "code",
   "execution_count": 88,
   "id": "c6443960",
   "metadata": {},
   "outputs": [],
   "source": [
    "def nuts_stats(engine = 'jaxcosmo', thin = None, method = 'nsamples'):\n",
    "\n",
    "    sampler = pickle_load('samples', f'{engine}_nuts_small_ss_high_td')\n",
    "    nsamples = sampler.num_chains * sampler.num_samples\n",
    "    num_steps = sampler.get_extra_fields(group_by_chain=True)['num_steps'].sum(1).sum(0).item()\n",
    "    samples = sampler.get_samples(group_by_chain=True)\n",
    "    record = []\n",
    "    for key in KEYS:\n",
    "        parameter_samples = samples[key]\n",
    "        if thin is not None:\n",
    "            parameter_samples = parameter_samples[:,0::thin]\n",
    "            nsamples = np.prod(parameter_samples.shape)\n",
    "        summary_stats = summary(parameter_samples)\n",
    "        summary_stats[key] = summary_stats.pop('Param:0')\n",
    "        record.append(summary_stats)\n",
    "\n",
    "    record_df = []\n",
    "    for i in range(len(record)):\n",
    "        record_df.append(pd.DataFrame(record[i]).round(3).loc[['r_hat', 'n_eff', 'mean', 'std']])\n",
    "\n",
    "    record_df = pd.concat(record_df, axis = 1).T\n",
    "    if method == 'nsamples':\n",
    "        record_df['scaled_n_eff'] = record_df['n_eff'] / nsamples\n",
    "    else:\n",
    "        record_df['scaled_n_eff'] = record_df['n_eff'] / num_steps\n",
    "    return record_df\n"
   ]
  },
  {
   "cell_type": "code",
   "execution_count": 89,
   "id": "9da612ff",
   "metadata": {},
   "outputs": [],
   "source": [
    "METHOD = 'nsamples' "
   ]
  },
  {
   "cell_type": "code",
   "execution_count": 90,
   "id": "d7a4bd93",
   "metadata": {},
   "outputs": [],
   "source": [
    "factors = np.arange(2, 12, 2)\n",
    "record_cobaya_jc = []\n",
    "record_emcee_jc = []\n",
    "\n",
    "record_cobaya_emu = []\n",
    "record_emcee_emu = []\n",
    "\n",
    "record_nuts_jc = []\n",
    "record_nuts_emu = []\n",
    "\n",
    "for t in factors:\n",
    "    sneff_cobaya_jc = cobaya_statistics(engine='jaxcosmo', thin = t, method = METHOD)['scaled_n_eff'].mean()\n",
    "    sneff_emcee_jc = emcee_stats(engine='jaxcosmo', thin = t, method = METHOD)['scaled_n_eff'].mean()\n",
    "    sneff_nuts_jc = nuts_stats(engine = 'jaxcosmo', thin = t, method = METHOD)['scaled_n_eff'].mean()\n",
    "    \n",
    "    sneff_cobaya_emu = cobaya_statistics(engine='emulator', thin = t, method = METHOD)['scaled_n_eff'].mean()\n",
    "    sneff_emcee_emu = emcee_stats(engine='emulator', thin = t, method = METHOD)['scaled_n_eff'].mean()\n",
    "    sneff_nuts_emu = nuts_stats(engine = 'emulator', thin = t, method = METHOD)['scaled_n_eff'].mean()\n",
    "    \n",
    "    \n",
    "    record_cobaya_jc.append(sneff_cobaya_jc)\n",
    "    record_emcee_jc.append(sneff_emcee_jc)\n",
    "    record_nuts_jc.append(sneff_nuts_jc)\n",
    "    \n",
    "    record_cobaya_emu.append(sneff_cobaya_emu)\n",
    "    record_emcee_emu.append(sneff_emcee_emu)\n",
    "    record_nuts_emu.append(sneff_nuts_emu)\n",
    "    \n",
    "record_cobaya_jc = np.asarray(record_cobaya_jc)\n",
    "record_emcee_jc = np.asarray(record_emcee_jc)\n",
    "record_nuts_jc = np.asarray(record_nuts_jc)\n",
    "\n",
    "record_cobaya_emu = np.asarray(record_cobaya_emu)\n",
    "record_emcee_emu = np.asarray(record_emcee_emu)\n",
    "record_nuts_emu = np.asarray(record_nuts_emu)"
   ]
  },
  {
   "cell_type": "code",
   "execution_count": 106,
   "id": "b2c3bc69",
   "metadata": {},
   "outputs": [],
   "source": [
    "ref = record_cobaya_jc[-1]"
   ]
  },
  {
   "cell_type": "code",
   "execution_count": 107,
   "id": "fd11b843",
   "metadata": {},
   "outputs": [
    {
     "data": {
      "text/plain": [
       "4.960578781160426"
      ]
     },
     "execution_count": 107,
     "metadata": {},
     "output_type": "execute_result"
    }
   ],
   "source": [
    "record_emcee_emu[-1] / ref"
   ]
  },
  {
   "cell_type": "code",
   "execution_count": 108,
   "id": "93a614ed",
   "metadata": {},
   "outputs": [
    {
     "data": {
      "text/plain": [
       "4.44733337266822"
      ]
     },
     "execution_count": 108,
     "metadata": {},
     "output_type": "execute_result"
    }
   ],
   "source": [
    "record_emcee_jc[-1] / ref"
   ]
  },
  {
   "cell_type": "code",
   "execution_count": 109,
   "id": "4437af2d",
   "metadata": {},
   "outputs": [
    {
     "data": {
      "text/plain": [
       "4.937674932210941"
      ]
     },
     "execution_count": 109,
     "metadata": {},
     "output_type": "execute_result"
    }
   ],
   "source": [
    "record_nuts_jc[-1] / ref"
   ]
  },
  {
   "cell_type": "code",
   "execution_count": 110,
   "id": "18ae9641",
   "metadata": {},
   "outputs": [
    {
     "data": {
      "text/plain": [
       "4.872417533897912"
      ]
     },
     "execution_count": 110,
     "metadata": {},
     "output_type": "execute_result"
    }
   ],
   "source": [
    "record_nuts_emu[-1] / ref"
   ]
  },
  {
   "cell_type": "code",
   "execution_count": 111,
   "id": "1063f007",
   "metadata": {},
   "outputs": [
    {
     "data": {
      "text/plain": [
       "1.0275921080205332"
      ]
     },
     "execution_count": 111,
     "metadata": {},
     "output_type": "execute_result"
    }
   ],
   "source": [
    "record_cobaya_emu[-1] / ref"
   ]
  },
  {
   "cell_type": "code",
   "execution_count": 120,
   "id": "487b7433",
   "metadata": {},
   "outputs": [
    {
     "data": {
      "image/png": "[encoded data removed]",
      "text/plain": [
       "<Figure size 600x400 with 1 Axes>"
      ]
     },
     "metadata": {},
     "output_type": "display_data"
    }
   ],
   "source": [
    "plt.figure(figsize = (6, 4))\n",
    "\n",
    "plt.scatter(factors, record_nuts_jc, color = 'red', label = 'NUTS (EH)')\n",
    "plt.plot(factors, record_nuts_jc, color = 'red')\n",
    "\n",
    "plt.scatter(factors, record_nuts_emu, color = 'lightcoral', label = 'NUTS (Emulator)')\n",
    "plt.plot(factors, record_nuts_emu, color = 'lightcoral')\n",
    "\n",
    "plt.scatter(factors, record_cobaya_jc, color = 'darkcyan', label = 'Cobaya (EH)')\n",
    "plt.plot(factors, record_cobaya_jc, color = 'darkcyan')\n",
    "\n",
    "plt.scatter(factors, record_cobaya_emu, color = 'cyan', label = 'Cobaya (Emulator)')\n",
    "plt.plot(factors, record_cobaya_emu, color = 'cyan')\n",
    "\n",
    "plt.scatter(factors, record_emcee_jc, color = 'darkviolet', label = 'EMCEE (EH)')\n",
    "plt.plot(factors, record_emcee_jc, color = 'darkviolet')\n",
    "\n",
    "plt.scatter(factors, record_emcee_emu, color = 'violet', label = 'EMCEE (Emulator)')\n",
    "plt.plot(factors, record_emcee_emu, color = 'violet')\n",
    "\n",
    "plt.xlim(2, 10)\n",
    "plt.ylabel(r'$N_{eff}$', fontsize = fontSize)\n",
    "plt.xlabel(r'Thinning Factor', fontsize = fontSize)\n",
    "plt.tick_params(axis='x', labelsize=fontSize)\n",
    "plt.tick_params(axis='y', labelsize=fontSize)\n",
    "plt.legend(bbox_to_anchor=[1.4, 1.0],prop={'family':'sans-serif', 'size':10})\n",
    "# plt.savefig(f'/home/arrykrishna/Desktop/{ENGINE}_nsamples.pdf', bbox_inches = 'tight')\n",
    "plt.show()"
   ]
  },
  {
   "cell_type": "markdown",
   "id": "a7d63acd",
   "metadata": {},
   "source": [
    "## Understand What Thinning Does\n",
    "\n",
    "https://jrnold.github.io/bayesian_notes/mcmc-diagnostics.html\n",
    "\n",
    "\n",
    "<img src=\"notes/thinning.png\" \n",
    "     align=\"center\" \n",
    "     width=\"800\" />"
   ]
  },
  {
   "cell_type": "code",
   "execution_count": 93,
   "id": "2b0ffca9",
   "metadata": {},
   "outputs": [],
   "source": [
    "# generate two chains (samples from a unit normal distribution)\n",
    "nsamples = 100000\n",
    "x1 = np.random.randn(nsamples)\n",
    "x2 = np.random.randn(nsamples)\n",
    "x = np.vstack([x1, x2])"
   ]
  },
  {
   "cell_type": "code",
   "execution_count": 94,
   "id": "cf917277",
   "metadata": {},
   "outputs": [
    {
     "data": {
      "text/plain": [
       "200713.31363885544"
      ]
     },
     "execution_count": 94,
     "metadata": {},
     "output_type": "execute_result"
    }
   ],
   "source": [
    "# this is the effective sample size \n",
    "summary(x)['Param:0']['n_eff']"
   ]
  },
  {
   "cell_type": "code",
   "execution_count": 95,
   "id": "dcb82d3e",
   "metadata": {},
   "outputs": [
    {
     "data": {
      "text/plain": [
       "1.0035665681942771"
      ]
     },
     "execution_count": 95,
     "metadata": {},
     "output_type": "execute_result"
    }
   ],
   "source": [
    "# this is the effective sample size per sample \n",
    "summary(x)['Param:0']['n_eff'] / (2*nsamples)"
   ]
  },
  {
   "cell_type": "code",
   "execution_count": 96,
   "id": "7dc450ba",
   "metadata": {},
   "outputs": [],
   "source": [
    "thin_factors = np.arange(2, 102, 2)\n",
    "record_neff = [] \n",
    "record_neff_n = []\n",
    "for t in thin_factors:\n",
    "    x1_thinned = x1[0::t]\n",
    "    x2_thinned = x2[0::t]\n",
    "    x_thinned = np.vstack([x1_thinned, x2_thinned])\n",
    "    neff = summary(x_thinned)['Param:0']['n_eff']\n",
    "    neff_n = neff / (x1_thinned.shape[0] + x2_thinned.shape[0])\n",
    "    record_neff.append(neff)\n",
    "    record_neff_n.append(neff_n)"
   ]
  },
  {
   "cell_type": "code",
   "execution_count": 112,
   "id": "7736bf8f",
   "metadata": {},
   "outputs": [
    {
     "data": {
      "image/png": "[encoded data removed]",
      "text/plain": [
       "<Figure size 1200x400 with 2 Axes>"
      ]
     },
     "metadata": {},
     "output_type": "display_data"
    }
   ],
   "source": [
    "plt.figure(figsize = (12,4))\n",
    "plt.subplot(121)\n",
    "plt.scatter(thin_factors, record_neff)\n",
    "plt.plot(thin_factors, record_neff)\n",
    "plt.yscale('log')\n",
    "plt.ylabel(r'$n_{eff}$', fontsize = fontSize)\n",
    "plt.xlabel(r'Thinning Factor', fontsize = fontSize)\n",
    "plt.tick_params(axis='x', labelsize=fontSize)\n",
    "plt.tick_params(axis='y', labelsize=fontSize)\n",
    "plt.subplot(122)\n",
    "plt.scatter(thin_factors, record_neff_n)\n",
    "plt.plot(thin_factors, record_neff_n)\n",
    "plt.axhline(1.0, linestyle = '--')\n",
    "plt.ylim(0, 1.2)\n",
    "plt.ylabel(r'$N_{eff}$', fontsize = fontSize)\n",
    "plt.xlabel(r'Thinning Factor', fontsize = fontSize)\n",
    "plt.tick_params(axis='x', labelsize=fontSize)\n",
    "plt.tick_params(axis='y', labelsize=fontSize)\n",
    "plt.show()"
   ]
  },
  {
   "cell_type": "code",
   "execution_count": null,
   "id": "2f0fc981",
   "metadata": {},
   "outputs": [],
   "source": []
  }
 ],
 "metadata": {
  "kernelspec": {
   "display_name": "Python 3 (ipykernel)",
   "language": "python",
   "name": "python3"
  },
  "language_info": {
   "codemirror_mode": {
    "name": "ipython",
    "version": 3
   },
   "file_extension": ".py",
   "mimetype": "text/x-python",
   "name": "python",
   "nbconvert_exporter": "python",
   "pygments_lexer": "ipython3",
   "version": "3.9.18"
  }
 },
 "nbformat": 4,
 "nbformat_minor": 5
}
