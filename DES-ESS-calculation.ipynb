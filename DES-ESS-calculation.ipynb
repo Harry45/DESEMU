{
 "cells": [
  {
   "cell_type": "code",
   "execution_count": 1,
   "id": "6e510720",
   "metadata": {},
   "outputs": [],
   "source": [
    "import numpy as np \n",
    "import pandas as pd\n",
    "from numpyro.diagnostics import summary\n",
    "from utils.helpers import pickle_load\n",
    "import matplotlib.pylab as plt \n",
    "\n",
    "plt.rc('text', usetex=True)\n",
    "plt.rc('font',**{'family':'sans-serif','serif':['Palatino']})\n",
    "figSize  = (12, 8)\n",
    "fontSize = 15"
   ]
  },
  {
   "cell_type": "code",
   "execution_count": 2,
   "id": "6efbba3a",
   "metadata": {},
   "outputs": [],
   "source": [
    "ANALYSIS = 'lsst'\n",
    "\n",
    "if ANALYSIS != 'lsst':\n",
    "    KEYS = ['sigma8', 'Omegac', 'Omegab', 'hubble', 'ns',\n",
    "            'm1', 'm2', 'm3', 'm4',\n",
    "            'dz_wl_1', 'dz_wl_2', 'dz_wl_3', 'dz_wl_4',\n",
    "            'a_ia', 'eta',\n",
    "            'b1', 'b2', 'b3', 'b4', 'b5', \n",
    "            'dz_gc_1', 'dz_gc_2', 'dz_gc_3', 'dz_gc_4', 'dz_gc_5']\n",
    "else:\n",
    "   \n",
    "    KEYS = ['sigma8', 'Omegac', 'Omegab', 'hubble', 'ns', \"m1\", \"m2\", \"m3\", \"m4\", \"m5\",\n",
    "    \"dz_wl_1\", \"dz_wl_2\", \"dz_wl_3\", \"dz_wl_4\", \"dz_wl_5\",\n",
    "    \"a_ia\", \"eta\", \"b1\", \"b2\", \"b3\", \"b4\", \"b5\", \"b6\", \"b7\", \"b8\", \"b9\", \"b10\",\n",
    "    \"dz_gc_1\", \"dz_gc_2\", \"dz_gc_3\", \"dz_gc_4\", \"dz_gc_5\",\n",
    "    \"dz_gc_6\", \"dz_gc_7\", \"dz_gc_8\", \"dz_gc_9\", \"dz_gc_10\"]\n",
    "\n",
    "# weight    \n",
    "# minuslogpost          \n",
    "# sigma8          \n",
    "# omegac          \n",
    "# omegab          \n",
    "# hubble              \n",
    "# ns              \n",
    "# m1     \n",
    "# m2              \n",
    "# m3              \n",
    "# m4              \n",
    "# m5         \n",
    "# dz_wl_1         \n",
    "# dz_wl_2         \n",
    "# dz_wl_3         \n",
    "# dz_wl_4         \n",
    "# dz_wl_5            \n",
    "# a_ia             \n",
    "# eta              \n",
    "# b1              \n",
    "# b2              \n",
    "# b3              \n",
    "# b4              \n",
    "# b5             \n",
    "# b6              \n",
    "# b7              \n",
    "# b8              \n",
    "# b9             \n",
    "# b10         \n",
    "# dz_gc_1         \n",
    "# dz_gc_2         \n",
    "# dz_gc_3         \n",
    "# dz_gc_4 \n",
    "# dz_gc_5         \n",
    "# dz_gc_6         \n",
    "# dz_gc_7         \n",
    "# dz_gc_8         \n",
    "# dz_gc_9        \n",
    "# dz_gc_10   \n",
    "# minuslogprior \n",
    "# minuslogprior__0    \n",
    "# chi2  \n",
    "# chi2__LSSTlike\n",
    "\n",
    "\n",
    "# ---------------------\n",
    "# weight    \n",
    "# minuslogpost          \n",
    "# sigma8          \n",
    "# omegac          \n",
    "# omegab          \n",
    "# hubble              \n",
    "# ns              \n",
    "# m1              \n",
    "# m2              \n",
    "# m3              \n",
    "# m4         \n",
    "# dz_wl_1         \n",
    "# dz_wl_2         \n",
    "# dz_wl_3         \n",
    "# dz_wl_4            \n",
    "# a_ia             \n",
    "# eta              \n",
    "# b1              \n",
    "# b2              \n",
    "# b3              \n",
    "# b4              \n",
    "# b5         \n",
    "# dz_gc_1         \n",
    "# dz_gc_2         \n",
    "# dz_gc_3         \n",
    "# dz_gc_4         \n",
    "# dz_gc_5   \n",
    "# minuslogprior \n",
    "# minuslogprior__0            \n",
    "# chi2 \n",
    "# chi2__my_likelihood"
   ]
  },
  {
   "cell_type": "code",
   "execution_count": 3,
   "id": "0e2a83dc",
   "metadata": {},
   "outputs": [],
   "source": [
    "def summary_calculation(samples1: np.ndarray, samples2: np.ndarray, neval: int) -> pd.DataFrame:\n",
    "    record = []\n",
    "    for i, key in enumerate(KEYS):\n",
    "        testsamples = np.vstack(([samples1[:,i], samples2[:,i]]))\n",
    "        summary_stats = summary(testsamples)\n",
    "        summary_stats[key] = summary_stats.pop('Param:0')\n",
    "        record.append(summary_stats)\n",
    "\n",
    "    record_df = []\n",
    "    for i in range(len(record)):\n",
    "        record_df.append(pd.DataFrame(record[i]).round(3).loc[['r_hat', 'n_eff', 'mean', 'std']])\n",
    "\n",
    "    record_df = pd.concat(record_df, axis = 1).T\n",
    "    record_df['scaled_n_eff'] = record_df['n_eff'] / neval\n",
    "    return record_df"
   ]
  },
  {
   "cell_type": "markdown",
   "id": "3f2e9dc6",
   "metadata": {},
   "source": [
    "## Cobaya"
   ]
  },
  {
   "cell_type": "code",
   "execution_count": 4,
   "id": "00795775",
   "metadata": {},
   "outputs": [],
   "source": [
    "def cobaya_statistics(engine = 'jaxcosmo', cov = False):\n",
    "    \n",
    "    record_samples = []\n",
    "    nsamples = []\n",
    "    nlike = 0\n",
    "    for i in range(2):\n",
    "        if ANALYSIS != 'lsst':\n",
    "            if cov:\n",
    "                fname = f'outputcobaya/withcov/{engine}_{i+1}/output_prefix.1.txt'\n",
    "            else:\n",
    "                fname = f'outputcobaya/testing/{engine}_{i+1}/output_prefix.1.txt'\n",
    "                \n",
    "        else:\n",
    "            if cov:\n",
    "                fname = f'CobayaLSST/{engine}_cov_{i+1}/lsst.1.txt'\n",
    "            else:\n",
    "                fname = f'CobayaLSST/{engine}_{i+1}/lsst.1.txt'\n",
    "\n",
    "        file = np.loadtxt(fname)\n",
    "        weight = file[:,0]\n",
    "        samples = file[:,2:-4]\n",
    "        nlike += sum(weight)\n",
    "        record_samples.append(samples)\n",
    "        nsamples.append(samples.shape[0])\n",
    "\n",
    "    min_nsamples = min(nsamples)\n",
    "\n",
    "    stats = summary_calculation(record_samples[0][-min_nsamples:], record_samples[1][-min_nsamples:], nlike)\n",
    "\n",
    "    return stats"
   ]
  },
  {
   "cell_type": "code",
   "execution_count": 34,
   "id": "3c50520a",
   "metadata": {},
   "outputs": [],
   "source": [
    "## LSST\n",
    "# 0.0002872206804902297 (Cobaya EH)\n",
    "# 0.027523081065323297 (NUTS EH)\n",
    "\n",
    "# 0.00012025138105330559 (Cobaya EMU)\n",
    "# 0.027563007453589822 (NUTS EMU)\n",
    "\n",
    "## LSST (with cov for Cobaya)\n",
    "\n",
    "# 0.02756300693233674 (NUTS EMU)\n",
    "# 0.003097665090667806 (Cobaya EMU)\n",
    "\n",
    "# 0.027523081065323297 (NUTS EH)\n",
    "# 0.003518281352371748 (Cobaya EH)\n",
    "\n",
    "## DES \n",
    "# 0.04482185394258569 (NUTS EH)\n",
    "# 0.004543626076053639 (Cobaya EH)\n",
    "\n",
    "# 0.03415634511934331 (NUTS Emulator)\n",
    "# 0.004761498346259732 (Cobaya Emulator)"
   ]
  },
  {
   "cell_type": "code",
   "execution_count": 35,
   "id": "de71fb35",
   "metadata": {},
   "outputs": [
    {
     "data": {
      "text/plain": [
       "95.825554825463"
      ]
     },
     "execution_count": 35,
     "metadata": {},
     "output_type": "execute_result"
    }
   ],
   "source": [
    "# LSST - EH ()\n",
    "0.027523081065323297 / 0.0002872206804902297"
   ]
  },
  {
   "cell_type": "code",
   "execution_count": 36,
   "id": "dd4b8f40",
   "metadata": {},
   "outputs": [
    {
     "data": {
      "text/plain": [
       "229.21156673761246"
      ]
     },
     "execution_count": 36,
     "metadata": {},
     "output_type": "execute_result"
    }
   ],
   "source": [
    "# LSST - Emulator \n",
    "0.027563007453589822 / 0.00012025138105330559"
   ]
  },
  {
   "cell_type": "code",
   "execution_count": 37,
   "id": "b4716e74",
   "metadata": {},
   "outputs": [
    {
     "data": {
      "text/plain": [
       "9.864776104444681"
      ]
     },
     "execution_count": 37,
     "metadata": {},
     "output_type": "execute_result"
    }
   ],
   "source": [
    "# DES - EH \n",
    "0.04482185394258569 / 0.004543626076053639"
   ]
  },
  {
   "cell_type": "code",
   "execution_count": 38,
   "id": "b951252d",
   "metadata": {},
   "outputs": [
    {
     "data": {
      "text/plain": [
       "7.173444709095387"
      ]
     },
     "execution_count": 38,
     "metadata": {},
     "output_type": "execute_result"
    }
   ],
   "source": [
    "# DES - Emulator\n",
    "0.03415634511934331 / 0.004761498346259732"
   ]
  },
  {
   "cell_type": "markdown",
   "id": "695083c2",
   "metadata": {},
   "source": [
    "With Covariance"
   ]
  },
  {
   "cell_type": "code",
   "execution_count": 39,
   "id": "c1b8d05e",
   "metadata": {},
   "outputs": [
    {
     "data": {
      "text/plain": [
       "7.822876657311504"
      ]
     },
     "execution_count": 39,
     "metadata": {},
     "output_type": "execute_result"
    }
   ],
   "source": [
    "# LSST - EH \n",
    "0.027523081065323297 / 0.003518281352371748"
   ]
  },
  {
   "cell_type": "code",
   "execution_count": 40,
   "id": "02731520",
   "metadata": {},
   "outputs": [
    {
     "data": {
      "text/plain": [
       "8.89799466592681"
      ]
     },
     "execution_count": 40,
     "metadata": {},
     "output_type": "execute_result"
    }
   ],
   "source": [
    "# LSST - Emulator \n",
    "0.027563007453589822 / 0.003097665090667806"
   ]
  },
  {
   "cell_type": "markdown",
   "id": "2445a118",
   "metadata": {},
   "source": [
    "## EMCEE"
   ]
  },
  {
   "cell_type": "code",
   "execution_count": 10,
   "id": "9a7c7396",
   "metadata": {},
   "outputs": [],
   "source": [
    "def emcee_stats(engine = 'jaxcosmo'):\n",
    "\n",
    "    test_1 = pickle_load('samples', f'{engine}_emcee_1')\n",
    "    test_2 = pickle_load('samples', f'{engine}_emcee_2')\n",
    "\n",
    "    nevals = test_1.flatchain.shape[0] + test_2.flatchain.shape[0]\n",
    "\n",
    "    samples_1 = test_1.flatchain #test_1.get_chain(discard = discard, thin = thin, flat = True) \n",
    "    samples_2 = test_2.flatchain #test_2.get_chain(discard = discard, thin = thin, flat = True)\n",
    "    \n",
    "    \n",
    "    stats = summary_calculation(samples_1, samples_2, nevals)\n",
    "    return stats"
   ]
  },
  {
   "cell_type": "markdown",
   "id": "8d7a6e68",
   "metadata": {},
   "source": [
    "## NUTS"
   ]
  },
  {
   "cell_type": "code",
   "execution_count": 11,
   "id": "77f186ee",
   "metadata": {},
   "outputs": [],
   "source": [
    "def nuts_stats(engine = 'jaxcosmo'):\n",
    "    \n",
    "    if ANALYSIS == 'lsst':\n",
    "        sampler = pickle_load('lsst', f'nuts_sampler_{engine}')\n",
    "    else:\n",
    "        sampler = pickle_load('samples', f'{engine}_nuts_small_ss_high_td')\n",
    "\n",
    "    nsamples = sampler.num_chains * sampler.num_samples\n",
    "    num_steps = sampler.get_extra_fields(group_by_chain=True)['num_steps'].sum(1).sum(0).item()\n",
    "    samples = sampler.get_samples(group_by_chain=True)\n",
    "    record = []\n",
    "    for key in KEYS:\n",
    "        parameter_samples = samples[key]\n",
    "        summary_stats = summary(parameter_samples)\n",
    "        summary_stats[key] = summary_stats.pop('Param:0')\n",
    "        record.append(summary_stats)\n",
    "\n",
    "    record_df = []\n",
    "    for i in range(len(record)):\n",
    "        record_df.append(pd.DataFrame(record[i]).round(3).loc[['r_hat', 'n_eff', 'mean', 'std']])\n",
    "\n",
    "    record_df = pd.concat(record_df, axis = 1).T\n",
    "    record_df['scaled_n_eff'] = record_df['n_eff'] / num_steps\n",
    "    return record_df"
   ]
  },
  {
   "cell_type": "code",
   "execution_count": 12,
   "id": "fec0c756",
   "metadata": {},
   "outputs": [],
   "source": [
    "def nuts_stats_jaxcosmo():\n",
    "    info = pickle_load('lsst', 'nuts_jaxcosmo_info')\n",
    "    samples, steps = info['samples'], info['steps']\n",
    "    num_steps = sum(steps[0]) + sum(steps[1])\n",
    "    \n",
    "    samples_1 = []\n",
    "    samples_2 = []\n",
    "    for key in KEYS:\n",
    "        samples_1.append(samples[key][0])\n",
    "        samples_2.append(samples[key][1])\n",
    "    samples_1 = np.asarray(samples_1)\n",
    "    samples_2 = np.asarray(samples_2)\n",
    "    df = summary_calculation(samples_1.T, samples_2.T, num_steps)\n",
    "    return df "
   ]
  },
  {
   "cell_type": "code",
   "execution_count": 13,
   "id": "cf1515db",
   "metadata": {},
   "outputs": [],
   "source": [
    "def numpyro_model():\n",
    "    pass"
   ]
  },
  {
   "cell_type": "code",
   "execution_count": 14,
   "id": "99a7f1f0",
   "metadata": {},
   "outputs": [],
   "source": [
    "if ANALYSIS == 'lsst':\n",
    "    df_cobaya_emu = cobaya_statistics('emulator', cov = True)\n",
    "    df_nuts_emu = nuts_stats('emulator')\n",
    "\n",
    "    df_cobaya_jc = cobaya_statistics('jaxcosmo', cov = True)\n",
    "    \n",
    "    # because we used JAX 0.4.25 on Glamdring - this is separate\n",
    "    df_nuts_jc = nuts_stats_jaxcosmo()\n",
    "    \n",
    "else:\n",
    "\n",
    "    df_cobaya_jc = cobaya_statistics(engine = 'jaxcosmo')\n",
    "    df_emcee_jc = emcee_stats(engine = 'jaxcosmo')\n",
    "    df_nuts_jc = nuts_stats(engine = 'jaxcosmo')\n",
    "\n",
    "    df_cobaya_emu = cobaya_statistics(engine = 'emulator')\n",
    "    df_emcee_emu = emcee_stats(engine = 'emulator')\n",
    "    df_nuts_emu = nuts_stats(engine = 'emulator')"
   ]
  },
  {
   "cell_type": "code",
   "execution_count": 31,
   "id": "3c3b5af1",
   "metadata": {},
   "outputs": [
    {
     "data": {
      "text/plain": [
       "0.10101525445520994"
      ]
     },
     "execution_count": 31,
     "metadata": {},
     "output_type": "execute_result"
    }
   ],
   "source": [
    "max(np.abs((df_cobaya_jc['mean'] - df_nuts_jc['mean'])) / np.sqrt(df_cobaya_jc['std']**2 + df_nuts_jc['std']**2))"
   ]
  },
  {
   "cell_type": "code",
   "execution_count": 32,
   "id": "d39735a8",
   "metadata": {},
   "outputs": [
    {
     "data": {
      "text/plain": [
       "0.1767766952966369"
      ]
     },
     "execution_count": 32,
     "metadata": {},
     "output_type": "execute_result"
    }
   ],
   "source": [
    "max(np.abs((df_cobaya_emu['mean'] - df_nuts_emu['mean'])) / np.sqrt(df_cobaya_emu['std']**2 + df_nuts_emu['std']**2))"
   ]
  },
  {
   "cell_type": "code",
   "execution_count": 17,
   "id": "56a4f957",
   "metadata": {},
   "outputs": [
    {
     "data": {
      "text/plain": [
       "0.02756300693233674"
      ]
     },
     "execution_count": 17,
     "metadata": {},
     "output_type": "execute_result"
    }
   ],
   "source": [
    "df_nuts_emu['scaled_n_eff'].mean()"
   ]
  },
  {
   "cell_type": "code",
   "execution_count": 18,
   "id": "91621b25",
   "metadata": {},
   "outputs": [
    {
     "data": {
      "text/plain": [
       "0.003097665090667806"
      ]
     },
     "execution_count": 18,
     "metadata": {},
     "output_type": "execute_result"
    }
   ],
   "source": [
    "df_cobaya_emu['scaled_n_eff'].mean()"
   ]
  },
  {
   "cell_type": "code",
   "execution_count": 19,
   "id": "fc78eef5",
   "metadata": {},
   "outputs": [
    {
     "data": {
      "text/plain": [
       "0.027523081065323297"
      ]
     },
     "execution_count": 19,
     "metadata": {},
     "output_type": "execute_result"
    }
   ],
   "source": [
    "df_nuts_jc['scaled_n_eff'].mean()"
   ]
  },
  {
   "cell_type": "code",
   "execution_count": 20,
   "id": "5ab84618",
   "metadata": {},
   "outputs": [
    {
     "data": {
      "text/plain": [
       "0.003518281352371748"
      ]
     },
     "execution_count": 20,
     "metadata": {},
     "output_type": "execute_result"
    }
   ],
   "source": [
    "df_cobaya_jc['scaled_n_eff'].mean()"
   ]
  },
  {
   "cell_type": "code",
   "execution_count": 21,
   "id": "4ba777a4",
   "metadata": {},
   "outputs": [
    {
     "data": {
      "text/plain": [
       "8.89799449765391"
      ]
     },
     "execution_count": 21,
     "metadata": {},
     "output_type": "execute_result"
    }
   ],
   "source": [
    "df_nuts_emu['scaled_n_eff'].mean() / df_cobaya_emu['scaled_n_eff'].mean()"
   ]
  },
  {
   "cell_type": "code",
   "execution_count": 22,
   "id": "c0af7e8c",
   "metadata": {},
   "outputs": [
    {
     "data": {
      "text/plain": [
       "7.822876657311504"
      ]
     },
     "execution_count": 22,
     "metadata": {},
     "output_type": "execute_result"
    }
   ],
   "source": [
    "df_nuts_jc['scaled_n_eff'].mean() / df_cobaya_jc['scaled_n_eff'].mean()"
   ]
  },
  {
   "cell_type": "code",
   "execution_count": 23,
   "id": "0360ed7d",
   "metadata": {},
   "outputs": [
    {
     "data": {
      "text/html": [
       "<div>\n",
       "<style scoped>\n",
       "    .dataframe tbody tr th:only-of-type {\n",
       "        vertical-align: middle;\n",
       "    }\n",
       "\n",
       "    .dataframe tbody tr th {\n",
       "        vertical-align: top;\n",
       "    }\n",
       "\n",
       "    .dataframe thead th {\n",
       "        text-align: right;\n",
       "    }\n",
       "</style>\n",
       "<table border=\"1\" class=\"dataframe\">\n",
       "  <thead>\n",
       "    <tr style=\"text-align: right;\">\n",
       "      <th></th>\n",
       "      <th>r_hat</th>\n",
       "      <th>n_eff</th>\n",
       "      <th>mean</th>\n",
       "      <th>std</th>\n",
       "      <th>scaled_n_eff</th>\n",
       "    </tr>\n",
       "  </thead>\n",
       "  <tbody>\n",
       "    <tr>\n",
       "      <th>sigma8</th>\n",
       "      <td>1.000</td>\n",
       "      <td>20873.033</td>\n",
       "      <td>0.816</td>\n",
       "      <td>0.007</td>\n",
       "      <td>0.021188</td>\n",
       "    </tr>\n",
       "    <tr>\n",
       "      <th>Omegac</th>\n",
       "      <td>1.000</td>\n",
       "      <td>12373.363</td>\n",
       "      <td>0.262</td>\n",
       "      <td>0.004</td>\n",
       "      <td>0.012560</td>\n",
       "    </tr>\n",
       "    <tr>\n",
       "      <th>Omegab</th>\n",
       "      <td>1.000</td>\n",
       "      <td>9912.097</td>\n",
       "      <td>0.052</td>\n",
       "      <td>0.002</td>\n",
       "      <td>0.010061</td>\n",
       "    </tr>\n",
       "    <tr>\n",
       "      <th>hubble</th>\n",
       "      <td>1.001</td>\n",
       "      <td>7967.451</td>\n",
       "      <td>0.654</td>\n",
       "      <td>0.012</td>\n",
       "      <td>0.008088</td>\n",
       "    </tr>\n",
       "    <tr>\n",
       "      <th>ns</th>\n",
       "      <td>1.001</td>\n",
       "      <td>13306.551</td>\n",
       "      <td>1.043</td>\n",
       "      <td>0.009</td>\n",
       "      <td>0.013507</td>\n",
       "    </tr>\n",
       "  </tbody>\n",
       "</table>\n",
       "</div>"
      ],
      "text/plain": [
       "        r_hat      n_eff   mean    std  scaled_n_eff\n",
       "sigma8  1.000  20873.033  0.816  0.007      0.021188\n",
       "Omegac  1.000  12373.363  0.262  0.004      0.012560\n",
       "Omegab  1.000   9912.097  0.052  0.002      0.010061\n",
       "hubble  1.001   7967.451  0.654  0.012      0.008088\n",
       "ns      1.001  13306.551  1.043  0.009      0.013507"
      ]
     },
     "execution_count": 23,
     "metadata": {},
     "output_type": "execute_result"
    }
   ],
   "source": [
    "df_nuts_emu.head()"
   ]
  },
  {
   "cell_type": "code",
   "execution_count": 24,
   "id": "2bf1a057",
   "metadata": {},
   "outputs": [
    {
     "data": {
      "text/html": [
       "<div>\n",
       "<style scoped>\n",
       "    .dataframe tbody tr th:only-of-type {\n",
       "        vertical-align: middle;\n",
       "    }\n",
       "\n",
       "    .dataframe tbody tr th {\n",
       "        vertical-align: top;\n",
       "    }\n",
       "\n",
       "    .dataframe thead th {\n",
       "        text-align: right;\n",
       "    }\n",
       "</style>\n",
       "<table border=\"1\" class=\"dataframe\">\n",
       "  <thead>\n",
       "    <tr style=\"text-align: right;\">\n",
       "      <th></th>\n",
       "      <th>r_hat</th>\n",
       "      <th>n_eff</th>\n",
       "      <th>mean</th>\n",
       "      <th>std</th>\n",
       "      <th>scaled_n_eff</th>\n",
       "    </tr>\n",
       "  </thead>\n",
       "  <tbody>\n",
       "    <tr>\n",
       "      <th>sigma8</th>\n",
       "      <td>1.0</td>\n",
       "      <td>11367.570</td>\n",
       "      <td>0.816</td>\n",
       "      <td>0.007</td>\n",
       "      <td>0.003040</td>\n",
       "    </tr>\n",
       "    <tr>\n",
       "      <th>Omegac</th>\n",
       "      <td>1.0</td>\n",
       "      <td>10039.203</td>\n",
       "      <td>0.262</td>\n",
       "      <td>0.004</td>\n",
       "      <td>0.002684</td>\n",
       "    </tr>\n",
       "    <tr>\n",
       "      <th>Omegab</th>\n",
       "      <td>1.0</td>\n",
       "      <td>9379.736</td>\n",
       "      <td>0.052</td>\n",
       "      <td>0.002</td>\n",
       "      <td>0.002508</td>\n",
       "    </tr>\n",
       "    <tr>\n",
       "      <th>hubble</th>\n",
       "      <td>1.0</td>\n",
       "      <td>8560.367</td>\n",
       "      <td>0.654</td>\n",
       "      <td>0.012</td>\n",
       "      <td>0.002289</td>\n",
       "    </tr>\n",
       "    <tr>\n",
       "      <th>ns</th>\n",
       "      <td>1.0</td>\n",
       "      <td>10845.647</td>\n",
       "      <td>1.042</td>\n",
       "      <td>0.009</td>\n",
       "      <td>0.002900</td>\n",
       "    </tr>\n",
       "  </tbody>\n",
       "</table>\n",
       "</div>"
      ],
      "text/plain": [
       "        r_hat      n_eff   mean    std  scaled_n_eff\n",
       "sigma8    1.0  11367.570  0.816  0.007      0.003040\n",
       "Omegac    1.0  10039.203  0.262  0.004      0.002684\n",
       "Omegab    1.0   9379.736  0.052  0.002      0.002508\n",
       "hubble    1.0   8560.367  0.654  0.012      0.002289\n",
       "ns        1.0  10845.647  1.042  0.009      0.002900"
      ]
     },
     "execution_count": 24,
     "metadata": {},
     "output_type": "execute_result"
    }
   ],
   "source": [
    "df_cobaya_emu.head()"
   ]
  },
  {
   "cell_type": "code",
   "execution_count": 25,
   "id": "4b43b266",
   "metadata": {},
   "outputs": [
    {
     "data": {
      "text/html": [
       "<div>\n",
       "<style scoped>\n",
       "    .dataframe tbody tr th:only-of-type {\n",
       "        vertical-align: middle;\n",
       "    }\n",
       "\n",
       "    .dataframe tbody tr th {\n",
       "        vertical-align: top;\n",
       "    }\n",
       "\n",
       "    .dataframe thead th {\n",
       "        text-align: right;\n",
       "    }\n",
       "</style>\n",
       "<table border=\"1\" class=\"dataframe\">\n",
       "  <thead>\n",
       "    <tr style=\"text-align: right;\">\n",
       "      <th></th>\n",
       "      <th>r_hat</th>\n",
       "      <th>n_eff</th>\n",
       "      <th>mean</th>\n",
       "      <th>std</th>\n",
       "      <th>scaled_n_eff</th>\n",
       "    </tr>\n",
       "  </thead>\n",
       "  <tbody>\n",
       "    <tr>\n",
       "      <th>sigma8</th>\n",
       "      <td>1.0</td>\n",
       "      <td>17650.966</td>\n",
       "      <td>0.811</td>\n",
       "      <td>0.008</td>\n",
       "      <td>0.019791</td>\n",
       "    </tr>\n",
       "    <tr>\n",
       "      <th>Omegac</th>\n",
       "      <td>1.0</td>\n",
       "      <td>13293.174</td>\n",
       "      <td>0.274</td>\n",
       "      <td>0.006</td>\n",
       "      <td>0.014905</td>\n",
       "    </tr>\n",
       "    <tr>\n",
       "      <th>Omegab</th>\n",
       "      <td>1.0</td>\n",
       "      <td>9933.145</td>\n",
       "      <td>0.049</td>\n",
       "      <td>0.003</td>\n",
       "      <td>0.011137</td>\n",
       "    </tr>\n",
       "    <tr>\n",
       "      <th>hubble</th>\n",
       "      <td>1.0</td>\n",
       "      <td>8654.722</td>\n",
       "      <td>0.658</td>\n",
       "      <td>0.015</td>\n",
       "      <td>0.009704</td>\n",
       "    </tr>\n",
       "    <tr>\n",
       "      <th>ns</th>\n",
       "      <td>1.0</td>\n",
       "      <td>19155.291</td>\n",
       "      <td>1.027</td>\n",
       "      <td>0.007</td>\n",
       "      <td>0.021477</td>\n",
       "    </tr>\n",
       "  </tbody>\n",
       "</table>\n",
       "</div>"
      ],
      "text/plain": [
       "        r_hat      n_eff   mean    std  scaled_n_eff\n",
       "sigma8    1.0  17650.966  0.811  0.008      0.019791\n",
       "Omegac    1.0  13293.174  0.274  0.006      0.014905\n",
       "Omegab    1.0   9933.145  0.049  0.003      0.011137\n",
       "hubble    1.0   8654.722  0.658  0.015      0.009704\n",
       "ns        1.0  19155.291  1.027  0.007      0.021477"
      ]
     },
     "execution_count": 25,
     "metadata": {},
     "output_type": "execute_result"
    }
   ],
   "source": [
    "df_nuts_jc.head()"
   ]
  },
  {
   "cell_type": "code",
   "execution_count": 26,
   "id": "7edc5f77",
   "metadata": {},
   "outputs": [
    {
     "data": {
      "text/html": [
       "<div>\n",
       "<style scoped>\n",
       "    .dataframe tbody tr th:only-of-type {\n",
       "        vertical-align: middle;\n",
       "    }\n",
       "\n",
       "    .dataframe tbody tr th {\n",
       "        vertical-align: top;\n",
       "    }\n",
       "\n",
       "    .dataframe thead th {\n",
       "        text-align: right;\n",
       "    }\n",
       "</style>\n",
       "<table border=\"1\" class=\"dataframe\">\n",
       "  <thead>\n",
       "    <tr style=\"text-align: right;\">\n",
       "      <th></th>\n",
       "      <th>r_hat</th>\n",
       "      <th>n_eff</th>\n",
       "      <th>mean</th>\n",
       "      <th>std</th>\n",
       "      <th>scaled_n_eff</th>\n",
       "    </tr>\n",
       "  </thead>\n",
       "  <tbody>\n",
       "    <tr>\n",
       "      <th>sigma8</th>\n",
       "      <td>1.0</td>\n",
       "      <td>13223.286</td>\n",
       "      <td>0.812</td>\n",
       "      <td>0.008</td>\n",
       "      <td>0.003810</td>\n",
       "    </tr>\n",
       "    <tr>\n",
       "      <th>Omegac</th>\n",
       "      <td>1.0</td>\n",
       "      <td>11976.858</td>\n",
       "      <td>0.274</td>\n",
       "      <td>0.006</td>\n",
       "      <td>0.003450</td>\n",
       "    </tr>\n",
       "    <tr>\n",
       "      <th>Omegab</th>\n",
       "      <td>1.0</td>\n",
       "      <td>12995.122</td>\n",
       "      <td>0.049</td>\n",
       "      <td>0.003</td>\n",
       "      <td>0.003744</td>\n",
       "    </tr>\n",
       "    <tr>\n",
       "      <th>hubble</th>\n",
       "      <td>1.0</td>\n",
       "      <td>10821.691</td>\n",
       "      <td>0.658</td>\n",
       "      <td>0.015</td>\n",
       "      <td>0.003118</td>\n",
       "    </tr>\n",
       "    <tr>\n",
       "      <th>ns</th>\n",
       "      <td>1.0</td>\n",
       "      <td>13975.483</td>\n",
       "      <td>1.026</td>\n",
       "      <td>0.007</td>\n",
       "      <td>0.004026</td>\n",
       "    </tr>\n",
       "  </tbody>\n",
       "</table>\n",
       "</div>"
      ],
      "text/plain": [
       "        r_hat      n_eff   mean    std  scaled_n_eff\n",
       "sigma8    1.0  13223.286  0.812  0.008      0.003810\n",
       "Omegac    1.0  11976.858  0.274  0.006      0.003450\n",
       "Omegab    1.0  12995.122  0.049  0.003      0.003744\n",
       "hubble    1.0  10821.691  0.658  0.015      0.003118\n",
       "ns        1.0  13975.483  1.026  0.007      0.004026"
      ]
     },
     "execution_count": 26,
     "metadata": {},
     "output_type": "execute_result"
    }
   ],
   "source": [
    "df_cobaya_jc.head()"
   ]
  },
  {
   "cell_type": "code",
   "execution_count": null,
   "id": "2cb4052c",
   "metadata": {},
   "outputs": [],
   "source": []
  }
 ],
 "metadata": {
  "kernelspec": {
   "display_name": "Python 3 (ipykernel)",
   "language": "python",
   "name": "python3"
  },
  "language_info": {
   "codemirror_mode": {
    "name": "ipython",
    "version": 3
   },
   "file_extension": ".py",
   "mimetype": "text/x-python",
   "name": "python",
   "nbconvert_exporter": "python",
   "pygments_lexer": "ipython3",
   "version": "3.9.18"
  }
 },
 "nbformat": 4,
 "nbformat_minor": 5
}
