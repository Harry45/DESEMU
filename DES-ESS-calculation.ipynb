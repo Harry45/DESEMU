{
 "cells": [
  {
   "cell_type": "code",
   "execution_count": 1,
   "id": "ebf8a822",
   "metadata": {},
   "outputs": [],
   "source": [
    "import numpy as np\n",
    "import pandas as pd\n",
    "from numpyro.diagnostics import summary\n",
    "from utils.helpers import pickle_load\n",
    "import matplotlib.pylab as plt\n",
    "\n",
    "plt.rc(\"text\", usetex=True)\n",
    "plt.rc(\"font\", **{\"family\": \"sans-serif\", \"serif\": [\"Palatino\"]})\n",
    "figSize = (12, 8)\n",
    "fontSize = 15"
   ]
  },
  {
   "cell_type": "code",
   "execution_count": 2,
   "id": "abbef71c",
   "metadata": {},
   "outputs": [],
   "source": [
    "ANALYSIS = \"des\"\n",
    "\n",
    "if ANALYSIS != \"lsst\":\n",
    "    KEYS = [\n",
    "        \"sigma8\",\n",
    "        \"Omegac\",\n",
    "        \"Omegab\",\n",
    "        \"hubble\",\n",
    "        \"ns\",\n",
    "        \"m1\",\n",
    "        \"m2\",\n",
    "        \"m3\",\n",
    "        \"m4\",\n",
    "        \"dz_wl_1\",\n",
    "        \"dz_wl_2\",\n",
    "        \"dz_wl_3\",\n",
    "        \"dz_wl_4\",\n",
    "        \"a_ia\",\n",
    "        \"eta\",\n",
    "        \"b1\",\n",
    "        \"b2\",\n",
    "        \"b3\",\n",
    "        \"b4\",\n",
    "        \"b5\",\n",
    "        \"dz_gc_1\",\n",
    "        \"dz_gc_2\",\n",
    "        \"dz_gc_3\",\n",
    "        \"dz_gc_4\",\n",
    "        \"dz_gc_5\",\n",
    "    ]\n",
    "else:\n",
    "\n",
    "    KEYS = [\n",
    "        \"sigma8\",\n",
    "        \"Omegac\",\n",
    "        \"Omegab\",\n",
    "        \"hubble\",\n",
    "        \"ns\",\n",
    "        \"m1\",\n",
    "        \"m2\",\n",
    "        \"m3\",\n",
    "        \"m4\",\n",
    "        \"m5\",\n",
    "        \"dz_wl_1\",\n",
    "        \"dz_wl_2\",\n",
    "        \"dz_wl_3\",\n",
    "        \"dz_wl_4\",\n",
    "        \"dz_wl_5\",\n",
    "        \"a_ia\",\n",
    "        \"eta\",\n",
    "        \"b1\",\n",
    "        \"b2\",\n",
    "        \"b3\",\n",
    "        \"b4\",\n",
    "        \"b5\",\n",
    "        \"b6\",\n",
    "        \"b7\",\n",
    "        \"b8\",\n",
    "        \"b9\",\n",
    "        \"b10\",\n",
    "        \"dz_gc_1\",\n",
    "        \"dz_gc_2\",\n",
    "        \"dz_gc_3\",\n",
    "        \"dz_gc_4\",\n",
    "        \"dz_gc_5\",\n",
    "        \"dz_gc_6\",\n",
    "        \"dz_gc_7\",\n",
    "        \"dz_gc_8\",\n",
    "        \"dz_gc_9\",\n",
    "        \"dz_gc_10\",\n",
    "    ]\n",
    "\n",
    "# weight\n",
    "# minuslogpost\n",
    "# sigma8\n",
    "# omegac\n",
    "# omegab\n",
    "# hubble\n",
    "# ns\n",
    "# m1\n",
    "# m2\n",
    "# m3\n",
    "# m4\n",
    "# m5\n",
    "# dz_wl_1\n",
    "# dz_wl_2\n",
    "# dz_wl_3\n",
    "# dz_wl_4\n",
    "# dz_wl_5\n",
    "# a_ia\n",
    "# eta\n",
    "# b1\n",
    "# b2\n",
    "# b3\n",
    "# b4\n",
    "# b5\n",
    "# b6\n",
    "# b7\n",
    "# b8\n",
    "# b9\n",
    "# b10\n",
    "# dz_gc_1\n",
    "# dz_gc_2\n",
    "# dz_gc_3\n",
    "# dz_gc_4\n",
    "# dz_gc_5\n",
    "# dz_gc_6\n",
    "# dz_gc_7\n",
    "# dz_gc_8\n",
    "# dz_gc_9\n",
    "# dz_gc_10\n",
    "# minuslogprior\n",
    "# minuslogprior__0\n",
    "# chi2\n",
    "# chi2__LSSTlike\n",
    "\n",
    "\n",
    "# ---------------------\n",
    "# weight\n",
    "# minuslogpost\n",
    "# sigma8\n",
    "# omegac\n",
    "# omegab\n",
    "# hubble\n",
    "# ns\n",
    "# m1\n",
    "# m2\n",
    "# m3\n",
    "# m4\n",
    "# dz_wl_1\n",
    "# dz_wl_2\n",
    "# dz_wl_3\n",
    "# dz_wl_4\n",
    "# a_ia\n",
    "# eta\n",
    "# b1\n",
    "# b2\n",
    "# b3\n",
    "# b4\n",
    "# b5\n",
    "# dz_gc_1\n",
    "# dz_gc_2\n",
    "# dz_gc_3\n",
    "# dz_gc_4\n",
    "# dz_gc_5\n",
    "# minuslogprior\n",
    "# minuslogprior__0\n",
    "# chi2\n",
    "# chi2__my_likelihood"
   ]
  },
  {
   "cell_type": "code",
   "execution_count": 3,
   "id": "0bee5668",
   "metadata": {},
   "outputs": [],
   "source": [
    "def summary_calculation(\n",
    "    samples1: np.ndarray, samples2: np.ndarray, neval: int\n",
    ") -> pd.DataFrame:\n",
    "    record = []\n",
    "    for i, key in enumerate(KEYS):\n",
    "        testsamples = np.vstack(([samples1[:, i], samples2[:, i]]))\n",
    "        summary_stats = summary(testsamples)\n",
    "        summary_stats[key] = summary_stats.pop(\"Param:0\")\n",
    "        record.append(summary_stats)\n",
    "\n",
    "    record_df = []\n",
    "    for i in range(len(record)):\n",
    "        record_df.append(\n",
    "            pd.DataFrame(record[i]).round(3).loc[[\"r_hat\", \"n_eff\", \"mean\", \"std\"]]\n",
    "        )\n",
    "\n",
    "    record_df = pd.concat(record_df, axis=1).T\n",
    "    record_df[\"scaled_n_eff\"] = record_df[\"n_eff\"] / neval\n",
    "    return record_df"
   ]
  },
  {
   "cell_type": "markdown",
   "id": "7eebeec8",
   "metadata": {},
   "source": [
    "## Cobaya"
   ]
  },
  {
   "cell_type": "code",
   "execution_count": 4,
   "id": "93f87b3d",
   "metadata": {},
   "outputs": [],
   "source": [
    "def cobaya_statistics(engine=\"jaxcosmo\", cov=False):\n",
    "\n",
    "    record_samples = []\n",
    "    nsamples = []\n",
    "    nlike = 0\n",
    "    for i in range(2):\n",
    "        if ANALYSIS != \"lsst\":\n",
    "            if cov:\n",
    "                fname = f\"CobayaDES/withcov/{engine}_{i+1}/des.1.txt\"\n",
    "                print(\"DES with covariance\")\n",
    "            else:\n",
    "                fname = f\"CobayaDES/withoutcov/{engine}_{i+1}/output_prefix.1.txt\"\n",
    "\n",
    "        else:\n",
    "            if cov:\n",
    "                fname = f\"CobayaLSST/{engine}_cov_{i+1}/lsst.1.txt\"\n",
    "            else:\n",
    "                fname = f\"CobayaLSST/{engine}_{i+1}/lsst.1.txt\"\n",
    "\n",
    "        file = np.loadtxt(fname)\n",
    "        weight = file[:, 0]\n",
    "        samples = file[:, 2:-4]\n",
    "        nlike += sum(weight)\n",
    "        record_samples.append(samples)\n",
    "        nsamples.append(samples.shape[0])\n",
    "\n",
    "    min_nsamples = min(nsamples)\n",
    "\n",
    "    stats = summary_calculation(\n",
    "        record_samples[0][-min_nsamples:], record_samples[1][-min_nsamples:], nlike\n",
    "    )\n",
    "\n",
    "    return stats"
   ]
  },
  {
   "cell_type": "code",
   "execution_count": 5,
   "id": "95bc9230",
   "metadata": {},
   "outputs": [],
   "source": [
    "## LSST\n",
    "# 0.0002872206804902297 (Cobaya EH)\n",
    "# 0.027523081065323297 (NUTS EH)\n",
    "\n",
    "# 0.00012025138105330559 (Cobaya EMU)\n",
    "# 0.027563007453589822 (NUTS EMU)\n",
    "\n",
    "## LSST (with cov for Cobaya)\n",
    "\n",
    "# 0.02756300693233674 (NUTS EMU)\n",
    "# 0.003097665090667806 (Cobaya EMU)\n",
    "\n",
    "# 0.027523081065323297 (NUTS EH)\n",
    "# 0.003518281352371748 (Cobaya EH)\n",
    "\n",
    "## DES\n",
    "# 0.04482185394258569 (NUTS EH)\n",
    "# 0.004543626076053639 (Cobaya EH)\n",
    "\n",
    "# 0.03415634511934331 (NUTS Emulator)\n",
    "# 0.004761498346259732 (Cobaya Emulator)\n",
    "\n",
    "## DES (with covariance)\n",
    "# 0.03415634511934331 (NUTS Emulator)\n",
    "# 0.005597090492950893 (Cobaya Emulator)\n",
    "\n",
    "# 0.04482185394258569 (NUTS EH)\n",
    "# 0.0050194485997476805 (Cobaya EH)"
   ]
  },
  {
   "cell_type": "code",
   "execution_count": 6,
   "id": "544688bf",
   "metadata": {},
   "outputs": [
    {
     "data": {
      "text/plain": [
       "95.825554825463"
      ]
     },
     "execution_count": 6,
     "metadata": {},
     "output_type": "execute_result"
    }
   ],
   "source": [
    "# LSST - EH\n",
    "0.027523081065323297 / 0.0002872206804902297"
   ]
  },
  {
   "cell_type": "code",
   "execution_count": 7,
   "id": "26cb13dd",
   "metadata": {},
   "outputs": [
    {
     "data": {
      "text/plain": [
       "229.21156673761246"
      ]
     },
     "execution_count": 7,
     "metadata": {},
     "output_type": "execute_result"
    }
   ],
   "source": [
    "# LSST - Emulator\n",
    "0.027563007453589822 / 0.00012025138105330559"
   ]
  },
  {
   "cell_type": "code",
   "execution_count": 8,
   "id": "67a77927",
   "metadata": {},
   "outputs": [
    {
     "data": {
      "text/plain": [
       "9.864776104444681"
      ]
     },
     "execution_count": 8,
     "metadata": {},
     "output_type": "execute_result"
    }
   ],
   "source": [
    "# DES - EH\n",
    "0.04482185394258569 / 0.004543626076053639"
   ]
  },
  {
   "cell_type": "code",
   "execution_count": 9,
   "id": "b6cd34dc",
   "metadata": {},
   "outputs": [
    {
     "data": {
      "text/plain": [
       "7.173444709095387"
      ]
     },
     "execution_count": 9,
     "metadata": {},
     "output_type": "execute_result"
    }
   ],
   "source": [
    "# DES - Emulator\n",
    "0.03415634511934331 / 0.004761498346259732"
   ]
  },
  {
   "cell_type": "markdown",
   "id": "f190abb0",
   "metadata": {},
   "source": [
    "With Covariance"
   ]
  },
  {
   "cell_type": "code",
   "execution_count": 10,
   "id": "e2aa105e",
   "metadata": {},
   "outputs": [
    {
     "data": {
      "text/plain": [
       "7.822876657311504"
      ]
     },
     "execution_count": 10,
     "metadata": {},
     "output_type": "execute_result"
    }
   ],
   "source": [
    "# LSST - EH\n",
    "0.027523081065323297 / 0.003518281352371748"
   ]
  },
  {
   "cell_type": "code",
   "execution_count": 11,
   "id": "bd4e88d0",
   "metadata": {},
   "outputs": [
    {
     "data": {
      "text/plain": [
       "8.89799466592681"
      ]
     },
     "execution_count": 11,
     "metadata": {},
     "output_type": "execute_result"
    }
   ],
   "source": [
    "# LSST - Emulator\n",
    "0.027563007453589822 / 0.003097665090667806"
   ]
  },
  {
   "cell_type": "code",
   "execution_count": 12,
   "id": "679c0bfc",
   "metadata": {},
   "outputs": [
    {
     "data": {
      "text/plain": [
       "8.929637001330946"
      ]
     },
     "execution_count": 12,
     "metadata": {},
     "output_type": "execute_result"
    }
   ],
   "source": [
    "# DES - EH\n",
    "0.04482185394258569 / 0.0050194485997476805"
   ]
  },
  {
   "cell_type": "code",
   "execution_count": 13,
   "id": "254f1b55",
   "metadata": {},
   "outputs": [
    {
     "data": {
      "text/plain": [
       "6.102517935409587"
      ]
     },
     "execution_count": 13,
     "metadata": {},
     "output_type": "execute_result"
    }
   ],
   "source": [
    "# DES - Emulator\n",
    "0.03415634511934331 / 0.005597090492950893"
   ]
  },
  {
   "cell_type": "markdown",
   "id": "2ac0ddbe",
   "metadata": {},
   "source": [
    "## NUTS"
   ]
  },
  {
   "cell_type": "code",
   "execution_count": 14,
   "id": "8bfde6e5",
   "metadata": {},
   "outputs": [],
   "source": [
    "def nuts_stats(engine=\"jaxcosmo\"):\n",
    "\n",
    "    if ANALYSIS == \"lsst\":\n",
    "        sampler = pickle_load(\"lsst\", f\"nuts_sampler_{engine}\")\n",
    "    else:\n",
    "        sampler = pickle_load(\"samples\", f\"{engine}_nuts_small_ss_high_td\")\n",
    "\n",
    "    nsamples = sampler.num_chains * sampler.num_samples\n",
    "    num_steps = (\n",
    "        sampler.get_extra_fields(group_by_chain=True)[\"num_steps\"].sum(1).sum(0).item()\n",
    "    )\n",
    "    samples = sampler.get_samples(group_by_chain=True)\n",
    "    record = []\n",
    "    for key in KEYS:\n",
    "        parameter_samples = samples[key]\n",
    "        summary_stats = summary(parameter_samples)\n",
    "        summary_stats[key] = summary_stats.pop(\"Param:0\")\n",
    "        record.append(summary_stats)\n",
    "\n",
    "    record_df = []\n",
    "    for i in range(len(record)):\n",
    "        record_df.append(\n",
    "            pd.DataFrame(record[i]).round(3).loc[[\"r_hat\", \"n_eff\", \"mean\", \"std\"]]\n",
    "        )\n",
    "\n",
    "    record_df = pd.concat(record_df, axis=1).T\n",
    "    record_df[\"scaled_n_eff\"] = record_df[\"n_eff\"] / num_steps\n",
    "    return record_df"
   ]
  },
  {
   "cell_type": "code",
   "execution_count": 15,
   "id": "62cd2869",
   "metadata": {},
   "outputs": [],
   "source": [
    "def nuts_stats_jaxcosmo():\n",
    "    info = pickle_load(\"lsst\", \"nuts_jaxcosmo_info\")\n",
    "    samples, steps = info[\"samples\"], info[\"steps\"]\n",
    "    num_steps = sum(steps[0]) + sum(steps[1])\n",
    "\n",
    "    samples_1 = []\n",
    "    samples_2 = []\n",
    "    for key in KEYS:\n",
    "        samples_1.append(samples[key][0])\n",
    "        samples_2.append(samples[key][1])\n",
    "    samples_1 = np.asarray(samples_1)\n",
    "    samples_2 = np.asarray(samples_2)\n",
    "    df = summary_calculation(samples_1.T, samples_2.T, num_steps)\n",
    "    return df"
   ]
  },
  {
   "cell_type": "code",
   "execution_count": 16,
   "id": "00495141",
   "metadata": {},
   "outputs": [],
   "source": [
    "def numpyro_model():\n",
    "    pass"
   ]
  },
  {
   "cell_type": "code",
   "execution_count": 17,
   "id": "f773200c",
   "metadata": {},
   "outputs": [
    {
     "name": "stdout",
     "output_type": "stream",
     "text": [
      "DES with covariance\n",
      "DES with covariance\n",
      "DES with covariance\n",
      "DES with covariance\n"
     ]
    }
   ],
   "source": [
    "if ANALYSIS == \"lsst\":\n",
    "    df_cobaya_emu = cobaya_statistics(\"emulator\", cov=True)\n",
    "    df_nuts_emu = nuts_stats(\"emulator\")\n",
    "\n",
    "    df_cobaya_jc = cobaya_statistics(\"jaxcosmo\", cov=True)\n",
    "\n",
    "    # because we used JAX 0.4.25 on Glamdring - this is separate\n",
    "    df_nuts_jc = nuts_stats_jaxcosmo()\n",
    "\n",
    "else:\n",
    "\n",
    "    df_cobaya_jc = cobaya_statistics(engine=\"jaxcosmo\", cov=True)\n",
    "    df_nuts_jc = nuts_stats(engine=\"jaxcosmo\")\n",
    "\n",
    "    df_cobaya_emu = cobaya_statistics(engine=\"emulator\", cov=True)\n",
    "    df_nuts_emu = nuts_stats(engine=\"emulator\")"
   ]
  },
  {
   "cell_type": "code",
   "execution_count": 18,
   "id": "7115949c",
   "metadata": {},
   "outputs": [
    {
     "data": {
      "text/plain": [
       "sigma8     0.022807\n",
       "Omegac     0.027724\n",
       "Omegab     0.000000\n",
       "hubble     0.014428\n",
       "ns         0.012854\n",
       "m1         0.031419\n",
       "m2         0.000000\n",
       "m3         0.000000\n",
       "m4         0.000000\n",
       "dz_wl_1    0.000000\n",
       "dz_wl_2    0.000000\n",
       "dz_wl_3    0.000000\n",
       "dz_wl_4    0.000000\n",
       "a_ia       0.011560\n",
       "eta        0.007613\n",
       "b1         0.027296\n",
       "b2         0.030628\n",
       "b3         0.021755\n",
       "b4         0.026428\n",
       "b5         0.020794\n",
       "dz_gc_1    0.000000\n",
       "dz_gc_2    0.000000\n",
       "dz_gc_3    0.000000\n",
       "dz_gc_4    0.000000\n",
       "dz_gc_5    0.070711\n",
       "dtype: float64"
      ]
     },
     "execution_count": 18,
     "metadata": {},
     "output_type": "execute_result"
    }
   ],
   "source": [
    "np.abs(\n",
    "    (df_cobaya_jc[\"mean\"] - df_nuts_jc[\"mean\"])\n",
    "    / np.sqrt(df_cobaya_jc[\"std\"] ** 2 + df_nuts_jc[\"std\"] ** 2)\n",
    ")"
   ]
  },
  {
   "cell_type": "code",
   "execution_count": 19,
   "id": "6965c44f",
   "metadata": {},
   "outputs": [
    {
     "data": {
      "text/plain": [
       "sigma8     0.000000\n",
       "Omegac     0.000000\n",
       "Omegab     0.000000\n",
       "hubble     0.000000\n",
       "ns         0.012854\n",
       "m1         0.000000\n",
       "m2         0.000000\n",
       "m3         0.000000\n",
       "m4         0.032141\n",
       "dz_wl_1    0.000000\n",
       "dz_wl_2    0.000000\n",
       "dz_wl_3    0.070711\n",
       "dz_wl_4    0.000000\n",
       "a_ia       0.011466\n",
       "eta        0.003389\n",
       "b1         0.011545\n",
       "b2         0.005481\n",
       "b3         0.005819\n",
       "b4         0.004683\n",
       "b5         0.000000\n",
       "dz_gc_1    0.000000\n",
       "dz_gc_2    0.000000\n",
       "dz_gc_3    0.000000\n",
       "dz_gc_4    0.000000\n",
       "dz_gc_5    0.000000\n",
       "dtype: float64"
      ]
     },
     "execution_count": 19,
     "metadata": {},
     "output_type": "execute_result"
    }
   ],
   "source": [
    "np.abs(\n",
    "    (df_cobaya_emu[\"mean\"] - df_nuts_emu[\"mean\"])\n",
    "    / np.sqrt(df_cobaya_emu[\"std\"] ** 2 + df_nuts_emu[\"std\"] ** 2)\n",
    ")"
   ]
  },
  {
   "cell_type": "code",
   "execution_count": 20,
   "id": "01fc4be5",
   "metadata": {},
   "outputs": [
    {
     "data": {
      "text/plain": [
       "0.03415634511934331"
      ]
     },
     "execution_count": 20,
     "metadata": {},
     "output_type": "execute_result"
    }
   ],
   "source": [
    "df_nuts_emu[\"scaled_n_eff\"].mean()"
   ]
  },
  {
   "cell_type": "code",
   "execution_count": 21,
   "id": "238034e8",
   "metadata": {},
   "outputs": [
    {
     "data": {
      "text/plain": [
       "0.005597090492950893"
      ]
     },
     "execution_count": 21,
     "metadata": {},
     "output_type": "execute_result"
    }
   ],
   "source": [
    "df_cobaya_emu[\"scaled_n_eff\"].mean()"
   ]
  },
  {
   "cell_type": "code",
   "execution_count": 22,
   "id": "eb2c5ded",
   "metadata": {},
   "outputs": [
    {
     "data": {
      "text/plain": [
       "0.04482185394258569"
      ]
     },
     "execution_count": 22,
     "metadata": {},
     "output_type": "execute_result"
    }
   ],
   "source": [
    "df_nuts_jc[\"scaled_n_eff\"].mean()"
   ]
  },
  {
   "cell_type": "code",
   "execution_count": 23,
   "id": "ce568fe0",
   "metadata": {},
   "outputs": [
    {
     "data": {
      "text/plain": [
       "0.0050194485997476805"
      ]
     },
     "execution_count": 23,
     "metadata": {},
     "output_type": "execute_result"
    }
   ],
   "source": [
    "df_cobaya_jc[\"scaled_n_eff\"].mean()"
   ]
  },
  {
   "cell_type": "code",
   "execution_count": 24,
   "id": "c0b4b2ec",
   "metadata": {},
   "outputs": [
    {
     "data": {
      "text/plain": [
       "6.102517935409587"
      ]
     },
     "execution_count": 24,
     "metadata": {},
     "output_type": "execute_result"
    }
   ],
   "source": [
    "df_nuts_emu[\"scaled_n_eff\"].mean() / df_cobaya_emu[\"scaled_n_eff\"].mean()"
   ]
  },
  {
   "cell_type": "code",
   "execution_count": 25,
   "id": "d08657fc",
   "metadata": {},
   "outputs": [
    {
     "data": {
      "text/plain": [
       "8.929637001330946"
      ]
     },
     "execution_count": 25,
     "metadata": {},
     "output_type": "execute_result"
    }
   ],
   "source": [
    "df_nuts_jc[\"scaled_n_eff\"].mean() / df_cobaya_jc[\"scaled_n_eff\"].mean()"
   ]
  },
  {
   "cell_type": "code",
   "execution_count": 26,
   "id": "1a14757e",
   "metadata": {},
   "outputs": [
    {
     "data": {
      "text/html": [
       "<div>\n",
       "<style scoped>\n",
       "    .dataframe tbody tr th:only-of-type {\n",
       "        vertical-align: middle;\n",
       "    }\n",
       "\n",
       "    .dataframe tbody tr th {\n",
       "        vertical-align: top;\n",
       "    }\n",
       "\n",
       "    .dataframe thead th {\n",
       "        text-align: right;\n",
       "    }\n",
       "</style>\n",
       "<table border=\"1\" class=\"dataframe\">\n",
       "  <thead>\n",
       "    <tr style=\"text-align: right;\">\n",
       "      <th></th>\n",
       "      <th>r_hat</th>\n",
       "      <th>n_eff</th>\n",
       "      <th>mean</th>\n",
       "      <th>std</th>\n",
       "      <th>scaled_n_eff</th>\n",
       "    </tr>\n",
       "  </thead>\n",
       "  <tbody>\n",
       "    <tr>\n",
       "      <th>sigma8</th>\n",
       "      <td>1.0</td>\n",
       "      <td>5983.970</td>\n",
       "      <td>0.840</td>\n",
       "      <td>0.064</td>\n",
       "      <td>0.009935</td>\n",
       "    </tr>\n",
       "    <tr>\n",
       "      <th>Omegac</th>\n",
       "      <td>1.0</td>\n",
       "      <td>8488.082</td>\n",
       "      <td>0.229</td>\n",
       "      <td>0.024</td>\n",
       "      <td>0.014093</td>\n",
       "    </tr>\n",
       "    <tr>\n",
       "      <th>Omegab</th>\n",
       "      <td>1.0</td>\n",
       "      <td>17761.095</td>\n",
       "      <td>0.043</td>\n",
       "      <td>0.007</td>\n",
       "      <td>0.029489</td>\n",
       "    </tr>\n",
       "    <tr>\n",
       "      <th>hubble</th>\n",
       "      <td>1.0</td>\n",
       "      <td>16785.483</td>\n",
       "      <td>0.719</td>\n",
       "      <td>0.051</td>\n",
       "      <td>0.027869</td>\n",
       "    </tr>\n",
       "    <tr>\n",
       "      <th>ns</th>\n",
       "      <td>1.0</td>\n",
       "      <td>12301.297</td>\n",
       "      <td>0.957</td>\n",
       "      <td>0.056</td>\n",
       "      <td>0.020424</td>\n",
       "    </tr>\n",
       "  </tbody>\n",
       "</table>\n",
       "</div>"
      ],
      "text/plain": [
       "        r_hat      n_eff   mean    std  scaled_n_eff\n",
       "sigma8    1.0   5983.970  0.840  0.064      0.009935\n",
       "Omegac    1.0   8488.082  0.229  0.024      0.014093\n",
       "Omegab    1.0  17761.095  0.043  0.007      0.029489\n",
       "hubble    1.0  16785.483  0.719  0.051      0.027869\n",
       "ns        1.0  12301.297  0.957  0.056      0.020424"
      ]
     },
     "execution_count": 26,
     "metadata": {},
     "output_type": "execute_result"
    }
   ],
   "source": [
    "df_nuts_emu.head()"
   ]
  },
  {
   "cell_type": "code",
   "execution_count": 27,
   "id": "38c65a67",
   "metadata": {},
   "outputs": [
    {
     "data": {
      "text/html": [
       "<div>\n",
       "<style scoped>\n",
       "    .dataframe tbody tr th:only-of-type {\n",
       "        vertical-align: middle;\n",
       "    }\n",
       "\n",
       "    .dataframe tbody tr th {\n",
       "        vertical-align: top;\n",
       "    }\n",
       "\n",
       "    .dataframe thead th {\n",
       "        text-align: right;\n",
       "    }\n",
       "</style>\n",
       "<table border=\"1\" class=\"dataframe\">\n",
       "  <thead>\n",
       "    <tr style=\"text-align: right;\">\n",
       "      <th></th>\n",
       "      <th>r_hat</th>\n",
       "      <th>n_eff</th>\n",
       "      <th>mean</th>\n",
       "      <th>std</th>\n",
       "      <th>scaled_n_eff</th>\n",
       "    </tr>\n",
       "  </thead>\n",
       "  <tbody>\n",
       "    <tr>\n",
       "      <th>sigma8</th>\n",
       "      <td>1.000</td>\n",
       "      <td>8859.678</td>\n",
       "      <td>0.840</td>\n",
       "      <td>0.062</td>\n",
       "      <td>0.004792</td>\n",
       "    </tr>\n",
       "    <tr>\n",
       "      <th>Omegac</th>\n",
       "      <td>1.000</td>\n",
       "      <td>8822.220</td>\n",
       "      <td>0.229</td>\n",
       "      <td>0.023</td>\n",
       "      <td>0.004771</td>\n",
       "    </tr>\n",
       "    <tr>\n",
       "      <th>Omegab</th>\n",
       "      <td>1.000</td>\n",
       "      <td>10696.223</td>\n",
       "      <td>0.043</td>\n",
       "      <td>0.007</td>\n",
       "      <td>0.005785</td>\n",
       "    </tr>\n",
       "    <tr>\n",
       "      <th>hubble</th>\n",
       "      <td>1.000</td>\n",
       "      <td>9165.396</td>\n",
       "      <td>0.719</td>\n",
       "      <td>0.049</td>\n",
       "      <td>0.004957</td>\n",
       "    </tr>\n",
       "    <tr>\n",
       "      <th>ns</th>\n",
       "      <td>1.001</td>\n",
       "      <td>10612.753</td>\n",
       "      <td>0.958</td>\n",
       "      <td>0.054</td>\n",
       "      <td>0.005740</td>\n",
       "    </tr>\n",
       "  </tbody>\n",
       "</table>\n",
       "</div>"
      ],
      "text/plain": [
       "        r_hat      n_eff   mean    std  scaled_n_eff\n",
       "sigma8  1.000   8859.678  0.840  0.062      0.004792\n",
       "Omegac  1.000   8822.220  0.229  0.023      0.004771\n",
       "Omegab  1.000  10696.223  0.043  0.007      0.005785\n",
       "hubble  1.000   9165.396  0.719  0.049      0.004957\n",
       "ns      1.001  10612.753  0.958  0.054      0.005740"
      ]
     },
     "execution_count": 27,
     "metadata": {},
     "output_type": "execute_result"
    }
   ],
   "source": [
    "df_cobaya_emu.head()"
   ]
  },
  {
   "cell_type": "code",
   "execution_count": 28,
   "id": "7700cd5b",
   "metadata": {},
   "outputs": [
    {
     "data": {
      "text/html": [
       "<div>\n",
       "<style scoped>\n",
       "    .dataframe tbody tr th:only-of-type {\n",
       "        vertical-align: middle;\n",
       "    }\n",
       "\n",
       "    .dataframe tbody tr th {\n",
       "        vertical-align: top;\n",
       "    }\n",
       "\n",
       "    .dataframe thead th {\n",
       "        text-align: right;\n",
       "    }\n",
       "</style>\n",
       "<table border=\"1\" class=\"dataframe\">\n",
       "  <thead>\n",
       "    <tr style=\"text-align: right;\">\n",
       "      <th></th>\n",
       "      <th>r_hat</th>\n",
       "      <th>n_eff</th>\n",
       "      <th>mean</th>\n",
       "      <th>std</th>\n",
       "      <th>scaled_n_eff</th>\n",
       "    </tr>\n",
       "  </thead>\n",
       "  <tbody>\n",
       "    <tr>\n",
       "      <th>sigma8</th>\n",
       "      <td>1.0</td>\n",
       "      <td>5089.511</td>\n",
       "      <td>0.828</td>\n",
       "      <td>0.063</td>\n",
       "      <td>0.011469</td>\n",
       "    </tr>\n",
       "    <tr>\n",
       "      <th>Omegac</th>\n",
       "      <td>1.0</td>\n",
       "      <td>7251.647</td>\n",
       "      <td>0.229</td>\n",
       "      <td>0.026</td>\n",
       "      <td>0.016341</td>\n",
       "    </tr>\n",
       "    <tr>\n",
       "      <th>Omegab</th>\n",
       "      <td>1.0</td>\n",
       "      <td>16921.667</td>\n",
       "      <td>0.045</td>\n",
       "      <td>0.007</td>\n",
       "      <td>0.038133</td>\n",
       "    </tr>\n",
       "    <tr>\n",
       "      <th>hubble</th>\n",
       "      <td>1.0</td>\n",
       "      <td>13851.484</td>\n",
       "      <td>0.711</td>\n",
       "      <td>0.050</td>\n",
       "      <td>0.031214</td>\n",
       "    </tr>\n",
       "    <tr>\n",
       "      <th>ns</th>\n",
       "      <td>1.0</td>\n",
       "      <td>10428.335</td>\n",
       "      <td>0.958</td>\n",
       "      <td>0.056</td>\n",
       "      <td>0.023500</td>\n",
       "    </tr>\n",
       "  </tbody>\n",
       "</table>\n",
       "</div>"
      ],
      "text/plain": [
       "        r_hat      n_eff   mean    std  scaled_n_eff\n",
       "sigma8    1.0   5089.511  0.828  0.063      0.011469\n",
       "Omegac    1.0   7251.647  0.229  0.026      0.016341\n",
       "Omegab    1.0  16921.667  0.045  0.007      0.038133\n",
       "hubble    1.0  13851.484  0.711  0.050      0.031214\n",
       "ns        1.0  10428.335  0.958  0.056      0.023500"
      ]
     },
     "execution_count": 28,
     "metadata": {},
     "output_type": "execute_result"
    }
   ],
   "source": [
    "df_nuts_jc.head()"
   ]
  },
  {
   "cell_type": "code",
   "execution_count": 29,
   "id": "e636295f",
   "metadata": {},
   "outputs": [
    {
     "data": {
      "text/html": [
       "<div>\n",
       "<style scoped>\n",
       "    .dataframe tbody tr th:only-of-type {\n",
       "        vertical-align: middle;\n",
       "    }\n",
       "\n",
       "    .dataframe tbody tr th {\n",
       "        vertical-align: top;\n",
       "    }\n",
       "\n",
       "    .dataframe thead th {\n",
       "        text-align: right;\n",
       "    }\n",
       "</style>\n",
       "<table border=\"1\" class=\"dataframe\">\n",
       "  <thead>\n",
       "    <tr style=\"text-align: right;\">\n",
       "      <th></th>\n",
       "      <th>r_hat</th>\n",
       "      <th>n_eff</th>\n",
       "      <th>mean</th>\n",
       "      <th>std</th>\n",
       "      <th>scaled_n_eff</th>\n",
       "    </tr>\n",
       "  </thead>\n",
       "  <tbody>\n",
       "    <tr>\n",
       "      <th>sigma8</th>\n",
       "      <td>1.0</td>\n",
       "      <td>8175.366</td>\n",
       "      <td>0.830</td>\n",
       "      <td>0.061</td>\n",
       "      <td>0.004136</td>\n",
       "    </tr>\n",
       "    <tr>\n",
       "      <th>Omegac</th>\n",
       "      <td>1.0</td>\n",
       "      <td>8748.084</td>\n",
       "      <td>0.228</td>\n",
       "      <td>0.025</td>\n",
       "      <td>0.004425</td>\n",
       "    </tr>\n",
       "    <tr>\n",
       "      <th>Omegab</th>\n",
       "      <td>1.0</td>\n",
       "      <td>9656.889</td>\n",
       "      <td>0.045</td>\n",
       "      <td>0.007</td>\n",
       "      <td>0.004885</td>\n",
       "    </tr>\n",
       "    <tr>\n",
       "      <th>hubble</th>\n",
       "      <td>1.0</td>\n",
       "      <td>10084.430</td>\n",
       "      <td>0.712</td>\n",
       "      <td>0.048</td>\n",
       "      <td>0.005101</td>\n",
       "    </tr>\n",
       "    <tr>\n",
       "      <th>ns</th>\n",
       "      <td>1.0</td>\n",
       "      <td>9433.665</td>\n",
       "      <td>0.959</td>\n",
       "      <td>0.054</td>\n",
       "      <td>0.004772</td>\n",
       "    </tr>\n",
       "  </tbody>\n",
       "</table>\n",
       "</div>"
      ],
      "text/plain": [
       "        r_hat      n_eff   mean    std  scaled_n_eff\n",
       "sigma8    1.0   8175.366  0.830  0.061      0.004136\n",
       "Omegac    1.0   8748.084  0.228  0.025      0.004425\n",
       "Omegab    1.0   9656.889  0.045  0.007      0.004885\n",
       "hubble    1.0  10084.430  0.712  0.048      0.005101\n",
       "ns        1.0   9433.665  0.959  0.054      0.004772"
      ]
     },
     "execution_count": 29,
     "metadata": {},
     "output_type": "execute_result"
    }
   ],
   "source": [
    "df_cobaya_jc.head()"
   ]
  },
  {
   "cell_type": "code",
   "execution_count": null,
   "id": "da43e5bf",
   "metadata": {},
   "outputs": [],
   "source": []
  },
  {
   "cell_type": "code",
   "execution_count": null,
   "id": "92973de5",
   "metadata": {},
   "outputs": [],
   "source": []
  }
 ],
 "metadata": {
  "kernelspec": {
   "display_name": "Python 3 (ipykernel)",
   "language": "python",
   "name": "python3"
  },
  "language_info": {
   "codemirror_mode": {
    "name": "ipython",
    "version": 3
   },
   "file_extension": ".py",
   "mimetype": "text/x-python",
   "name": "python",
   "nbconvert_exporter": "python",
   "pygments_lexer": "ipython3",
   "version": "3.9.18"
  }
 },
 "nbformat": 4,
 "nbformat_minor": 5
}
