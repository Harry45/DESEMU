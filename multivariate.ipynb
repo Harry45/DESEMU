{
 "cells": [
  {
   "cell_type": "code",
   "execution_count": 15,
   "id": "5981c4ed",
   "metadata": {},
   "outputs": [
    {
     "name": "stdout",
     "output_type": "stream",
     "text": [
      "env: XLA_PYTHON_CLIENT_PREALLOCATE=false\n"
     ]
    }
   ],
   "source": [
    "import os \n",
    "import shutil\n",
    "import numpy as np \n",
    "import emcee \n",
    "import time\n",
    "import pandas as pd\n",
    "import matplotlib.pylab as plt \n",
    "import random\n",
    "from cobaya.run import run\n",
    "from utils.helpers import pickle_save, pickle_load\n",
    "\n",
    "# NUTS\n",
    "from numpyro.diagnostics import summary\n",
    "import jax\n",
    "import jax.numpy as jnp \n",
    "import numpyro\n",
    "import numpyro.distributions as dist\n",
    "from numpyro.infer import MCMC, HMC, NUTS, init_to_median\n",
    "from numpyro.handlers import seed\n",
    "\n",
    "os.makedirs('mvn', exist_ok=True)\n",
    "plt.rc('text', usetex=True)\n",
    "plt.rc('font',**{'family':'sans-serif','serif':['Palatino']})\n",
    "figSize  = (8,6)\n",
    "fontSize = 20\n",
    "\n",
    "%env XLA_PYTHON_CLIENT_PREALLOCATE=false\n",
    "\n",
    "# os.environ[\"XLA_PYTHON_CLIENT_PREALLOCATE\"]='false'\n",
    "# os.environ[\"XLA_PYTHON_CLIENT_MEM_FRACTION\"]='.10'"
   ]
  },
  {
   "cell_type": "code",
   "execution_count": 2,
   "id": "880eff24",
   "metadata": {},
   "outputs": [],
   "source": [
    "dimensions = np.arange(1, 11, 1, dtype = int) * 10\n",
    "\n",
    "EPS = 0.01\n",
    "NWARMUP = 500 \n",
    "TREEDEPTH = 6\n",
    "NSAMPLES_NUTS = 5000\n",
    "NSAMPLES_EMCEE = 2000\n",
    "NSAMPLES_COBAYA = 200000 \n",
    "OUTPUT_FOLDER = 'CobayaMVN/'"
   ]
  },
  {
   "cell_type": "markdown",
   "id": "35c6c55f",
   "metadata": {},
   "source": [
    "# Sample Multivariate Normal with EMCEE"
   ]
  },
  {
   "cell_type": "code",
   "execution_count": 4,
   "id": "30774692",
   "metadata": {},
   "outputs": [],
   "source": [
    "def emcee_log_prob(position, mean, covariance):\n",
    "    diff = position - mean\n",
    "    return -0.5 * np.dot(diff, np.linalg.solve(covariance, diff))\n",
    "    \n",
    "def emcee_sampler(ndim, nsamples = 10000):\n",
    "    mean = np.zeros(ndim)\n",
    "    cov = np.eye(ndim)\n",
    "    nwalkers = 2 * ndim \n",
    "    initial_1 = np.random.rand(nwalkers, ndim)\n",
    "    initial_2 = np.random.rand(nwalkers, ndim)\n",
    "\n",
    "    # we use two samplers (to compute the Gelman-Rubin statistics)\n",
    "    sampler_1 = emcee.EnsembleSampler(nwalkers, ndim, emcee_log_prob, args=[mean, cov])\n",
    "    runsampler_1 = sampler_1.run_mcmc(initial_1, nsamples, progress = True)\n",
    "\n",
    "    sampler_2 = emcee.EnsembleSampler(nwalkers, ndim, emcee_log_prob, args=[mean, cov])\n",
    "    runsampler_2 = sampler_2.run_mcmc(initial_2, nsamples, progress = True)\n",
    "\n",
    "    return sampler_1, sampler_2, mean, cov\n",
    "\n",
    "def process_emcee(sampler_1, sampler_2):\n",
    "    samples_1 = sampler_1.flatchain\n",
    "    samples_2 = sampler_2.flatchain \n",
    "    ndim = samples_1.shape[1]\n",
    "    ap_1 = np.mean(sampler_1.acceptance_fraction)\n",
    "    ap_2 = np.mean(sampler_2.acceptance_fraction)\n",
    "    return samples_1, samples_2, ap_1, ap_2\n",
    "\n",
    "def calculate_mean_cov(samples):\n",
    "    \"\"\"\n",
    "    The input is of shape N x p, where N is the number of samples and p is the number of dimensions. \n",
    "    \"\"\"\n",
    "    sample_mean = np.mean(samples, axis = 0)\n",
    "    sample_cov = np.cov(samples.T)\n",
    "    return sample_mean, sample_cov\n",
    "\n",
    "def calculate_summary(samples_1, samples_2, nlike, ndecimal = 3):\n",
    "    \n",
    "    print(f'Number of likelihood evaluations is : {nlike}')\n",
    "    record = []\n",
    "    for i in range(samples_1.shape[1]):\n",
    "        x1 = samples_1[:,i]\n",
    "        x2 = samples_2[:,i]\n",
    "            \n",
    "        testsamples = np.vstack(([x1, x2]))\n",
    "        summary_stats = summary(testsamples)\n",
    "        summary_stats[f'p_{i}'] = summary_stats.pop('Param:0')\n",
    "        record.append(summary_stats)\n",
    "\n",
    "    record_df = []\n",
    "    for i in range(len(record)):\n",
    "        record_df.append(pd.DataFrame(record[i]).round(ndecimal).loc[['r_hat', 'n_eff', 'mean', 'std']])\n",
    "\n",
    "    record_df = pd.concat(record_df, axis = 1).T\n",
    "    record_df['scaled_n_eff'] = record_df['n_eff'] / nlike \n",
    "    return record_df\n",
    "    \n",
    "def compute_kl(mean0, mean1, cov0, cov1):\n",
    "    cov1_inv = np.linalg.inv(cov1)\n",
    "    ndim = cov1.shape[0]\n",
    "    term1 = np.trace(cov1_inv @ cov0) - ndim \n",
    "    term2 = (mean1 - mean0) @ cov1_inv @ (mean1 - mean0)\n",
    "    sign0, logdet0 = np.linalg.slogdet(cov0)\n",
    "    sign1, logdet1 = np.linalg.slogdet(cov1)\n",
    "    term3 = sign1 * logdet1 - sign0 * logdet0 \n",
    "    return 0.5*(term1 + term2 + term3)"
   ]
  },
  {
   "cell_type": "code",
   "execution_count": null,
   "id": "f15f21b3",
   "metadata": {},
   "outputs": [],
   "source": [
    "# emcee_record_time = list()\n",
    "\n",
    "# for d in dimensions:\n",
    "\n",
    "#     # generate the samples \n",
    "#     start_time = time.time()\n",
    "#     sampler_1, sampler_2, true_mean, true_cov = emcee_sampler(d, nsamples = NSAMPLES_EMCEE)    \n",
    "#     time_taken = time.time() - start_time\n",
    "#     emcee_record_time.append(time_taken)\n",
    "    \n",
    "#     # save the entire sampler\n",
    "#     pickle_save(sampler_1, 'samples/mvn', f'sampler_emcee_mvn_1_{d}')\n",
    "#     pickle_save(sampler_1, 'samples/mvn', f'sampler_emcee_mvn_2_{d}')"
   ]
  },
  {
   "cell_type": "markdown",
   "id": "2025753f",
   "metadata": {},
   "source": [
    "# NUTS"
   ]
  },
  {
   "cell_type": "code",
   "execution_count": 19,
   "id": "b90a4b93",
   "metadata": {},
   "outputs": [],
   "source": [
    "def nuts_model(ndim = 5):\n",
    "    locs = jnp.zeros(ndim)\n",
    "    covs = jnp.eye(ndim)\n",
    "    mvn = dist.MultivariateNormal(loc = locs, covariance_matrix = covs)\n",
    "    numpyro.sample('y', mvn)\n",
    "    return locs, covs"
   ]
  },
  {
   "cell_type": "code",
   "execution_count": 6,
   "id": "28b6bcd1",
   "metadata": {},
   "outputs": [],
   "source": [
    "%%capture\n",
    "def run_nuts(dimension):\n",
    "    \n",
    "    nuts_kernel = NUTS(nuts_model, \n",
    "                       step_size=EPS, \n",
    "                       init_strategy=init_to_median, \n",
    "                       dense_mass=True, \n",
    "                       max_tree_depth=TREEDEPTH)\n",
    "\n",
    "    mcmc = MCMC(nuts_kernel, \n",
    "                num_chains=2, \n",
    "                num_warmup = NWARMUP, \n",
    "                num_samples=NSAMPLES_NUTS, \n",
    "                chain_method=\"vectorized\")\n",
    "    \n",
    "    mcmc.run(jax.random.PRNGKey(random.randint(0, 1000)), \n",
    "             ndim=dimension, \n",
    "             extra_fields=('potential_energy', 'num_steps'))\n",
    "    return mcmc"
   ]
  },
  {
   "cell_type": "code",
   "execution_count": null,
   "id": "5dc6cf08",
   "metadata": {},
   "outputs": [],
   "source": [
    "# nuts_record_time = list()\n",
    "\n",
    "# for d in dimensions:\n",
    "#     start_time = time.time()\n",
    "#     mcmc = run_nuts(d)\n",
    "#     time_taken = time.time() - start_time \n",
    "#     nuts_record_time.append(time_taken)\n",
    "    \n",
    "#     # save the sampler \n",
    "#     pickle_save(mcmc, 'samples/mvn', f'sampler_nuts_mvn_{d}')   "
   ]
  },
  {
   "cell_type": "markdown",
   "id": "cbd6581f",
   "metadata": {},
   "source": [
    "# Cobaya"
   ]
  },
  {
   "cell_type": "code",
   "execution_count": 8,
   "id": "ddc7a44e",
   "metadata": {},
   "outputs": [],
   "source": [
    "def cobaya_mvn(ndim, number):\n",
    "    \n",
    "    position = {\n",
    "            \"prior\": {\"min\": -5.0, \"max\": 5.0},\n",
    "            \"ref\": {\"dist\": \"norm\", \"loc\": 0.0, \"scale\": 1},\n",
    "            \"proposal\": EPS\n",
    "             }\n",
    "    \n",
    "    likelihood = {\n",
    "                    \"gaussian_mixture\": {\n",
    "                    \"means\": np.zeros(ndim),\n",
    "                    \"covs\": np.eye(ndim),\n",
    "                    \"derived\": False}\n",
    "                 }\n",
    "    \n",
    "    parameters = {f'p{i}': position for i in range(ndim)}\n",
    "    \n",
    "    info = {\"likelihood\" : likelihood}\n",
    "    info[\"params\"] = parameters\n",
    "    info[\"sampler\"] = {\"mcmc\": {\"max_samples\": NSAMPLES_COBAYA, \"Rminus1_stop\": 0.01}}\n",
    "    \n",
    "    path =  OUTPUT_FOLDER + f\"experiment_{ndim}_{number}/\"\n",
    "    if os.path.exists(path) and os.path.isdir(path):\n",
    "        shutil.rmtree(path)\n",
    "    info[\"output\"] = path + 'mvn'\n",
    "    updated_info, sampler = run(info, )\n",
    "    return sampler\n",
    "\n",
    "def stats_cobaya(ndim):\n",
    "    \n",
    "    nsamples = []\n",
    "    nevals = []\n",
    "    record_samples = []\n",
    "    for number in range(2):\n",
    "        path =  OUTPUT_FOLDER + f\"experiment_{ndim}_{number+1}/\"\n",
    "        samples = np.loadtxt(path + 'mvn.1.txt')\n",
    "        nsamples.append(samples.shape[0])\n",
    "        nevals.append(sum(samples[:,0]))\n",
    "        record_samples.append(samples[:,2:-4])\n",
    "    min_nsamples = min(nsamples)\n",
    "    nevals_tot = int(sum(nevals))\n",
    "    print(f'Number of likelihood evaluation is :{nevals_tot}')\n",
    "    return calculate_summary(record_samples[0][-min_nsamples:], record_samples[1][-min_nsamples:], nevals_tot)\n",
    "\n",
    "def run_cobaya(ndim):\n",
    "    sampler_1 = cobaya_mvn(ndim, 1)\n",
    "    sampler_2 = cobaya_mvn(ndim, 2)\n",
    "    return sampler_1, sampler_2\n",
    "\n",
    "def get_cobaya_samples(sampler_1, sampler_2, ndim):\n",
    "    \n",
    "    data_1 = sampler_1.samples()\n",
    "    data_2 = sampler_2.samples()\n",
    "    \n",
    "    samples_1 = data_1.data[data_1.sampled_params].values\n",
    "    samples_2 = data_2.data[data_2.sampled_params].values\n",
    "    \n",
    "    nevals = sum(data_1.data.weight.values) + sum(data_2.data.weight.values)\n",
    "    \n",
    "    nsamples = [samples_1.shape[0], samples_2.shape[0]]\n",
    "    min_samples = min(nsamples)\n",
    "    \n",
    "    return samples_1[-min_samples:], samples_2[-min_samples:], nevals"
   ]
  },
  {
   "cell_type": "code",
   "execution_count": null,
   "id": "1b35fe77",
   "metadata": {},
   "outputs": [],
   "source": [
    "# cb_record_time = list()\n",
    "\n",
    "# for d in dimensions:\n",
    "#     start_time = time.time()\n",
    "#     sampler_1, sampler_2 = run_cobaya(d)\n",
    "#     time_taken = time.time() - start_time \n",
    "#     cb_record_time.append(time_taken)"
   ]
  },
  {
   "cell_type": "markdown",
   "id": "03f2a348",
   "metadata": {},
   "source": [
    "# Compare Results"
   ]
  },
  {
   "cell_type": "code",
   "execution_count": 28,
   "id": "d0ae9d3f",
   "metadata": {},
   "outputs": [],
   "source": [
    "def cobaya_statistics(dimensions, folder = 'CobayaMVN'):\n",
    "    \n",
    "    cb_record_kl = list()\n",
    "    cb_record_stats = list()\n",
    "    cb_record_nevals = list()\n",
    "\n",
    "    for d in dimensions:\n",
    "        fname1 = os.path.join(folder, f'experiment_{d}_1/mvn.1.txt')\n",
    "        fname2 = os.path.join(folder, f'experiment_{d}_2/mvn.1.txt')\n",
    "        data_1 = np.loadtxt(fname1)\n",
    "        data_2 = np.loadtxt(fname2)\n",
    "        nevals = sum(data_1[:,0]) + sum(data_2[:,0])\n",
    "        \n",
    "        samples_1 = data_1[:,2:-4]\n",
    "        samples_2 = data_2[:,2:-4]\n",
    "\n",
    "        nsamples = [samples_1.shape[0], samples_2.shape[0]]\n",
    "        min_samples = min(nsamples)\n",
    "\n",
    "        # calculate sample mean and covariance \n",
    "        cb_mean, cb_cov = calculate_mean_cov(np.concatenate([samples_1, samples_2]))\n",
    "\n",
    "        # calculate the KL divergence \n",
    "        cb_kl = compute_kl(cb_mean, np.zeros(d), cb_cov, np.eye(d))\n",
    "\n",
    "        # record quantities \n",
    "        cb_record_stats.append(calculate_summary(samples_1[-min_samples:], samples_2[-min_samples:], nevals))\n",
    "        cb_record_kl.append(cb_kl)\n",
    "        cb_record_nevals.append(nevals)\n",
    "\n",
    "        # print KL divergence \n",
    "        print(f'KL-divergence is {cb_kl:.4f}')\n",
    "        \n",
    "    return cb_record_kl, cb_record_stats, cb_record_nevals\n",
    "\n",
    "def nuts_statistics(dimensions, folder = 'mvn/'):\n",
    "\n",
    "    nuts_record_kl = list()\n",
    "    nuts_record_stats = list()\n",
    "    nuts_record_ap = list()\n",
    "    nuts_record_nevals = list()\n",
    "\n",
    "    for d in dimensions:\n",
    "        mcmc = pickle_load(folder, f'sampler_nuts_mvn_{d}')\n",
    "        samples = np.asarray(mcmc.get_samples()['y'])\n",
    "        samples_grouped = np.asarray(mcmc.get_samples(group_by_chain=True)['y'])\n",
    "        nsteps = mcmc.get_extra_fields(group_by_chain=True)['num_steps']\n",
    "        nevaluations = jnp.sum(nsteps).item()\n",
    "\n",
    "        # calculate sample mean and covariance \n",
    "        nuts_mean, nuts_cov = calculate_mean_cov(samples)\n",
    "\n",
    "        # calculate the KL divergence \n",
    "        nuts_kl = compute_kl(nuts_mean, np.zeros(d), nuts_cov, np.eye(d))\n",
    "\n",
    "        # record quantities \n",
    "        nuts_record_stats.append(calculate_summary(samples_grouped[0], samples_grouped[1], nevaluations))\n",
    "        nuts_record_kl.append(nuts_kl)\n",
    "        nuts_record_ap.append(mcmc.last_state.mean_accept_prob)\n",
    "        nuts_record_nevals.append(nevaluations)\n",
    "\n",
    "        # print KL divergence \n",
    "        print(f'KL-divergence is {nuts_kl:.4f}')\n",
    "    \n",
    "    return nuts_record_kl, nuts_record_stats, nuts_record_nevals\n",
    "\n",
    "def emcee_statistics(dimensions, folder = 'mvn/'):\n",
    "    \n",
    "    emcee_record_stats = list()\n",
    "    emcee_record_kl = list()\n",
    "    emcee_record_ap = list()\n",
    "    emcee_record_nevals = list()\n",
    "    \n",
    "    for d in dimensions:\n",
    "        sampler_1 = pickle_load(folder, f'sampler_emcee_mvn_1_{d}')\n",
    "        sampler_2 = pickle_load(folder, f'sampler_emcee_mvn_2_{d}')\n",
    "    \n",
    "        samples_1, samples_2, ap_1, ap_2  = process_emcee(sampler_1, sampler_2)\n",
    "\n",
    "        # calculate sample mean and covariance\n",
    "        sample_mean, sample_cov = calculate_mean_cov(np.vstack([samples_1, samples_2]))\n",
    "\n",
    "        # calculate KL divergence\n",
    "        true_mean = np.zeros(d)\n",
    "        true_cov = np.eye(d)\n",
    "        emcee_kl = compute_kl(sample_mean, true_mean, sample_cov, true_cov)\n",
    "\n",
    "        # record quantities \n",
    "        nevals = 2 * samples_1.shape[0]\n",
    "        emcee_record_stats.append(calculate_summary(samples_1, samples_2, nevals))\n",
    "        emcee_record_kl.append(emcee_kl)\n",
    "        emcee_record_ap.append([ap_1.item(), ap_2.item()])\n",
    "        emcee_record_nevals.append(nevals)\n",
    "        \n",
    "        # print value of KL \n",
    "        print(f'KL-divergence is {emcee_kl:.4f}')\n",
    "        \n",
    "    return emcee_record_kl, emcee_record_stats, emcee_record_nevals"
   ]
  },
  {
   "cell_type": "code",
   "execution_count": 29,
   "id": "7c19830b",
   "metadata": {},
   "outputs": [],
   "source": [
    "dimensions = np.arange(1, 11, 1)*10"
   ]
  },
  {
   "cell_type": "code",
   "execution_count": 30,
   "id": "97bca77e",
   "metadata": {},
   "outputs": [
    {
     "name": "stdout",
     "output_type": "stream",
     "text": [
      "Number of likelihood evaluations is : 159249.0\n",
      "KL-divergence is 0.0486\n",
      "Number of likelihood evaluations is : 838446.0\n",
      "KL-divergence is 0.5243\n",
      "Number of likelihood evaluations is : 404529.0\n",
      "KL-divergence is 20.3313\n",
      "Number of likelihood evaluations is : 404750.0\n",
      "KL-divergence is 38.6475\n",
      "Number of likelihood evaluations is : 404785.0\n",
      "KL-divergence is 57.0763\n",
      "Number of likelihood evaluations is : 404542.0\n",
      "KL-divergence is 77.7137\n",
      "Number of likelihood evaluations is : 404615.0\n",
      "KL-divergence is 99.6505\n",
      "Number of likelihood evaluations is : 404341.0\n",
      "KL-divergence is 118.7777\n",
      "Number of likelihood evaluations is : 404655.0\n",
      "KL-divergence is 152.4051\n",
      "Number of likelihood evaluations is : 404744.0\n",
      "KL-divergence is 180.0447\n"
     ]
    }
   ],
   "source": [
    "cb_record_kl, cb_record_stats, cb_record_nevals = cobaya_statistics(dimensions)"
   ]
  },
  {
   "cell_type": "code",
   "execution_count": 20,
   "id": "0e4e3592",
   "metadata": {},
   "outputs": [
    {
     "name": "stdout",
     "output_type": "stream",
     "text": [
      "Number of likelihood evaluations is : 66516\n",
      "KL-divergence is 0.0053\n",
      "Number of likelihood evaluations is : 69940\n",
      "KL-divergence is 0.0234\n",
      "Number of likelihood evaluations is : 73152\n",
      "KL-divergence is 0.0405\n",
      "Number of likelihood evaluations is : 96152\n",
      "KL-divergence is 0.0767\n",
      "Number of likelihood evaluations is : 119304\n",
      "KL-divergence is 0.1144\n",
      "Number of likelihood evaluations is : 137104\n",
      "KL-divergence is 0.1536\n",
      "Number of likelihood evaluations is : 143256\n",
      "KL-divergence is 0.1935\n",
      "Number of likelihood evaluations is : 171040\n",
      "KL-divergence is 0.2527\n",
      "Number of likelihood evaluations is : 251584\n",
      "KL-divergence is 0.2626\n",
      "Number of likelihood evaluations is : 551360\n",
      "KL-divergence is 0.2979\n"
     ]
    }
   ],
   "source": [
    "nuts_record_kl, nuts_record_stats, nuts_record_nevals = nuts_statistics(dimensions)"
   ]
  },
  {
   "cell_type": "code",
   "execution_count": 25,
   "id": "432ef63c",
   "metadata": {},
   "outputs": [
    {
     "name": "stdout",
     "output_type": "stream",
     "text": [
      "Number of likelihood evaluations is : 80000\n",
      "KL-divergence is 0.0582\n",
      "Number of likelihood evaluations is : 160000\n",
      "KL-divergence is 0.3295\n",
      "Number of likelihood evaluations is : 240000\n",
      "KL-divergence is 1.0510\n",
      "Number of likelihood evaluations is : 320000\n",
      "KL-divergence is 1.8969\n",
      "Number of likelihood evaluations is : 400000\n",
      "KL-divergence is 3.5253\n",
      "Number of likelihood evaluations is : 480000\n",
      "KL-divergence is 5.8438\n",
      "Number of likelihood evaluations is : 560000\n",
      "KL-divergence is 8.3418\n",
      "Number of likelihood evaluations is : 640000\n",
      "KL-divergence is 12.2119\n",
      "Number of likelihood evaluations is : 720000\n",
      "KL-divergence is 14.4594\n",
      "Number of likelihood evaluations is : 800000\n",
      "KL-divergence is 18.9599\n"
     ]
    }
   ],
   "source": [
    "emcee_record_kl, emcee_record_stats, emcee_record_nevals = emcee_statistics(dimensions)"
   ]
  },
  {
   "cell_type": "code",
   "execution_count": 31,
   "id": "541955a6",
   "metadata": {},
   "outputs": [],
   "source": [
    "def compare_stats(emcee_df, nuts_df, cb_df):\n",
    "    nexperiments = len(emcee_df)\n",
    "    record_rhat = {'emcee': list(), 'nuts': list(), 'cb': list()}\n",
    "    record_neff = {'emcee': list(), 'nuts': list(), 'cb': list()}\n",
    "    for i in range(nexperiments):\n",
    "        emcee_mean_stats = emcee_df[i].mean(0)\n",
    "        nuts_mean_stats = nuts_df[i].mean(0)\n",
    "        cb_mean_stats = cb_df[i].mean(0)\n",
    "        record_rhat['emcee'].append(emcee_mean_stats['r_hat'].item())\n",
    "        record_neff['emcee'].append(emcee_mean_stats['scaled_n_eff'].item())\n",
    "        \n",
    "        record_rhat['nuts'].append(nuts_mean_stats['r_hat'].item())\n",
    "        record_neff['nuts'].append(nuts_mean_stats['scaled_n_eff'].item())\n",
    "\n",
    "        record_rhat['cb'].append(cb_mean_stats['r_hat'].item())\n",
    "        record_neff['cb'].append(cb_mean_stats['scaled_n_eff'].item())\n",
    "        \n",
    "    return pd.DataFrame(record_rhat, index = dimensions), pd.DataFrame(record_neff, index = dimensions)"
   ]
  },
  {
   "cell_type": "code",
   "execution_count": 33,
   "id": "555b265d",
   "metadata": {},
   "outputs": [],
   "source": [
    "df_rhat, df_neff = compare_stats(emcee_record_stats, nuts_record_stats, cb_record_stats)\n",
    "\n",
    "df_kl = pd.DataFrame(np.vstack([emcee_record_kl, nuts_record_kl, cb_record_kl]).T, \n",
    "                     columns = ['emcee', 'nuts', 'cb'], index=dimensions)"
   ]
  },
  {
   "cell_type": "markdown",
   "id": "67220b73",
   "metadata": {},
   "source": [
    "## Plots"
   ]
  },
  {
   "cell_type": "code",
   "execution_count": 39,
   "id": "c51ebeaf",
   "metadata": {},
   "outputs": [
    {
     "data": {
      "image/png": "[encoded data removed]",
      "text/plain": [
       "<Figure size 1200x400 with 2 Axes>"
      ]
     },
     "metadata": {},
     "output_type": "display_data"
    }
   ],
   "source": [
    "plt.figure(figsize = (12, 4))\n",
    "\n",
    "plt.subplot(121)\n",
    "plt.scatter(dimensions, df_neff['cb'], c = 'r', label = 'Cobaya')\n",
    "plt.plot(dimensions, df_neff['cb'], c = 'r')\n",
    "plt.scatter(dimensions, df_neff['nuts'], c = 'b', label = 'NUTS')\n",
    "plt.plot(dimensions, df_neff['nuts'], c = 'b')\n",
    "plt.xticks(np.arange(0, 120, step=20))\n",
    "plt.ylabel(r'$N_{eff}$', fontsize = fontSize)\n",
    "plt.xlabel(r'Dimensions', fontsize = fontSize)\n",
    "plt.tick_params(axis='x', labelsize=fontSize)\n",
    "plt.tick_params(axis='y', labelsize=fontSize)\n",
    "plt.legend(loc='best',prop={'family':'sans-serif', 'size':12})\n",
    "plt.yscale('log')\n",
    "\n",
    "plt.subplot(122)\n",
    "plt.scatter(dimensions, df_neff['nuts'] / df_neff['cb'], c = 'k')\n",
    "plt.plot(dimensions, df_neff['nuts'] / df_neff['cb'], c = 'k')\n",
    "plt.axhline(1.0, linestyle = '--', c = 'k')\n",
    "plt.xticks(np.arange(0, 120, step=20))\n",
    "plt.ylabel(r'$\\gamma$', fontsize = fontSize)\n",
    "plt.xlabel(r'Dimensions', fontsize = fontSize)\n",
    "plt.tick_params(axis='x', labelsize=fontSize)\n",
    "plt.tick_params(axis='y', labelsize=fontSize)\n",
    "plt.yscale('log')\n",
    "\n",
    "plt.subplots_adjust(left=None, bottom=None, right=None, top=None, wspace=0.3, hspace=None)\n",
    "# plt.savefig('/home/arrykrishna/Desktop/mvn_neff.pdf', bbox_inches = 'tight')\n",
    "plt.show()"
   ]
  },
  {
   "cell_type": "code",
   "execution_count": 41,
   "id": "de6be9e8",
   "metadata": {},
   "outputs": [
    {
     "data": {
      "image/png": "[encoded data removed]",
      "text/plain": [
       "<Figure size 600x400 with 1 Axes>"
      ]
     },
     "metadata": {},
     "output_type": "display_data"
    }
   ],
   "source": [
    "plt.figure(figsize = (6,4))\n",
    "plt.scatter(dimensions, df_kl['cb'], c = 'r', label = 'Cobaya')\n",
    "plt.plot(dimensions, df_kl['cb'], c = 'r')\n",
    "plt.scatter(dimensions, df_kl['nuts'], c = 'b', label = 'NUTS')\n",
    "plt.plot(dimensions, df_kl['nuts'], c = 'b')\n",
    "plt.xticks(np.arange(0, 120, step=20))\n",
    "plt.ylabel(r'$D_{KL}$', fontsize = fontSize)\n",
    "plt.xlabel(r'Dimensions', fontsize = fontSize)\n",
    "plt.tick_params(axis='x', labelsize=fontSize)\n",
    "plt.tick_params(axis='y', labelsize=fontSize)\n",
    "plt.yscale('log')\n",
    "plt.legend(loc='best',prop={'family':'sans-serif', 'size':12})\n",
    "# plt.savefig('/home/arrykrishna/Desktop/mvn_dist.pdf', bbox_inches = 'tight')\n",
    "plt.show()"
   ]
  },
  {
   "cell_type": "code",
   "execution_count": null,
   "id": "609bbdb0",
   "metadata": {},
   "outputs": [],
   "source": []
  }
 ],
 "metadata": {
  "kernelspec": {
   "display_name": "Python 3 (ipykernel)",
   "language": "python",
   "name": "python3"
  },
  "language_info": {
   "codemirror_mode": {
    "name": "ipython",
    "version": 3
   },
   "file_extension": ".py",
   "mimetype": "text/x-python",
   "name": "python",
   "nbconvert_exporter": "python",
   "pygments_lexer": "ipython3",
   "version": "3.9.18"
  }
 },
 "nbformat": 4,
 "nbformat_minor": 5
}
