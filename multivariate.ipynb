{
 "cells": [
  {
   "cell_type": "code",
   "execution_count": 1,
   "id": "319beee4",
   "metadata": {},
   "outputs": [
    {
     "name": "stdout",
     "output_type": "stream",
     "text": [
      "env: XLA_PYTHON_CLIENT_PREALLOCATE=false\n"
     ]
    }
   ],
   "source": [
    "import os \n",
    "import numpy as np \n",
    "import emcee \n",
    "import time\n",
    "import pandas as pd\n",
    "import matplotlib.pylab as plt \n",
    "import random\n",
    "\n",
    "# NUTS\n",
    "from numpyro.diagnostics import summary\n",
    "import jax\n",
    "import jax.numpy as jnp \n",
    "import numpyro\n",
    "import numpyro.distributions as dist\n",
    "from numpyro.infer import MCMC, HMC, NUTS, init_to_median\n",
    "from numpyro.handlers import seed\n",
    "\n",
    "os.makedirs('mvn', exist_ok=True)\n",
    "plt.rc('text', usetex=True)\n",
    "plt.rc('font',**{'family':'sans-serif','serif':['Palatino']})\n",
    "figSize  = (8,6)\n",
    "fontSize = 20\n",
    "\n",
    "%env XLA_PYTHON_CLIENT_PREALLOCATE=false\n",
    "\n",
    "# os.environ[\"XLA_PYTHON_CLIENT_PREALLOCATE\"]='false'\n",
    "# os.environ[\"XLA_PYTHON_CLIENT_MEM_FRACTION\"]='.10'"
   ]
  },
  {
   "cell_type": "code",
   "execution_count": 2,
   "id": "dd580be3",
   "metadata": {},
   "outputs": [],
   "source": [
    "dimensions = np.arange(1, 11, 1, dtype = int) * 10\n",
    "\n",
    "EPS = 0.01\n",
    "NWARMUP = 500 \n",
    "TREEDEPTH = 8 \n",
    "NSAMPLES_NUTS = 15000\n",
    "NSAMPLES_EMCEE = 2000\n",
    "THIN = 10"
   ]
  },
  {
   "cell_type": "markdown",
   "id": "e2940f46",
   "metadata": {},
   "source": [
    "# Sample Multivariate Normal with EMCEE"
   ]
  },
  {
   "cell_type": "code",
   "execution_count": 3,
   "id": "906e81a8",
   "metadata": {},
   "outputs": [],
   "source": [
    "def emcee_log_prob(position, mean, covariance):\n",
    "    diff = position - mean\n",
    "    return -0.5 * np.dot(diff, np.linalg.solve(covariance, diff))\n",
    "    \n",
    "def emcee_sampler(ndim, nsamples = 10000):\n",
    "    mean = np.zeros(ndim)\n",
    "    cov = np.eye(ndim)\n",
    "    nwalkers = 2 * ndim \n",
    "    initial_1 = np.random.rand(nwalkers, ndim)\n",
    "    initial_2 = np.random.rand(nwalkers, ndim)\n",
    "\n",
    "    # we use two samplers (to compute the Gelman-Rubin statistics)\n",
    "    sampler_1 = emcee.EnsembleSampler(nwalkers, ndim, emcee_log_prob, args=[mean, cov])\n",
    "    runsampler_1 = sampler_1.run_mcmc(initial_1, nsamples, progress = True)\n",
    "    samples_1 = sampler_1.flatchain\n",
    "    ap_1 = np.mean(sampler_1.acceptance_fraction)\n",
    "\n",
    "    sampler_2 = emcee.EnsembleSampler(nwalkers, ndim, emcee_log_prob, args=[mean, cov])\n",
    "    runsampler_2 = sampler_2.run_mcmc(initial_2, nsamples, progress = True)\n",
    "    samples_2 = sampler_2.flatchain\n",
    "    ap_2 = np.mean(sampler_2.acceptance_fraction)\n",
    "\n",
    "    return samples_1, samples_2, mean, cov, ap_1, ap_2\n",
    "\n",
    "def calculate_mean_cov(samples, thin = None):\n",
    "    \"\"\"\n",
    "    The input is of shape N x p, where N is the number of samples and p is the number of dimensions. \n",
    "    \"\"\"\n",
    "    if thin is not None:\n",
    "        samples = samples[0::thin]\n",
    "    sample_mean = np.mean(samples, axis = 0)\n",
    "    sample_cov = np.cov(samples.T)\n",
    "    return sample_mean, sample_cov\n",
    "\n",
    "def calculate_summary(samples_1, samples_2, nlike, thin = None, ndecimal = 3):\n",
    "    record = []\n",
    "    for i in range(samples_1.shape[1]):\n",
    "        if thin is not None:\n",
    "            x1 = samples_1[:,i][0::thin]\n",
    "            x2 = samples_2[:,i][0::thin]\n",
    "        else:\n",
    "            x1 = samples_1[:,i]\n",
    "            x2 = samples_2[:,i]\n",
    "            \n",
    "        testsamples = np.vstack(([x1, x2]))\n",
    "        summary_stats = summary(testsamples)\n",
    "        summary_stats[f'p_{i}'] = summary_stats.pop('Param:0')\n",
    "        record.append(summary_stats)\n",
    "\n",
    "    record_df = []\n",
    "    for i in range(len(record)):\n",
    "        record_df.append(pd.DataFrame(record[i]).round(ndecimal).loc[['r_hat', 'n_eff', 'mean', 'std']])\n",
    "\n",
    "    record_df = pd.concat(record_df, axis = 1).T\n",
    "    nsamples = x1.shape[0] + x2.shape[0] # samples_1.shape[0] + samples_2.shape[0]\n",
    "    record_df['n_eff'] /= nsamples # nlike\n",
    "    return record_df\n",
    "    \n",
    "def compute_kl(mean0, mean1, cov0, cov1):\n",
    "    cov1_inv = np.linalg.inv(cov1)\n",
    "    ndim = cov1.shape[0]\n",
    "    term1 = np.trace(cov1_inv @ cov0) - ndim \n",
    "    term2 = (mean1 - mean0) @ cov1_inv @ (mean1 - mean0)\n",
    "    sign0, logdet0 = np.linalg.slogdet(cov0)\n",
    "    sign1, logdet1 = np.linalg.slogdet(cov1)\n",
    "    term3 = sign1 * logdet1 - sign0 * logdet0 \n",
    "    return 0.5*(term1 + term2 + term3)"
   ]
  },
  {
   "cell_type": "code",
   "execution_count": 4,
   "id": "cee8ad95",
   "metadata": {},
   "outputs": [
    {
     "name": "stderr",
     "output_type": "stream",
     "text": [
      "100%|█████████████████████████████████████████████████████████████████████████████████| 2000/2000 [00:00<00:00, 2199.72it/s]\n",
      "100%|█████████████████████████████████████████████████████████████████████████████████| 2000/2000 [00:00<00:00, 2190.31it/s]\n"
     ]
    },
    {
     "name": "stdout",
     "output_type": "stream",
     "text": [
      "KL-divergence is 0.2351\n"
     ]
    },
    {
     "name": "stderr",
     "output_type": "stream",
     "text": [
      "100%|██████████████████████████████████████████████████████████████████████████████████| 2000/2000 [00:02<00:00, 970.98it/s]\n",
      "100%|██████████████████████████████████████████████████████████████████████████████████| 2000/2000 [00:02<00:00, 881.18it/s]\n"
     ]
    },
    {
     "name": "stdout",
     "output_type": "stream",
     "text": [
      "KL-divergence is 1.0597\n"
     ]
    },
    {
     "name": "stderr",
     "output_type": "stream",
     "text": [
      "100%|██████████████████████████████████████████████████████████████████████████████████| 2000/2000 [00:04<00:00, 476.65it/s]\n",
      "100%|██████████████████████████████████████████████████████████████████████████████████| 2000/2000 [00:03<00:00, 506.44it/s]\n"
     ]
    },
    {
     "name": "stdout",
     "output_type": "stream",
     "text": [
      "KL-divergence is 2.9966\n"
     ]
    },
    {
     "name": "stderr",
     "output_type": "stream",
     "text": [
      "100%|██████████████████████████████████████████████████████████████████████████████████| 2000/2000 [00:05<00:00, 340.61it/s]\n",
      "100%|██████████████████████████████████████████████████████████████████████████████████| 2000/2000 [00:06<00:00, 327.96it/s]\n"
     ]
    },
    {
     "name": "stdout",
     "output_type": "stream",
     "text": [
      "KL-divergence is 6.3835\n"
     ]
    },
    {
     "name": "stderr",
     "output_type": "stream",
     "text": [
      "100%|██████████████████████████████████████████████████████████████████████████████████| 2000/2000 [00:10<00:00, 194.97it/s]\n",
      "100%|██████████████████████████████████████████████████████████████████████████████████| 2000/2000 [00:14<00:00, 137.91it/s]\n"
     ]
    },
    {
     "name": "stdout",
     "output_type": "stream",
     "text": [
      "KL-divergence is 9.7702\n"
     ]
    },
    {
     "name": "stderr",
     "output_type": "stream",
     "text": [
      "100%|██████████████████████████████████████████████████████████████████████████████████| 2000/2000 [00:16<00:00, 120.53it/s]\n",
      "100%|██████████████████████████████████████████████████████████████████████████████████| 2000/2000 [00:12<00:00, 160.13it/s]\n"
     ]
    },
    {
     "name": "stdout",
     "output_type": "stream",
     "text": [
      "KL-divergence is 13.9128\n"
     ]
    },
    {
     "name": "stderr",
     "output_type": "stream",
     "text": [
      "100%|███████████████████████████████████████████████████████████████████████████████████| 2000/2000 [00:22<00:00, 87.23it/s]\n",
      "100%|███████████████████████████████████████████████████████████████████████████████████| 2000/2000 [00:28<00:00, 70.08it/s]\n"
     ]
    },
    {
     "name": "stdout",
     "output_type": "stream",
     "text": [
      "KL-divergence is 20.9309\n"
     ]
    },
    {
     "name": "stderr",
     "output_type": "stream",
     "text": [
      "100%|███████████████████████████████████████████████████████████████████████████████████| 2000/2000 [00:33<00:00, 58.83it/s]\n",
      "100%|███████████████████████████████████████████████████████████████████████████████████| 2000/2000 [00:23<00:00, 86.31it/s]\n"
     ]
    },
    {
     "name": "stdout",
     "output_type": "stream",
     "text": [
      "KL-divergence is 28.1508\n"
     ]
    },
    {
     "name": "stderr",
     "output_type": "stream",
     "text": [
      "100%|███████████████████████████████████████████████████████████████████████████████████| 2000/2000 [00:32<00:00, 61.24it/s]\n",
      "100%|███████████████████████████████████████████████████████████████████████████████████| 2000/2000 [00:37<00:00, 53.86it/s]\n"
     ]
    },
    {
     "name": "stdout",
     "output_type": "stream",
     "text": [
      "KL-divergence is 35.0303\n"
     ]
    },
    {
     "name": "stderr",
     "output_type": "stream",
     "text": [
      "100%|███████████████████████████████████████████████████████████████████████████████████| 2000/2000 [00:50<00:00, 39.41it/s]\n",
      "100%|███████████████████████████████████████████████████████████████████████████████████| 2000/2000 [00:45<00:00, 44.36it/s]\n"
     ]
    },
    {
     "name": "stdout",
     "output_type": "stream",
     "text": [
      "KL-divergence is 43.8287\n"
     ]
    }
   ],
   "source": [
    "emcee_record_stats = list()\n",
    "emcee_record_kl = list()\n",
    "emcee_record_time = list()\n",
    "emcee_record_ap = list()\n",
    "\n",
    "for d in dimensions:\n",
    "\n",
    "    # generate the samples \n",
    "    start_time = time.time()\n",
    "    samples_1, samples_2, true_mean, true_cov, ap_1, ap_2 = emcee_sampler(d, nsamples = NSAMPLES_EMCEE)\n",
    "    time_taken = time.time() - start_time\n",
    "\n",
    "    # calculate sample mean and covariance\n",
    "    sample_mean, sample_cov = calculate_mean_cov(np.vstack([samples_1, samples_2]), thin = THIN)\n",
    "\n",
    "    # calculate KL divergence\n",
    "    emcee_kl = compute_kl(sample_mean, true_mean, sample_cov, true_cov)\n",
    "\n",
    "    # record quantities \n",
    "    emcee_record_stats.append(calculate_summary(samples_1, samples_2, 2 * d * NSAMPLES_EMCEE, thin = THIN))\n",
    "    emcee_record_kl.append(emcee_kl)\n",
    "    emcee_record_time.append(time_taken)\n",
    "    emcee_record_ap.append([ap_1.item(), ap_2.item()])\n",
    "\n",
    "    # print value of KL \n",
    "    print(f'KL-divergence is {emcee_kl:.4f}')"
   ]
  },
  {
   "cell_type": "markdown",
   "id": "3ada6fcc",
   "metadata": {},
   "source": [
    "# NUTS"
   ]
  },
  {
   "cell_type": "code",
   "execution_count": 5,
   "id": "b52ef10a",
   "metadata": {},
   "outputs": [],
   "source": [
    "def nuts_model(ndim = 5):\n",
    "    locs = jnp.zeros(ndim)\n",
    "    covs = jnp.eye(ndim)\n",
    "    mvn = dist.MultivariateNormal(loc = locs, covariance_matrix = covs)\n",
    "    numpyro.sample('y', mvn)\n",
    "    return locs, covs"
   ]
  },
  {
   "cell_type": "code",
   "execution_count": 6,
   "id": "5cfac6d4",
   "metadata": {},
   "outputs": [],
   "source": [
    "%%capture\n",
    "def run_nuts(dimension):\n",
    "    \n",
    "    nuts_kernel = NUTS(nuts_model, \n",
    "                       step_size=EPS, \n",
    "                       init_strategy=init_to_median, \n",
    "                       dense_mass=True, \n",
    "                       max_tree_depth=TREEDEPTH)\n",
    "\n",
    "    mcmc = MCMC(nuts_kernel, \n",
    "                num_chains=2, \n",
    "                num_warmup = NWARMUP, \n",
    "                num_samples=NSAMPLES_NUTS, \n",
    "                chain_method=\"vectorized\")\n",
    "    \n",
    "    mcmc.run(jax.random.PRNGKey(random.randint(0, 1000)), \n",
    "             ndim=dimension, \n",
    "             extra_fields=('potential_energy', 'num_steps'))\n",
    "    return mcmc"
   ]
  },
  {
   "cell_type": "code",
   "execution_count": 7,
   "id": "0bcc7867",
   "metadata": {},
   "outputs": [
    {
     "name": "stderr",
     "output_type": "stream",
     "text": [
      "sample: 100%|████████████████████████████████████████████████████████████████████████| 15500/15500 [00:43<00:00, 355.84it/s]\n"
     ]
    },
    {
     "name": "stdout",
     "output_type": "stream",
     "text": [
      "KL-divergence is 0.0131\n"
     ]
    },
    {
     "name": "stderr",
     "output_type": "stream",
     "text": [
      "sample: 100%|████████████████████████████████████████████████████████████████████████| 15500/15500 [00:40<00:00, 382.27it/s]\n"
     ]
    },
    {
     "name": "stdout",
     "output_type": "stream",
     "text": [
      "KL-divergence is 0.0426\n"
     ]
    },
    {
     "name": "stderr",
     "output_type": "stream",
     "text": [
      "sample: 100%|████████████████████████████████████████████████████████████████████████| 15500/15500 [01:02<00:00, 246.22it/s]\n"
     ]
    },
    {
     "name": "stdout",
     "output_type": "stream",
     "text": [
      "KL-divergence is 0.0838\n"
     ]
    },
    {
     "name": "stderr",
     "output_type": "stream",
     "text": [
      "sample: 100%|████████████████████████████████████████████████████████████████████████| 15500/15500 [01:23<00:00, 185.94it/s]\n"
     ]
    },
    {
     "name": "stdout",
     "output_type": "stream",
     "text": [
      "KL-divergence is 0.1571\n"
     ]
    },
    {
     "name": "stderr",
     "output_type": "stream",
     "text": [
      "sample: 100%|████████████████████████████████████████████████████████████████████████| 15500/15500 [01:39<00:00, 156.48it/s]\n"
     ]
    },
    {
     "name": "stdout",
     "output_type": "stream",
     "text": [
      "KL-divergence is 0.2246\n"
     ]
    },
    {
     "name": "stderr",
     "output_type": "stream",
     "text": [
      "sample: 100%|████████████████████████████████████████████████████████████████████████| 15500/15500 [01:46<00:00, 146.12it/s]\n"
     ]
    },
    {
     "name": "stdout",
     "output_type": "stream",
     "text": [
      "KL-divergence is 0.3210\n"
     ]
    },
    {
     "name": "stderr",
     "output_type": "stream",
     "text": [
      "sample: 100%|████████████████████████████████████████████████████████████████████████| 15500/15500 [01:59<00:00, 129.73it/s]\n"
     ]
    },
    {
     "name": "stdout",
     "output_type": "stream",
     "text": [
      "KL-divergence is 0.4270\n"
     ]
    },
    {
     "name": "stderr",
     "output_type": "stream",
     "text": [
      "sample: 100%|████████████████████████████████████████████████████████████████████████| 15500/15500 [02:09<00:00, 119.98it/s]\n"
     ]
    },
    {
     "name": "stdout",
     "output_type": "stream",
     "text": [
      "KL-divergence is 0.5838\n"
     ]
    },
    {
     "name": "stderr",
     "output_type": "stream",
     "text": [
      "sample: 100%|████████████████████████████████████████████████████████████████████████| 15500/15500 [02:34<00:00, 100.14it/s]\n"
     ]
    },
    {
     "name": "stdout",
     "output_type": "stream",
     "text": [
      "KL-divergence is 0.6962\n"
     ]
    },
    {
     "name": "stderr",
     "output_type": "stream",
     "text": [
      "sample: 100%|█████████████████████████████████████████████████████████████████████████| 15500/15500 [03:15<00:00, 79.14it/s]\n"
     ]
    },
    {
     "name": "stdout",
     "output_type": "stream",
     "text": [
      "KL-divergence is 0.8847\n"
     ]
    }
   ],
   "source": [
    "record_nsteps = list()\n",
    "nuts_record_kl = list()\n",
    "nuts_record_stats = list()\n",
    "nuts_record_time = list()\n",
    "nuts_record_ap = list()\n",
    "\n",
    "for d in dimensions:\n",
    "    start_time = time.time()\n",
    "    mcmc = run_nuts(d)\n",
    "    time_taken = time.time() - start_time \n",
    "    samples = np.asarray(mcmc.get_samples()['y'])\n",
    "    samples_grouped = np.asarray(mcmc.get_samples(group_by_chain=True)['y'])\n",
    "    nsteps = mcmc.get_extra_fields(group_by_chain=True)['num_steps']\n",
    "    nevaluations = jnp.sum(nsteps).item()\n",
    "    \n",
    "    # calculate sample mean and covariance \n",
    "    nuts_mean, nuts_cov = calculate_mean_cov(samples, thin = THIN)\n",
    "\n",
    "    # calculate the KL divergence \n",
    "    nuts_kl = compute_kl(nuts_mean, np.zeros(d), nuts_cov, np.eye(d))\n",
    "\n",
    "    # record quantities \n",
    "    nuts_record_stats.append(calculate_summary(samples_grouped[0], samples_grouped[1], nevaluations, thin = THIN))\n",
    "    record_nsteps.append(nsteps)\n",
    "    nuts_record_kl.append(nuts_kl)\n",
    "    nuts_record_time.append(time_taken)\n",
    "    nuts_record_ap.append(mcmc.last_state.mean_accept_prob)\n",
    "\n",
    "    # print KL divergence \n",
    "    print(f'KL-divergence is {nuts_kl:.4f}')"
   ]
  },
  {
   "cell_type": "markdown",
   "id": "e4ba735c",
   "metadata": {},
   "source": [
    "# Compare Results"
   ]
  },
  {
   "cell_type": "code",
   "execution_count": 8,
   "id": "bc78f8bd",
   "metadata": {},
   "outputs": [],
   "source": [
    "def compare_stats(emcee_df, nuts_df):\n",
    "    nexperiments = len(emcee_df)\n",
    "    record_rhat = {'emcee': list(), 'nuts': list()}\n",
    "    record_neff = {'emcee': list(), 'nuts': list()}\n",
    "    for i in range(nexperiments):\n",
    "        emcee_mean_stats = emcee_df[i].mean(0)\n",
    "        nuts_mean_stats = nuts_df[i].mean(0)\n",
    "        record_rhat['emcee'].append(emcee_mean_stats['r_hat'].item())\n",
    "        record_neff['emcee'].append(emcee_mean_stats['n_eff'].item())\n",
    "        record_rhat['nuts'].append(nuts_mean_stats['r_hat'].item())\n",
    "        record_neff['nuts'].append(nuts_mean_stats['n_eff'].item())\n",
    "    return pd.DataFrame(record_rhat, index = dimensions), pd.DataFrame(record_neff, index = dimensions)"
   ]
  },
  {
   "cell_type": "code",
   "execution_count": 9,
   "id": "a31a2395",
   "metadata": {},
   "outputs": [],
   "source": [
    "df_rhat, df_neff = compare_stats(emcee_record_stats, nuts_record_stats)\n",
    "df_kl = pd.DataFrame(np.vstack([emcee_record_kl, nuts_record_kl]).T, columns = ['emcee', 'nuts'], index=dimensions)\n",
    "df_ap = pd.DataFrame(np.vstack([np.mean(emcee_record_ap, 1), np.mean(nuts_record_ap, 1)]).T, columns = ['emcee', 'nuts'], index=dimensions)"
   ]
  },
  {
   "cell_type": "markdown",
   "id": "43178bd5",
   "metadata": {},
   "source": [
    "## Plots"
   ]
  },
  {
   "cell_type": "code",
   "execution_count": 10,
   "id": "09615296",
   "metadata": {},
   "outputs": [
    {
     "data": {
      "image/png": "[encoded data removed]",
      "text/plain": [
       "<Figure size 800x600 with 1 Axes>"
      ]
     },
     "metadata": {},
     "output_type": "display_data"
    }
   ],
   "source": [
    "index = np.arange(len(dimensions))\n",
    "bar_width = 0.20\n",
    "\n",
    "fig, ax = plt.subplots(figsize=figSize)\n",
    "emcee_column = ax.bar(index, df_kl['emcee'], bar_width, label=\"EMCEE\", color = 'darkcyan')\n",
    "nuts_column = ax.bar(index+bar_width, df_kl['nuts'], bar_width, label=\"NUTS\", color = 'darkorange')\n",
    "ax.set_xlabel('Dimensions', fontsize = fontSize)\n",
    "ax.set_ylabel(r'$D_{KL}$', fontsize = fontSize)\n",
    "# ax.set_title('KL Divergence', fontsize = fontSize)\n",
    "ax.set_xticks(index + bar_width / 2)\n",
    "ax.set_xticklabels(dimensions)\n",
    "ax.set_yscale('log')\n",
    "ax.legend(loc = 'upper left',prop={'family':'sans-serif', 'size':15})\n",
    "plt.tick_params(axis='x', labelsize=fontSize)\n",
    "plt.tick_params(axis='y', labelsize=fontSize)\n",
    "# plt.savefig('mvn/kl.pdf', bbox_inches = 'tight')\n",
    "plt.show()"
   ]
  },
  {
   "cell_type": "code",
   "execution_count": 11,
   "id": "dcf5ee62",
   "metadata": {},
   "outputs": [
    {
     "data": {
      "image/png": "[encoded data removed]",
      "text/plain": [
       "<Figure size 800x600 with 1 Axes>"
      ]
     },
     "metadata": {},
     "output_type": "display_data"
    }
   ],
   "source": [
    "fig, ax = plt.subplots(figsize=figSize)\n",
    "emcee_column = ax.bar(index, df_rhat['emcee'], bar_width, label=\"EMCEE\", color = 'darkcyan')\n",
    "nuts_column = ax.bar(index+bar_width, df_rhat['nuts'], bar_width, label=\"NUTS\", color = 'darkorange')\n",
    "ax.set_xlabel('Dimensions', fontsize = fontSize)\n",
    "ax.set_ylabel(r'$\\langle \\hat{R} \\rangle$', fontsize = fontSize)\n",
    "# ax.set_title('Gelman-Rubin Statistics', fontsize = fontSize)\n",
    "ax.set_xticks(index + bar_width / 2)\n",
    "ax.set_xticklabels(dimensions)\n",
    "# ax.set_yscale('log')\n",
    "ax.legend(loc = 'upper left',prop={'family':'sans-serif', 'size':15})\n",
    "plt.tick_params(axis='x', labelsize=fontSize)\n",
    "plt.tick_params(axis='y', labelsize=fontSize)\n",
    "# plt.savefig('mvn/gr.pdf', bbox_inches = 'tight')\n",
    "plt.show()"
   ]
  },
  {
   "cell_type": "code",
   "execution_count": 12,
   "id": "80381225",
   "metadata": {},
   "outputs": [
    {
     "data": {
      "image/png": "[encoded data removed]",
      "text/plain": [
       "<Figure size 800x600 with 1 Axes>"
      ]
     },
     "metadata": {},
     "output_type": "display_data"
    }
   ],
   "source": [
    "fig, ax = plt.subplots(figsize=figSize)\n",
    "emcee_column = ax.bar(index, df_neff['emcee'], bar_width, label=\"EMCEE\", color = 'darkcyan')\n",
    "nuts_column = ax.bar(index+bar_width, df_neff['nuts'], bar_width, label=\"NUTS\", color = 'darkorange')\n",
    "ax.set_xlabel('Dimensions', fontsize = fontSize)\n",
    "ax.set_ylabel(r'$N_{eff}$', fontsize = fontSize)\n",
    "# ax.set_title('Scaled Effective Sample Size', fontsize = fontSize)\n",
    "ax.set_xticks(index + bar_width / 2)\n",
    "ax.set_xticklabels(dimensions)\n",
    "# ax.set_yscale('log')\n",
    "ax.legend(loc = 'upper right',prop={'family':'sans-serif', 'size':15})\n",
    "plt.tick_params(axis='x', labelsize=fontSize)\n",
    "plt.tick_params(axis='y', labelsize=fontSize)\n",
    "# plt.savefig('mvn/neff.pdf', bbox_inches = 'tight')\n",
    "plt.show()"
   ]
  },
  {
   "cell_type": "code",
   "execution_count": 13,
   "id": "7110d10a",
   "metadata": {},
   "outputs": [
    {
     "data": {
      "image/png": "[encoded data removed]",
      "text/plain": [
       "<Figure size 800x600 with 1 Axes>"
      ]
     },
     "metadata": {},
     "output_type": "display_data"
    }
   ],
   "source": [
    "fig, ax = plt.subplots(figsize=figSize)\n",
    "emcee_column = ax.bar(index, df_ap['emcee'], bar_width, label=\"EMCEE\", color = 'darkcyan')\n",
    "nuts_column = ax.bar(index+bar_width, df_ap['nuts'], bar_width, label=\"NUTS\", color = 'darkorange')\n",
    "ax.set_xlabel('Dimensions', fontsize = fontSize)\n",
    "ax.set_ylabel(r'$r$', fontsize = fontSize)\n",
    "# ax.set_title('Acceptance Probability', fontsize = fontSize)\n",
    "ax.set_xticks(index + bar_width / 2)\n",
    "ax.set_xticklabels(dimensions)\n",
    "# ax.set_yscale('log')\n",
    "ax.legend(loc = 'upper right',prop={'family':'sans-serif', 'size':15})\n",
    "plt.tick_params(axis='x', labelsize=fontSize)\n",
    "plt.tick_params(axis='y', labelsize=fontSize)\n",
    "# plt.savefig('mvn/ap.pdf', bbox_inches = 'tight')\n",
    "plt.show()"
   ]
  },
  {
   "cell_type": "code",
   "execution_count": 14,
   "id": "3f509d23",
   "metadata": {},
   "outputs": [
    {
     "data": {
      "image/png": "[encoded data removed]",
      "text/plain": [
       "<Figure size 800x600 with 1 Axes>"
      ]
     },
     "metadata": {},
     "output_type": "display_data"
    }
   ],
   "source": [
    "fig, ax = plt.subplots(figsize=figSize)\n",
    "# conversion from seconds to minutes, hence factor of 60\n",
    "emcee_column = ax.bar(index, np.asarray(emcee_record_time) / 60, bar_width, label=\"EMCEE\", color = 'darkcyan')\n",
    "nuts_column = ax.bar(index+bar_width, np.asarray(nuts_record_time) / 60, bar_width, label=\"NUTS\", color = 'darkorange')\n",
    "ax.set_xlabel('Dimensions', fontsize = fontSize)\n",
    "ax.set_ylabel(r'$T (\\textrm{min})$', fontsize = fontSize)\n",
    "# ax.set_title('Time taken (2 chains)', fontsize = fontSize)\n",
    "ax.set_xticks(index + bar_width / 2)\n",
    "ax.set_xticklabels(dimensions)\n",
    "# ax.set_yscale('log')\n",
    "ax.legend(loc = 'upper left',prop={'family':'sans-serif', 'size':15})\n",
    "plt.tick_params(axis='x', labelsize=fontSize)\n",
    "plt.tick_params(axis='y', labelsize=fontSize)\n",
    "# plt.savefig('mvn/time.pdf', bbox_inches = 'tight')\n",
    "plt.show()"
   ]
  },
  {
   "cell_type": "code",
   "execution_count": 15,
   "id": "7c10303a",
   "metadata": {},
   "outputs": [],
   "source": [
    "nuts_nlike = np.sum(record_nsteps, 2).sum(1)\n",
    "emcee_nlike = np.vstack([dimensions * 2 * NSAMPLES_EMCEE] * 2).T.sum(1)"
   ]
  },
  {
   "cell_type": "code",
   "execution_count": 16,
   "id": "290c5d91",
   "metadata": {},
   "outputs": [
    {
     "data": {
      "image/png": "[encoded data removed]",
      "text/plain": [
       "<Figure size 800x600 with 1 Axes>"
      ]
     },
     "metadata": {},
     "output_type": "display_data"
    }
   ],
   "source": [
    "fig, ax = plt.subplots(figsize=figSize)\n",
    "emcee_column = ax.bar(index, emcee_nlike, bar_width, label=\"EMCEE $(N_{samples})$\", color = 'darkcyan')\n",
    "nuts_column = ax.bar(index+bar_width, nuts_nlike + 2 * NSAMPLES_NUTS, bar_width, label=\"NUTS $(N_{steps} + N_{samples})$\", color = 'darkorange')\n",
    "ax.set_xlabel('Dimensions', fontsize = fontSize)\n",
    "ax.set_ylabel(r'$N_{\\mathcal{L}}$', fontsize = fontSize)\n",
    "# ax.set_title('Number of likelihood evaluations (2 chains)', fontsize = fontSize)\n",
    "ax.set_xticks(index + bar_width / 2)\n",
    "ax.set_xticklabels(dimensions)\n",
    "ax.set_yscale('log')\n",
    "ax.legend(loc = 'upper left',prop={'family':'sans-serif', 'size':15})\n",
    "plt.tick_params(axis='x', labelsize=fontSize)\n",
    "plt.tick_params(axis='y', labelsize=fontSize)\n",
    "# plt.savefig('mvn/nlike.pdf', bbox_inches = 'tight')\n",
    "plt.show()"
   ]
  },
  {
   "cell_type": "markdown",
   "id": "67b4dc0b",
   "metadata": {},
   "source": [
    "### High Effective Sample Size\n",
    "\n",
    "https://stats.stackexchange.com/questions/296059/effective-sample-size-greater-than-actual-sample-size\n",
    "\n",
    "If the estimated effective sample size is larger than the number of samples, this likely means that there is negative estimated autocorrelation in your samples. If you run an acf on your samples, you will most certainly find negative correlation."
   ]
  },
  {
   "cell_type": "code",
   "execution_count": 17,
   "id": "41a12b1b",
   "metadata": {},
   "outputs": [],
   "source": [
    "from numpyro.diagnostics import autocorrelation"
   ]
  },
  {
   "cell_type": "code",
   "execution_count": 18,
   "id": "71eb6984",
   "metadata": {},
   "outputs": [],
   "source": [
    "x_original_1 = samples_grouped[0][:,0]\n",
    "x_original_2 = samples_grouped[1][:,0]"
   ]
  },
  {
   "cell_type": "code",
   "execution_count": 19,
   "id": "9ba2184a",
   "metadata": {},
   "outputs": [
    {
     "name": "stdout",
     "output_type": "stream",
     "text": [
      "1.0414223547922954\n"
     ]
    }
   ],
   "source": [
    "test = np.vstack([x_original_1, x_original_2])\n",
    "print(summary(test)['Param:0']['n_eff'] / (x_original_1.shape[0] + x_original_2.shape[0]))"
   ]
  },
  {
   "cell_type": "code",
   "execution_count": 20,
   "id": "3a26376c",
   "metadata": {},
   "outputs": [
    {
     "data": {
      "image/png": "[encoded data removed]",
      "text/plain": [
       "<Figure size 400x300 with 1 Axes>"
      ]
     },
     "metadata": {},
     "output_type": "display_data"
    }
   ],
   "source": [
    "plt.figure(figsize=(4,3))\n",
    "plt.hist(autocorrelation(x_original_1), density = True, bins = 20)\n",
    "plt.hist(autocorrelation(x_original_2), histtype = 'step', density = True, bins = 20)\n",
    "plt.show()"
   ]
  },
  {
   "cell_type": "code",
   "execution_count": 21,
   "id": "630020b0",
   "metadata": {},
   "outputs": [
    {
     "name": "stdout",
     "output_type": "stream",
     "text": [
      "0.8441328634707929\n",
      "0.8486249549305513\n",
      "0.9574020565491981\n",
      "0.8314202301029179\n",
      "1.0101931170237082\n",
      "0.9416588515304802\n",
      "1.0836029821806552\n",
      "0.967760559728489\n",
      "0.9438408968784625\n",
      "1.0190335460415962\n"
     ]
    }
   ],
   "source": [
    "for t in np.arange(2, 22, 2):\n",
    "    x1 = x_original_1[0::t]\n",
    "    x2 = x_original_2[0::t]\n",
    "    test = np.vstack([x1, x2])\n",
    "    print(summary(test)['Param:0']['n_eff'] / (x1.shape[0] + x2.shape[0]))"
   ]
  },
  {
   "cell_type": "code",
   "execution_count": null,
   "id": "e60f4f86",
   "metadata": {},
   "outputs": [],
   "source": []
  }
 ],
 "metadata": {
  "kernelspec": {
   "display_name": "Python 3 (ipykernel)",
   "language": "python",
   "name": "python3"
  },
  "language_info": {
   "codemirror_mode": {
    "name": "ipython",
    "version": 3
   },
   "file_extension": ".py",
   "mimetype": "text/x-python",
   "name": "python",
   "nbconvert_exporter": "python",
   "pygments_lexer": "ipython3",
   "version": "3.9.18"
  }
 },
 "nbformat": 4,
 "nbformat_minor": 5
}
