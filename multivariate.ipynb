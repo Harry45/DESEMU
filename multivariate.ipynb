{
 "cells": [
  {
   "cell_type": "code",
   "execution_count": 1,
   "id": "b3de86c5",
   "metadata": {},
   "outputs": [
    {
     "name": "stdout",
     "output_type": "stream",
     "text": [
      "env: XLA_PYTHON_CLIENT_PREALLOCATE=false\n"
     ]
    }
   ],
   "source": [
    "import os \n",
    "import numpy as np \n",
    "import emcee \n",
    "import time\n",
    "import pandas as pd\n",
    "import matplotlib.pylab as plt \n",
    "\n",
    "# NUTS\n",
    "from numpyro.diagnostics import summary\n",
    "import jax\n",
    "import jax.numpy as jnp \n",
    "import numpyro\n",
    "import numpyro.distributions as dist\n",
    "from numpyro.infer import MCMC, HMC, NUTS, init_to_median\n",
    "from numpyro.handlers import seed\n",
    "\n",
    "os.makedirs('mvn', exist_ok=True)\n",
    "plt.rc('text', usetex=True)\n",
    "plt.rc('font',**{'family':'sans-serif','serif':['Palatino']})\n",
    "figSize  = (8,6)\n",
    "fontSize = 20\n",
    "\n",
    "%env XLA_PYTHON_CLIENT_PREALLOCATE=false\n",
    "\n",
    "# os.environ[\"XLA_PYTHON_CLIENT_PREALLOCATE\"]='false'\n",
    "# os.environ[\"XLA_PYTHON_CLIENT_MEM_FRACTION\"]='.10'"
   ]
  },
  {
   "cell_type": "code",
   "execution_count": 2,
   "id": "33bc540a",
   "metadata": {},
   "outputs": [],
   "source": [
    "dimensions = np.arange(1, 11, 1, dtype = int) * 10\n",
    "\n",
    "EPS = 0.01\n",
    "NWARMUP = 500 \n",
    "TREEDEPTH = 8 \n",
    "NSAMPLES_NUTS = 15000\n",
    "NSAMPLES_EMCEE = 1500"
   ]
  },
  {
   "cell_type": "markdown",
   "id": "a84c6f8c",
   "metadata": {},
   "source": [
    "# Sample Multivariate Normal with EMCEE"
   ]
  },
  {
   "cell_type": "code",
   "execution_count": 3,
   "id": "c6af75d4",
   "metadata": {},
   "outputs": [],
   "source": [
    "def emcee_log_prob(position, mean, covariance):\n",
    "    diff = position - mean\n",
    "    return -0.5 * np.dot(diff, np.linalg.solve(covariance, diff))\n",
    "    \n",
    "def emcee_sampler(ndim, nsamples = 10000):\n",
    "    mean = np.zeros(ndim)\n",
    "    cov = np.eye(ndim)\n",
    "    nwalkers = 2 * ndim \n",
    "    initial_1 = np.random.rand(nwalkers, ndim)\n",
    "    initial_2 = np.random.rand(nwalkers, ndim)\n",
    "\n",
    "    # we use two samplers (to compute the Gelman-Rubin statistics)\n",
    "    sampler_1 = emcee.EnsembleSampler(nwalkers, ndim, emcee_log_prob, args=[mean, cov])\n",
    "    runsampler_1 = sampler_1.run_mcmc(initial_1, nsamples, progress = True)\n",
    "    samples_1 = sampler_1.flatchain\n",
    "    ap_1 = np.mean(sampler_1.acceptance_fraction)\n",
    "\n",
    "    sampler_2 = emcee.EnsembleSampler(nwalkers, ndim, emcee_log_prob, args=[mean, cov])\n",
    "    runsampler_2 = sampler_2.run_mcmc(initial_2, nsamples, progress = True)\n",
    "    samples_2 = sampler_2.flatchain\n",
    "    ap_2 = np.mean(sampler_2.acceptance_fraction)\n",
    "\n",
    "    # return samples_1[::nwalkers], samples_2[::nwalkers], mean, cov, ap_1, ap_2\n",
    "    return samples_1, samples_2, mean, cov, ap_1, ap_2\n",
    "\n",
    "def calculate_mean_cov(samples):\n",
    "    \"\"\"\n",
    "    The input is of shape N x p, where N is the number of samples and p is the number of dimensions. \n",
    "    \"\"\"\n",
    "    sample_mean = np.mean(samples, axis = 0)\n",
    "    sample_cov = np.cov(samples.T)\n",
    "    return sample_mean, sample_cov\n",
    "\n",
    "def calculate_summary(samples_1, samples_2, nlike, ndecimal = 3):\n",
    "    record = []\n",
    "    for i in range(samples_1.shape[1]):\n",
    "        testsamples = np.vstack(([samples_1[:,i], samples_2[:,i]]))\n",
    "        summary_stats = summary(testsamples)\n",
    "        summary_stats[f'p_{i}'] = summary_stats.pop('Param:0')\n",
    "        record.append(summary_stats)\n",
    "\n",
    "    record_df = []\n",
    "    for i in range(len(record)):\n",
    "        record_df.append(pd.DataFrame(record[i]).round(ndecimal).loc[['r_hat', 'n_eff', 'mean', 'std']])\n",
    "\n",
    "    record_df = pd.concat(record_df, axis = 1).T\n",
    "    record_df['n_eff'] /= (samples_1.shape[0] + samples_2.shape[0]) # nlike\n",
    "    return record_df\n",
    "    \n",
    "def compute_kl(mean0, mean1, cov0, cov1):\n",
    "    cov1_inv = np.linalg.inv(cov1)\n",
    "    ndim = cov1.shape[0]\n",
    "    term1 = np.trace(cov1_inv @ cov0) - ndim \n",
    "    term2 = (mean1 - mean0) @ cov1_inv @ (mean1 - mean0)\n",
    "    sign0, logdet0 = np.linalg.slogdet(cov0)\n",
    "    sign1, logdet1 = np.linalg.slogdet(cov1)\n",
    "    term3 = sign1 * logdet1 - sign0 * logdet0 \n",
    "    return 0.5*(term1 + term2 + term3)"
   ]
  },
  {
   "cell_type": "code",
   "execution_count": 4,
   "id": "13149524",
   "metadata": {},
   "outputs": [
    {
     "name": "stderr",
     "output_type": "stream",
     "text": [
      "100%|█████████████████████████████████████████████████████████████████████████████████| 1500/1500 [00:00<00:00, 2223.58it/s]\n",
      "100%|█████████████████████████████████████████████████████████████████████████████████| 1500/1500 [00:00<00:00, 2212.02it/s]\n"
     ]
    },
    {
     "name": "stdout",
     "output_type": "stream",
     "text": [
      "KL-divergence is 0.0576\n"
     ]
    },
    {
     "name": "stderr",
     "output_type": "stream",
     "text": [
      "100%|█████████████████████████████████████████████████████████████████████████████████| 1500/1500 [00:01<00:00, 1073.57it/s]\n",
      "100%|█████████████████████████████████████████████████████████████████████████████████| 1500/1500 [00:01<00:00, 1047.07it/s]\n"
     ]
    },
    {
     "name": "stdout",
     "output_type": "stream",
     "text": [
      "KL-divergence is 0.3083\n"
     ]
    },
    {
     "name": "stderr",
     "output_type": "stream",
     "text": [
      "100%|██████████████████████████████████████████████████████████████████████████████████| 1500/1500 [00:02<00:00, 611.64it/s]\n",
      "100%|██████████████████████████████████████████████████████████████████████████████████| 1500/1500 [00:02<00:00, 610.57it/s]\n"
     ]
    },
    {
     "name": "stdout",
     "output_type": "stream",
     "text": [
      "KL-divergence is 0.7300\n"
     ]
    },
    {
     "name": "stderr",
     "output_type": "stream",
     "text": [
      "100%|██████████████████████████████████████████████████████████████████████████████████| 1500/1500 [00:03<00:00, 400.17it/s]\n",
      "100%|██████████████████████████████████████████████████████████████████████████████████| 1500/1500 [00:04<00:00, 340.26it/s]\n"
     ]
    },
    {
     "name": "stdout",
     "output_type": "stream",
     "text": [
      "KL-divergence is 1.6135\n"
     ]
    },
    {
     "name": "stderr",
     "output_type": "stream",
     "text": [
      "100%|██████████████████████████████████████████████████████████████████████████████████| 1500/1500 [00:06<00:00, 230.16it/s]\n",
      "100%|██████████████████████████████████████████████████████████████████████████████████| 1500/1500 [00:06<00:00, 228.35it/s]\n"
     ]
    },
    {
     "name": "stdout",
     "output_type": "stream",
     "text": [
      "KL-divergence is 2.8531\n"
     ]
    },
    {
     "name": "stderr",
     "output_type": "stream",
     "text": [
      "100%|██████████████████████████████████████████████████████████████████████████████████| 1500/1500 [00:09<00:00, 161.00it/s]\n",
      "100%|██████████████████████████████████████████████████████████████████████████████████| 1500/1500 [00:09<00:00, 157.41it/s]\n"
     ]
    },
    {
     "name": "stdout",
     "output_type": "stream",
     "text": [
      "KL-divergence is 4.3707\n"
     ]
    },
    {
     "name": "stderr",
     "output_type": "stream",
     "text": [
      "100%|██████████████████████████████████████████████████████████████████████████████████| 1500/1500 [00:14<00:00, 106.56it/s]\n",
      "100%|██████████████████████████████████████████████████████████████████████████████████| 1500/1500 [00:13<00:00, 113.12it/s]\n"
     ]
    },
    {
     "name": "stdout",
     "output_type": "stream",
     "text": [
      "KL-divergence is 6.3659\n"
     ]
    },
    {
     "name": "stderr",
     "output_type": "stream",
     "text": [
      "100%|███████████████████████████████████████████████████████████████████████████████████| 1500/1500 [00:18<00:00, 81.95it/s]\n",
      "100%|███████████████████████████████████████████████████████████████████████████████████| 1500/1500 [00:17<00:00, 83.58it/s]\n"
     ]
    },
    {
     "name": "stdout",
     "output_type": "stream",
     "text": [
      "KL-divergence is 8.3292\n"
     ]
    },
    {
     "name": "stderr",
     "output_type": "stream",
     "text": [
      "100%|███████████████████████████████████████████████████████████████████████████████████| 1500/1500 [00:23<00:00, 63.61it/s]\n",
      "100%|███████████████████████████████████████████████████████████████████████████████████| 1500/1500 [00:22<00:00, 68.04it/s]\n"
     ]
    },
    {
     "name": "stdout",
     "output_type": "stream",
     "text": [
      "KL-divergence is 9.7374\n"
     ]
    },
    {
     "name": "stderr",
     "output_type": "stream",
     "text": [
      "100%|███████████████████████████████████████████████████████████████████████████████████| 1500/1500 [00:32<00:00, 45.81it/s]\n",
      "100%|███████████████████████████████████████████████████████████████████████████████████| 1500/1500 [00:32<00:00, 46.79it/s]\n"
     ]
    },
    {
     "name": "stdout",
     "output_type": "stream",
     "text": [
      "KL-divergence is 12.7300\n"
     ]
    }
   ],
   "source": [
    "\n",
    "emcee_record_stats = list()\n",
    "emcee_record_kl = list()\n",
    "emcee_record_time = list()\n",
    "emcee_record_ap = list()\n",
    "\n",
    "for d in dimensions:\n",
    "\n",
    "    # generate the samples \n",
    "    start_time = time.time()\n",
    "    samples_1, samples_2, true_mean, true_cov, ap_1, ap_2 = emcee_sampler(d, nsamples = NSAMPLES_EMCEE)\n",
    "    time_taken = time.time() - start_time\n",
    "\n",
    "    # calculate sample mean and covariance\n",
    "    sample_mean, sample_cov = calculate_mean_cov(np.vstack([samples_1, samples_2]))\n",
    "\n",
    "    # calculate KL divergence\n",
    "    emcee_kl = compute_kl(sample_mean, true_mean, sample_cov, true_cov)\n",
    "\n",
    "    # record quantities \n",
    "    emcee_record_stats.append(calculate_summary(samples_1, samples_2, 2 * d * NSAMPLES_EMCEE))\n",
    "    emcee_record_kl.append(emcee_kl)\n",
    "    emcee_record_time.append(time_taken)\n",
    "    emcee_record_ap.append([ap_1.item(), ap_2.item()])\n",
    "\n",
    "    # print value of KL \n",
    "    print(f'KL-divergence is {emcee_kl:.4f}')"
   ]
  },
  {
   "cell_type": "markdown",
   "id": "9aed38b8",
   "metadata": {},
   "source": [
    "# NUTS"
   ]
  },
  {
   "cell_type": "code",
   "execution_count": 5,
   "id": "44eb47c2",
   "metadata": {},
   "outputs": [],
   "source": [
    "def nuts_model(ndim = 5):\n",
    "    locs = jnp.zeros(ndim)\n",
    "    covs = jnp.eye(ndim)\n",
    "    mvn = dist.MultivariateNormal(loc = locs, covariance_matrix = covs)\n",
    "    numpyro.sample('y', mvn)\n",
    "    return locs, covs"
   ]
  },
  {
   "cell_type": "code",
   "execution_count": 6,
   "id": "9454cd55",
   "metadata": {},
   "outputs": [],
   "source": [
    "%%capture\n",
    "nuts_kernel = NUTS(nuts_model, \n",
    "                   step_size=EPS, \n",
    "                   init_strategy=init_to_median, \n",
    "                   dense_mass=True, \n",
    "                   max_tree_depth=TREEDEPTH)\n",
    "\n",
    "mcmc = MCMC(nuts_kernel, num_chains=2, num_warmup = NWARMUP, num_samples=NSAMPLES_NUTS)"
   ]
  },
  {
   "cell_type": "code",
   "execution_count": 7,
   "id": "3c96bb6a",
   "metadata": {},
   "outputs": [
    {
     "name": "stderr",
     "output_type": "stream",
     "text": [
      "sample: 100%|██████████████████████████████| 15500/15500 [00:39<00:00, 389.92it/s, 7 steps of size 6.24e-01. acc. prob=0.91]\n",
      "sample: 100%|██████████████████████████████| 15500/15500 [00:38<00:00, 401.60it/s, 7 steps of size 6.42e-01. acc. prob=0.90]\n"
     ]
    },
    {
     "name": "stdout",
     "output_type": "stream",
     "text": [
      "KL-divergence is 0.0016\n"
     ]
    },
    {
     "name": "stderr",
     "output_type": "stream",
     "text": [
      "sample: 100%|██████████████████████████████| 15500/15500 [00:42<00:00, 364.93it/s, 7 steps of size 5.23e-01. acc. prob=0.91]\n",
      "sample: 100%|██████████████████████████████| 15500/15500 [00:42<00:00, 364.06it/s, 7 steps of size 6.44e-01. acc. prob=0.87]\n"
     ]
    },
    {
     "name": "stdout",
     "output_type": "stream",
     "text": [
      "KL-divergence is 0.0075\n"
     ]
    },
    {
     "name": "stderr",
     "output_type": "stream",
     "text": [
      "sample: 100%|██████████████████████████████| 15500/15500 [00:53<00:00, 289.06it/s, 7 steps of size 5.07e-01. acc. prob=0.89]\n",
      "sample: 100%|██████████████████████████████| 15500/15500 [00:46<00:00, 336.45it/s, 7 steps of size 5.73e-01. acc. prob=0.85]\n"
     ]
    },
    {
     "name": "stdout",
     "output_type": "stream",
     "text": [
      "KL-divergence is 0.0135\n"
     ]
    },
    {
     "name": "stderr",
     "output_type": "stream",
     "text": [
      "sample: 100%|██████████████████████████████| 15500/15500 [00:54<00:00, 286.02it/s, 7 steps of size 5.04e-01. acc. prob=0.87]\n",
      "sample: 100%|█████████████████████████████| 15500/15500 [00:59<00:00, 259.59it/s, 15 steps of size 4.71e-01. acc. prob=0.88]\n"
     ]
    },
    {
     "name": "stdout",
     "output_type": "stream",
     "text": [
      "KL-divergence is 0.0231\n"
     ]
    },
    {
     "name": "stderr",
     "output_type": "stream",
     "text": [
      "sample: 100%|█████████████████████████████| 15500/15500 [01:17<00:00, 199.28it/s, 15 steps of size 4.43e-01. acc. prob=0.89]\n",
      "sample: 100%|█████████████████████████████| 15500/15500 [01:12<00:00, 214.13it/s, 15 steps of size 4.58e-01. acc. prob=0.87]\n"
     ]
    },
    {
     "name": "stdout",
     "output_type": "stream",
     "text": [
      "KL-divergence is 0.0352\n"
     ]
    },
    {
     "name": "stderr",
     "output_type": "stream",
     "text": [
      "sample: 100%|█████████████████████████████| 15500/15500 [01:15<00:00, 205.14it/s, 15 steps of size 4.84e-01. acc. prob=0.85]\n",
      "sample: 100%|██████████████████████████████| 15500/15500 [01:20<00:00, 192.77it/s, 7 steps of size 4.44e-01. acc. prob=0.88]\n"
     ]
    },
    {
     "name": "stdout",
     "output_type": "stream",
     "text": [
      "KL-divergence is 0.0477\n"
     ]
    },
    {
     "name": "stderr",
     "output_type": "stream",
     "text": [
      "sample: 100%|█████████████████████████████| 15500/15500 [01:31<00:00, 169.67it/s, 15 steps of size 4.18e-01. acc. prob=0.88]\n",
      "sample: 100%|█████████████████████████████| 15500/15500 [01:25<00:00, 181.12it/s, 15 steps of size 4.70e-01. acc. prob=0.84]\n"
     ]
    },
    {
     "name": "stdout",
     "output_type": "stream",
     "text": [
      "KL-divergence is 0.0655\n"
     ]
    },
    {
     "name": "stderr",
     "output_type": "stream",
     "text": [
      "sample: 100%|█████████████████████████████| 15500/15500 [01:32<00:00, 166.80it/s, 15 steps of size 4.52e-01. acc. prob=0.84]\n",
      "sample: 100%|█████████████████████████████| 15500/15500 [01:31<00:00, 168.80it/s, 15 steps of size 4.46e-01. acc. prob=0.84]\n"
     ]
    },
    {
     "name": "stdout",
     "output_type": "stream",
     "text": [
      "KL-divergence is 0.0797\n"
     ]
    },
    {
     "name": "stderr",
     "output_type": "stream",
     "text": [
      "sample: 100%|█████████████████████████████| 15500/15500 [01:59<00:00, 129.70it/s, 15 steps of size 3.88e-01. acc. prob=0.87]\n",
      "sample: 100%|█████████████████████████████| 15500/15500 [01:50<00:00, 139.81it/s, 15 steps of size 4.04e-01. acc. prob=0.86]\n"
     ]
    },
    {
     "name": "stdout",
     "output_type": "stream",
     "text": [
      "KL-divergence is 0.0996\n"
     ]
    },
    {
     "name": "stderr",
     "output_type": "stream",
     "text": [
      "sample: 100%|█████████████████████████████| 15500/15500 [02:13<00:00, 116.28it/s, 31 steps of size 3.87e-01. acc. prob=0.86]\n",
      "sample: 100%|█████████████████████████████| 15500/15500 [02:08<00:00, 120.90it/s, 15 steps of size 4.24e-01. acc. prob=0.84]\n"
     ]
    },
    {
     "name": "stdout",
     "output_type": "stream",
     "text": [
      "KL-divergence is 0.1164\n"
     ]
    }
   ],
   "source": [
    "record_nsteps = list()\n",
    "nuts_record_kl = list()\n",
    "nuts_record_stats = list()\n",
    "nuts_record_time = list()\n",
    "nuts_record_ap = list()\n",
    "\n",
    "for d in dimensions:\n",
    "    start_time = time.time()\n",
    "    mcmc.run(jax.random.PRNGKey(0), ndim=d, extra_fields=('potential_energy', 'num_steps'))\n",
    "    time_taken = time.time() - start_time \n",
    "    samples = np.asarray(mcmc.get_samples()['y'])\n",
    "    samples_grouped = np.asarray(mcmc.get_samples(group_by_chain=True)['y'])\n",
    "    nsteps = mcmc.get_extra_fields(group_by_chain=True)['num_steps']\n",
    "    nevaluations = jnp.sum(nsteps).item()\n",
    "    \n",
    "    # calculate sample mean and covariance \n",
    "    nuts_mean, nuts_cov = calculate_mean_cov(samples)\n",
    "\n",
    "    # calculate the KL divergence \n",
    "    nuts_kl = compute_kl(nuts_mean, np.zeros(d), nuts_cov, np.eye(d))\n",
    "\n",
    "    # record quantities \n",
    "    nuts_record_stats.append(calculate_summary(samples_grouped[0], samples_grouped[1], nevaluations))\n",
    "    record_nsteps.append(nsteps)\n",
    "    nuts_record_kl.append(nuts_kl)\n",
    "    nuts_record_time.append(time_taken)\n",
    "    nuts_record_ap.append(mcmc.last_state.mean_accept_prob)\n",
    "\n",
    "    # print KL divergence \n",
    "    print(f'KL-divergence is {nuts_kl:.4f}')"
   ]
  },
  {
   "cell_type": "markdown",
   "id": "4124c454",
   "metadata": {},
   "source": [
    "# Compare Results"
   ]
  },
  {
   "cell_type": "code",
   "execution_count": 8,
   "id": "67648fa7",
   "metadata": {},
   "outputs": [],
   "source": [
    "def compare_stats(emcee_df, nuts_df):\n",
    "    nexperiments = len(emcee_df)\n",
    "    record_rhat = {'emcee': list(), 'nuts': list()}\n",
    "    record_neff = {'emcee': list(), 'nuts': list()}\n",
    "    for i in range(nexperiments):\n",
    "        emcee_mean_stats = emcee_df[i].mean(0)\n",
    "        nuts_mean_stats = nuts_df[i].mean(0)\n",
    "        record_rhat['emcee'].append(emcee_mean_stats['r_hat'].item())\n",
    "        record_neff['emcee'].append(emcee_mean_stats['n_eff'].item())\n",
    "        record_rhat['nuts'].append(nuts_mean_stats['r_hat'].item())\n",
    "        record_neff['nuts'].append(nuts_mean_stats['n_eff'].item())\n",
    "    return pd.DataFrame(record_rhat, index = dimensions), pd.DataFrame(record_neff, index = dimensions)"
   ]
  },
  {
   "cell_type": "code",
   "execution_count": 9,
   "id": "7c80def0",
   "metadata": {},
   "outputs": [],
   "source": [
    "df_rhat, df_neff = compare_stats(emcee_record_stats, nuts_record_stats)\n",
    "df_kl = pd.DataFrame(np.vstack([emcee_record_kl, nuts_record_kl]).T, columns = ['emcee', 'nuts'], index=dimensions)\n",
    "df_ap = pd.DataFrame(np.vstack([np.mean(emcee_record_ap, 1), np.mean(nuts_record_ap, 1)]).T, columns = ['emcee', 'nuts'], index=dimensions)"
   ]
  },
  {
   "cell_type": "markdown",
   "id": "0997adfc",
   "metadata": {},
   "source": [
    "## Plots"
   ]
  },
  {
   "cell_type": "code",
   "execution_count": 10,
   "id": "4303ff1a",
   "metadata": {},
   "outputs": [
    {
     "data": {
      "image/png": "[encoded data removed]",
      "text/plain": [
       "<Figure size 800x600 with 1 Axes>"
      ]
     },
     "metadata": {},
     "output_type": "display_data"
    }
   ],
   "source": [
    "index = np.arange(len(dimensions))\n",
    "bar_width = 0.20\n",
    "\n",
    "fig, ax = plt.subplots(figsize=figSize)\n",
    "emcee_column = ax.bar(index, df_kl['emcee'], bar_width, label=\"EMCEE\", color = 'darkcyan')\n",
    "nuts_column = ax.bar(index+bar_width, df_kl['nuts'], bar_width, label=\"NUTS\", color = 'darkorange')\n",
    "ax.set_xlabel('Dimensions', fontsize = fontSize)\n",
    "ax.set_ylabel(r'$D_{KL}$', fontsize = fontSize)\n",
    "# ax.set_title('KL Divergence', fontsize = fontSize)\n",
    "ax.set_xticks(index + bar_width / 2)\n",
    "ax.set_xticklabels(dimensions)\n",
    "ax.set_yscale('log')\n",
    "ax.legend(loc = 'upper left',prop={'family':'sans-serif', 'size':15})\n",
    "plt.tick_params(axis='x', labelsize=fontSize)\n",
    "plt.tick_params(axis='y', labelsize=fontSize)\n",
    "# plt.savefig('mvn/kl.pdf', bbox_inches = 'tight')\n",
    "plt.show()"
   ]
  },
  {
   "cell_type": "code",
   "execution_count": 11,
   "id": "c55fce7b",
   "metadata": {},
   "outputs": [
    {
     "data": {
      "image/png": "[encoded data removed]",
      "text/plain": [
       "<Figure size 800x600 with 1 Axes>"
      ]
     },
     "metadata": {},
     "output_type": "display_data"
    }
   ],
   "source": [
    "fig, ax = plt.subplots(figsize=figSize)\n",
    "emcee_column = ax.bar(index, df_rhat['emcee'], bar_width, label=\"EMCEE\", color = 'darkcyan')\n",
    "nuts_column = ax.bar(index+bar_width, df_rhat['nuts'], bar_width, label=\"NUTS\", color = 'darkorange')\n",
    "ax.set_xlabel('Dimensions', fontsize = fontSize)\n",
    "ax.set_ylabel(r'$\\langle \\hat{R} \\rangle$', fontsize = fontSize)\n",
    "# ax.set_title('Gelman-Rubin Statistics', fontsize = fontSize)\n",
    "ax.set_xticks(index + bar_width / 2)\n",
    "ax.set_xticklabels(dimensions)\n",
    "# ax.set_yscale('log')\n",
    "ax.legend(loc = 'upper left',prop={'family':'sans-serif', 'size':15})\n",
    "plt.tick_params(axis='x', labelsize=fontSize)\n",
    "plt.tick_params(axis='y', labelsize=fontSize)\n",
    "# plt.savefig('mvn/gr.pdf', bbox_inches = 'tight')\n",
    "plt.show()"
   ]
  },
  {
   "cell_type": "code",
   "execution_count": 12,
   "id": "34c3f0b8",
   "metadata": {},
   "outputs": [
    {
     "data": {
      "image/png": "[encoded data removed]",
      "text/plain": [
       "<Figure size 800x600 with 1 Axes>"
      ]
     },
     "metadata": {},
     "output_type": "display_data"
    }
   ],
   "source": [
    "fig, ax = plt.subplots(figsize=figSize)\n",
    "emcee_column = ax.bar(index, df_neff['emcee'], bar_width, label=\"EMCEE\", color = 'darkcyan')\n",
    "nuts_column = ax.bar(index+bar_width, df_neff['nuts'], bar_width, label=\"NUTS\", color = 'darkorange')\n",
    "ax.set_xlabel('Dimensions', fontsize = fontSize)\n",
    "ax.set_ylabel(r'$N_{\\textrm{eff}}$', fontsize = fontSize)\n",
    "# ax.set_title('Scaled Effective Sample Size', fontsize = fontSize)\n",
    "ax.set_xticks(index + bar_width / 2)\n",
    "ax.set_xticklabels(dimensions)\n",
    "ax.set_yscale('log')\n",
    "ax.legend(loc = 'upper right',prop={'family':'sans-serif', 'size':15})\n",
    "plt.tick_params(axis='x', labelsize=fontSize)\n",
    "plt.tick_params(axis='y', labelsize=fontSize)\n",
    "# plt.savefig('mvn/neff.pdf', bbox_inches = 'tight')\n",
    "plt.show()"
   ]
  },
  {
   "cell_type": "code",
   "execution_count": 13,
   "id": "bffd6d48",
   "metadata": {},
   "outputs": [
    {
     "data": {
      "image/png": "[encoded data removed]",
      "text/plain": [
       "<Figure size 800x600 with 1 Axes>"
      ]
     },
     "metadata": {},
     "output_type": "display_data"
    }
   ],
   "source": [
    "fig, ax = plt.subplots(figsize=figSize)\n",
    "emcee_column = ax.bar(index, df_ap['emcee'], bar_width, label=\"EMCEE\", color = 'darkcyan')\n",
    "nuts_column = ax.bar(index+bar_width, df_ap['nuts'], bar_width, label=\"NUTS\", color = 'darkorange')\n",
    "ax.set_xlabel('Dimensions', fontsize = fontSize)\n",
    "ax.set_ylabel(r'$r$', fontsize = fontSize)\n",
    "# ax.set_title('Acceptance Probability', fontsize = fontSize)\n",
    "ax.set_xticks(index + bar_width / 2)\n",
    "ax.set_xticklabels(dimensions)\n",
    "# ax.set_yscale('log')\n",
    "ax.legend(loc = 'upper right',prop={'family':'sans-serif', 'size':15})\n",
    "plt.tick_params(axis='x', labelsize=fontSize)\n",
    "plt.tick_params(axis='y', labelsize=fontSize)\n",
    "# plt.savefig('mvn/ap.pdf', bbox_inches = 'tight')\n",
    "plt.show()"
   ]
  },
  {
   "cell_type": "code",
   "execution_count": 14,
   "id": "c95cfa0a",
   "metadata": {},
   "outputs": [
    {
     "data": {
      "image/png": "[encoded data removed]",
      "text/plain": [
       "<Figure size 800x600 with 1 Axes>"
      ]
     },
     "metadata": {},
     "output_type": "display_data"
    }
   ],
   "source": [
    "fig, ax = plt.subplots(figsize=figSize)\n",
    "# conversion from seconds to minutes, hence factor of 60\n",
    "emcee_column = ax.bar(index, np.asarray(emcee_record_time) / 60, bar_width, label=\"EMCEE\", color = 'darkcyan')\n",
    "nuts_column = ax.bar(index+bar_width, np.asarray(nuts_record_time) / 60, bar_width, label=\"NUTS\", color = 'darkorange')\n",
    "ax.set_xlabel('Dimensions', fontsize = fontSize)\n",
    "ax.set_ylabel(r'$T (\\textrm{min})$', fontsize = fontSize)\n",
    "# ax.set_title('Time taken (2 chains)', fontsize = fontSize)\n",
    "ax.set_xticks(index + bar_width / 2)\n",
    "ax.set_xticklabels(dimensions)\n",
    "# ax.set_yscale('log')\n",
    "ax.legend(loc = 'upper left',prop={'family':'sans-serif', 'size':15})\n",
    "plt.tick_params(axis='x', labelsize=fontSize)\n",
    "plt.tick_params(axis='y', labelsize=fontSize)\n",
    "# plt.savefig('mvn/time.pdf', bbox_inches = 'tight')\n",
    "plt.show()"
   ]
  },
  {
   "cell_type": "code",
   "execution_count": 15,
   "id": "2791102d",
   "metadata": {},
   "outputs": [],
   "source": [
    "nuts_nlike = np.sum(record_nsteps, 2).sum(1)\n",
    "emcee_nlike = np.vstack([dimensions * 2 * 15000] * 2).T.sum(1)"
   ]
  },
  {
   "cell_type": "code",
   "execution_count": 16,
   "id": "51940ae1",
   "metadata": {},
   "outputs": [
    {
     "data": {
      "image/png": "[encoded data removed]",
      "text/plain": [
       "<Figure size 800x600 with 1 Axes>"
      ]
     },
     "metadata": {},
     "output_type": "display_data"
    }
   ],
   "source": [
    "fig, ax = plt.subplots(figsize=figSize)\n",
    "emcee_column = ax.bar(index, emcee_nlike, bar_width, label=\"EMCEE\", color = 'darkcyan')\n",
    "nuts_column = ax.bar(index+bar_width, nuts_nlike, bar_width, label=\"NUTS\", color = 'darkorange')\n",
    "ax.set_xlabel('Dimensions', fontsize = fontSize)\n",
    "ax.set_ylabel(r'$N_{\\mathcal{L}}$', fontsize = fontSize)\n",
    "# ax.set_title('Number of likelihood evaluations (2 chains)', fontsize = fontSize)\n",
    "ax.set_xticks(index + bar_width / 2)\n",
    "ax.set_xticklabels(dimensions)\n",
    "ax.set_yscale('log')\n",
    "ax.legend(loc = 'upper left',prop={'family':'sans-serif', 'size':15})\n",
    "plt.tick_params(axis='x', labelsize=fontSize)\n",
    "plt.tick_params(axis='y', labelsize=fontSize)\n",
    "# plt.savefig('mvn/nlike.pdf', bbox_inches = 'tight')\n",
    "plt.show()"
   ]
  },
  {
   "cell_type": "code",
   "execution_count": null,
   "id": "43b0e131",
   "metadata": {},
   "outputs": [],
   "source": []
  }
 ],
 "metadata": {
  "kernelspec": {
   "display_name": "Python 3 (ipykernel)",
   "language": "python",
   "name": "python3"
  },
  "language_info": {
   "codemirror_mode": {
    "name": "ipython",
    "version": 3
   },
   "file_extension": ".py",
   "mimetype": "text/x-python",
   "name": "python",
   "nbconvert_exporter": "python",
   "pygments_lexer": "ipython3",
   "version": "3.9.18"
  }
 },
 "nbformat": 4,
 "nbformat_minor": 5
}
