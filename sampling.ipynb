{
 "cells": [
  {
   "cell_type": "code",
   "execution_count": 1,
   "id": "bf39e6f0-cbc3-4be3-b3ed-c68a9bde80a5",
   "metadata": {},
   "outputs": [],
   "source": [
    "import os \n",
    "import pickle\n",
    "import jax \n",
    "from jax import grad, jit, vmap, jacfwd, jacrev\n",
    "import emcee\n",
    "import sacc\n",
    "import jax_cosmo as jc\n",
    "import jax.numpy as jnp\n",
    "import numpy as np\n",
    "import matplotlib.pylab as plt\n",
    "from jax import config\n",
    "\n",
    "# numpyro \n",
    "import numpyro\n",
    "import numpyro.distributions as dist\n",
    "from numpyro.infer import MCMC, HMC, NUTS, BarkerMH, init_to_median\n",
    "from numpyro.handlers import seed\n",
    "from numpyro.infer import Predictive, SVI, Trace_ELBO\n",
    "import numpyro.infer.autoguide as autoguide\n",
    "\n",
    "plt.rc('text', usetex=True)\n",
    "plt.rc('font',**{'family':'sans-serif','serif':['Palatino']})\n",
    "figSize  = (12, 8)\n",
    "fontSize = 15\n",
    "config.update(\"jax_enable_x64\", True)\n",
    "\n",
    "# os.environ[\"XLA_PYTHON_CLIENT_PREALLOCATE\"]=\"false\"\n",
    "# os.environ[\"XLA_PYTHON_CLIENT_MEM_FRACTION\"]=\".50\"\n",
    "# os.environ[\"XLA_PYTHON_CLIENT_ALLOCATOR\"]=\"platform\"\n",
    "\n",
    "# use emulator or not \n",
    "jc.power.USE_EMU = True\n",
    "\n",
    "ZMAX = 2.0\n",
    "ELLMIN = 2\n",
    "NELL = 30\n",
    "ELLMAX_GC = 300\n",
    "ELLMAX_WL = 3000"
   ]
  },
  {
   "cell_type": "code",
   "execution_count": 2,
   "id": "048be4f3",
   "metadata": {},
   "outputs": [
    {
     "data": {
      "text/plain": [
       "[StreamExecutorGpuDevice(id=0, process_index=0, slice_index=0)]"
      ]
     },
     "execution_count": 2,
     "metadata": {},
     "output_type": "execute_result"
    }
   ],
   "source": [
    "jax.devices()"
   ]
  },
  {
   "cell_type": "code",
   "execution_count": 3,
   "id": "c7562835-716c-4c2e-9333-081e79d09eb1",
   "metadata": {},
   "outputs": [],
   "source": [
    "def get_nz(sfile, tracertype=\"wl\"):\n",
    "    tracers_names = list(sfile.tracers.keys())\n",
    "\n",
    "    if tracertype == \"wl\":\n",
    "        tname = \"DESwl__\"\n",
    "    else:\n",
    "        tname = \"DESgc__\"\n",
    "    nbin = sum([tname in tracers_names[i] for i in range(len(tracers_names))])\n",
    "\n",
    "    nz_distributions = list()\n",
    "    for i in range(nbin):\n",
    "        name = tname + str(i)\n",
    "        distribution = sfile.tracers[name]\n",
    "        jaxred = jc.redshift.custom_nz(\n",
    "            distribution.z.astype(\"float64\"),\n",
    "            distribution.nz.astype(\"float64\"),\n",
    "            zmax=ZMAX,\n",
    "        )\n",
    "        nz_distributions.append(jaxred)\n",
    "\n",
    "    return nz_distributions"
   ]
  },
  {
   "cell_type": "code",
   "execution_count": 4,
   "id": "0f6f3196-c942-485c-a695-9302e4bf97c0",
   "metadata": {},
   "outputs": [],
   "source": [
    "def calculate_lmax_gc(sfile, kmax):\n",
    "    tracers_names = list(sfile.tracers.keys())\n",
    "    nbin_gc = sum(['DESgc__' in tracers_names[i] for i in range(len(tracers_names))])\n",
    "    vanillacosmo = jc.Planck15()\n",
    "    lmaxs = list()\n",
    "    for i in range(nbin_gc):\n",
    "        tracer = sfile.tracers[f'DESgc__{i}']\n",
    "        zmid = jnp.average(jnp.asarray(tracer.z), weights=jnp.asarray(tracer.nz))\n",
    "        chi = jc.background.radial_comoving_distance(vanillacosmo, 1./(1. + zmid))\n",
    "        minmax = jnp.concatenate([10.*jnp.ones(1), kmax * chi - 0.5], dtype = int)\n",
    "        lmax = jnp.max(minmax)\n",
    "        lmaxs.append(lmax)\n",
    "    return lmaxs"
   ]
  },
  {
   "cell_type": "code",
   "execution_count": 5,
   "id": "c798767c-778e-43d5-b744-0dee2a554d44",
   "metadata": {},
   "outputs": [],
   "source": [
    "def scale_cuts(sfile, kmax = 0.15, lmin_wl = 30, lmax_wl = 2000):\n",
    "    # First we remove all B-modes\n",
    "    sfile.remove_selection(data_type='cl_bb')\n",
    "    sfile.remove_selection(data_type='cl_be')\n",
    "    sfile.remove_selection(data_type='cl_eb')\n",
    "    sfile.remove_selection(data_type='cl_0b')\n",
    "\n",
    "    tracers_names = list(sfile.tracers.keys())\n",
    "    nbin_gc = sum(['DESgc__' in tracers_names[i] for i in range(len(tracers_names))])\n",
    "    nbin_wl = sum(['DESwl__' in tracers_names[i] for i in range(len(tracers_names))])\n",
    "    lmaxs_gc = calculate_lmax_gc(sfile, kmax)\n",
    "    \n",
    "    for i, lmax in enumerate(lmaxs_gc):\n",
    "        print(f'Maximum ell is {lmax}')\n",
    "        tname_1 = f'DESgc__{i}'\n",
    "        \n",
    "        # Remove from galaxy clustering\n",
    "        sfile.remove_selection(data_type='cl_00', tracers=(tname_1, tname_1), ell__gt=lmax)\n",
    "        \n",
    "        # Remove from galaxy-galaxy lensing\n",
    "        for j in range(nbin_wl):\n",
    "            tname_2 = f'DESwl__{j}'\n",
    "            sfile.remove_selection(data_type='cl_0e', tracers=(tname_1, tname_2), ell__gt=lmax)\n",
    "    \n",
    "    # apply scale cut for weak lensing \n",
    "    for i in range(nbin_wl):\n",
    "        for j in range(i, nbin_wl):\n",
    "            tname_1 = f'DESwl__{i}'\n",
    "            tname_2 = f'DESwl__{j}'\n",
    "            sfile.remove_selection(data_type='cl_ee', tracers=(tname_1, tname_2), ell__gt= lmax_wl)\n",
    "            sfile.remove_selection(data_type='cl_ee', tracers=(tname_1, tname_2), ell__lt= lmin_wl)\n",
    "            \n",
    "    return sfile\n",
    "\n",
    "def get_data_type(tracer_combination):\n",
    "    if \"gc\" in tracer_combination[0] and \"gc\" in tracer_combination[1]:\n",
    "        dtype = \"cl_00\"\n",
    "    elif \"gc\" in tracer_combination[0] and \"wl\" in tracer_combination[1]:\n",
    "        dtype = \"cl_0e\"\n",
    "    elif \"wl\" in tracer_combination[0] and \"wl\" in tracer_combination[1]:\n",
    "        dtype = \"cl_ee\"\n",
    "    return dtype\n",
    "\n",
    "def get_ells_bandwindow(sfile, tracer_name_1, tracer_name_2, ellmax):\n",
    "    \n",
    "    dtype = get_data_type((tracer_name_1, tracer_name_2))    \n",
    "    idx = sfile.indices(data_type=dtype, tracers=(tracer_name_1, tracer_name_2))\n",
    "    window = sfile.get_bandpower_windows(idx)\n",
    "    fine_ells = window.values\n",
    "    indices = (fine_ells >= 2) & (fine_ells <= ellmax)\n",
    "    fine_ells = jnp.asarray(fine_ells[indices], dtype = jnp.float32)\n",
    "    bandwindow = jnp.asarray(window.weight[indices])\n",
    "    return fine_ells, bandwindow\n",
    "\n",
    "def extract_bandwindow(sfile):\n",
    "    tracers_names = list(sfile.tracers.keys())\n",
    "    nbin_gc = sum(['DESgc__' in tracers_names[i] for i in range(len(tracers_names))])\n",
    "    nbin_wl = sum(['DESwl__' in tracers_names[i] for i in range(len(tracers_names))])\n",
    "    \n",
    "    # galaxy-galaxy \n",
    "    record_gc = []\n",
    "    for i in range(nbin_gc):\n",
    "        tracer_name = f'DESgc__{i}'\n",
    "        key = f'{tracer_name},{tracer_name}'\n",
    "        ells_gc, bandwindow = get_ells_bandwindow(sfile, tracer_name, tracer_name, ELLMAX_GC)\n",
    "        record_gc.append(bandwindow)\n",
    "\n",
    "    # galaxy-shear\n",
    "    record_gc_wl = []\n",
    "    for i in range(nbin_gc):\n",
    "        for j in range(nbin_wl):\n",
    "            tracer_name_1 = f'DESgc__{i}'\n",
    "            tracer_name_2 = f'DESwl__{j}'\n",
    "            key = f'{tracer_name_1},{tracer_name_2}'\n",
    "            ells_gc_wl, bandwindow = get_ells_bandwindow(sfile, tracer_name_1, tracer_name_2, ELLMAX_GC)\n",
    "            record_gc_wl.append(bandwindow)\n",
    "            \n",
    "    # shear-shear\n",
    "    record_wl = []\n",
    "    for i in range(nbin_wl):\n",
    "        for j in range(i, nbin_wl):\n",
    "            tracer_name_1 = f'DESwl__{i}'\n",
    "            tracer_name_2 = f'DESwl__{j}'\n",
    "            key = f'{tracer_name_1},{tracer_name_2}'\n",
    "            ells_wl, bandwindow = get_ells_bandwindow(sfile, tracer_name_1, tracer_name_2, ELLMAX_WL)\n",
    "            record_wl.append(bandwindow)\n",
    "\n",
    "    return (ells_gc, record_gc), (ells_gc_wl, record_gc_wl), (ells_wl, record_wl)\n",
    "\n",
    "def extract_data_covariance(saccfile):\n",
    "    tracers_names = list(saccfile.tracers.keys())\n",
    "    nbin_gc = sum(['DESgc__' in tracers_names[i] for i in range(len(tracers_names))])\n",
    "    nbin_wl = sum(['DESwl__' in tracers_names[i] for i in range(len(tracers_names))])\n",
    "    \n",
    "    indices = []\n",
    "    # galaxy-galaxy\n",
    "    for i in range(nbin_gc):\n",
    "        tracer_name = f'DESgc__{i}'\n",
    "        _, _, ind = saccfile.get_ell_cl('cl_00', tracer_name, tracer_name, return_cov=False, return_ind=True)\n",
    "        indices += list(ind)\n",
    "\n",
    "    # galaxy-shear\n",
    "    for i in range(nbin_gc):\n",
    "        for j in range(nbin_wl):\n",
    "            tracer_name_1 = f'DESgc__{i}'\n",
    "            tracer_name_2 = f'DESwl__{j}'\n",
    "            _, _, ind = saccfile.get_ell_cl('cl_0e', tracer_name_1, tracer_name_2, return_cov=False, return_ind=True)\n",
    "            indices += list(ind)\n",
    "        \n",
    "    # shear-shear\n",
    "    for i in range(nbin_wl):\n",
    "        for j in range(i, nbin_wl):\n",
    "            tracer_name_1 = f'DESwl__{i}'\n",
    "            tracer_name_2 = f'DESwl__{j}'\n",
    "            _, _, ind = saccfile.get_ell_cl('cl_ee', tracer_name_1, tracer_name_2, return_cov=False, return_ind=True)\n",
    "            indices += list(ind)\n",
    "\n",
    "    indices = np.array(indices)    \n",
    "    covariance = saccfile.covariance.covmat[indices][:, indices]\n",
    "    data = saccfile.mean[indices]\n",
    "    return jnp.array(data), jnp.array(covariance)\n",
    "\n",
    "def get_index_pairs(nbin1, nbin2=None, auto=False):\n",
    "    cl_index = list()\n",
    "    if nbin2 is not None:\n",
    "        for i in range(nbin1):\n",
    "            for j in range(nbin2):\n",
    "                cl_index.append([i, j + nbin1])\n",
    "    elif auto:\n",
    "        for i in range(nbin1):\n",
    "            cl_index.append([i, i])\n",
    "    else:\n",
    "        for i in range(nbin1):\n",
    "            for j in range(i, nbin1):\n",
    "                cl_index.append([i, j])\n",
    "    return cl_index\n",
    "\n",
    "\n",
    "def get_params_vec(cosmo, multiplicative, deltaz, ia_params , bias, deltaz_gc):\n",
    "    mparam_1, mparam_2, mparam_3, mparam_4 = multiplicative\n",
    "    dz1, dz2, dz3, dz4 = deltaz\n",
    "    a_ia_param, eta_param = ia_params\n",
    "    b1, b2, b3, b4, b5 = bias\n",
    "    dz_gc_1, dz_gc_2, dz_gc_3, dz_gc_4, dz_gc_5 = deltaz_gc \n",
    "    return jnp.array(\n",
    "        [\n",
    "            cosmo.sigma8,\n",
    "            cosmo.Omega_c,\n",
    "            cosmo.Omega_b,\n",
    "            cosmo.h,\n",
    "            cosmo.n_s,\n",
    "            mparam_1,\n",
    "            mparam_2,\n",
    "            mparam_3,\n",
    "            mparam_4,\n",
    "            dz1,\n",
    "            dz2,\n",
    "            dz3,\n",
    "            dz4,\n",
    "            a_ia_param,\n",
    "            eta_param,\n",
    "            b1, b2, b3, b4, b5, dz_gc_1, dz_gc_2, dz_gc_3, dz_gc_4, dz_gc_5\n",
    "        ]\n",
    "    )\n",
    "\n",
    "\n",
    "def unpack_params_vec(params):\n",
    "    cosmo = jc.Cosmology(\n",
    "        sigma8=params[0],\n",
    "        Omega_c=params[1],\n",
    "        Omega_b=params[2],\n",
    "        h=params[3],\n",
    "        n_s=params[4],\n",
    "        w0=-1.0,\n",
    "        Omega_k=0.0,\n",
    "        wa=0.0,\n",
    "    )\n",
    "    mparam_1, mparam_2, mparam_3, mparam_4 = params[5:9]\n",
    "    dz1, dz2, dz3, dz4 = params[9:13]\n",
    "    a_ia_param, eta_param = params[13], params[14]\n",
    "    b1, b2, b3, b4, b5 = params[15], params[16], params[17], params[18], params[19]\n",
    "    dz_gc_1, dz_gc_2, dz_gc_3, dz_gc_4, dz_gc_5 = params[20], params[21], params[22], params[23], params[24]\n",
    "    return (\n",
    "        cosmo,\n",
    "        [mparam_1, mparam_2, mparam_3, mparam_4],\n",
    "        [dz1, dz2, dz3, dz4],\n",
    "        [a_ia_param, eta_param],\n",
    "        [b1, b2, b3, b4, b5],\n",
    "        [dz_gc_1, dz_gc_2, dz_gc_3, dz_gc_4, dz_gc_5]\n",
    "    )"
   ]
  },
  {
   "cell_type": "code",
   "execution_count": 6,
   "id": "34c96432-4c72-442f-8194-d793ed16557f",
   "metadata": {},
   "outputs": [],
   "source": [
    "def interpolator(ellnew, ellcoarse, powerspectrum):\n",
    "    ellnew_log = jnp.log(ellnew)\n",
    "    ellcoarse_log = jnp.log(ellcoarse)\n",
    "    powerspectrum_log = jnp.log(powerspectrum)\n",
    "    ps_interp = jnp.interp(ellnew_log, ellcoarse_log, powerspectrum_log)\n",
    "    return jnp.exp(ps_interp)\n",
    "\n",
    "def get_bandpowers_gc(bandwindow_ells, bandwindow_matrix, ells_coarse, powerspectra, nbin_gc):\n",
    "    recordbandpowers = []\n",
    "    counter = 0\n",
    "    for i in range(nbin_gc):\n",
    "        cls_wl_interp = interpolator(bandwindow_ells, ells_coarse, powerspectra[counter])\n",
    "        bandpowers = bandwindow_matrix[counter].T @ cls_wl_interp\n",
    "        recordbandpowers.append(bandpowers)\n",
    "        counter += 1\n",
    "    return recordbandpowers\n",
    "\n",
    "def get_bandpowers_gc_wl(bandwindow_ells, bandwindow_matrix, ells_coarse, powerspectra, nbin_gc, nbin_wl):\n",
    "    recordbandpowers = []\n",
    "    counter = 0\n",
    "    for i in range(nbin_gc):\n",
    "        for j in range(nbin_wl):\n",
    "            cls_wl_interp = interpolator(bandwindow_ells, ells_coarse, powerspectra[counter])\n",
    "            bandpowers = bandwindow_matrix[counter].T @ cls_wl_interp\n",
    "            recordbandpowers.append(bandpowers)\n",
    "            counter += 1\n",
    "    return recordbandpowers\n",
    "\n",
    "def get_bandpowers_wl(bandwindow_ells, bandwindow_matrix, ells_coarse, powerspectra, nbin_wl):\n",
    "    recordbandpowers = []\n",
    "    counter = 0\n",
    "    for i in range(nbin_wl):\n",
    "        for j in range(i, nbin_wl):\n",
    "            cls_wl_interp = interpolator(bandwindow_ells, ells_coarse, powerspectra[counter])\n",
    "            bandpowers = bandwindow_matrix[counter].T @ cls_wl_interp\n",
    "            recordbandpowers.append(bandpowers)\n",
    "            counter += 1\n",
    "    return recordbandpowers"
   ]
  },
  {
   "cell_type": "code",
   "execution_count": 7,
   "id": "c23cf7d1-2e10-4ffb-82e1-fbed52aeab58",
   "metadata": {},
   "outputs": [],
   "source": [
    "def get_gc_powerspectra(parameters, jax_nz_gc):\n",
    "    cosmo, multiplicative, deltaz_wl, (a_ia_param, eta_param), bias, deltaz_gc = unpack_params_vec(parameters)\n",
    "    nbin_gc = len(deltaz_gc)\n",
    "    gc_biases = [jc.bias.constant_linear_bias(bi) for bi in bias]  \n",
    "    nz_gc_sys = [jc.redshift.systematic_shift(nzi, dzi, zmax=ZMAX) for nzi, dzi in zip(jax_nz_gc, deltaz_gc)]\n",
    "    probes_gc = [jc.probes.NumberCounts(nz_gc_sys, gc_biases)]\n",
    "    ells_coarse = jnp.geomspace(ELLMIN, ELLMAX_GC, NELL, dtype=jnp.float32)\n",
    "    idx_pairs_gc = get_index_pairs(nbin_gc, auto=True)\n",
    "    ps_gc = jc.angular_cl.angular_cl(cosmo, ells_coarse, probes_gc, index_pairs = idx_pairs_gc)\n",
    "    return ps_gc, ells_coarse, nbin_gc\n",
    "\n",
    "def get_gc_wl_powerspectra(parameters, jax_nz_gc, jax_nz_wl):\n",
    "    cosmo, multiplicative, deltaz_wl, (a_ia_param, eta_param), bias, deltaz_gc = unpack_params_vec(parameters)\n",
    "    nbin_gc = len(deltaz_gc)\n",
    "    nbin_wl = len(deltaz_wl)\n",
    "    \n",
    "    # apply all the systematics here (shifts, multiplicative bias, intrinsic alignment)\n",
    "    nz_wl_sys = [jc.redshift.systematic_shift(nzi, dzi) for nzi, dzi in zip(jax_nz_wl, deltaz_wl)]\n",
    "    nz_gc_sys = [jc.redshift.systematic_shift(nzi, dzi) for nzi, dzi in zip(jax_nz_gc, deltaz_gc)]\n",
    "    gc_biases = [jc.bias.constant_linear_bias(bi) for bi in bias] \n",
    "    b_ia = jc.bias.des_y1_ia_bias(a_ia_param, eta_param, 0.62)\n",
    "\n",
    "    probes_gc = [jc.probes.NumberCounts(nz_gc_sys, gc_biases)]\n",
    "    probes_wl = [jc.probes.WeakLensing(nz_wl_sys, ia_bias=b_ia, multiplicative_bias=multiplicative)]\n",
    "    probes_gc_wl = probes_gc + probes_wl\n",
    "\n",
    "    ells_coarse = jnp.geomspace(ELLMIN, ELLMAX_GC, NELL, dtype=jnp.float32)\n",
    "    idx_pairs_gc_wl = get_index_pairs(nbin_gc, nbin_wl, auto=False)\n",
    "    ps_gc_wl = jc.angular_cl.angular_cl(cosmo, ells_coarse, probes_gc_wl, index_pairs = idx_pairs_gc_wl)\n",
    "    return ps_gc_wl, ells_coarse, nbin_gc, nbin_wl\n",
    "\n",
    "def get_wl_powerspectra(parameters, jax_nz_wl):\n",
    "    cosmo, multiplicative, deltaz_wl, (a_ia_param, eta_param) = unpack_params_vec(parameters)[0:4]\n",
    "    nbin_wl = len(deltaz_wl)\n",
    "    \n",
    "    nz_wl_sys = [jc.redshift.systematic_shift(nzi, dzi, zmax=ZMAX) for nzi, dzi in zip(jax_nz_wl, deltaz_wl)]\n",
    "    b_ia = jc.bias.des_y1_ia_bias(a_ia_param, eta_param, 0.62)\n",
    "    probes_wl = [jc.probes.WeakLensing(nz_wl_sys, ia_bias=b_ia, multiplicative_bias=multiplicative)]\n",
    "\n",
    "    ells_coarse = jnp.geomspace(ELLMIN, ELLMAX_WL, NELL, dtype=jnp.float32)\n",
    "    idx_pairs_wl = get_index_pairs(nbin_wl, auto=False)\n",
    "    ps_wl = jc.angular_cl.angular_cl(cosmo, ells_coarse, probes_wl, index_pairs=idx_pairs_wl)\n",
    "    return ps_wl, ells_coarse, nbin_wl\n",
    "    \n",
    "def gc_bandpower_calculation(parameters, jax_nz_gc, bandwindow_ells, bandwindow_matrix):\n",
    "    ps_gc, ells_coarse, nbin_gc = get_gc_powerspectra(parameters, jax_nz_gc)\n",
    "    gc_bandpowers = get_bandpowers_gc(bandwindow_ells, bandwindow_matrix, ells_coarse, ps_gc, nbin_gc)\n",
    "    return gc_bandpowers\n",
    "\n",
    "def gc_wl_bandpower_calculation(parameters, jax_nz_gc, jax_nz_wl, bandwindow_ells, bandwindow_matrix):\n",
    "    ps_gc_wl, ells_coarse, nbin_gc, nbin_wl = get_gc_wl_powerspectra(parameters, jax_nz_gc, jax_nz_wl)\n",
    "    gc_wl_bandpowers = get_bandpowers_gc_wl(bandwindow_ells, bandwindow_matrix, ells_coarse, ps_gc_wl, nbin_gc, nbin_wl)\n",
    "    return gc_wl_bandpowers\n",
    "    \n",
    "def wl_bandpower_calculation(parameters, jax_nz_wl, bandwindow_ells, bandwindow_matrix):\n",
    "    ps_wl, ells_coarse, nbin_wl = get_wl_powerspectra(parameters, jax_nz_wl)\n",
    "    wl_bandpowers = get_bandpowers_wl(bandwindow_ells, bandwindow_matrix, ells_coarse, ps_wl, nbin_wl)\n",
    "    return wl_bandpowers"
   ]
  },
  {
   "cell_type": "code",
   "execution_count": 8,
   "id": "d50f7312-ebfd-42c0-98ed-3b773fe6c03b",
   "metadata": {},
   "outputs": [],
   "source": [
    "def get_bandpowers_probes(parameters, jax_nz_gc, jax_nz_wl, bw_gc, bw_gc_wl, bw_wl):\n",
    "    theory_gc = gc_bandpower_calculation(parameters, jax_nz_gc, bw_gc[0], bw_gc[1])\n",
    "    theory_gc_wl = gc_wl_bandpower_calculation(parameters, jax_nz_gc, jax_nz_wl, bw_gc_wl[0], bw_gc_wl[1])\n",
    "    theory_wl = wl_bandpower_calculation(parameters, jax_nz_wl, bw_wl[0], bw_wl[1])\n",
    "    return theory_gc, theory_gc_wl, theory_wl\n",
    "    \n",
    "def get_bandpowers_theory(parameters, jax_nz_gc, jax_nz_wl, bw_gc, bw_gc_wl, bw_wl):\n",
    "    theory_gc, theory_gc_wl, theory_wl = get_bandpowers_probes(parameters, jax_nz_gc, jax_nz_wl, bw_gc, bw_gc_wl, bw_wl)\n",
    "    concat_theory_gc = jnp.concatenate(theory_gc)\n",
    "    concat_theory_gc_wl = jnp.concatenate(theory_gc_wl)\n",
    "    concat_theory_wl = jnp.concatenate(theory_wl)\n",
    "    return jnp.concatenate([concat_theory_gc, concat_theory_gc_wl, concat_theory_wl])"
   ]
  },
  {
   "cell_type": "code",
   "execution_count": 9,
   "id": "2c992602-9fdf-4c46-b93b-fd09f90fdec7",
   "metadata": {},
   "outputs": [],
   "source": [
    "def pickle_save(file: list, folder: str, fname: str) -> None:\n",
    "    \"\"\"Stores a list in a folder.\n",
    "    Args:\n",
    "        list_to_store (list): The list to store.\n",
    "        folder_name (str): The name of the folder.\n",
    "        file_name (str): The name of the file.\n",
    "    \"\"\"\n",
    "\n",
    "    # create the folder if it does not exist\n",
    "    os.makedirs(folder, exist_ok=True)\n",
    "\n",
    "    # use compressed format to store data\n",
    "    path = os.path.join(folder, fname)\n",
    "    with open(path + \".pkl\", \"wb\") as dummy:\n",
    "        pickle.dump(file, dummy)\n",
    "\n",
    "\n",
    "def pickle_load(folder: str, fname: str):\n",
    "    \"\"\"Reads a list from a folder.\n",
    "    Args:\n",
    "        folder_name (str): The name of the folder.\n",
    "        file_name (str): The name of the file.\n",
    "    Returns:\n",
    "        Any: the stored file\n",
    "    \"\"\"\n",
    "    path = os.path.join(folder, fname)\n",
    "    with open(path + \".pkl\", \"rb\") as dummy:\n",
    "        file = pickle.load(dummy)\n",
    "    return file"
   ]
  },
  {
   "cell_type": "code",
   "execution_count": 10,
   "id": "5a47afb1-909a-4a7e-9f19-12b997a5446a",
   "metadata": {},
   "outputs": [],
   "source": [
    "def model(data, precision, jax_nz_gc, jax_nz_wl, bw_gc, bw_gc_wl, bw_wl): \n",
    "    #  Cosmological params\n",
    "    sigma8 = numpyro.sample(\"sigma8\", dist.Uniform(0.6, 1.0))\n",
    "    Omegac = numpyro.sample(\"Omegac\", dist.Uniform(0.14, 0.35))\n",
    "    Omegab = numpyro.sample(\"Omegab\", dist.Uniform(0.03, 0.055))\n",
    "    hubble = numpyro.sample(\"hubble\", dist.Uniform(0.64, 0.82))\n",
    "    ns = numpyro.sample(\"ns\", dist.Uniform(0.87, 1.07))\n",
    "   \n",
    "    cosmo = jc.Cosmology(Omega_c=Omegac, sigma8=sigma8, Omega_b=Omegab, h=hubble, n_s=ns, w0=-1.0, Omega_k=0.0, wa=0.0)\n",
    "\n",
    "    # multiplicative factor (weak lensing)\n",
    "    m1 = numpyro.sample(\"m1\", dist.Normal(0.012, 0.023))\n",
    "    m2 = numpyro.sample(\"m2\", dist.Normal(0.012, 0.023))\n",
    "    m3 = numpyro.sample(\"m3\", dist.Normal(0.012, 0.023))\n",
    "    m4 = numpyro.sample(\"m4\", dist.Normal(0.012, 0.023))\n",
    "    multiplicative = [m1, m2, m3, m4]\n",
    "\n",
    "    # shifts (weak lensing)\n",
    "    dz_wl_1 = numpyro.sample(\"dz_wl_1\", dist.Normal(-0.001, 0.016))  \n",
    "    dz_wl_2 = numpyro.sample(\"dz_wl_2\", dist.Normal(-0.019, 0.013))\n",
    "    dz_wl_3 = numpyro.sample(\"dz_wl_3\", dist.Normal(0.009, 0.011))\n",
    "    dz_wl_4 = numpyro.sample(\"dz_wl_4\", dist.Normal(-0.018, 0.022))\n",
    "    dz_wl = [dz_wl_1, dz_wl_2, dz_wl_3, dz_wl_4]\n",
    "    nbin_wl = len(dz_wl)\n",
    "    \n",
    "    # intrinsic alignment\n",
    "    a_ia = numpyro.sample(\"a_ia\", dist.Uniform(-1, 1))\n",
    "    eta = numpyro.sample(\"eta\", dist.Uniform(-5.0, 5.0))\n",
    "    ia_params = [a_ia, eta]\n",
    "\n",
    "    # multiplicative bias (galaxy clustering)\n",
    "    b1 = numpyro.sample(\"b1\", dist.Uniform(0.8, 3.0))\n",
    "    b2 = numpyro.sample(\"b2\", dist.Uniform(0.8, 3.0))\n",
    "    b3 = numpyro.sample(\"b3\", dist.Uniform(0.8, 3.0))\n",
    "    b4 = numpyro.sample(\"b4\", dist.Uniform(0.8, 3.0))\n",
    "    b5 = numpyro.sample(\"b5\", dist.Uniform(0.8, 3.0))\n",
    "    \n",
    "    bias = [b1, b2, b3, b4, b5]\n",
    "    \n",
    "    # shifts (galaxy clustering)\n",
    "    dz_gc_1 = numpyro.sample(\"dz_gc_1\", dist.Normal(0.0, 0.007))\n",
    "    dz_gc_2 = numpyro.sample(\"dz_gc_2\", dist.Normal(0.0, 0.007))\n",
    "    dz_gc_3 = numpyro.sample(\"dz_gc_3\", dist.Normal(0.0, 0.006))\n",
    "    dz_gc_4 = numpyro.sample(\"dz_gc_4\", dist.Normal(0.0, 0.01))\n",
    "    dz_gc_5 = numpyro.sample(\"dz_gc_5\", dist.Normal(0.0, 0.01))\n",
    "    dz_gc = [dz_gc_1, dz_gc_2, dz_gc_3, dz_gc_4, dz_gc_5]\n",
    "\n",
    "    parameters = get_params_vec(cosmo, multiplicative, dz_wl, ia_params, bias, dz_gc)\n",
    "    theory = get_bandpowers_theory(parameters, jax_nz_gc, jax_nz_wl, bw_gc, bw_gc_wl, bw_wl)\n",
    "    sampling_distribution = dist.MultivariateNormal(theory, precision_matrix=precision)\n",
    "    theory_sample = numpyro.sample(\"y\", sampling_distribution, obs=data)\n",
    "    log_prob = sampling_distribution.log_prob(theory_sample)\n",
    "    return theory_sample, log_prob"
   ]
  },
  {
   "cell_type": "markdown",
   "id": "282bbde5-ba13-43d7-82e0-ca5c0e5396b4",
   "metadata": {},
   "source": [
    "## Data and Covariance"
   ]
  },
  {
   "cell_type": "code",
   "execution_count": 11,
   "id": "da68d7b8-147b-426c-afd8-cf80c0e01242",
   "metadata": {},
   "outputs": [
    {
     "name": "stdout",
     "output_type": "stream",
     "text": [
      "Maximum ell is 101\n",
      "Maximum ell is 155\n",
      "Maximum ell is 206\n",
      "Maximum ell is 255\n",
      "Maximum ell is 298\n"
     ]
    }
   ],
   "source": [
    "saccfile = sacc.Sacc.load_fits(\"data/cls_DESY1.fits\")\n",
    "jax_nz_wl = get_nz(saccfile, tracertype=\"wl\")\n",
    "jax_nz_gc = get_nz(saccfile, tracertype=\"gc\")\n",
    "saccfile_cut = scale_cuts(saccfile, kmax = 0.15, lmin_wl = 30, lmax_wl = 2000)\n",
    "bw_gc, bw_gc_wl, bw_wl = extract_bandwindow(saccfile_cut)\n",
    "data, covariance = extract_data_covariance(saccfile_cut)\n",
    "precision = jnp.linalg.inv(covariance)\n",
    "newcov = covariance + jnp.eye(data.shape[0]) * 1E-18\n",
    "newprec = jnp.linalg.inv(newcov)"
   ]
  },
  {
   "cell_type": "code",
   "execution_count": 12,
   "id": "aa5db5a9-4de9-4777-a270-3674181bb908",
   "metadata": {},
   "outputs": [],
   "source": [
    "eigvals, eigvectors = jnp.linalg.eigh(newcov)"
   ]
  },
  {
   "cell_type": "code",
   "execution_count": 13,
   "id": "01eef690-6875-4314-84ec-7e2e0b98b566",
   "metadata": {},
   "outputs": [
    {
     "data": {
      "text/plain": [
       "DeviceArray(True, dtype=bool)"
      ]
     },
     "execution_count": 13,
     "metadata": {},
     "output_type": "execute_result"
    }
   ],
   "source": [
    "jnp.all(eigvals > 0) "
   ]
  },
  {
   "cell_type": "code",
   "execution_count": 14,
   "id": "cbf56a2e-e94e-4d8e-b63b-cc6d3ea58353",
   "metadata": {},
   "outputs": [],
   "source": [
    "eigvals, eigvectors = jnp.linalg.eigh(newprec)"
   ]
  },
  {
   "cell_type": "code",
   "execution_count": 15,
   "id": "ab5569eb-9fd4-4649-9d17-917a86f78385",
   "metadata": {},
   "outputs": [
    {
     "data": {
      "text/plain": [
       "DeviceArray(True, dtype=bool)"
      ]
     },
     "execution_count": 15,
     "metadata": {},
     "output_type": "execute_result"
    }
   ],
   "source": [
    "jnp.all(eigvals > 0) "
   ]
  },
  {
   "cell_type": "code",
   "execution_count": 16,
   "id": "9991230d-a4eb-487a-a646-7d2773463112",
   "metadata": {},
   "outputs": [
    {
     "name": "stdout",
     "output_type": "stream",
     "text": [
      "Using the emulator\n",
      "Using the emulator\n",
      "Using the emulator\n"
     ]
    }
   ],
   "source": [
    "with seed(rng_seed=42):\n",
    "    theory, logp = model(data, newprec, jax_nz_gc, jax_nz_wl, bw_gc, bw_gc_wl, bw_wl)"
   ]
  },
  {
   "cell_type": "markdown",
   "id": "97264dd3-a396-49bf-a68e-c2477a372b66",
   "metadata": {},
   "source": [
    "## Plots\n",
    "\n",
    "- to add plot for redshift distributions\n",
    "- to add plot for data covariance matrix"
   ]
  },
  {
   "cell_type": "code",
   "execution_count": 26,
   "id": "9c6209af-7c95-4fff-91cb-d5555f6715bc",
   "metadata": {},
   "outputs": [],
   "source": [
    "cosmo = jc.Cosmology(sigma8=0.8521117261609208, Omega_c = 0.2393475153665476, Omega_b=0.05395308811150879, \n",
    "                     h = 0.6529206102826096, n_s=0.9330022578443745, w0=-1., Omega_k=0., wa=0.)\n",
    "\n",
    "testparameter = get_params_vec(cosmo, \n",
    "                       [0.07377626, 0.18572161, -0.07526319, -0.10828671], \n",
    "                       [-0.00846738, -0.10025093, -0.00177734, -0.00968797], \n",
    "                       [0.35898907, -0.01135033], \n",
    "                       [1.33889417, 1.57640662, 1.59644491, 1.90517272, 1.93960129], \n",
    "                       [0.02246754, -0.00146808, 0.02051478, 0.00968391, -0.01231999])\n",
    "\n",
    "cosmo, multiplicative, deltaz_wl, (a_ia_param, eta_param), bias, deltaz_gc = unpack_params_vec(testparameter) "
   ]
  },
  {
   "cell_type": "code",
   "execution_count": 27,
   "id": "58855eaa-4133-47cd-822f-d15fb7aa5181",
   "metadata": {},
   "outputs": [
    {
     "name": "stdout",
     "output_type": "stream",
     "text": [
      "Not using the emulator\n",
      "Not using the emulator\n",
      "Not using the emulator\n",
      "Not using the emulator\n"
     ]
    }
   ],
   "source": [
    "ps_wl, ells_coarse, nbin_wl = get_wl_powerspectra(testparameter, jax_nz_wl)\n",
    "theory_gc, theory_gc_wl, theory_wl = get_bandpowers_probes(testparameter, jax_nz_gc, jax_nz_wl, bw_gc, bw_gc_wl, bw_wl)"
   ]
  },
  {
   "cell_type": "code",
   "execution_count": 28,
   "id": "bc952966-4e56-47d4-938b-4dd78dcb86d7",
   "metadata": {},
   "outputs": [],
   "source": [
    "cls_wl = []\n",
    "counter = 0\n",
    "for i in range(nbin_wl):\n",
    "    for j in range(i, nbin_wl):\n",
    "        cls_wl_interp = interpolator(bw_wl[0], ells_coarse, ps_wl[counter])\n",
    "        cls_wl.append(cls_wl_interp)\n",
    "        counter += 1"
   ]
  },
  {
   "cell_type": "code",
   "execution_count": 29,
   "id": "5fdb26e7-2255-45cf-a4c8-1745b3e25a8e",
   "metadata": {},
   "outputs": [
    {
     "data": {
      "image/png": "[encoded data removed]",
      "text/plain": [
       "<Figure size 1000x1000 with 16 Axes>"
      ]
     },
     "metadata": {},
     "output_type": "display_data"
    }
   ],
   "source": [
    "yLabel = r'$C_{\\ell}^{\\gamma\\gamma}$'\n",
    "xLabel = r'$\\ell$'\n",
    "ylims = [1E-12, 5E-6]\n",
    "fontsize = fontSize\n",
    "\n",
    "counter = 0\n",
    "\n",
    "f, ax = plt.subplots(nbin_wl, nbin_wl, sharex=True, sharey = True, figsize = (10, 10))\n",
    "\n",
    "for i in range(nbin_wl):\n",
    "    for j in range(i, nbin_wl):\n",
    "\n",
    "        labz = r'$p_{'+str(i+1)+'}^{\\gamma}(z)\\\\times p_{'+str(j+1)+'}^{\\gamma}(z)$'\n",
    "        \n",
    "        tracername_wl_i = f'DESwl__{i}'\n",
    "        tracername_wl_j = f'DESwl__{j}'\n",
    "        key = f'{tracername_wl_i},{tracername_wl_j}'\n",
    "        \n",
    "        ell, c_ell, covariance, indices = saccfile_cut.get_ell_cl('cl_ee', tracername_wl_i, tracername_wl_j, return_cov=True, return_ind=True)\n",
    "        sigma = np.sqrt(np.diag(covariance))\n",
    "\n",
    "        ax[j,i].errorbar(ell, c_ell, sigma, fmt='bo', ms=2, lw =1)\n",
    "        ax[j,i].scatter(ell, theory_wl[counter], s = 20, c = 'r')\n",
    "        ax[j,i].plot(bw_wl[0], cls_wl[counter], lw = 1, c = 'k', linestyle = '--')\n",
    "        ax[j,i].set_xlabel(xLabel, fontsize=fontsize)\n",
    "        ax[j,i].set_xlim(min(ell)-5, max(ell)+50)\n",
    "        ax[j,i].set_ylim(ylims[0], ylims[1])\n",
    "        ax[j,i].set_xscale(\"log\")\n",
    "        ax[j,i].set_yscale(\"log\")\n",
    "        ax[j,i].axhline(0, linestyle='--', c = 'k', lw = 0.5)\n",
    "        ax[j,i].tick_params(axis = 'both', labelsize = fontsize, pad=10)\n",
    "        ax[j,i].tick_params(axis='both', which='both', length=0)\n",
    "        ax[j,i].annotate(labz, xy=(0.5, 0.80), xycoords='axes fraction', fontsize=fontsize, horizontalalignment='center')\n",
    "\n",
    "        if i==0 :\n",
    "            ax[j, i].set_ylabel(yLabel, fontsize=fontsize)\n",
    "\n",
    "        if j!=i:\n",
    "            ax[i,j].axis('off')\n",
    "            \n",
    "        counter += 1\n",
    "f.subplots_adjust(wspace=0)\n",
    "f.subplots_adjust(hspace=0)\n",
    "plt.show()"
   ]
  },
  {
   "cell_type": "markdown",
   "id": "53099992-4b8a-46d6-b749-f299cb21c1ac",
   "metadata": {},
   "source": [
    "## Stochastic Variational Inference\n",
    "\n",
    "This is not working. "
   ]
  },
  {
   "cell_type": "code",
   "execution_count": 1,
   "id": "646f5510-97eb-47a5-8700-81742a78dd95",
   "metadata": {},
   "outputs": [],
   "source": [
    "# NITER = 1000\n",
    "\n",
    "# guide = autoguide.AutoMultivariateNormal(model, init_loc_fn=numpyro.infer.init_to_median, init_scale = 0.01)\n",
    "# optimizer = numpyro.optim.Adam(step_size=0.001)\n",
    "# svi = SVI(model, guide, optimizer, loss=Trace_ELBO())\n",
    "\n",
    "# # model(data, precision, jax_nz_gc, jax_nz_wl, bw_gc, bw_gc_wl, bw_wl)\n",
    "# svi_result = svi.run(jax.random.PRNGKey(0), NITER, data, newprec, jax_nz_gc, jax_nz_wl, bw_gc, bw_gc_wl, bw_wl)\n",
    "\n",
    "# predictive = Predictive(guide, params=svi_result.params, num_samples=1000)\n",
    "# posterior_samples = predictive(jax.random.PRNGKey(1))"
   ]
  },
  {
   "cell_type": "markdown",
   "id": "2426ffbb-3b66-475d-9bae-fcfc1d0b713b",
   "metadata": {},
   "source": [
    "## HMC\n",
    "\n",
    "This is not working well. "
   ]
  },
  {
   "cell_type": "code",
   "execution_count": null,
   "id": "1b70c53e-379d-4eee-b643-4c750a18f13c",
   "metadata": {},
   "outputs": [],
   "source": [
    "# NWARMUP = 200\n",
    "# NSAMPLES = 5\n",
    "\n",
    "# hmc_kernel = HMC(model, step_size=1.0, init_strategy=init_to_median, adapt_step_size=False, \n",
    "#                  adapt_mass_matrix=False, dense_mass=True, num_steps=10)\n",
    "\n",
    "# mcmc_hmc = MCMC(hmc_kernel, num_warmup=NWARMUP, num_samples=NSAMPLES, num_chains=1, \n",
    "#             # chain_method=\"vectorized\",\n",
    "#             progress_bar=True)\n",
    "\n",
    "# mcmc_nuts.run(jax.random.PRNGKey(253), data, newprec, jax_nz_gc, jax_nz_wl, bw_gc, bw_gc_wl, bw_wl)"
   ]
  },
  {
   "cell_type": "markdown",
   "id": "ce82b3c6-b3ac-4c4b-aea0-e00089d56838",
   "metadata": {},
   "source": [
    "## NUTS"
   ]
  },
  {
   "cell_type": "code",
   "execution_count": 25,
   "id": "b91dd0d7-d729-4963-9d59-70a5db2ac0a0",
   "metadata": {},
   "outputs": [],
   "source": [
    "nuts_kernel = NUTS(model, step_size=0.1, init_strategy=init_to_median, dense_mass=True, max_tree_depth=5)"
   ]
  },
  {
   "cell_type": "code",
   "execution_count": 26,
   "id": "86772325-ae58-4e56-8002-2a717d1f0428",
   "metadata": {},
   "outputs": [],
   "source": [
    "mcmc_nuts = MCMC(nuts_kernel, num_warmup=NWARMUP, num_samples=NSAMPLES, num_chains=1, \n",
    "            # chain_method=\"vectorized\",\n",
    "            progress_bar=True)"
   ]
  },
  {
   "cell_type": "code",
   "execution_count": 29,
   "id": "b69a7e60-9e39-4ef6-baee-91f0481ba033",
   "metadata": {},
   "outputs": [],
   "source": [
    "# mcmc_nuts.run(jax.random.PRNGKey(253), data, newprec, jax_nz_gc, jax_nz_wl, bw_gc, bw_gc_wl, bw_wl)"
   ]
  },
  {
   "cell_type": "markdown",
   "id": "b1b7b8f3-4164-465c-a42d-f8becbbba07a",
   "metadata": {},
   "source": [
    "## Barker MH\n",
    "\n",
    "The results do not look good. "
   ]
  },
  {
   "cell_type": "code",
   "execution_count": null,
   "id": "e229c1d6-d605-4be6-a758-ad154c011d09",
   "metadata": {},
   "outputs": [],
   "source": [
    "# barker_kernel = BarkerMH(model, step_size=0.1, init_strategy=init_to_median, dense_mass=True)\n",
    "# mcmc_barker = MCMC(barker_kernel, num_warmup=NWARMUP, num_samples=NSAMPLES, progress_bar=True)"
   ]
  },
  {
   "cell_type": "code",
   "execution_count": null,
   "id": "5a4dcfb1-4df8-407c-ac91-ca9cdb34455f",
   "metadata": {},
   "outputs": [],
   "source": [
    "# mcmc_barker.run(jax.random.PRNGKey(253), data, newprec, jax_nz_gc, jax_nz_wl, bw_gc, bw_gc_wl, bw_wl)"
   ]
  },
  {
   "cell_type": "markdown",
   "id": "9e60d8de-2791-41bd-a0fc-66daf2c9f56d",
   "metadata": {},
   "source": [
    "## EMCEE"
   ]
  },
  {
   "cell_type": "code",
   "execution_count": 30,
   "id": "70be6e3d-7dc2-447b-bc9d-a188231c17f8",
   "metadata": {},
   "outputs": [],
   "source": [
    "@jax.jit\n",
    "def jit_theory(parameters, jax_nz_gc, jax_nz_wl, bw_gc, bw_gc_wl, bw_wl):\n",
    "    return get_bandpowers_theory(parameters, jax_nz_gc, jax_nz_wl, bw_gc, bw_gc_wl, bw_wl)"
   ]
  },
  {
   "cell_type": "code",
   "execution_count": 31,
   "id": "1a45c8b0-b49a-4bd8-9316-a7d79bdfadea",
   "metadata": {},
   "outputs": [
    {
     "name": "stdout",
     "output_type": "stream",
     "text": [
      "Not using the emulator\n",
      "Not using the emulator\n",
      "Not using the emulator\n"
     ]
    }
   ],
   "source": [
    "test_theory = jit_theory(testparameter, jax_nz_gc, jax_nz_wl, bw_gc, bw_gc_wl, bw_wl)"
   ]
  },
  {
   "cell_type": "code",
   "execution_count": 32,
   "id": "459c5194-4781-42b7-a415-5ecd43813dd3",
   "metadata": {},
   "outputs": [],
   "source": [
    "def emcee_loglike(parameters, data, precision, jax_nz_gc, jax_nz_wl, bw_gc, bw_gc_wl, bw_wl):\n",
    "    theory = jit_theory(parameters, jax_nz_gc, jax_nz_wl, bw_gc, bw_gc_wl, bw_wl)\n",
    "    diff = data - theory \n",
    "    chi2 = diff @ precision @ diff\n",
    "    return -0.5*jnp.min(jnp.array([chi2, 1E32]))\n",
    "\n",
    "@jax.jit\n",
    "def jit_emcee_loglike(parameters, data, precision, jax_nz_gc, jax_nz_wl, bw_gc, bw_gc_wl, bw_wl):\n",
    "    return emcee_loglike(parameters, data, precision, jax_nz_gc, jax_nz_wl, bw_gc, bw_gc_wl, bw_wl)\n",
    "\n",
    "@jax.jit\n",
    "def jit_emcee_grad_loglike(parameters, data, precision, jax_nz_gc, jax_nz_wl, bw_gc, bw_gc_wl, bw_wl):\n",
    "    return jax.jacrev(emcee_loglike)(parameters, data, precision, jax_nz_gc, jax_nz_wl, bw_gc, bw_gc_wl, bw_wl)"
   ]
  },
  {
   "cell_type": "code",
   "execution_count": 33,
   "id": "aca433ca-e41f-4004-8665-b17b490758fd",
   "metadata": {},
   "outputs": [
    {
     "name": "stdout",
     "output_type": "stream",
     "text": [
      "Not using the emulator\n",
      "Not using the emulator\n",
      "Not using the emulator\n",
      "CPU times: user 41 s, sys: 96.4 ms, total: 41.1 s\n",
      "Wall time: 37.8 s\n"
     ]
    }
   ],
   "source": [
    "%%time\n",
    "testlike = jit_emcee_loglike(testparameter, data, newprec, jax_nz_gc, jax_nz_wl, bw_gc, bw_gc_wl, bw_wl)"
   ]
  },
  {
   "cell_type": "code",
   "execution_count": 34,
   "id": "beea2490-a2d8-4222-8816-81724ecb9f38",
   "metadata": {},
   "outputs": [
    {
     "name": "stdout",
     "output_type": "stream",
     "text": [
      "36.2 ms ± 425 µs per loop (mean ± std. dev. of 7 runs, 10 loops each)\n"
     ]
    }
   ],
   "source": [
    "%%timeit\n",
    "testlike = jit_emcee_loglike(testparameter, data, newprec, jax_nz_gc, jax_nz_wl, bw_gc, bw_gc_wl, bw_wl)"
   ]
  },
  {
   "cell_type": "code",
   "execution_count": 35,
   "id": "a21c96c1-cd04-40eb-8d5b-dfaa2d0879dd",
   "metadata": {},
   "outputs": [
    {
     "name": "stdout",
     "output_type": "stream",
     "text": [
      "Not using the emulator\n",
      "Not using the emulator\n",
      "Not using the emulator\n",
      "CPU times: user 3min 19s, sys: 703 ms, total: 3min 20s\n",
      "Wall time: 3min 6s\n"
     ]
    }
   ],
   "source": [
    "%%time\n",
    "testgrad = jit_emcee_grad_loglike(testparameter, data, newprec, jax_nz_gc, jax_nz_wl, bw_gc, bw_gc_wl, bw_wl)"
   ]
  },
  {
   "cell_type": "code",
   "execution_count": 36,
   "id": "eaf27486-f439-4dbb-86a1-c5f310e4a6e7",
   "metadata": {},
   "outputs": [
    {
     "name": "stdout",
     "output_type": "stream",
     "text": [
      "158 ms ± 412 µs per loop (mean ± std. dev. of 7 runs, 10 loops each)\n"
     ]
    }
   ],
   "source": [
    "%%timeit\n",
    "testgrad = jit_emcee_grad_loglike(testparameter, data, newprec, jax_nz_gc, jax_nz_wl, bw_gc, bw_gc_wl, bw_wl)"
   ]
  },
  {
   "cell_type": "code",
   "execution_count": null,
   "id": "1642d0f2-09de-4b5e-87de-1efb42921ccf",
   "metadata": {},
   "outputs": [],
   "source": [
    "def emcee_logprior(parameters):\n",
    "\n",
    "    # cosmological parameters \n",
    "    logp_sigma8 = jax.scipy.stats.uniform.logpdf(parameters[0], 0.60, 0.40)\n",
    "    logp_omegac = jax.scipy.stats.uniform.logpdf(parameters[1], 0.14, 0.21)\n",
    "    logp_omegab = jax.scipy.stats.uniform.logpdf(parameters[2], 0.03, 0.025)\n",
    "    logp_hubble = jax.scipy.stats.uniform.logpdf(parameters[3], 0.64, 0.18)\n",
    "    logp_ns = jax.scipy.stats.uniform.logpdf(parameters[4], 0.87, 0.20)\n",
    "\n",
    "    # multiplicative factor (weak lensing)\n",
    "    logp_m1 = jax.scipy.stats.norm.logpdf(parameters[5], 0.012, 0.023)\n",
    "    logp_m2 = jax.scipy.stats.norm.logpdf(parameters[6], 0.012, 0.023)\n",
    "    logp_m3 = jax.scipy.stats.norm.logpdf(parameters[7], 0.012, 0.023)\n",
    "    logp_m4 = jax.scipy.stats.norm.logpdf(parameters[8], 0.012, 0.023)\n",
    "\n",
    "    # shifts (weak lensing)\n",
    "    logp_dz_wl_1 = jax.scipy.stats.norm.logpdf(parameters[9], -0.001, 0.016) \n",
    "    logp_dz_wl_2 = jax.scipy.stats.norm.logpdf(parameters[10], -0.019, 0.013)\n",
    "    logp_dz_wl_3 = jax.scipy.stats.norm.logpdf(parameters[11], 0.009, 0.011)\n",
    "    logp_dz_wl_4 = jax.scipy.stats.norm.logpdf(parameters[12], -0.018, 0.022)\n",
    "\n",
    "    # intrinsic alignment\n",
    "    logp_a_ia = jax.scipy.stats.uniform.logpdf(parameters[13], -1, 2)\n",
    "    logp_eta = jax.scipy.stats.uniform.logpdf(parameters[14], -5, 10)  \n",
    "\n",
    "    # multiplicative bias (galaxy clustering)\n",
    "    logp_b1 = jax.scipy.stats.uniform.logpdf(parameters[15], 0.8, 2.2)\n",
    "    logp_b2 = jax.scipy.stats.uniform.logpdf(parameters[16], 0.8, 2.2)\n",
    "    logp_b3 = jax.scipy.stats.uniform.logpdf(parameters[17], 0.8, 2.2)\n",
    "    logp_b4 = jax.scipy.stats.uniform.logpdf(parameters[18], 0.8, 2.2)\n",
    "    logp_b5 = jax.scipy.stats.uniform.logpdf(parameters[19], 0.8, 2.2)\n",
    "\n",
    "    # shifts (galaxy clustering)\n",
    "    logp_dz_gc_1 = jax.scipy.stats.norm.logpdf(parameters[20], 0.0, 0.007)\n",
    "    logp_dz_gc_2 = jax.scipy.stats.norm.logpdf(parameters[21], 0.0, 0.007)\n",
    "    logp_dz_gc_3 = jax.scipy.stats.norm.logpdf(parameters[22], 0.0, 0.006)\n",
    "    logp_dz_gc_4 = jax.scipy.stats.norm.logpdf(parameters[23], 0.0, 0.01)\n",
    "    logp_dz_gc_5 = jax.scipy.stats.norm.logpdf(parameters[24], 0.0, 0.01)\n",
    "    \n",
    "    logp_cosmology = logp_sigma8 + logp_omegac + logp_omegab + logp_hubble + logp_ns \n",
    "    logp_multiplicative = logp_m1 + logp_m2 + logp_m3 + logp_m4 \n",
    "    logp_shifts_wl = logp_dz_wl_1 + logp_dz_wl_2 + logp_dz_wl_3 + logp_dz_wl_4\n",
    "    logp_intrinsic = logp_a_ia + logp_eta \n",
    "    logp_bias = logp_b1 + logp_b2 + logp_b3 + logp_b4 + logp_b5\n",
    "    logp_shifts_gc = logp_dz_gc_1 + logp_dz_gc_2 + logp_dz_gc_3 + logp_dz_gc_4 + logp_dz_gc_5\n",
    "    logp = logp_cosmology + logp_multiplicative + logp_shifts_wl + logp_intrinsic + logp_bias + logp_shifts_gc\n",
    "    if not jnp.isfinite(logp):\n",
    "        logp = -1E32\n",
    "    return logp\n",
    "\n",
    "def emcee_logpost(parameters, data, precision, jax_nz_gc, jax_nz_wl, bw_gc, bw_gc_wl, bw_wl):\n",
    "    loglike = emcee_loglike(parameters, data, precision, jax_nz_gc, jax_nz_wl, bw_gc, bw_gc_wl, bw_wl)\n",
    "    logprior = emcee_logprior(parameters)\n",
    "    return loglike + logprior    "
   ]
  },
  {
   "cell_type": "code",
   "execution_count": null,
   "id": "d685700e-3a17-409e-ac73-fe3afc1e6127",
   "metadata": {},
   "outputs": [],
   "source": [
    "nparams = len(testparameter)\n",
    "pos = testparameter + 1E-4 * jax.random.normal(jax.random.PRNGKey(0), (2*nparams, nparams))\n",
    "nwalkers, ndim = pos.shape\n",
    "nsamples = 500"
   ]
  },
  {
   "cell_type": "code",
   "execution_count": null,
   "id": "c2fc99aa-a863-4431-9d52-7961b59ad085",
   "metadata": {},
   "outputs": [],
   "source": [
    "sampler = emcee.EnsembleSampler(nwalkers, ndim, emcee_logpost, args=(data, newprec, jax_nz_gc, jax_nz_wl, bw_gc, bw_gc_wl, bw_wl))\n",
    "# sampler.run_mcmc(pos, nsamples, progress=True);"
   ]
  },
  {
   "cell_type": "markdown",
   "id": "b9c30e79-492f-4210-8271-e8bc71cdbfc8",
   "metadata": {},
   "source": [
    "## Dynesty\n",
    "\n",
    "Not working well - takes too long to converge and posterior does not look good."
   ]
  },
  {
   "cell_type": "code",
   "execution_count": 63,
   "id": "82bc68c0-6cd6-4162-9577-23aaedfb8981",
   "metadata": {},
   "outputs": [],
   "source": [
    "@jax.jit\n",
    "def jit_theory(parameters, jax_nz_gc, jax_nz_wl, bw_gc, bw_gc_wl, bw_wl):\n",
    "    return get_bandpowers_theory(parameters, jax_nz_gc, jax_nz_wl, bw_gc, bw_gc_wl, bw_wl)"
   ]
  },
  {
   "cell_type": "code",
   "execution_count": 2,
   "id": "00d7df29-8d19-4a0d-bb0b-ae5b1fde74b6",
   "metadata": {},
   "outputs": [],
   "source": [
    "def unit_transform(random_number, xmin, xmax):\n",
    "    return xmin + random_number * (xmax - xmin)"
   ]
  },
  {
   "cell_type": "code",
   "execution_count": 60,
   "id": "7e17838e-09db-4789-aadf-d1f348ef73de",
   "metadata": {},
   "outputs": [],
   "source": [
    "def dynesty_prior(unit_cube):\n",
    "    parameter = jnp.array(unit_cube) \n",
    "\n",
    "    # cosmology\n",
    "    parameter = parameter.at[0].set(unit_transform(parameter[0], 0.60, 1.0))\n",
    "    parameter = parameter.at[1].set(unit_transform(parameter[1], 0.14, 0.35))\n",
    "    parameter = parameter.at[2].set(unit_transform(parameter[2], 0.03, 0.055))\n",
    "    parameter = parameter.at[3].set(unit_transform(parameter[3], 0.64, 0.82))\n",
    "    parameter = parameter.at[4].set(unit_transform(parameter[4], 0.87, 1.07))\n",
    "\n",
    "    # multiplicative\n",
    "    parameter = parameter.at[5].set(jax.scipy.stats.norm.ppf(parameter[5], 0.012, 0.023))\n",
    "    parameter = parameter.at[6].set(jax.scipy.stats.norm.ppf(parameter[6], 0.012, 0.023))\n",
    "    parameter = parameter.at[7].set(jax.scipy.stats.norm.ppf(parameter[7], 0.012, 0.023))\n",
    "    parameter = parameter.at[8].set(jax.scipy.stats.norm.ppf(parameter[8], 0.012, 0.023))\n",
    "\n",
    "    # shifts \n",
    "    parameter = parameter.at[9].set(jax.scipy.stats.norm.ppf(parameter[9], -0.001, 0.016))\n",
    "    parameter = parameter.at[10].set(jax.scipy.stats.norm.ppf(parameter[10], -0.019, 0.013))\n",
    "    parameter = parameter.at[11].set(jax.scipy.stats.norm.ppf(parameter[11], 0.009, 0.011))\n",
    "    parameter = parameter.at[12].set(jax.scipy.stats.norm.ppf(parameter[12], -0.018, 0.022))\n",
    "\n",
    "    # intrinsic alignment\n",
    "    parameter = parameter.at[13].set(unit_transform(parameter[13], -1.0, 1.0))\n",
    "    parameter = parameter.at[14].set(unit_transform(parameter[14], -5.0, 5.0))\n",
    " \n",
    "    # multiplicative bias (galaxy clustering)\n",
    "    parameter = parameter.at[15].set(unit_transform(parameter[15], 0.8, 3.0))\n",
    "    parameter = parameter.at[16].set(unit_transform(parameter[16], 0.8, 3.0))\n",
    "    parameter = parameter.at[17].set(unit_transform(parameter[17], 0.8, 3.0))\n",
    "    parameter = parameter.at[18].set(unit_transform(parameter[18], 0.8, 3.0))\n",
    "    parameter = parameter.at[19].set(unit_transform(parameter[19], 0.8, 3.0))\n",
    "\n",
    "    # shifts (galaxy clustering)\n",
    "    parameter = parameter.at[20].set(jax.scipy.stats.norm.ppf(parameter[20], 0.0, 0.007))\n",
    "    parameter = parameter.at[21].set(jax.scipy.stats.norm.ppf(parameter[21], 0.0, 0.007))\n",
    "    parameter = parameter.at[22].set(jax.scipy.stats.norm.ppf(parameter[22], 0.0, 0.006))\n",
    "    parameter = parameter.at[23].set(jax.scipy.stats.norm.ppf(parameter[23], 0.0, 0.01))\n",
    "    parameter = parameter.at[24].set(jax.scipy.stats.norm.ppf(parameter[24], 0.0, 0.01))\n",
    "    return parameter"
   ]
  },
  {
   "cell_type": "code",
   "execution_count": 100,
   "id": "91475b01-381a-4779-b069-7dcd7e083a6c",
   "metadata": {},
   "outputs": [],
   "source": [
    "def dynesty_loglike(parameters):\n",
    "    theory = jit_theory(parameters, jax_nz_gc, jax_nz_wl, bw_gc, bw_gc_wl, bw_wl)\n",
    "    diff = data - theory \n",
    "    chi2 = diff @ newprec @ diff\n",
    "    isnan = jnp.isnan(chi2)\n",
    "    chi2 = jnp.where(isnan, 1E32, chi2)\n",
    "    return -0.5*chi2"
   ]
  },
  {
   "cell_type": "code",
   "execution_count": 64,
   "id": "9bbce095-341f-4917-858b-3034b191f6f6",
   "metadata": {},
   "outputs": [
    {
     "name": "stdout",
     "output_type": "stream",
     "text": [
      "Not using the emulator\n",
      "Not using the emulator\n",
      "Not using the emulator\n"
     ]
    }
   ],
   "source": [
    "test_theory = jit_theory(testparameter, jax_nz_gc, jax_nz_wl, bw_gc, bw_gc_wl, bw_wl)"
   ]
  },
  {
   "cell_type": "code",
   "execution_count": 106,
   "id": "643d782d-833e-4e80-8a0f-afe285b5185e",
   "metadata": {},
   "outputs": [
    {
     "name": "stdout",
     "output_type": "stream",
     "text": [
      "CPU times: user 231 ms, sys: 23.9 ms, total: 255 ms\n",
      "Wall time: 158 ms\n"
     ]
    },
    {
     "data": {
      "text/plain": [
       "Array(-89.4523185, dtype=float64)"
      ]
     },
     "execution_count": 106,
     "metadata": {},
     "output_type": "execute_result"
    }
   ],
   "source": [
    "%%time\n",
    "dynesty_loglike(testparameter)"
   ]
  },
  {
   "cell_type": "code",
   "execution_count": 75,
   "id": "76258c25-c68e-4118-9ab8-9c4418bdc927",
   "metadata": {},
   "outputs": [],
   "source": [
    "# initialize our nested sampler\n",
    "des_sampler = NestedSampler(dynesty_loglike, dynesty_prior, ndim=25)"
   ]
  },
  {
   "cell_type": "code",
   "execution_count": 2,
   "id": "c602e0a7-6497-45d5-82bc-0e6aa6795107",
   "metadata": {},
   "outputs": [],
   "source": [
    "# des_sampler.run_nested()"
   ]
  },
  {
   "cell_type": "code",
   "execution_count": 86,
   "id": "0bb27e06-704e-44b1-b179-2df23ecd9608",
   "metadata": {},
   "outputs": [],
   "source": [
    "# pickle_save(des_sampler, 'samples', 'des_sampler_test')"
   ]
  },
  {
   "cell_type": "code",
   "execution_count": null,
   "id": "880c6564-805a-40a7-8435-98fe578e396d",
   "metadata": {},
   "outputs": [],
   "source": []
  }
 ],
 "metadata": {
  "kernelspec": {
   "display_name": "Python 3 (ipykernel)",
   "language": "python",
   "name": "python3"
  },
  "language_info": {
   "codemirror_mode": {
    "name": "ipython",
    "version": 3
   },
   "file_extension": ".py",
   "mimetype": "text/x-python",
   "name": "python",
   "nbconvert_exporter": "python",
   "pygments_lexer": "ipython3",
   "version": "3.9.18"
  }
 },
 "nbformat": 4,
 "nbformat_minor": 5
}
